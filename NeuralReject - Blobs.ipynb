{
 "cells": [
  {
   "cell_type": "code",
   "execution_count": 1,
   "metadata": {},
   "outputs": [
    {
     "name": "stdout",
     "output_type": "stream",
     "text": [
      "setGPU: Setting GPU to: 0\n"
     ]
    }
   ],
   "source": [
    "import setGPU"
   ]
  },
  {
   "cell_type": "markdown",
   "metadata": {},
   "source": [
    "# Generate data"
   ]
  },
  {
   "cell_type": "code",
   "execution_count": 2,
   "metadata": {},
   "outputs": [],
   "source": [
    "random_state = 999\n",
    "\n",
    "n_classes = 3\n",
    "n_features = 2  # Number of features\n",
    "n_samples = 1100  # Number of samples\n",
    "centers = [[-2, 0], [2, -2], [2, 2]]  # Centers of the clusters\n",
    "cluster_std = 0.8  # Standard deviation of the clusters"
   ]
  },
  {
   "cell_type": "code",
   "execution_count": 3,
   "metadata": {},
   "outputs": [
    {
     "name": "stderr",
     "output_type": "stream",
     "text": [
      "/home/crecchi/anaconda3/lib/python3.6/site-packages/h5py/__init__.py:34: FutureWarning: Conversion of the second argument of issubdtype from `float` to `np.floating` is deprecated. In future, it will be treated as `np.float64 == np.dtype(float).type`.\n",
      "  from ._conv import register_converters as _register_converters\n"
     ]
    }
   ],
   "source": [
    "# experiment parameters\n",
    "n_classes = 3\n",
    "n_features = 2\n",
    "n_samples_tr = 4000  # number of training set samples\n",
    "n_samples_ts = 1000  # number of testing set samples\n",
    "batch_size = 20\n",
    "\n",
    "# dataset creation\n",
    "from secml.data.loader import CDLRandom\n",
    "dataset = CDLRandom(n_samples=n_samples_tr + n_samples_ts,\n",
    "                    n_classes=n_classes,\n",
    "                    n_features=n_features, n_redundant=0,\n",
    "                    n_clusters_per_class=1,\n",
    "                    class_sep=1, random_state=0).load()\n",
    "\n",
    "# Split in training and test\n",
    "from secml.data.splitter import CTrainTestSplit\n",
    "splitter = CTrainTestSplit(train_size=n_samples_tr,\n",
    "                           test_size=n_samples_ts,\n",
    "                           random_state=0)\n",
    "\n",
    "tr, ts = splitter.split(dataset)\n",
    "\n",
    "# Normalize the data\n",
    "from secml.ml.features.normalization import CNormalizerMinMax\n",
    "nmz = CNormalizerMinMax()\n",
    "tr.X = nmz.fit_transform(tr.X)\n",
    "ts.X = nmz.transform(ts.X)"
   ]
  },
  {
   "cell_type": "code",
   "execution_count": 4,
   "metadata": {},
   "outputs": [
    {
     "data": {
      "image/png": "[encoded data removed]",
      "text/plain": [
       "<Figure size 360x360 with 1 Axes>"
      ]
     },
     "metadata": {},
     "output_type": "display_data"
    }
   ],
   "source": [
    "from secml.figure import CFigure\n",
    "# Only required for visualization in notebooks\n",
    "%matplotlib inline\n",
    "\n",
    "fig = CFigure(width=5, height=5)\n",
    "\n",
    "# Convenience function for plotting a dataset\n",
    "fig.sp.plot_ds(tr)\n",
    "\n",
    "fig.show()"
   ]
  },
  {
   "cell_type": "markdown",
   "metadata": {},
   "source": [
    "# Classifying blobs"
   ]
  },
  {
   "cell_type": "code",
   "execution_count": 5,
   "metadata": {},
   "outputs": [],
   "source": [
    "import torch\n",
    "from torch import nn\n",
    "\n",
    "class Net(nn.Module):\n",
    "    \"\"\"\n",
    "    Model with input size (-1, 5) for blobs dataset\n",
    "    with 5 features\n",
    "    \"\"\"\n",
    "    def __init__(self, n_features, n_classes):\n",
    "        \"\"\"Example network.\"\"\"\n",
    "        super(Net, self).__init__()\n",
    "        self.fc1 = nn.Linear(n_features, 5)\n",
    "        self.fc2 = nn.Linear(5, n_classes)\n",
    "\n",
    "    def forward(self, x):\n",
    "        x = torch.relu(self.fc1(x))\n",
    "        x = self.fc2(x)\n",
    "        return x"
   ]
  },
  {
   "cell_type": "code",
   "execution_count": 6,
   "metadata": {},
   "outputs": [],
   "source": [
    "# Random seed\n",
    "torch.manual_seed(0)\n",
    "\n",
    "# torch model creation\n",
    "net = Net(n_features=n_features, n_classes=n_classes)\n",
    "\n",
    "from torch import optim\n",
    "criterion = nn.CrossEntropyLoss()\n",
    "optimizer = optim.SGD(net.parameters(),\n",
    "                      lr=0.001, momentum=0.9)\n",
    "\n",
    "# wrap torch model in CClassifierPyTorch class\n",
    "from secml.ml.classifiers import CClassifierPyTorch\n",
    "dnn = CClassifierPyTorch(model=net,\n",
    "                         loss=criterion,\n",
    "                         optimizer=optimizer,\n",
    "                         input_shape=(n_features,),\n",
    "                         random_state=0)"
   ]
  },
  {
   "cell_type": "code",
   "execution_count": 7,
   "metadata": {},
   "outputs": [
    {
     "name": "stdout",
     "output_type": "stream",
     "text": [
      "Training started...\n",
      "Training completed!\n"
     ]
    }
   ],
   "source": [
    "# clf.verbose = 1  # Can be used to display training process output\n",
    "print(\"Training started...\")\n",
    "dnn.fit(tr)\n",
    "print(\"Training completed!\")"
   ]
  },
  {
   "cell_type": "code",
   "execution_count": 8,
   "metadata": {},
   "outputs": [
    {
     "name": "stdout",
     "output_type": "stream",
     "text": [
      "Model Accuracy: 0.991\n"
     ]
    }
   ],
   "source": [
    "label_torch = dnn.predict(ts.X, return_decision_function=False)\n",
    "\n",
    "from secml.ml.peval.metrics import CMetric\n",
    "acc_torch = CMetric.create('accuracy').performance_score(ts.Y, label_torch)\n",
    "\n",
    "print(\"Model Accuracy: {}\".format(acc_torch))"
   ]
  },
  {
   "cell_type": "markdown",
   "metadata": {},
   "source": [
    "# Generate Adversarial Samples"
   ]
  },
  {
   "cell_type": "code",
   "execution_count": 9,
   "metadata": {},
   "outputs": [
    {
     "name": "stdout",
     "output_type": "stream",
     "text": [
      "Attack started...\n",
      "Attack complete!\n"
     ]
    }
   ],
   "source": [
    "# For simplicity, let's attack a subset of the test set\n",
    "attack_ds = ts[:100, :]\n",
    "\n",
    "noise_type = 'l2'  # Type of perturbation 'l1' or 'l2'\n",
    "dmax = 3.0  # Maximum perturbation\n",
    "lb, ub = 0., 1.  # Bounds of the attack space. Can be set to `None` for unbounded\n",
    "y_target = None  # None if `error-generic` or a class label for `error-specific`\n",
    "\n",
    "# Should be chosen depending on the optimization problem\n",
    "solver_params = {\n",
    "    'eta': 0.5,\n",
    "    'eta_min': 2.0,\n",
    "    'eta_max': None,\n",
    "    'max_iter': 100,\n",
    "    'eps': 1e-6\n",
    "}\n",
    "\n",
    "from secml.adv.attacks import CAttackEvasionPGDLS\n",
    "pgd_ls_attack = CAttackEvasionPGDLS(classifier=dnn,\n",
    "                                    surrogate_classifier=dnn,\n",
    "                                    surrogate_data=tr,\n",
    "                                    distance=noise_type,\n",
    "                                    dmax=dmax,\n",
    "                                    solver_params=solver_params,\n",
    "                                    y_target=y_target)\n",
    "\n",
    "print(\"Attack started...\")\n",
    "eva_y_pred, _, eva_adv_ds, _ = pgd_ls_attack.run(\n",
    "    attack_ds.X, attack_ds.Y, double_init=True)\n",
    "print(\"Attack complete!\")"
   ]
  },
  {
   "cell_type": "code",
   "execution_count": 10,
   "metadata": {},
   "outputs": [
    {
     "name": "stdout",
     "output_type": "stream",
     "text": [
      "Accuracy on reduced test set before attack: 98.00%\n",
      "Accuracy on reduced test set after attack: 0.00%\n"
     ]
    }
   ],
   "source": [
    "from secml.ml.peval.metrics import CMetric\n",
    "metric = CMetric.create('accuracy')\n",
    "\n",
    "acc = metric.performance_score(\n",
    "    y_true=attack_ds.Y, y_pred=dnn.predict(attack_ds.X))\n",
    "acc_attack = metric.performance_score(\n",
    "    y_true=attack_ds.Y, y_pred=eva_y_pred)\n",
    "\n",
    "print(\"Accuracy on reduced test set before attack: {:.2%}\".format(acc))\n",
    "print(\"Accuracy on reduced test set after attack: {:.2%}\".format(acc_attack))"
   ]
  },
  {
   "cell_type": "markdown",
   "metadata": {},
   "source": [
    "## Visualize evasion"
   ]
  },
  {
   "cell_type": "code",
   "execution_count": null,
   "metadata": {},
   "outputs": [],
   "source": [
    "attack = pgd_ls_attack"
   ]
  },
  {
   "cell_type": "code",
   "execution_count": null,
   "metadata": {},
   "outputs": [],
   "source": [
    "dmax = attack.dmax\n",
    "dmax"
   ]
  },
  {
   "cell_type": "code",
   "execution_count": null,
   "metadata": {},
   "outputs": [],
   "source": [
    "x0 = attack_ds.X[-1, :]\n",
    "x0"
   ]
  },
  {
   "cell_type": "code",
   "execution_count": null,
   "metadata": {},
   "outputs": [],
   "source": [
    "from secml.figure import CFigure\n",
    "# Only required for visualization in notebooks\n",
    "%matplotlib inline\n",
    "\n",
    "from secml.optim.constraints import CConstraintL2\n",
    "constraint = CConstraintL2(center=x0, radius=dmax)\n",
    "\n",
    "fig = CFigure(width=16, height=6, markersize=12)\n",
    "fig.subplot()\n",
    "\n",
    "# Convenience function for plotting the attack objective function\n",
    "fig.sp.plot_fun(attack.objective_function, plot_levels=False,\n",
    "                multipoint=True, n_grid_points=200)\n",
    "# Let's also plot the decision boundaries of the classifier\n",
    "fig.sp.plot_decision_regions(dnn, plot_background=False, n_grid_points=200)\n",
    "\n",
    "# Construct an array with the original point and the adversarial example\n",
    "# adv_path = x0.append(adv_ds.X, axis=0)\n",
    "\n",
    "# Convenience function for plotting the optimization sequence\n",
    "fig.sp.plot_path(attack.x_seq)\n",
    "\n",
    "# Convenience function for plotting a constraint\n",
    "fig.sp.plot_constraint(constraint)\n",
    "\n",
    "fig.sp.title(attack.class_type)\n",
    "fig.sp.grid(grid_on=False)\n",
    "fig.show()"
   ]
  },
  {
   "cell_type": "markdown",
   "metadata": {},
   "source": [
    "We can see that the initial point x0 (red hexagon) has been perturbed in the feature space so that is actually classified by the SVM as a point from another class. The final adversarial example is the green star. We also show the l2 constraint as a black circle which has limited the maximum perturbation applicable to x0."
   ]
  },
  {
   "cell_type": "markdown",
   "metadata": {},
   "source": [
    "# Security evaluation of a classifier"
   ]
  },
  {
   "cell_type": "code",
   "execution_count": 40,
   "metadata": {},
   "outputs": [
    {
     "name": "stdout",
     "output_type": "stream",
     "text": [
      "Running security evaluation...\n"
     ]
    },
    {
     "data": {
      "image/png": "[encoded data removed]",
      "text/plain": [
       "<Figure size 360x360 with 1 Axes>"
      ]
     },
     "metadata": {},
     "output_type": "display_data"
    }
   ],
   "source": [
    "# Perturbation levels to test\n",
    "from secml.array import CArray\n",
    "e_vals = CArray.arange(start=0, step=0.1, stop=1.1)\n",
    "\n",
    "from secml.adv.seceval import CSecEval\n",
    "dnn_sec_eval = CSecEval(attack=pgd_ls_attack, param_name='dmax', param_values=e_vals)\n",
    "\n",
    "# Run the security evaluation using the test set\n",
    "print(\"Running security evaluation...\")\n",
    "dnn_sec_eval.run_sec_eval(attack_ds, double_init=False)\n",
    "\n",
    "from secml.figure import CFigure\n",
    "fig = CFigure(height=5, width=5)\n",
    "\n",
    "# Convenience function for plotting the Security Evaluation Curve\n",
    "fig.sp.plot_sec_eval(\n",
    "    dnn_sec_eval.sec_eval_data, marker='o', label='DNN', show_average=True)"
   ]
  },
  {
   "cell_type": "code",
   "execution_count": 51,
   "metadata": {},
   "outputs": [
    {
     "data": {
      "text/plain": [
       "CSecEvalData{'param_name': 'dmax', 'param_values': CArray(11,)(dense: [0.  0.1 0.2 0.3 0.4 0.5 0.6 0.7 0.8 0.9 1. ]), 'scores': [CArray(100, 4)(dense: [[-1.021364 -1.001276  1.014083  1.      ] [ 1.048215 -1.019683 -1.027884  1.      ] [-1.18296   1.18801  -1.019838  1.      ] ... [-0.999891 -1.000201  1.000044  1.      ] [ 1.000377 -1.000253 -1.00028   1.      ] [-1.039259  1.009565 -1.020076  1.      ]]), CArray(100, 4)(dense: [[-1.033945  0.238134 -0.120123  1.      ] [ 1.03649  -1.025869 -1.017105  1.      ] [ 0.691159 -0.744797 -0.990558  1.      ] ... [-1.003435 -0.175481  0.236     1.      ] [ 1.00418  -1.004734 -0.999653  1.      ] [-1.00058  -1.4052    1.297247  1.      ]]), CArray(100, 4)(dense: [[-0.935577  0.934161 -1.023782  1.      ] [ 0.969044 -0.956849 -1.01297   1.      ] [ 1.00052  -1.005892 -1.000121  1.      ] ... [-0.486917  0.462823 -0.996646  1.      ] [ 0.890351 -0.984563 -1.005698  1.      ] [-1.000196 -0.999944  1.000275  1.      ]]), CArray(100, 4)(dense: [[ 1.051702 -1.052602 -1.004438  1.      ] [-1.165542  1.151131 -1.002501  1.      ] [ 1.027419 -1.011938 -1.01287   1.      ] ... [ 1.050405 -1.113278 -1.007719  1.      ] [-1.020656  1.004067 -1.043774  1.      ] [-1.006424 -1.002036  1.009394  1.      ]]), CArray(100, 4)(dense: [[ 1.000602 -1.004768 -1.000016  1.      ] [-0.848277  0.345635 -0.485487  1.      ] [ 1.028627 -1.011052 -1.01654   1.      ] ... [ 1.003643 -1.001297 -1.001399  1.      ] [-1.034185 -1.183495  1.099566  1.      ] [-1.009128 -1.003757  1.00589   1.      ]]), CArray(100, 4)(dense: [[ 1.019539 -1.008409 -1.012059  1.      ] [-1.000336 -0.999954  1.000444  1.      ] [ 0.755703 -0.902784 -0.861818  1.      ] ... [ 1.003087 -1.000188 -1.006274  1.      ] [-0.999965 -0.999917  0.999917  1.      ] [-1.009128 -1.003757  1.00589   1.      ]]), CArray(100, 4)(dense: [[ 1.067095 -1.026655 -1.037755  1.      ] [-1.012533 -1.004409  1.017816  1.      ] [ 0.047295 -0.621132 -0.459994  1.      ] ... [ 1.018118 -1.008046 -1.010263  1.      ] [-1.003625 -1.000938  1.005313  1.      ] [-1.009128 -1.003757  1.00589   1.      ]]), CArray(100, 4)(dense: [[ 0.155248 -0.664021 -0.521202  1.      ] [-1.012533 -1.004409  1.017816  1.      ] [ 0.044895 -0.620179 -0.458633  1.      ] ... [ 0.490055 -0.797569 -0.710993  1.      ] [-1.020968 -1.007765  1.027461  1.      ] [-1.009128 -1.003757  1.00589   1.      ]]), CArray(100, 4)(dense: [[ 0.044897 -0.62018  -0.458635  1.      ] [-1.012533 -1.004409  1.017816  1.      ] [ 0.044895 -0.620179 -0.458633  1.      ] ... [ 0.490055 -0.797569 -0.710993  1.      ] [-1.020968 -1.007765  1.027461  1.      ] [-1.009128 -1.003757  1.00589   1.      ]]), CArray(100, 4)(dense: [[ 0.044895 -0.620179 -0.458633  1.      ] [-1.012533 -1.004409  1.017816  1.      ] [ 0.044895 -0.620179 -0.458633  1.      ] ... [ 0.490055 -0.797569 -0.710993  1.      ] [-1.020968 -1.007765  1.027461  1.      ] [-1.009128 -1.003757  1.00589   1.      ]]), CArray(100, 4)(dense: [[ 0.044895 -0.620179 -0.458633  1.      ] [-1.012533 -1.004409  1.017816  1.      ] [ 0.044895 -0.620179 -0.458633  1.      ] ... [ 0.490055 -0.797569 -0.710993  1.      ] [-1.020968 -1.007765  1.027461  1.      ] [-1.009128 -1.003757  1.00589   1.      ]])], 'Y_pred': [CArray(100,)(dense: [2 0 1 ... 2 0 1]), CArray(100,)(dense: [-1  0 -1 ... -1  0  2]), CArray(100,)(dense: [-1 -1  0 ... -1 -1  2]), CArray(100,)(dense: [0 1 0 ... 0 1 2]), CArray(100,)(dense: [ 0 -1  0 ...  0  2  2]), CArray(100,)(dense: [ 0  2 -1 ...  0 -1  2]), CArray(100,)(dense: [ 0  2 -1 ...  0  2  2]), CArray(100,)(dense: [-1  2 -1 ... -1  2  2]), CArray(100,)(dense: [-1  2 -1 ... -1  2  2]), CArray(100,)(dense: [-1  2 -1 ... -1  2  2]), CArray(100,)(dense: [-1  2 -1 ... -1  2  2])], 'adv_ds': None, 'time': CArray(11,)(dense: [ 0.564769 41.950967 35.580357 27.550735 21.198425 15.560121 12.642181 10.69112   7.104527  5.235906  5.310874]), 'Y': CArray(100,)(dense: [2 0 1 ... 2 0 1]), 'Y_target': None, 'fobj': CArray(11,)(dense: [  4.974466   0.860189  -3.382674  -7.64463  -12.76763  -17.945576 -22.122365 -25.273045 -26.680844 -27.059096 -27.441462])}"
      ]
     },
     "execution_count": 51,
     "metadata": {},
     "output_type": "execute_result"
    }
   ],
   "source": [
    "dnn_sec_eval.sec_eval_data"
   ]
  },
  {
   "cell_type": "markdown",
   "metadata": {},
   "source": [
    "---"
   ]
  },
  {
   "cell_type": "markdown",
   "metadata": {},
   "source": [
    "# Get DNN features"
   ]
  },
  {
   "cell_type": "code",
   "execution_count": 12,
   "metadata": {},
   "outputs": [],
   "source": [
    "from secml.ml.features import CNormalizerDNN"
   ]
  },
  {
   "cell_type": "code",
   "execution_count": 13,
   "metadata": {},
   "outputs": [
    {
     "data": {
      "text/plain": [
       "CNormalizerDNN{'net': CClassifierPyTorch{'classes': CArray(3,)(dense: [0 1 2]), 'n_features': 2, 'preprocess': None, 'model': Net(\n",
       "  (fc1): Linear(in_features=2, out_features=5, bias=True)\n",
       "  (fc2): Linear(in_features=5, out_features=3, bias=True)\n",
       "), 'trained': True, 'input_shape': (2,), 'softmax_outputs': False, 'batch_size': 1, 'loss': CrossEntropyLoss(), 'optimizer': SGD (\n",
       "Parameter Group 0\n",
       "    dampening: 0\n",
       "    lr: 0.001\n",
       "    momentum: 0.9\n",
       "    nesterov: False\n",
       "    weight_decay: 0\n",
       "), 'optimizer_scheduler': None, 'epochs': 10}, 'out_layer': None, 'preprocess': None}"
      ]
     },
     "execution_count": 13,
     "metadata": {},
     "output_type": "execute_result"
    }
   ],
   "source": [
    "feat_extr = CNormalizerDNN(dnn)\n",
    "feat_extr"
   ]
  },
  {
   "cell_type": "code",
   "execution_count": 14,
   "metadata": {},
   "outputs": [
    {
     "data": {
      "text/plain": [
       "((4000, 3), (1000, 3))"
      ]
     },
     "execution_count": 14,
     "metadata": {},
     "output_type": "execute_result"
    }
   ],
   "source": [
    "feats_tr = feat_extr.forward(tr.X)\n",
    "feats_ts = feat_extr.forward(ts.X)\n",
    "feats_tr.shape, feats_ts.shape"
   ]
  },
  {
   "cell_type": "markdown",
   "metadata": {},
   "source": [
    "# Train an SVM-RBF ontop"
   ]
  },
  {
   "cell_type": "code",
   "execution_count": 15,
   "metadata": {},
   "outputs": [],
   "source": [
    "from secml.data.c_dataset import CDataset"
   ]
  },
  {
   "cell_type": "code",
   "execution_count": 16,
   "metadata": {},
   "outputs": [],
   "source": [
    "feat_tr_ds = CDataset(feats_tr, tr.Y)\n",
    "feat_ts_ds = CDataset(feats_ts, ts.Y)"
   ]
  },
  {
   "cell_type": "code",
   "execution_count": 17,
   "metadata": {},
   "outputs": [],
   "source": [
    "# Normalize the data\n",
    "from secml.ml.features import CNormalizerMinMax\n",
    "nmz = CNormalizerMinMax()\n",
    "feat_tr_ds.X = nmz.fit_transform(feat_tr_ds.X)\n",
    "feat_ts_ds.X = nmz.transform(feat_ts_ds.X)"
   ]
  },
  {
   "cell_type": "code",
   "execution_count": 18,
   "metadata": {},
   "outputs": [],
   "source": [
    "# Creation of the multiclass classifier\n",
    "from secml.ml.classifiers import CClassifierSVM\n",
    "from secml.ml.classifiers.multiclass import CClassifierMulticlassOVA\n",
    "from secml.ml.kernels import CKernelRBF\n",
    "clf = CClassifierMulticlassOVA(CClassifierSVM, kernel=CKernelRBF())"
   ]
  },
  {
   "cell_type": "code",
   "execution_count": 19,
   "metadata": {},
   "outputs": [],
   "source": [
    "# # Parameters for the Cross-Validation procedure\n",
    "# xval_params = {'C': [1e-2, 0.1, 1], 'kernel.gamma': [10, 100, 1e3]}\n",
    "\n",
    "# # Let's create a 3-Fold data splitter\n",
    "# from secml.data.splitter import CDataSplitterKFold\n",
    "# xval_splitter = CDataSplitterKFold(num_folds=3, random_state=random_state)\n",
    "\n",
    "# # Select and set the best training parameters for the classifier\n",
    "\n",
    "# # clf.verbose = 1\n",
    "\n",
    "# print(\"Estimating the best training parameters...\")\n",
    "# best_params = clf.estimate_parameters(\n",
    "#     dataset=feat_tr_ds,\n",
    "#     parameters=xval_params,\n",
    "#     splitter=xval_splitter,\n",
    "#     metric='accuracy',\n",
    "#     perf_evaluator='xval'\n",
    "# )\n",
    "\n",
    "# print(\"The best training parameters are: \",\n",
    "#       [(k, best_params[k]) for k in sorted(best_params)])"
   ]
  },
  {
   "cell_type": "code",
   "execution_count": 20,
   "metadata": {},
   "outputs": [],
   "source": [
    "clf.classifier.C = 1\n",
    "clf.classifier.kernel = CKernelRBF(gamma=100)"
   ]
  },
  {
   "cell_type": "code",
   "execution_count": 21,
   "metadata": {},
   "outputs": [
    {
     "name": "stdout",
     "output_type": "stream",
     "text": [
      "Accuracy on test set: 99.10%\n"
     ]
    }
   ],
   "source": [
    "# We can now fit the classifier\n",
    "clf.fit(feat_tr_ds)\n",
    "\n",
    "# Compute predictions on a test set\n",
    "y_pred = clf.predict(feat_ts_ds.X)\n",
    "\n",
    "# Evaluate the accuracy of the classifier\n",
    "acc = metric.performance_score(y_true=feat_ts_ds.Y, y_pred=y_pred)\n",
    "\n",
    "print(\"Accuracy on test set: {:.2%}\".format(acc))"
   ]
  },
  {
   "cell_type": "markdown",
   "metadata": {},
   "source": [
    "---"
   ]
  },
  {
   "cell_type": "markdown",
   "metadata": {},
   "source": [
    "# Wrap it with reject"
   ]
  },
  {
   "cell_type": "code",
   "execution_count": 22,
   "metadata": {},
   "outputs": [
    {
     "data": {
      "text/plain": [
       "0.0"
      ]
     },
     "execution_count": 22,
     "metadata": {},
     "output_type": "execute_result"
    }
   ],
   "source": [
    "from secml.ml.classifiers.reject import CClassifierRejectThreshold\n",
    "\n",
    "clf_rej = CClassifierRejectThreshold(clf, 0.)\n",
    "clf_rej.threshold"
   ]
  },
  {
   "cell_type": "markdown",
   "metadata": {},
   "source": [
    "Set the `threshold` to have around 10% of false positives"
   ]
  },
  {
   "cell_type": "code",
   "execution_count": 23,
   "metadata": {},
   "outputs": [],
   "source": [
    "clf_rej.threshold = 1.0"
   ]
  },
  {
   "cell_type": "code",
   "execution_count": 24,
   "metadata": {},
   "outputs": [
    {
     "name": "stdout",
     "output_type": "stream",
     "text": [
      "Accuracy on training set: 89.12%\n"
     ]
    }
   ],
   "source": [
    "# Compute predictions on a test set\n",
    "y_pred = clf_rej.predict(feat_tr_ds.X)\n",
    "\n",
    "# Evaluate the accuracy of the classifier\n",
    "acc = metric.performance_score(y_true=feat_tr_ds.Y, y_pred=y_pred)\n",
    "\n",
    "print(\"Accuracy on training set: {:.2%}\".format(acc))"
   ]
  },
  {
   "cell_type": "code",
   "execution_count": 25,
   "metadata": {},
   "outputs": [
    {
     "data": {
      "text/plain": [
       "0.10325"
      ]
     },
     "execution_count": 25,
     "metadata": {},
     "output_type": "execute_result"
    }
   ],
   "source": [
    "fpr = (y_pred < 0).sum() / y_pred.shape[0]\n",
    "fpr"
   ]
  },
  {
   "cell_type": "code",
   "execution_count": 26,
   "metadata": {},
   "outputs": [
    {
     "name": "stdout",
     "output_type": "stream",
     "text": [
      "Accuracy on test set: 89.50%\n"
     ]
    }
   ],
   "source": [
    "# Compute predictions on a test set\n",
    "y_pred = clf_rej.predict(feat_ts_ds.X)\n",
    "\n",
    "# Evaluate the accuracy of the classifier\n",
    "acc = metric.performance_score(y_true=feat_ts_ds.Y, y_pred=y_pred)\n",
    "\n",
    "print(\"Accuracy on test set: {:.2%}\".format(acc))"
   ]
  },
  {
   "cell_type": "markdown",
   "metadata": {},
   "source": [
    "# Test it against BB adversarial samples"
   ]
  },
  {
   "cell_type": "code",
   "execution_count": 27,
   "metadata": {},
   "outputs": [
    {
     "data": {
      "text/plain": [
       "(100, 3)"
      ]
     },
     "execution_count": 27,
     "metadata": {},
     "output_type": "execute_result"
    }
   ],
   "source": [
    "adv_feats = nmz.transform(feat_extr.forward(eva_adv_ds.X))\n",
    "adv_feats.shape"
   ]
  },
  {
   "cell_type": "code",
   "execution_count": 28,
   "metadata": {},
   "outputs": [
    {
     "data": {
      "text/plain": [
       "array([[ 1.25791617e+00,  1.23389908e+00, -3.16522016e-01],\n",
       "       [-3.98903375e-03,  5.17891561e-01,  1.00406421e+00],\n",
       "       [ 1.25791617e+00,  1.23389908e+00, -3.16522016e-01],\n",
       "       [ 1.25791617e+00,  1.23389908e+00, -3.16522016e-01],\n",
       "       [ 1.25791617e+00,  1.23389908e+00, -3.16522016e-01],\n",
       "       [ 0.00000000e+00,  5.25794974e-01,  9.98478938e-01],\n",
       "       [ 0.00000000e+00,  5.25794974e-01,  9.98478938e-01],\n",
       "       [ 1.13559730e-03,  5.09394782e-01,  1.00155381e+00],\n",
       "       [ 0.00000000e+00,  5.25794974e-01,  9.98478938e-01],\n",
       "       [ 0.00000000e+00,  5.25794974e-01,  9.98478938e-01]])"
      ]
     },
     "execution_count": 28,
     "metadata": {},
     "output_type": "execute_result"
    }
   ],
   "source": [
    "adv_feats[:10,:].tondarray()"
   ]
  },
  {
   "cell_type": "code",
   "execution_count": 29,
   "metadata": {},
   "outputs": [
    {
     "data": {
      "text/plain": [
       "array([[ 0.04489459, -0.62017878, -0.45863329,  1.        ],\n",
       "       [-0.96885434, -0.98933067,  0.94417401,  1.        ],\n",
       "       [ 0.04489459, -0.62017878, -0.45863329,  1.        ],\n",
       "       [ 0.04489459, -0.62017878, -0.45863329,  1.        ],\n",
       "       [ 0.04489459, -0.62017878, -0.45863329,  1.        ],\n",
       "       [-1.0003935 , -1.00031053,  0.97945123,  1.        ],\n",
       "       [-1.0003935 , -1.00031053,  0.97945123,  1.        ],\n",
       "       [-0.99452561, -0.99855287,  0.98302664,  1.        ],\n",
       "       [-1.0003935 , -1.00031053,  0.97945123,  1.        ],\n",
       "       [-1.0003935 , -1.00031053,  0.97945123,  1.        ],\n",
       "       [-1.0003935 , -1.00031053,  0.97945123,  1.        ],\n",
       "       [-1.0003935 , -1.00031053,  0.97945123,  1.        ],\n",
       "       [ 0.04489459, -0.62017878, -0.45863329,  1.        ],\n",
       "       [ 0.04489459, -0.62017878, -0.45863329,  1.        ],\n",
       "       [ 0.04489459, -0.62017878, -0.45863329,  1.        ],\n",
       "       [-1.0003935 , -1.00031053,  0.97945123,  1.        ],\n",
       "       [ 0.04489459, -0.62017878, -0.45863329,  1.        ],\n",
       "       [ 0.04489459, -0.62017878, -0.45863329,  1.        ],\n",
       "       [-0.99564723, -0.99895423,  0.98475393,  1.        ],\n",
       "       [-1.0003935 , -1.00031053,  0.97945123,  1.        ],\n",
       "       [-0.98557712, -0.99534487,  0.96935426,  1.        ],\n",
       "       [-0.99139962, -0.99743331,  0.97822997,  1.        ],\n",
       "       [ 0.04489459, -0.62017878, -0.45863329,  1.        ],\n",
       "       [ 0.04489459, -0.62017878, -0.45863329,  1.        ],\n",
       "       [-1.0003935 , -1.00031053,  0.97945123,  1.        ],\n",
       "       [ 0.04489459, -0.62017878, -0.45863329,  1.        ],\n",
       "       [ 0.04489459, -0.62017878, -0.45863329,  1.        ],\n",
       "       [ 0.04489459, -0.62017878, -0.45863329,  1.        ],\n",
       "       [-1.0003935 , -1.00031053,  0.97945123,  1.        ],\n",
       "       [-1.0003935 , -1.00031053,  0.97945123,  1.        ]])"
      ]
     },
     "execution_count": 29,
     "metadata": {},
     "output_type": "execute_result"
    }
   ],
   "source": [
    "foo = clf_rej.forward(adv_feats)\n",
    "foo.tondarray()[:30]"
   ]
  },
  {
   "cell_type": "code",
   "execution_count": 30,
   "metadata": {},
   "outputs": [
    {
     "data": {
      "text/plain": [
       "CArray(100,)(dense: [-1. -1. -1. ... -1. -1. -1.])"
      ]
     },
     "execution_count": 30,
     "metadata": {},
     "output_type": "execute_result"
    }
   ],
   "source": [
    "import numpy as np\n",
    "from secml.array import CArray\n",
    "\n",
    "Y_adv = CArray(np.ones(eva_adv_ds.Y.shape[0]) * -1)\n",
    "Y_adv"
   ]
  },
  {
   "cell_type": "code",
   "execution_count": 31,
   "metadata": {},
   "outputs": [
    {
     "name": "stdout",
     "output_type": "stream",
     "text": [
      "Accuracy on adversarial samples: 100.00%\n"
     ]
    }
   ],
   "source": [
    "# Compute predictions on a test set\n",
    "y_pred = clf_rej.predict(adv_feats)\n",
    "\n",
    "# Evaluate the accuracy of the classifier\n",
    "acc = metric.performance_score(y_true=Y_adv, y_pred=y_pred)\n",
    "\n",
    "print(\"Accuracy on adversarial samples: {:.2%}\".format(acc))"
   ]
  },
  {
   "cell_type": "markdown",
   "metadata": {},
   "source": [
    "---"
   ]
  },
  {
   "cell_type": "markdown",
   "metadata": {},
   "source": [
    "# White-box evaluation"
   ]
  },
  {
   "cell_type": "markdown",
   "metadata": {},
   "source": [
    "Combining NN + SVM in a unique classifier"
   ]
  },
  {
   "cell_type": "code",
   "execution_count": 32,
   "metadata": {},
   "outputs": [],
   "source": [
    "nmz.preprocess = feat_extr\n",
    "clf_rej.preprocess = nmz"
   ]
  },
  {
   "cell_type": "code",
   "execution_count": 33,
   "metadata": {},
   "outputs": [
    {
     "data": {
      "text/plain": [
       "CClassifierRejectThreshold{'clf': CClassifierMulticlassOVA{'classes': CArray(3,)(dense: [0 1 2]), 'n_features': 3, 'preprocess': None}, 'threshold': 1.0, 'classes': CArray(3,)(dense: [0 1 2]), 'n_features': 3, 'preprocess': CNormalizerMinMax{'feature_range': (0.0, 1.0), 'min': CArray(3,)(dense: [-11.802628  -1.174436 -24.861677]), 'max': CArray(3,)(dense: [19.891415  6.544275  7.932477]), 'm': CArray(3,)(dense: [0.031552 0.129555 0.030493]), 'q': CArray(3,)(dense: [0.372393 0.152154 0.758113]), 'preprocess': CNormalizerDNN{'net': CClassifierPyTorch{'classes': CArray(3,)(dense: [0 1 2]), 'n_features': 2, 'preprocess': None, 'model': Net(\n",
       "  (fc1): Linear(in_features=2, out_features=5, bias=True)\n",
       "  (fc2): Linear(in_features=5, out_features=3, bias=True)\n",
       "), 'trained': True, 'input_shape': (2,), 'softmax_outputs': False, 'batch_size': 1, 'loss': CrossEntropyLoss(), 'optimizer': SGD (\n",
       "Parameter Group 0\n",
       "    dampening: 0\n",
       "    lr: 0.001\n",
       "    momentum: 0.9\n",
       "    nesterov: False\n",
       "    weight_decay: 0\n",
       "), 'optimizer_scheduler': None, 'epochs': 10}, 'out_layer': None, 'preprocess': None}}}"
      ]
     },
     "execution_count": 33,
     "metadata": {},
     "output_type": "execute_result"
    }
   ],
   "source": [
    "clf_rej"
   ]
  },
  {
   "cell_type": "code",
   "execution_count": 34,
   "metadata": {},
   "outputs": [
    {
     "data": {
      "text/plain": [
       "CArray(100, 4)(dense: [[ 0.044895 -0.620179 -0.458633  1.      ] [-0.968854 -0.989331  0.944174  1.      ] [ 0.044895 -0.620179 -0.458633  1.      ] ... [ 0.044895 -0.620179 -0.458633  1.      ] [-1.000393 -1.000311  0.979451  1.      ] [ 0.044895 -0.620179 -0.458633  1.      ]])"
      ]
     },
     "execution_count": 34,
     "metadata": {},
     "output_type": "execute_result"
    }
   ],
   "source": [
    "clf_rej.forward(eva_adv_ds.X)"
   ]
  },
  {
   "cell_type": "code",
   "execution_count": 35,
   "metadata": {},
   "outputs": [
    {
     "data": {
      "text/plain": [
       "CArray(100, 4)(dense: [[ True  True  True  True] [ True  True  True  True] [ True  True  True  True] ... [ True  True  True  True] [ True  True  True  True] [ True  True  True  True]])"
      ]
     },
     "execution_count": 35,
     "metadata": {},
     "output_type": "execute_result"
    }
   ],
   "source": [
    "clf_rej.forward(eva_adv_ds.X) == foo"
   ]
  },
  {
   "cell_type": "markdown",
   "metadata": {},
   "source": [
    "Whitebox attack"
   ]
  },
  {
   "cell_type": "code",
   "execution_count": 63,
   "metadata": {},
   "outputs": [
    {
     "name": "stdout",
     "output_type": "stream",
     "text": [
      "Attack started...\n",
      "Attack complete!\n"
     ]
    }
   ],
   "source": [
    "# For simplicity, let's attack a subset of the test set\n",
    "attack_ds = ts[:100, :]\n",
    "surrogate_ds = tr\n",
    "\n",
    "# attack_ds = CDataset(nmz.transform(ts[:100, :].X), ts.Y[:100])\n",
    "# surrogate_ds = CDataset(nmz.transform(tr.X), tr.Y)\n",
    "\n",
    "noise_type = 'l2'  # Type of perturbation 'l1' or 'l2'\n",
    "dmax = 3.0  # Maximum perturbation\n",
    "lb, ub = 0., 1.  # Bounds of the attack space. Can be set to `None` for unbounded\n",
    "y_target = None  # None if `error-generic` or a class label for `error-specific`\n",
    "\n",
    "# Should be chosen depending on the optimization problem\n",
    "solver_params = {\n",
    "    'eta': 0.5,\n",
    "    'eta_min': 2.0,\n",
    "    'eta_max': None,\n",
    "    'max_iter': 100,\n",
    "    'eps': 1e-6\n",
    "}\n",
    "\n",
    "from secml.adv.attacks import CAttackEvasionPGDLS\n",
    "pgd_ls_attack = CAttackEvasionPGDLS(classifier=clf_rej,\n",
    "                                    surrogate_classifier=dnn, #clf_rej,\n",
    "                                    surrogate_data=surrogate_ds,\n",
    "                                    distance=noise_type,\n",
    "                                    dmax=dmax,\n",
    "                                    solver_params=solver_params,\n",
    "                                    y_target=y_target)\n",
    "\n",
    "print(\"Attack started...\")\n",
    "eva_y_pred, _, eva_adv_ds, _ = pgd_ls_attack.run(\n",
    "    attack_ds.X, attack_ds.Y, double_init=True)\n",
    "print(\"Attack complete!\")"
   ]
  },
  {
   "cell_type": "code",
   "execution_count": 37,
   "metadata": {},
   "outputs": [
    {
     "data": {
      "text/plain": [
       "CArray(100,)(dense: [-1. -1. -1. ... -1. -1. -1.])"
      ]
     },
     "execution_count": 37,
     "metadata": {},
     "output_type": "execute_result"
    }
   ],
   "source": [
    "import numpy as np\n",
    "from secml.array import CArray\n",
    "\n",
    "Y_adv = CArray(np.ones(eva_adv_ds.Y.shape[0]) * -1)\n",
    "Y_adv"
   ]
  },
  {
   "cell_type": "code",
   "execution_count": 38,
   "metadata": {},
   "outputs": [
    {
     "name": "stdout",
     "output_type": "stream",
     "text": [
      "Accuracy on adversarial samples: 100.00%\n"
     ]
    }
   ],
   "source": [
    "# Compute predictions on a test set\n",
    "y_pred = clf_rej.predict(eva_adv_ds.X)\n",
    "\n",
    "# Evaluate the accuracy of the classifier\n",
    "acc = metric.performance_score(y_true=Y_adv, y_pred=y_pred)\n",
    "\n",
    "print(\"Accuracy on adversarial samples: {:.2%}\".format(acc))"
   ]
  },
  {
   "cell_type": "code",
   "execution_count": 39,
   "metadata": {},
   "outputs": [
    {
     "data": {
      "text/plain": [
       "(CArray(100,)(dense: [-1 -1 -1 ... -1 -1 -1]),\n",
       " CArray(100, 4)(dense: [[ 0.044895 -0.620179 -0.458633  1.      ] [-0.968854 -0.989331  0.944174  1.      ] [ 0.044895 -0.620179 -0.458633  1.      ] ... [ 0.044895 -0.620179 -0.458633  1.      ] [-1.000393 -1.000311  0.979451  1.      ] [ 0.044895 -0.620179 -0.458633  1.      ]]))"
      ]
     },
     "execution_count": 39,
     "metadata": {},
     "output_type": "execute_result"
    }
   ],
   "source": [
    "clf_rej.predict(eva_adv_ds.X, return_decision_function=True)"
   ]
  },
  {
   "cell_type": "markdown",
   "metadata": {},
   "source": [
    "# WB Detector Security Evaluation"
   ]
  },
  {
   "cell_type": "code",
   "execution_count": 42,
   "metadata": {},
   "outputs": [
    {
     "data": {
      "image/png": "[encoded data removed]",
      "text/plain": [
       "<Figure size 360x360 with 1 Axes>"
      ]
     },
     "metadata": {},
     "output_type": "display_data"
    }
   ],
   "source": [
    "# Perturbation levels to test\n",
    "from secml.array import CArray\n",
    "e_vals = CArray.arange(start=0, step=0.1, stop=1.1)\n",
    "\n",
    "from secml.adv.seceval import CSecEval\n",
    "rej_sec_eval = CSecEval(\n",
    "    attack=pgd_ls_attack, param_name='dmax', param_values=e_vals)\n",
    "\n",
    "# Run the security evaluation using the test set\n",
    "print(\"Running security evaluation...\")\n",
    "rej_sec_eval.run_sec_eval(attack_ds, double_init=False)\n",
    "\n",
    "from secml.figure import CFigure\n",
    "fig = CFigure(height=5, width=5)\n",
    "\n",
    "# Convenience function for plotting the Security Evaluation Curve\n",
    "fig.sp.plot_sec_eval(\n",
    "    rej_sec_eval.sec_eval_data, marker='o', label='clf_rej', show_average=True)"
   ]
  },
  {
   "cell_type": "markdown",
   "metadata": {},
   "source": [
    "---"
   ]
  },
  {
   "cell_type": "code",
   "execution_count": 43,
   "metadata": {},
   "outputs": [
    {
     "data": {
      "image/png": "[encoded data removed]",
      "text/plain": [
       "<Figure size 360x360 with 1 Axes>"
      ]
     },
     "metadata": {},
     "output_type": "display_data"
    }
   ],
   "source": [
    "from secml.figure import CFigure\n",
    "fig = CFigure(height=5, width=5)\n",
    "\n",
    "# Convenience function for plotting the Security Evaluation Curve\n",
    "fig.sp.plot_sec_eval(\n",
    "    dnn_sec_eval.sec_eval_data, marker='o', label='dnn', show_average=True)\n",
    "\n",
    "fig.sp.plot_sec_eval(\n",
    "    rej_sec_eval.sec_eval_data, marker='x', label='clf_rej', show_average=True)"
   ]
  },
  {
   "cell_type": "code",
   "execution_count": null,
   "metadata": {},
   "outputs": [],
   "source": []
  }
 ],
 "metadata": {
  "kernelspec": {
   "display_name": "secml",
   "language": "python",
   "name": "secml"
  },
  "language_info": {
   "codemirror_mode": {
    "name": "ipython",
    "version": 3
   },
   "file_extension": ".py",
   "mimetype": "text/x-python",
   "name": "python",
   "nbconvert_exporter": "python",
   "pygments_lexer": "ipython3",
   "version": "3.6.3"
  }
 },
 "nbformat": 4,
 "nbformat_minor": 4
}

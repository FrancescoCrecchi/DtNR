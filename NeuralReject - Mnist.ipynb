{
 "cells": [
  {
   "cell_type": "code",
   "execution_count": 1,
   "metadata": {},
   "outputs": [
    {
     "name": "stdout",
     "output_type": "stream",
     "text": [
      "setGPU: Setting GPU to: 3\n"
     ]
    }
   ],
   "source": [
    "import setGPU"
   ]
  },
  {
   "cell_type": "code",
   "execution_count": 2,
   "metadata": {},
   "outputs": [],
   "source": [
    "random_state=999"
   ]
  },
  {
   "cell_type": "markdown",
   "metadata": {},
   "source": [
    "# Load data"
   ]
  },
  {
   "cell_type": "code",
   "execution_count": 120,
   "metadata": {},
   "outputs": [],
   "source": [
    "from secml.data.loader import CDataLoaderMNIST\n",
    "loader = CDataLoaderMNIST()\n",
    "tr = loader.load('training')\n",
    "ts = loader.load('testing')\n",
    "\n",
    "# Normalize the data\n",
    "tr.X /= 255\n",
    "ts.X /= 255"
   ]
  },
  {
   "cell_type": "code",
   "execution_count": 121,
   "metadata": {},
   "outputs": [
    {
     "data": {
      "text/plain": [
       "((60000, 784), (10000, 784))"
      ]
     },
     "execution_count": 121,
     "metadata": {},
     "output_type": "execute_result"
    }
   ],
   "source": [
    "tr.X.shape, ts.X.shape"
   ]
  },
  {
   "cell_type": "markdown",
   "metadata": {},
   "source": [
    "Split data into train-validation set (Stacked Generalization alike)"
   ]
  },
  {
   "cell_type": "code",
   "execution_count": 5,
   "metadata": {},
   "outputs": [],
   "source": [
    "from secml.data.splitter import CTrainTestSplit"
   ]
  },
  {
   "cell_type": "code",
   "execution_count": 6,
   "metadata": {},
   "outputs": [],
   "source": [
    "tr, vl = CTrainTestSplit(test_size=0.5, random_state=random_state).split(tr)"
   ]
  },
  {
   "cell_type": "code",
   "execution_count": 7,
   "metadata": {},
   "outputs": [
    {
     "data": {
      "text/plain": [
       "(30000, 30000)"
      ]
     },
     "execution_count": 7,
     "metadata": {},
     "output_type": "execute_result"
    }
   ],
   "source": [
    "tr.X.shape[0], vl.X.shape[0]"
   ]
  },
  {
   "cell_type": "markdown",
   "metadata": {},
   "source": [
    "# NN classifier"
   ]
  },
  {
   "cell_type": "code",
   "execution_count": 8,
   "metadata": {},
   "outputs": [],
   "source": [
    "import torch\n",
    "from torch import nn, optim"
   ]
  },
  {
   "cell_type": "code",
   "execution_count": 9,
   "metadata": {},
   "outputs": [],
   "source": [
    "class Flatten(nn.Module):\n",
    "    \"\"\"Layer custom per reshape del tensore\n",
    "    \"\"\"\n",
    "    def __init__(self):\n",
    "        super(Flatten, self).__init__()\n",
    "\n",
    "    def forward(self, x):\n",
    "        x = x.view(x.size(0), -1)\n",
    "        return x"
   ]
  },
  {
   "cell_type": "code",
   "execution_count": 10,
   "metadata": {},
   "outputs": [],
   "source": [
    "import torch\n",
    "from torch import nn\n",
    "\n",
    "class MNISTCNN(nn.Module):\n",
    "    \"\"\"Model with input size (-1, 28, 28) for MNIST 3-classes dataset.\"\"\"\n",
    "    def __init__(self):\n",
    "        super(MNISTCNN, self).__init__()\n",
    "        self.conv1 = nn.Conv2d(1, 32, kernel_size=3)\n",
    "        self.conv2 = nn.Conv2d(32, 32, kernel_size=3)\n",
    "        self.conv3 = nn.Conv2d(32, 64, kernel_size=3)\n",
    "        self.conv4 = nn.Conv2d(64, 64, kernel_size=3)\n",
    "        self.flat = Flatten()\n",
    "        self.fc1 = nn.Linear(1024, 200)\n",
    "        self.fc2 = nn.Linear(200, 200)\n",
    "        self.fc3 = nn.Linear(200, 10)\n",
    "\n",
    "    def forward(self, x):\n",
    "        # 1st block\n",
    "        x = torch.relu(self.conv1(x))\n",
    "        x = torch.relu(torch.max_pool2d(self.conv2(x), 2))\n",
    "        # 2nd block\n",
    "        x = torch.relu(self.conv3(x))\n",
    "        x = torch.relu(torch.max_pool2d(self.conv4(x), 2))\n",
    "        # Flatten\n",
    "        x = self.flat(x)\n",
    "        x = torch.relu(self.fc1(x))\n",
    "        x = torch.relu(self.fc2(x))\n",
    "        return self.fc3(x)"
   ]
  },
  {
   "cell_type": "code",
   "execution_count": 11,
   "metadata": {},
   "outputs": [],
   "source": [
    "# import numpy as np\n",
    "# import torch.autograd as autograd\n",
    "\n",
    "# def compute_out_size(in_size, mod):\n",
    "#     \"\"\"\n",
    "#     Compute output size of Module `mod` given an input with size `in_size`.\n",
    "#     \"\"\"\n",
    "    \n",
    "#     f = mod.forward(autograd.Variable(torch.Tensor(1, *in_size)))\n",
    "#     return int(np.prod(f.size()[1:]))"
   ]
  },
  {
   "cell_type": "code",
   "execution_count": 12,
   "metadata": {},
   "outputs": [],
   "source": [
    "net = MNISTCNN()\n",
    "# x = torch.Tensor(1, 28, 28) # shape = (batch size, channels, height, width)\n",
    "# print(compute_out_size(x.size(), net))"
   ]
  },
  {
   "cell_type": "code",
   "execution_count": 13,
   "metadata": {
    "scrolled": true
   },
   "outputs": [
    {
     "name": "stdout",
     "output_type": "stream",
     "text": [
      "torchsummary              1.5.1                    pypi_0    pypi\n"
     ]
    }
   ],
   "source": [
    "!conda list | grep summary"
   ]
  },
  {
   "cell_type": "code",
   "execution_count": 14,
   "metadata": {},
   "outputs": [],
   "source": [
    "from torchsummary import summary"
   ]
  },
  {
   "cell_type": "code",
   "execution_count": 15,
   "metadata": {},
   "outputs": [
    {
     "name": "stdout",
     "output_type": "stream",
     "text": [
      "----------------------------------------------------------------\n",
      "        Layer (type)               Output Shape         Param #\n",
      "================================================================\n",
      "            Conv2d-1           [-1, 32, 26, 26]             320\n",
      "            Conv2d-2           [-1, 32, 24, 24]           9,248\n",
      "            Conv2d-3           [-1, 64, 10, 10]          18,496\n",
      "            Conv2d-4             [-1, 64, 8, 8]          36,928\n",
      "           Flatten-5                 [-1, 1024]               0\n",
      "            Linear-6                  [-1, 200]         205,000\n",
      "            Linear-7                  [-1, 200]          40,200\n",
      "            Linear-8                   [-1, 10]           2,010\n",
      "================================================================\n",
      "Total params: 312,202\n",
      "Trainable params: 312,202\n",
      "Non-trainable params: 0\n",
      "----------------------------------------------------------------\n",
      "Input size (MB): 0.00\n",
      "Forward/backward pass size (MB): 0.40\n",
      "Params size (MB): 1.19\n",
      "Estimated Total Size (MB): 1.59\n",
      "----------------------------------------------------------------\n"
     ]
    }
   ],
   "source": [
    "device = torch.device('cuda' if torch.cuda.is_available() else 'cpu')\n",
    "net = net.to(device)\n",
    "summary(net, (1, 28, 28))"
   ]
  },
  {
   "cell_type": "markdown",
   "metadata": {},
   "source": [
    "### Wrap it"
   ]
  },
  {
   "cell_type": "code",
   "execution_count": 17,
   "metadata": {},
   "outputs": [],
   "source": [
    "from torch import optim\n",
    "\n",
    "# Random seed\n",
    "torch.manual_seed(0)\n",
    "\n",
    "net = MNISTCNN()\n",
    "criterion = nn.CrossEntropyLoss()\n",
    "optimizer = optim.SGD(net.parameters(),\n",
    "                      lr=0.01, momentum=0.9)\n",
    "\n",
    "from secml.ml.classifiers import CClassifierPyTorch\n",
    "dnn = CClassifierPyTorch(model=net,\n",
    "                         loss=criterion,\n",
    "                         optimizer=optimizer,\n",
    "                         epochs=25,\n",
    "                         batch_size=128,\n",
    "                         input_shape=(1, 28, 28),\n",
    "                         random_state=0)"
   ]
  },
  {
   "cell_type": "code",
   "execution_count": 18,
   "metadata": {},
   "outputs": [],
   "source": [
    "dnn.verbose = 0  # Can be used to display training process output"
   ]
  },
  {
   "cell_type": "code",
   "execution_count": 19,
   "metadata": {},
   "outputs": [
    {
     "name": "stdout",
     "output_type": "stream",
     "text": [
      "Training started...\n",
      "Training completed!\n"
     ]
    }
   ],
   "source": [
    "print(\"Training started...\")\n",
    "dnn.fit(tr)\n",
    "print(\"Training completed!\")"
   ]
  },
  {
   "cell_type": "code",
   "execution_count": 20,
   "metadata": {},
   "outputs": [
    {
     "name": "stdout",
     "output_type": "stream",
     "text": [
      "CClassifierPyTorch{'classes': CArray(10,)(dense: [0 1 2 3 4 5 6 7 8 9]), 'n_features': 784, 'preprocess': None, 'model': MNISTCNN(\n",
      "  (conv1): Conv2d(1, 32, kernel_size=(3, 3), stride=(1, 1))\n",
      "  (conv2): Conv2d(32, 32, kernel_size=(3, 3), stride=(1, 1))\n",
      "  (conv3): Conv2d(32, 64, kernel_size=(3, 3), stride=(1, 1))\n",
      "  (conv4): Conv2d(64, 64, kernel_size=(3, 3), stride=(1, 1))\n",
      "  (flat): Flatten()\n",
      "  (fc1): Linear(in_features=1024, out_features=200, bias=True)\n",
      "  (fc2): Linear(in_features=200, out_features=200, bias=True)\n",
      "  (fc3): Linear(in_features=200, out_features=10, bias=True)\n",
      "), 'trained': True, 'input_shape': (1, 28, 28), 'softmax_outputs': False, 'batch_size': 128, 'loss': CrossEntropyLoss(), 'optimizer': SGD (\n",
      "Parameter Group 0\n",
      "    dampening: 0\n",
      "    lr: 0.01\n",
      "    momentum: 0.9\n",
      "    nesterov: False\n",
      "    weight_decay: 0\n",
      "), 'optimizer_scheduler': None, 'epochs': 25}\n"
     ]
    }
   ],
   "source": [
    "print(dnn)"
   ]
  },
  {
   "cell_type": "code",
   "execution_count": 21,
   "metadata": {},
   "outputs": [
    {
     "name": "stdout",
     "output_type": "stream",
     "text": [
      "Model Accuracy: 0.9885\n"
     ]
    }
   ],
   "source": [
    "label_torch = dnn.predict(ts.X, return_decision_function=False)\n",
    "\n",
    "from secml.ml.peval.metrics import CMetric\n",
    "acc_torch = CMetric.create('accuracy').performance_score(ts.Y, label_torch)\n",
    "\n",
    "print(\"Model Accuracy: {}\".format(acc_torch))"
   ]
  },
  {
   "cell_type": "markdown",
   "metadata": {},
   "source": [
    "# Generate Adversarial Samples"
   ]
  },
  {
   "cell_type": "code",
   "execution_count": 22,
   "metadata": {},
   "outputs": [
    {
     "data": {
      "text/plain": [
       "(10000, 784)"
      ]
     },
     "execution_count": 22,
     "metadata": {},
     "output_type": "execute_result"
    }
   ],
   "source": [
    "ts.X.shape"
   ]
  },
  {
   "cell_type": "code",
   "execution_count": 62,
   "metadata": {},
   "outputs": [
    {
     "name": "stdout",
     "output_type": "stream",
     "text": [
      "Attack started...\n",
      "Attack complete!\n"
     ]
    }
   ],
   "source": [
    "# For simplicity, let's attack a subset of the test set\n",
    "attack_ds = ts[:500, :]\n",
    "\n",
    "noise_type = 'l2'  # Type of perturbation 'l1' or 'l2'\n",
    "dmax = 3.0  # Maximum perturbation\n",
    "lb, ub = 0., 1.  # Bounds of the attack space. Can be set to `None` for unbounded\n",
    "y_target = None  # None if `error-generic` or a class label for `error-specific`\n",
    "\n",
    "# Should be chosen depending on the optimization problem\n",
    "solver_params = {\n",
    "    'eta': 0.5,\n",
    "    'eta_min': 2.0,\n",
    "    'eta_max': None,\n",
    "    'max_iter': 100,\n",
    "    'eps': 1e-6\n",
    "}\n",
    "\n",
    "from secml.adv.attacks import CAttackEvasionPGDLS\n",
    "pgd_ls_attack = CAttackEvasionPGDLS(classifier=dnn,\n",
    "                                    surrogate_classifier=dnn,\n",
    "                                    surrogate_data=tr,\n",
    "                                    distance=noise_type,\n",
    "                                    dmax=dmax,\n",
    "                                    solver_params=solver_params,\n",
    "                                    y_target=y_target)\n",
    "\n",
    "print(\"Attack started...\")\n",
    "eva_y_pred, _, eva_adv_ds, _ = pgd_ls_attack.run(\n",
    "    attack_ds.X, attack_ds.Y, double_init=True)\n",
    "print(\"Attack complete!\")"
   ]
  },
  {
   "cell_type": "code",
   "execution_count": 63,
   "metadata": {},
   "outputs": [
    {
     "data": {
      "text/plain": [
       "(500, 784)"
      ]
     },
     "execution_count": 63,
     "metadata": {},
     "output_type": "execute_result"
    }
   ],
   "source": [
    "attack_ds.X.shape"
   ]
  },
  {
   "cell_type": "code",
   "execution_count": 64,
   "metadata": {},
   "outputs": [
    {
     "name": "stdout",
     "output_type": "stream",
     "text": [
      "Accuracy on reduced test set before attack: 99.80%\n",
      "Accuracy on reduced test set after attack: 5.00%\n"
     ]
    }
   ],
   "source": [
    "from secml.ml.peval.metrics import CMetric\n",
    "metric = CMetric.create('accuracy')\n",
    "\n",
    "acc = metric.performance_score(\n",
    "    y_true=attack_ds.Y, y_pred=dnn.predict(attack_ds.X))\n",
    "acc_attack = metric.performance_score(\n",
    "    y_true=attack_ds.Y, y_pred=eva_y_pred)\n",
    "\n",
    "print(\"Accuracy on reduced test set before attack: {:.2%}\".format(acc))\n",
    "print(\"Accuracy on reduced test set after attack: {:.2%}\".format(acc_attack))"
   ]
  },
  {
   "cell_type": "markdown",
   "metadata": {},
   "source": [
    "---"
   ]
  },
  {
   "cell_type": "markdown",
   "metadata": {},
   "source": [
    "## Attack debug plots"
   ]
  },
  {
   "cell_type": "code",
   "execution_count": 122,
   "metadata": {},
   "outputs": [],
   "source": [
    "ts = loader.load('testing', digits=(4,9))\n",
    "ts.X /= 255."
   ]
  },
  {
   "cell_type": "code",
   "execution_count": 181,
   "metadata": {},
   "outputs": [
    {
     "data": {
      "text/plain": [
       "(CArray(1, 784)(dense: [[0. 0. 0. ... 0. 0. 0.]]), CArray(1,)(dense: [0]))"
      ]
     },
     "execution_count": 181,
     "metadata": {},
     "output_type": "execute_result"
    }
   ],
   "source": [
    "x0, y0 = ts[0, :].X, ts[0, :].Y\n",
    "x0, y0"
   ]
  },
  {
   "cell_type": "code",
   "execution_count": 257,
   "metadata": {},
   "outputs": [],
   "source": [
    "noise_type = 'l2'  # Type of perturbation 'l1' or 'l2'\n",
    "dmax = 3.0  # Maximum perturbation\n",
    "lb, ub = 0., 1.  # Bounds of the attack space. Can be set to `None` for unbounded\n",
    "y_target = 9 # CHANGED HERE FOR A TARGETED ATTACK! None if `error-generic` or a class label for `error-specific`\n",
    "\n",
    "# Should be chosen depending on the optimization problem\n",
    "solver_params = {\n",
    "    'eta': 0.5,\n",
    "    'eta_min': 2.0,\n",
    "    'eta_max': None,\n",
    "    'max_iter': 100,\n",
    "    'eps': 1e-6\n",
    "}\n",
    "\n",
    "from secml.adv.attacks import CAttackEvasionPGDLS\n",
    "pgd_ls_attack = CAttackEvasionPGDLS(classifier=dnn,\n",
    "                                    surrogate_classifier=dnn,\n",
    "                                    surrogate_data=tr,\n",
    "                                    distance=noise_type,\n",
    "                                    dmax=dmax,\n",
    "                                    solver_params=solver_params,\n",
    "                                    y_target=y_target)"
   ]
  },
  {
   "cell_type": "code",
   "execution_count": 282,
   "metadata": {},
   "outputs": [],
   "source": [
    "eva_y_pred, _, eva_adv_ds, _ = pgd_ls_attack.run(x0, y0, double_init=True)"
   ]
  },
  {
   "cell_type": "code",
   "execution_count": 283,
   "metadata": {},
   "outputs": [
    {
     "data": {
      "text/plain": [
       "CArray(1,)(dense: [9])"
      ]
     },
     "execution_count": 283,
     "metadata": {},
     "output_type": "execute_result"
    }
   ],
   "source": [
    "eva_y_pred "
   ]
  },
  {
   "cell_type": "markdown",
   "metadata": {},
   "source": [
    "Visualize adversarial sample"
   ]
  },
  {
   "cell_type": "code",
   "execution_count": 284,
   "metadata": {},
   "outputs": [],
   "source": [
    "from secml.figure import CFigure\n",
    "# Only required for visualization in notebooks\n",
    "%matplotlib inline\n",
    "\n",
    "# Let's define a convenience function to easily plot the MNIST dataset\n",
    "def show_digits(samples, preds, labels, digs, n_display=8):\n",
    "    samples = samples.atleast_2d()\n",
    "    n_display = min(n_display, samples.shape[0])\n",
    "    fig = CFigure(width=n_display*2, height=3)\n",
    "    for idx in range(n_display):\n",
    "        fig.subplot(2, n_display, idx+1)\n",
    "        fig.sp.xticks([])\n",
    "        fig.sp.yticks([])\n",
    "        fig.sp.imshow(samples[idx, :].reshape((28, 28)), cmap='gray')\n",
    "        fig.sp.title(\"{} ({})\".format(digits[labels[idx].item()], digs[preds[idx].item()]),\n",
    "                     color=(\"green\" if labels[idx].item()==preds[idx].item() else \"red\"))\n",
    "    fig.show()"
   ]
  },
  {
   "cell_type": "code",
   "execution_count": 285,
   "metadata": {},
   "outputs": [
    {
     "data": {
      "image/png": "[encoded data removed]",
      "text/plain": [
       "<Figure size 144x216 with 1 Axes>"
      ]
     },
     "metadata": {},
     "output_type": "display_data"
    },
    {
     "data": {
      "image/png": "[encoded data removed]",
      "text/plain": [
       "<Figure size 144x216 with 1 Axes>"
      ]
     },
     "metadata": {},
     "output_type": "display_data"
    }
   ],
   "source": [
    "digits = tuple(range(10))\n",
    "show_digits(x0, dnn.predict(x0), y0, digits)\n",
    "show_digits(eva_adv_ds.X, dnn.predict(eva_adv_ds.X), eva_adv_ds.Y, digits)"
   ]
  },
  {
   "cell_type": "code",
   "execution_count": 286,
   "metadata": {},
   "outputs": [
    {
     "data": {
      "text/plain": [
       "CArray(12,)(dense: [ 20.65148   12.901711   3.870911  -4.484192 -11.12654  -16.074574 -19.669788 -22.846813 -23.001904 -23.906122 -26.050974 -26.050974])"
      ]
     },
     "execution_count": 286,
     "metadata": {},
     "output_type": "execute_result"
    }
   ],
   "source": [
    "pgd_ls_attack.f_seq"
   ]
  },
  {
   "cell_type": "markdown",
   "metadata": {},
   "source": [
    "Plotting attack loss function:"
   ]
  },
  {
   "cell_type": "code",
   "execution_count": 287,
   "metadata": {},
   "outputs": [
    {
     "data": {
      "text/plain": [
       "<matplotlib.legend.Legend at 0x7f5c70047898>"
      ]
     },
     "execution_count": 287,
     "metadata": {},
     "output_type": "execute_result"
    },
    {
     "data": {
      "image/png": "[encoded data removed]",
      "text/plain": [
       "<Figure size 360x360 with 1 Axes>"
      ]
     },
     "metadata": {},
     "output_type": "display_data"
    }
   ],
   "source": [
    "from secml.figure import CFigure\n",
    "fig = CFigure(height=5, width=5)\n",
    "\n",
    "# Convenience function for plotting the Security Evaluation Curve\n",
    "fig.sp.plot(pgd_ls_attack._f_seq, marker='o', label='PGD-LS')\n",
    "fig.sp.grid()\n",
    "fig.sp.xticks(range(pgd_ls_attack._f_seq.shape[0]))\n",
    "fig.sp.xlabel('Iteration')\n",
    "fig.sp.ylabel('Loss')\n",
    "fig.sp.legend()"
   ]
  },
  {
   "cell_type": "markdown",
   "metadata": {},
   "source": [
    "Plotting classifier confidence during attack:"
   ]
  },
  {
   "cell_type": "code",
   "execution_count": 288,
   "metadata": {},
   "outputs": [
    {
     "data": {
      "text/plain": [
       "CArray(12, 784)(dense: [[0.000000e+00 0.000000e+00 0.000000e+00 ... 0.000000e+00 0.000000e+00  0.000000e+00] [1.749372e-05 5.551279e-05 1.236473e-04 ... 0.000000e+00 0.000000e+00  0.000000e+00] [1.749372e-05 6.766292e-05 1.544083e-04 ... 1.070895e-07 0.000000e+00  0.000000e+00] ... [1.749372e-05 8.517079e-05 1.901542e-04 ... 0.000000e+00 2.391171e-06  0.000000e+00] [1.749372e-05 8.076923e-05 1.836870e-04 ... 0.000000e+00 6.347594e-07  0.000000e+00] [1.749372e-05 8.076923e-05 1.836870e-04 ... 0.000000e+00 6.347594e-07  0.000000e+00]])"
      ]
     },
     "execution_count": 288,
     "metadata": {},
     "output_type": "execute_result"
    }
   ],
   "source": [
    "pgd_ls_attack.x_seq"
   ]
  },
  {
   "cell_type": "code",
   "execution_count": 289,
   "metadata": {},
   "outputs": [],
   "source": [
    "four_score, nine_score = [], []\n",
    "\n",
    "for i in range(pgd_ls_attack.x_seq.shape[0]):\n",
    "    s = dnn.decision_function(pgd_ls_attack.x_seq[i,:])\n",
    "    four_score.append(s[4].item())\n",
    "    nine_score.append(s[9].item())"
   ]
  },
  {
   "cell_type": "code",
   "execution_count": 290,
   "metadata": {},
   "outputs": [
    {
     "data": {
      "text/plain": [
       "<matplotlib.legend.Legend at 0x7f5c37fa62e8>"
      ]
     },
     "execution_count": 290,
     "metadata": {},
     "output_type": "execute_result"
    },
    {
     "data": {
      "image/png": "[encoded data removed]",
      "text/plain": [
       "<Figure size 360x360 with 1 Axes>"
      ]
     },
     "metadata": {},
     "output_type": "display_data"
    }
   ],
   "source": [
    "from secml.figure import CFigure\n",
    "fig = CFigure(height=5, width=5)\n",
    "\n",
    "# Convenience function for plotting the Security Evaluation Curve\n",
    "fig.sp.plot(four_score, marker='o', label='4')\n",
    "fig.sp.plot(nine_score, marker='o', label='9')\n",
    "fig.sp.grid()\n",
    "fig.sp.xticks(range(pgd_ls_attack.x_seq.shape[0]))\n",
    "fig.sp.xlabel('Iteration')\n",
    "fig.sp.ylabel('Confidence')\n",
    "fig.sp.legend()"
   ]
  },
  {
   "cell_type": "markdown",
   "metadata": {},
   "source": [
    "---"
   ]
  },
  {
   "cell_type": "markdown",
   "metadata": {},
   "source": [
    "# Security evaluation of a classifier"
   ]
  },
  {
   "cell_type": "code",
   "execution_count": 40,
   "metadata": {},
   "outputs": [
    {
     "name": "stdout",
     "output_type": "stream",
     "text": [
      "Running security evaluation...\n"
     ]
    }
   ],
   "source": [
    "# Perturbation levels to test\n",
    "from secml.array import CArray\n",
    "e_vals = CArray.arange(start=0, step=0.5, stop=5.1)\n",
    "\n",
    "from secml.adv.seceval import CSecEval\n",
    "sec_eval = CSecEval(\n",
    "    attack=pgd_ls_attack, param_name='dmax', param_values=e_vals)\n",
    "\n",
    "# Run the security evaluation using the test set\n",
    "print(\"Running security evaluation...\")\n",
    "sec_eval.run_sec_eval(attack_ds, double_init=False)"
   ]
  },
  {
   "cell_type": "code",
   "execution_count": 41,
   "metadata": {},
   "outputs": [],
   "source": [
    "# Only required for visualization in notebooks\n",
    "%matplotlib inline"
   ]
  },
  {
   "cell_type": "code",
   "execution_count": 42,
   "metadata": {},
   "outputs": [
    {
     "data": {
      "image/png": "[encoded data removed]",
      "text/plain": [
       "<Figure size 360x360 with 1 Axes>"
      ]
     },
     "metadata": {},
     "output_type": "display_data"
    }
   ],
   "source": [
    "from secml.figure import CFigure\n",
    "fig = CFigure(height=5, width=5)\n",
    "\n",
    "# Convenience function for plotting the Security Evaluation Curve\n",
    "fig.sp.plot_sec_eval(\n",
    "    sec_eval.sec_eval_data, marker='o', label='DNN', show_average=True)"
   ]
  },
  {
   "cell_type": "markdown",
   "metadata": {},
   "source": [
    "---"
   ]
  },
  {
   "cell_type": "markdown",
   "metadata": {},
   "source": [
    "# Build detector"
   ]
  },
  {
   "cell_type": "code",
   "execution_count": 43,
   "metadata": {},
   "outputs": [],
   "source": [
    "from secml.ml.features import CNormalizerDNN, CNormalizerMinMax"
   ]
  },
  {
   "cell_type": "code",
   "execution_count": 46,
   "metadata": {},
   "outputs": [],
   "source": [
    "feat_extr = CNormalizerDNN(dnn)\n",
    "nmz = CNormalizerMinMax(preprocess=feat_extr)"
   ]
  },
  {
   "cell_type": "code",
   "execution_count": 47,
   "metadata": {
    "scrolled": true
   },
   "outputs": [],
   "source": [
    "# Creation of the multiclass classifier\n",
    "from secml.ml.classifiers import CClassifierSVM\n",
    "from secml.ml.classifiers.multiclass import CClassifierMulticlassOVA\n",
    "from secml.ml.kernels import CKernelRBF\n",
    "clf = CClassifierMulticlassOVA(CClassifierSVM, kernel=CKernelRBF())"
   ]
  },
  {
   "cell_type": "code",
   "execution_count": 48,
   "metadata": {},
   "outputs": [
    {
     "data": {
      "text/plain": [
       "0.0"
      ]
     },
     "execution_count": 48,
     "metadata": {},
     "output_type": "execute_result"
    }
   ],
   "source": [
    "from secml.ml.classifiers.reject import CClassifierRejectThreshold\n",
    "\n",
    "clf_rej = CClassifierRejectThreshold(clf, 0., preprocess=nmz)\n",
    "clf_rej.threshold"
   ]
  },
  {
   "cell_type": "code",
   "execution_count": null,
   "metadata": {
    "scrolled": true
   },
   "outputs": [],
   "source": [
    "# # Parameters for the Cross-Validation procedure\n",
    "# xval_params = {'C': [1e-3, 1e-2, 1e-1, 1, 100, 1000],\n",
    "#                'kernel.gamma': [0.01, 0.1, 1, 10, 100, 1e3]}\n",
    "\n",
    "# # Let's create a 3-Fold data splitter\n",
    "# from secml.data.splitter import CDataSplitterKFold\n",
    "# xval_splitter = CDataSplitterKFold(num_folds=3, random_state=random_state)\n",
    "\n",
    "# # Select and set the best training parameters for the classifier\n",
    "# clf.verbose = 1\n",
    "\n",
    "# print(\"Estimating the best training parameters...\")\n",
    "# best_params = clf.estimate_parameters(\n",
    "#     dataset=vl,\n",
    "#     parameters=xval_params,\n",
    "#     splitter=xval_splitter,\n",
    "#     metric='accuracy',\n",
    "#     perf_evaluator='xval'\n",
    "# )\n",
    "\n",
    "# print(\"The best training parameters are: \",\n",
    "#       [(k, best_params[k]) for k in sorted(best_params)])"
   ]
  },
  {
   "cell_type": "markdown",
   "metadata": {},
   "source": [
    "```\n",
    "2020-04-23 01:51:40,547 - CPerfEvaluatorXVal.0x7fd634a060f0 - INFO - Params: {'C': 0.001, 'kernel.gamma': 0.01} - Score: 0.8311666666666667\n",
    "2020-04-23 01:59:22,610 - CPerfEvaluatorXVal.0x7fd634a060f0 - INFO - Params: {'C': 0.001, 'kernel.gamma': 100} - Score: 0.11469999999999998\n",
    "2020-04-23 02:08:07,422 - CPerfEvaluatorXVal.0x7fd634a060f0 - INFO - Params: {'C': 0.001, 'kernel.gamma': 10} - Score: 0.11469999999999998\n",
    "2020-04-23 02:17:38,356 - CPerfEvaluatorXVal.0x7fd634a060f0 - INFO - Params: {'C': 0.001, 'kernel.gamma': 1} - Score: 0.4180333333333333\n",
    "2020-04-23 02:25:25,741 - CPerfEvaluatorXVal.0x7fd634a060f0 - INFO - Params: {'C': 0.001, 'kernel.gamma': 0.1} - Score: 0.9117666666666665\n",
    "2020-04-23 02:33:14,711 - CPerfEvaluatorXVal.0x7fd634a060f0 - INFO - Params: {'C': 0.001, 'kernel.gamma': 1000.0} - Score: 0.11469999999999998\n",
    "2020-04-23 02:44:10,367 - CPerfEvaluatorXVal.0x7fd634a060f0 - INFO - Params: {'C': 0.01, 'kernel.gamma': 1000.0} - Score: 0.11469999999999998\n",
    "2020-04-23 02:54:05,870 - CPerfEvaluatorXVal.0x7fd634a060f0 - INFO - Params: {'C': 0.01, 'kernel.gamma': 0.1} - Score: 0.9039\n",
    "2020-04-23 03:06:37,810 - CPerfEvaluatorXVal.0x7fd634a060f0 - INFO - Params: {'C': 0.01, 'kernel.gamma': 10} - Score: 0.11469999999999998\n",
    "2020-04-23 03:17:39,292 - CPerfEvaluatorXVal.0x7fd634a060f0 - INFO - Params: {'C': 0.01, 'kernel.gamma': 100} - Score: 0.11469999999999998\n",
    "2020-04-23 03:25:25,934 - CPerfEvaluatorXVal.0x7fd634a060f0 - INFO - Params: {'C': 0.01, 'kernel.gamma': 0.01} - Score: 0.8483999999999999\n",
    "2020-04-23 03:41:11,666 - CPerfEvaluatorXVal.0x7fd634a060f0 - INFO - Params: {'C': 0.01, 'kernel.gamma': 1} - Score: 0.11503333333333332\n",
    "2020-04-23 03:55:46,669 - CPerfEvaluatorXVal.0x7fd634a060f0 - INFO - Params: {'C': 0.1, 'kernel.gamma': 10} - Score: 0.11469999999999998\n",
    "2020-04-23 04:03:12,047 - CPerfEvaluatorXVal.0x7fd634a060f0 - INFO - Params: {'C': 0.1, 'kernel.gamma': 0.01} - Score: 0.9280666666666667\n",
    "2020-04-23 04:23:47,074 - CPerfEvaluatorXVal.0x7fd634a060f0 - INFO - Params: {'C': 0.1, 'kernel.gamma': 1} - Score: 0.11503333333333332\n",
    "2020-04-23 04:36:22,159 - CPerfEvaluatorXVal.0x7fd634a060f0 - INFO - Params: {'C': 0.1, 'kernel.gamma': 1000.0} - Score: 0.11469999999999998\n",
    "2020-04-23 04:47:28,594 - CPerfEvaluatorXVal.0x7fd634a060f0 - INFO - Params: {'C': 0.1, 'kernel.gamma': 0.1} - Score: 0.9327333333333333\n",
    "2020-04-23 04:59:59,025 - CPerfEvaluatorXVal.0x7fd634a060f0 - INFO - Params: {'C': 0.1, 'kernel.gamma': 100} - Score: 0.11469999999999998\n",
    "2020-04-23 05:24:33,435 - CPerfEvaluatorXVal.0x7fd634a060f0 - INFO - Params: {'C': 1, 'kernel.gamma': 1} - Score: 0.1151\n",
    "2020-04-23 05:39:00,475 - CPerfEvaluatorXVal.0x7fd634a060f0 - INFO - Params: {'C': 1, 'kernel.gamma': 1000.0} - Score: 0.11469999999999998\n",
    "2020-04-23 05:53:18,707 - CPerfEvaluatorXVal.0x7fd634a060f0 - INFO - Params: {'C': 1, 'kernel.gamma': 100} - Score: 0.11469999999999998\n",
    "2020-04-23 06:05:36,381 - CPerfEvaluatorXVal.0x7fd634a060f0 - INFO - Params: {'C': 1, 'kernel.gamma': 0.1} - Score: 0.9501666666666667\n",
    "2020-04-23 06:22:15,714 - CPerfEvaluatorXVal.0x7fd634a060f0 - INFO - Params: {'C': 1, 'kernel.gamma': 10} - Score: 0.11469999999999998\n",
    "2020-04-23 06:29:36,250 - CPerfEvaluatorXVal.0x7fd634a060f0 - INFO - Params: {'C': 1, 'kernel.gamma': 0.01} - Score: 0.9636333333333335\n",
    "2020-04-23 06:36:53,541 - CPerfEvaluatorXVal.0x7fd634a060f0 - INFO - Params: {'C': 100, 'kernel.gamma': 0.01} - Score: 0.9743666666666666\n",
    "2020-04-23 07:05:33,225 - CPerfEvaluatorXVal.0x7fd634a060f0 - INFO - Params: {'C': 100, 'kernel.gamma': 1} - Score: 0.1983\n",
    "2020-04-23 07:21:10,161 - CPerfEvaluatorXVal.0x7fd634a060f0 - INFO - Params: {'C': 100, 'kernel.gamma': 100} - Score: 0.11469999999999998\n",
    "2020-04-23 07:33:34,865 - CPerfEvaluatorXVal.0x7fd634a060f0 - INFO - Params: {'C': 100, 'kernel.gamma': 0.1} - Score: 0.956\n",
    "2020-04-23 07:51:44,475 - CPerfEvaluatorXVal.0x7fd634a060f0 - INFO - Params: {'C': 100, 'kernel.gamma': 10} - Score: 0.11469999999999998\n",
    "2020-04-23 08:07:22,295 - CPerfEvaluatorXVal.0x7fd634a060f0 - INFO - Params: {'C': 100, 'kernel.gamma': 1000.0} - Score: 0.11469999999999998\n",
    "2020-04-23 08:36:06,580 - CPerfEvaluatorXVal.0x7fd634a060f0 - INFO - Params: {'C': 1000, 'kernel.gamma': 1} - Score: 0.1983\n",
    "2020-04-23 08:54:15,081 - CPerfEvaluatorXVal.0x7fd634a060f0 - INFO - Params: {'C': 1000, 'kernel.gamma': 10} - Score: 0.11469999999999998\n",
    "2020-04-23 09:06:46,047 - CPerfEvaluatorXVal.0x7fd634a060f0 - INFO - Params: {'C': 1000, 'kernel.gamma': 0.1} - Score: 0.956\n",
    "2020-04-23 09:14:02,519 - CPerfEvaluatorXVal.0x7fd634a060f0 - INFO - Params: {'C': 1000, 'kernel.gamma': 0.01} - Score: 0.9743666666666666\n",
    "2020-04-23 09:29:32,558 - CPerfEvaluatorXVal.0x7fd634a060f0 - INFO - Params: {'C': 1000, 'kernel.gamma': 100} - Score: 0.11469999999999998\n",
    "2020-04-23 09:45:06,326 - CPerfEvaluatorXVal.0x7fd634a060f0 - INFO - Params: {'C': 1000, 'kernel.gamma': 1000.0} - Score: 0.11469999999999998\n",
    "\n",
    "2020-04-23 09:45:06,355 - CPerfEvaluatorXVal.0x7fd634a060f0 - INFO - Best params: {'C': 100, 'kernel.gamma': 0.01} - Value: CArray([0.974367])\n",
    "The best training parameters are:  [('C', 100), ('kernel.gamma', 0.01)]\n",
    "```"
   ]
  },
  {
   "cell_type": "code",
   "execution_count": 49,
   "metadata": {},
   "outputs": [],
   "source": [
    "# Setting properties \n",
    "clf.classifier.C = 100\n",
    "clf.classifier.kernel = CKernelRBF(gamma=0.01)"
   ]
  },
  {
   "cell_type": "code",
   "execution_count": 50,
   "metadata": {},
   "outputs": [
    {
     "data": {
      "text/plain": [
       "CClassifierRejectThreshold{'clf': CClassifierMulticlassOVA{'classes': CArray(10,)(dense: [0 1 2 3 4 5 6 7 8 9]), 'n_features': 10, 'preprocess': None}, 'threshold': 0.0, 'classes': CArray(10,)(dense: [0 1 2 3 4 5 6 7 8 9]), 'n_features': 784, 'preprocess': CNormalizerMinMax{'feature_range': (0.0, 1.0), 'min': CArray(10,)(dense: [-37.147141 -24.36726  -34.835938 -19.329153 -21.249975 -25.540279 -40.491932 -33.224606 -18.904932 -40.296906]), 'max': CArray(10,)(dense: [44.910522 32.239548 54.573338 75.532875 54.316364 59.061874 56.493252 42.053253 59.254612 50.628551]), 'm': CArray(10,)(dense: [0.012187 0.017666 0.011185 0.010542 0.013233 0.01182  0.010311 0.013284 0.012794 0.010998]), 'q': CArray(10,)(dense: [0.452696 0.430465 0.389623 0.203761 0.28121  0.301887 0.417506 0.44136 0.241876 0.443186]), 'preprocess': CNormalizerDNN{'net': CClassifierPyTorch{'classes': CArray(10,)(dense: [0 1 2 3 4 5 6 7 8 9]), 'n_features': 784, 'preprocess': None, 'model': MNISTCNN(\n",
       "  (conv1): Conv2d(1, 32, kernel_size=(3, 3), stride=(1, 1))\n",
       "  (conv2): Conv2d(32, 32, kernel_size=(3, 3), stride=(1, 1))\n",
       "  (conv3): Conv2d(32, 64, kernel_size=(3, 3), stride=(1, 1))\n",
       "  (conv4): Conv2d(64, 64, kernel_size=(3, 3), stride=(1, 1))\n",
       "  (flat): Flatten()\n",
       "  (fc1): Linear(in_features=1024, out_features=200, bias=True)\n",
       "  (fc2): Linear(in_features=200, out_features=200, bias=True)\n",
       "  (fc3): Linear(in_features=200, out_features=10, bias=True)\n",
       "), 'trained': True, 'input_shape': (1, 28, 28), 'softmax_outputs': False, 'batch_size': 128, 'loss': CrossEntropyLoss(), 'optimizer': SGD (\n",
       "Parameter Group 0\n",
       "    dampening: 0\n",
       "    lr: 0.01\n",
       "    momentum: 0.9\n",
       "    nesterov: False\n",
       "    weight_decay: 0\n",
       "), 'optimizer_scheduler': None, 'epochs': 25}, 'out_layer': None, 'preprocess': None}}}"
      ]
     },
     "execution_count": 50,
     "metadata": {},
     "output_type": "execute_result"
    }
   ],
   "source": [
    "# We can now fit the classifier\n",
    "clf_rej.fit(vl)"
   ]
  },
  {
   "cell_type": "markdown",
   "metadata": {},
   "source": [
    "Set the `threshold` to have around 10% of false positives"
   ]
  },
  {
   "cell_type": "code",
   "execution_count": 55,
   "metadata": {},
   "outputs": [],
   "source": [
    "clf_rej.threshold = 1.0"
   ]
  },
  {
   "cell_type": "code",
   "execution_count": 56,
   "metadata": {},
   "outputs": [
    {
     "name": "stdout",
     "output_type": "stream",
     "text": [
      "Accuracy on test set: 90.07%\n"
     ]
    }
   ],
   "source": [
    "# Compute predictions on a test set\n",
    "y_pred = clf_rej.predict(vl.X)\n",
    "\n",
    "# Evaluate the accuracy of the classifier\n",
    "acc = metric.performance_score(y_true=vl.Y, y_pred=y_pred)\n",
    "\n",
    "print(\"Accuracy on test set: {:.2%}\".format(acc))"
   ]
  },
  {
   "cell_type": "code",
   "execution_count": 57,
   "metadata": {},
   "outputs": [
    {
     "data": {
      "text/plain": [
       "CArray(30000,)(dense: [3 1 5 ... 4 4 9])"
      ]
     },
     "execution_count": 57,
     "metadata": {},
     "output_type": "execute_result"
    }
   ],
   "source": [
    "y_pred"
   ]
  },
  {
   "cell_type": "code",
   "execution_count": 58,
   "metadata": {},
   "outputs": [
    {
     "data": {
      "text/plain": [
       "0.0971"
      ]
     },
     "execution_count": 58,
     "metadata": {},
     "output_type": "execute_result"
    }
   ],
   "source": [
    "fpr = (y_pred < 0).sum() / y_pred.shape[0]\n",
    "fpr"
   ]
  },
  {
   "cell_type": "code",
   "execution_count": 59,
   "metadata": {},
   "outputs": [
    {
     "name": "stdout",
     "output_type": "stream",
     "text": [
      "Accuracy on test set: 91.21%\n"
     ]
    }
   ],
   "source": [
    "# Compute predictions on a test set\n",
    "y_pred = clf_rej.predict(ts.X)\n",
    "\n",
    "# Evaluate the accuracy of the classifier\n",
    "acc = metric.performance_score(y_true=ts.Y, y_pred=y_pred)\n",
    "\n",
    "print(\"Accuracy on test set: {:.2%}\".format(acc))"
   ]
  },
  {
   "cell_type": "markdown",
   "metadata": {},
   "source": [
    "# Test it against BB adversarial samples"
   ]
  },
  {
   "cell_type": "code",
   "execution_count": 66,
   "metadata": {},
   "outputs": [
    {
     "data": {
      "text/plain": [
       "array([[-3.53822068, -3.29095452, -2.68891281, -2.1029427 , -3.1862507 ,\n",
       "        -2.55010581, -4.32421387, -2.47308117, -2.63560764, -2.53817046,\n",
       "         1.        ],\n",
       "       [-3.18705408,  1.11645213, -0.45585548, -2.02981591, -5.43741056,\n",
       "        -2.58283712, -2.69083831, -3.98282178, -2.08444305, -5.23984466,\n",
       "         1.        ],\n",
       "       [-5.02389799, -3.48296814, -6.2717286 , -1.2501364 , -2.2449311 ,\n",
       "        -2.8813812 , -4.93385141, -2.63787175, -2.4952483 , -0.59957629,\n",
       "         1.        ],\n",
       "       [-0.97231091, -3.79720784, -3.98166899, -2.72830943, -4.63377374,\n",
       "        -1.12164724, -0.20238804, -4.12243028, -3.10840997, -3.7446824 ,\n",
       "         1.        ],\n",
       "       [-2.6530651 , -4.68590838, -3.88441421, -1.82397414, -4.04380238,\n",
       "        -4.14186556, -6.08599364, -3.3180165 , -2.08497503,  3.35540361,\n",
       "         1.        ],\n",
       "       [-3.5023619 , -2.18645628, -4.20217321, -0.41946289, -4.21629393,\n",
       "        -4.32500459, -6.1782594 ,  2.05006309, -2.50129535, -4.3998827 ,\n",
       "         1.        ],\n",
       "       [-4.02682889, -3.60238366, -3.69515339, -4.10521509, -3.5448553 ,\n",
       "        -3.29043587, -3.79341146, -2.48790646,  1.52948674, -2.41427769,\n",
       "         1.        ],\n",
       "       [-5.29833282, -4.16972342, -1.24393249, -0.81588365, -4.81162246,\n",
       "        -3.58969018, -5.16148494, -2.80292898, -1.68087725, -4.80798774,\n",
       "         1.        ],\n",
       "       [-2.56419801, -3.59688941, -3.36415737, -5.08224012, -5.30657974,\n",
       "        -0.74389474,  0.72327091, -3.76274725, -1.66086883, -3.58499959,\n",
       "         1.        ],\n",
       "       [-3.51484901, -4.91242399, -3.35355351, -2.89720596, -4.46945051,\n",
       "        -3.44696665, -4.87468686, -1.5243392 ,  1.54264513, -4.2728491 ,\n",
       "         1.        ]])"
      ]
     },
     "execution_count": 66,
     "metadata": {},
     "output_type": "execute_result"
    }
   ],
   "source": [
    "foo = clf_rej.forward(eva_adv_ds.X)\n",
    "foo[:10,:].tondarray()"
   ]
  },
  {
   "cell_type": "code",
   "execution_count": 69,
   "metadata": {},
   "outputs": [
    {
     "name": "stdout",
     "output_type": "stream",
     "text": [
      "Attack started...\n",
      "Attack complete!\n"
     ]
    }
   ],
   "source": [
    "# For simplicity, let's attack a subset of the test set\n",
    "attack_ds = ts[:500, :]\n",
    "surrogate_ds = vl\n",
    "\n",
    "noise_type = 'l2'  # Type of perturbation 'l1' or 'l2'\n",
    "dmax = 3.0  # Maximum perturbation\n",
    "lb, ub = 0., 1.  # Bounds of the attack space. Can be set to `None` for unbounded\n",
    "y_target = None  # None if `error-generic` or a class label for `error-specific`\n",
    "\n",
    "# Should be chosen depending on the optimization problem\n",
    "solver_params = {\n",
    "    'eta': 0.5,\n",
    "    'eta_min': 2.0,\n",
    "    'eta_max': None,\n",
    "    'max_iter': 100,\n",
    "    'eps': 1e-6\n",
    "}\n",
    "\n",
    "from secml.adv.attacks import CAttackEvasionPGDLS\n",
    "pgd_ls_attack = CAttackEvasionPGDLS(classifier=clf_rej,\n",
    "                                    surrogate_classifier=dnn,\n",
    "                                    surrogate_data=surrogate_ds,\n",
    "                                    distance=noise_type,\n",
    "                                    dmax=dmax,\n",
    "                                    solver_params=solver_params,\n",
    "                                    y_target=y_target)\n",
    "\n",
    "print(\"Attack started...\")\n",
    "eva_y_pred, _, eva_adv_ds, _ = pgd_ls_attack.run(\n",
    "    attack_ds.X, attack_ds.Y, double_init=True)\n",
    "print(\"Attack complete!\")"
   ]
  },
  {
   "cell_type": "code",
   "execution_count": 67,
   "metadata": {},
   "outputs": [],
   "source": [
    "from secml.array import CArray\n",
    "from secml.ml.peval.metrics import CMetric, CMetricAccuracy\n",
    "\n",
    "\n",
    "class CMetricAccuracyReject(CMetric):\n",
    "    \"\"\"Performance evaluation metric: Accuracy.\n",
    "\n",
    "    Accuracy score is the percentage (inside 0/1 range)\n",
    "    of correctly predicted labels. Rejected samples are\n",
    "    considered as a correct prediction.\n",
    "\n",
    "    The metric uses:\n",
    "     - y_true (true ground labels)\n",
    "     - y_pred (predicted labels)\n",
    "\n",
    "    Attributes\n",
    "    ----------\n",
    "    class_type : 'accuracy-rej'\n",
    "\n",
    "    \"\"\"\n",
    "    __class_type = 'accuracy-rej'\n",
    "    best_value = 1.0\n",
    "\n",
    "    def _performance_score(self, y_true, y_pred):\n",
    "        \"\"\"Computes the Accuracy score.\n",
    "\n",
    "        Parameters\n",
    "        ----------\n",
    "        y_true : CArray\n",
    "            Ground truth (true) labels or target scores.\n",
    "        y_pred : CArray\n",
    "            Predicted labels, as returned by a CClassifier.\n",
    "\n",
    "        Returns\n",
    "        -------\n",
    "        metric : float\n",
    "            Returns metric value as float.\n",
    "\n",
    "        \"\"\"\n",
    "        acc_metric = CMetricAccuracy()\n",
    "\n",
    "        # rejected samples are considered as correct predictions\n",
    "        is_rej = y_pred == -1\n",
    "        y_true_mod = y_true.deepcopy()\n",
    "        y_true_mod[is_rej] = -1\n",
    "\n",
    "        # check the classifier accuracy\n",
    "        acc = acc_metric.performance_score(y_true=y_true_mod, y_pred=y_pred)\n",
    "\n",
    "        return acc"
   ]
  },
  {
   "cell_type": "code",
   "execution_count": 76,
   "metadata": {},
   "outputs": [],
   "source": [
    "# metric = CMetricAccuracy()\n",
    "metric = CMetricAccuracyReject()"
   ]
  },
  {
   "cell_type": "code",
   "execution_count": 77,
   "metadata": {},
   "outputs": [
    {
     "name": "stdout",
     "output_type": "stream",
     "text": [
      "Accuracy on test set: 43.20%\n"
     ]
    }
   ],
   "source": [
    "# Compute predictions on a test set\n",
    "y_pred = clf_rej.predict(eva_adv_ds.X)\n",
    "\n",
    "# Evaluate the accuracy of the classifier\n",
    "acc = metric.performance_score(y_true=eva_adv_ds.Y, y_pred=y_pred)\n",
    "\n",
    "print(\"Accuracy on test set: {:.2%}\".format(acc))"
   ]
  },
  {
   "cell_type": "markdown",
   "metadata": {},
   "source": [
    "# Security Evaluation"
   ]
  },
  {
   "cell_type": "code",
   "execution_count": 79,
   "metadata": {},
   "outputs": [
    {
     "name": "stdout",
     "output_type": "stream",
     "text": [
      "Running security evaluation...\n"
     ]
    }
   ],
   "source": [
    "# Perturbation levels to test\n",
    "from secml.array import CArray\n",
    "e_vals = CArray.arange(start=0.5, step=0.5, stop=5.1)\n",
    "\n",
    "from secml.adv.seceval import CSecEval\n",
    "sec_eval = CSecEval(\n",
    "    attack=pgd_ls_attack, param_name='dmax', param_values=e_vals)\n",
    "\n",
    "# Run the security evaluation using the test set\n",
    "print(\"Running security evaluation...\")\n",
    "sec_eval.run_sec_eval(attack_ds, double_init=False)"
   ]
  },
  {
   "cell_type": "code",
   "execution_count": 80,
   "metadata": {},
   "outputs": [],
   "source": [
    "%matplotlib inline"
   ]
  },
  {
   "cell_type": "code",
   "execution_count": 81,
   "metadata": {},
   "outputs": [
    {
     "data": {
      "image/png": "[encoded data removed]",
      "text/plain": [
       "<Figure size 360x360 with 1 Axes>"
      ]
     },
     "metadata": {},
     "output_type": "display_data"
    }
   ],
   "source": [
    "from secml.figure import CFigure\n",
    "fig = CFigure(height=5, width=5)\n",
    "\n",
    "# Convenience function for plotting the Security Evaluation Curve\n",
    "fig.sp.plot_sec_eval(\n",
    "    sec_eval.sec_eval_data, metric=CMetricAccuracyReject(),  marker='o', label='clf_rej', show_average=True)"
   ]
  },
  {
   "cell_type": "markdown",
   "metadata": {},
   "source": [
    "-------"
   ]
  },
  {
   "cell_type": "markdown",
   "metadata": {},
   "source": [
    "# White-box evaluation"
   ]
  },
  {
   "cell_type": "code",
   "execution_count": 82,
   "metadata": {},
   "outputs": [
    {
     "name": "stdout",
     "output_type": "stream",
     "text": [
      "Attack started...\n",
      "Attack complete!\n"
     ]
    }
   ],
   "source": [
    "# For simplicity, let's attack a subset of the test set\n",
    "attack_ds = ts[:500, :]\n",
    "surrogate_ds = vl\n",
    "\n",
    "noise_type = 'l2'  # Type of perturbation 'l1' or 'l2'\n",
    "dmax = 3.0  # Maximum perturbation\n",
    "lb, ub = 0., 1.  # Bounds of the attack space. Can be set to `None` for unbounded\n",
    "y_target = None  # None if `error-generic` or a class label for `error-specific`\n",
    "\n",
    "# Should be chosen depending on the optimization problem\n",
    "solver_params = {\n",
    "    'eta': 0.5,\n",
    "    'eta_min': 2.0,\n",
    "    'eta_max': None,\n",
    "    'max_iter': 100,\n",
    "    'eps': 1e-6\n",
    "}\n",
    "\n",
    "from secml.adv.attacks import CAttackEvasionPGDLS\n",
    "pgd_ls_attack = CAttackEvasionPGDLS(classifier=clf_rej,\n",
    "                                    surrogate_classifier=clf_rej,\n",
    "                                    surrogate_data=surrogate_ds,\n",
    "                                    distance=noise_type,\n",
    "                                    dmax=dmax,\n",
    "                                    solver_params=solver_params,\n",
    "                                    y_target=y_target)\n",
    "\n",
    "print(\"Attack started...\")\n",
    "eva_y_pred, _, eva_adv_ds, _ = pgd_ls_attack.run(\n",
    "    attack_ds.X, attack_ds.Y, double_init=True)\n",
    "print(\"Attack complete!\")"
   ]
  },
  {
   "cell_type": "code",
   "execution_count": 83,
   "metadata": {},
   "outputs": [
    {
     "name": "stdout",
     "output_type": "stream",
     "text": [
      "Accuracy on test set: 22.80%\n"
     ]
    }
   ],
   "source": [
    "# Compute predictions on a test set\n",
    "y_pred = clf_rej.predict(eva_adv_ds.X)\n",
    "\n",
    "# Evaluate the accuracy of the classifier\n",
    "acc = metric.performance_score(y_true=eva_adv_ds.Y, y_pred=y_pred)\n",
    "\n",
    "print(\"Accuracy on test set: {:.2%}\".format(acc))"
   ]
  },
  {
   "cell_type": "markdown",
   "metadata": {},
   "source": [
    "# Security Evaluation"
   ]
  },
  {
   "cell_type": "code",
   "execution_count": 84,
   "metadata": {},
   "outputs": [
    {
     "name": "stdout",
     "output_type": "stream",
     "text": [
      "Running security evaluation...\n"
     ]
    }
   ],
   "source": [
    "# Perturbation levels to test\n",
    "from secml.array import CArray\n",
    "e_vals = CArray.arange(start=0.5, step=0.5, stop=5.1)\n",
    "\n",
    "from secml.adv.seceval import CSecEval\n",
    "sec_eval = CSecEval(\n",
    "    attack=pgd_ls_attack, param_name='dmax', param_values=e_vals)\n",
    "\n",
    "# Run the security evaluation using the test set\n",
    "print(\"Running security evaluation...\")\n",
    "sec_eval.run_sec_eval(attack_ds, double_init=False)"
   ]
  },
  {
   "cell_type": "code",
   "execution_count": 85,
   "metadata": {},
   "outputs": [],
   "source": [
    "%matplotlib inline"
   ]
  },
  {
   "cell_type": "code",
   "execution_count": 86,
   "metadata": {},
   "outputs": [
    {
     "data": {
      "image/png": "[encoded data removed]",
      "text/plain": [
       "<Figure size 360x360 with 1 Axes>"
      ]
     },
     "metadata": {},
     "output_type": "display_data"
    }
   ],
   "source": [
    "from secml.figure import CFigure\n",
    "fig = CFigure(height=5, width=5)\n",
    "\n",
    "# Convenience function for plotting the Security Evaluation Curve\n",
    "fig.sp.plot_sec_eval(\n",
    "    sec_eval.sec_eval_data, metric=CMetricAccuracyReject(),  marker='o', label='clf_rej', show_average=True)"
   ]
  },
  {
   "cell_type": "markdown",
   "metadata": {},
   "source": [
    "Compute reject percentage"
   ]
  },
  {
   "cell_type": "code",
   "execution_count": 87,
   "metadata": {},
   "outputs": [
    {
     "data": {
      "text/plain": [
       "[0.218, 0.414, 0.576, 0.542, 0.376, 0.208, 0.092, 0.046, 0.02, 0.01]"
      ]
     },
     "execution_count": 87,
     "metadata": {},
     "output_type": "execute_result"
    }
   ],
   "source": [
    "rej_percentage = [(p == -1).sum()/p.shape[0] for p in sec_eval.sec_eval_data.Y_pred]\n",
    "rej_percentage"
   ]
  },
  {
   "cell_type": "code",
   "execution_count": 88,
   "metadata": {},
   "outputs": [
    {
     "data": {
      "text/plain": [
       "Text(0.5, 1.0, '% Reject')"
      ]
     },
     "execution_count": 88,
     "metadata": {},
     "output_type": "execute_result"
    },
    {
     "data": {
      "image/png": "[encoded data removed]",
      "text/plain": [
       "<Figure size 360x360 with 1 Axes>"
      ]
     },
     "metadata": {},
     "output_type": "display_data"
    }
   ],
   "source": [
    "fig = CFigure(height=5, width=5)\n",
    "\n",
    "fig.sp.plot(e_vals, y=rej_percentage, marker='o', label='clf_rej')\n",
    "fig.sp.xticks(e_vals)\n",
    "fig.sp.legend()\n",
    "fig.sp.grid()\n",
    "fig.sp.title(\"% Reject\")"
   ]
  },
  {
   "cell_type": "markdown",
   "metadata": {},
   "source": [
    "## +++++++++++++\n",
    "# YOU ARE HERE!\n",
    "## +++++++++++++"
   ]
  },
  {
   "cell_type": "code",
   "execution_count": null,
   "metadata": {},
   "outputs": [],
   "source": []
  }
 ],
 "metadata": {
  "kernelspec": {
   "display_name": "secml",
   "language": "python",
   "name": "secml"
  },
  "language_info": {
   "codemirror_mode": {
    "name": "ipython",
    "version": 3
   },
   "file_extension": ".py",
   "mimetype": "text/x-python",
   "name": "python",
   "nbconvert_exporter": "python",
   "pygments_lexer": "ipython3",
   "version": "3.6.3"
  }
 },
 "nbformat": 4,
 "nbformat_minor": 4
}

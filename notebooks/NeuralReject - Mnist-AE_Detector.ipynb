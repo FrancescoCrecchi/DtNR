{
 "cells": [
  {
   "cell_type": "code",
   "execution_count": 1,
   "metadata": {},
   "outputs": [],
   "source": [
    "%load_ext autoreload\n",
    "%autoreload 2"
   ]
  },
  {
   "cell_type": "code",
   "execution_count": 2,
   "metadata": {},
   "outputs": [
    {
     "name": "stdout",
     "output_type": "stream",
     "text": [
      "setGPU: Setting GPU to: 3\n"
     ]
    }
   ],
   "source": [
    "from setGPU import setGPU\n",
    "setGPU(3)"
   ]
  },
  {
   "cell_type": "code",
   "execution_count": 3,
   "metadata": {},
   "outputs": [],
   "source": [
    "random_state=999"
   ]
  },
  {
   "cell_type": "markdown",
   "metadata": {},
   "source": [
    "# Load data"
   ]
  },
  {
   "cell_type": "code",
   "execution_count": 4,
   "metadata": {},
   "outputs": [
    {
     "name": "stderr",
     "output_type": "stream",
     "text": [
      "/home/crecchi/anaconda3/lib/python3.6/site-packages/h5py/__init__.py:34: FutureWarning: Conversion of the second argument of issubdtype from `float` to `np.floating` is deprecated. In future, it will be treated as `np.float64 == np.dtype(float).type`.\n",
      "  from ._conv import register_converters as _register_converters\n"
     ]
    }
   ],
   "source": [
    "from secml.data.loader import CDataLoaderMNIST\n",
    "loader = CDataLoaderMNIST()\n",
    "tr = loader.load('training')\n",
    "ts = loader.load('testing')\n",
    "\n",
    "# Normalize the data\n",
    "tr.X /= 255\n",
    "ts.X /= 255"
   ]
  },
  {
   "cell_type": "code",
   "execution_count": 5,
   "metadata": {},
   "outputs": [
    {
     "data": {
      "text/plain": [
       "((60000, 784), (10000, 784))"
      ]
     },
     "execution_count": 5,
     "metadata": {},
     "output_type": "execute_result"
    }
   ],
   "source": [
    "tr.X.shape, ts.X.shape"
   ]
  },
  {
   "cell_type": "markdown",
   "metadata": {},
   "source": [
    "Split data into train-validation set (Stacked Generalization alike)"
   ]
  },
  {
   "cell_type": "code",
   "execution_count": 6,
   "metadata": {},
   "outputs": [],
   "source": [
    "from secml.data.splitter import CTrainTestSplit"
   ]
  },
  {
   "cell_type": "code",
   "execution_count": 7,
   "metadata": {},
   "outputs": [],
   "source": [
    "tr, vl = CTrainTestSplit(test_size=0.5, random_state=random_state).split(tr)"
   ]
  },
  {
   "cell_type": "code",
   "execution_count": 8,
   "metadata": {},
   "outputs": [
    {
     "data": {
      "text/plain": [
       "(30000, 30000)"
      ]
     },
     "execution_count": 8,
     "metadata": {},
     "output_type": "execute_result"
    }
   ],
   "source": [
    "tr.X.shape[0], vl.X.shape[0]"
   ]
  },
  {
   "cell_type": "markdown",
   "metadata": {},
   "source": [
    "# NN classifier"
   ]
  },
  {
   "cell_type": "code",
   "execution_count": 9,
   "metadata": {},
   "outputs": [],
   "source": [
    "import torch\n",
    "from torch import nn, optim"
   ]
  },
  {
   "cell_type": "code",
   "execution_count": 10,
   "metadata": {},
   "outputs": [],
   "source": [
    "class Flatten(nn.Module):\n",
    "    \"\"\"Layer custom per reshape del tensore\n",
    "    \"\"\"\n",
    "    def __init__(self):\n",
    "        super(Flatten, self).__init__()\n",
    "\n",
    "    def forward(self, x):\n",
    "        x = x.view(x.size(0), -1)\n",
    "        return x"
   ]
  },
  {
   "cell_type": "code",
   "execution_count": 11,
   "metadata": {},
   "outputs": [],
   "source": [
    "import torch\n",
    "from torch import nn\n",
    "\n",
    "class MNISTCNN(nn.Module):\n",
    "    \"\"\"Model with input size (-1, 28, 28) for MNIST 3-classes dataset.\"\"\"\n",
    "    def __init__(self):\n",
    "        super(MNISTCNN, self).__init__()\n",
    "        self.conv1 = nn.Conv2d(1, 32, kernel_size=3)\n",
    "        self.conv2 = nn.Conv2d(32, 32, kernel_size=3)\n",
    "        self.conv3 = nn.Conv2d(32, 64, kernel_size=3)\n",
    "        self.conv4 = nn.Conv2d(64, 64, kernel_size=3)\n",
    "        self.flat = Flatten()\n",
    "        self.fc1 = nn.Linear(1024, 200)\n",
    "        self.fc2 = nn.Linear(200, 200)\n",
    "        self.fc3 = nn.Linear(200, 10)\n",
    "\n",
    "    def forward(self, x):\n",
    "        # 1st block\n",
    "        x = torch.relu(self.conv1(x))\n",
    "        x = torch.relu(torch.max_pool2d(self.conv2(x), 2))\n",
    "        # 2nd block\n",
    "        x = torch.relu(self.conv3(x))\n",
    "        x = torch.relu(torch.max_pool2d(self.conv4(x), 2))\n",
    "        # Flatten\n",
    "        x = self.flat(x)\n",
    "        x = torch.relu(self.fc1(x))\n",
    "        x = torch.relu(self.fc2(x))\n",
    "        return self.fc3(x)"
   ]
  },
  {
   "cell_type": "code",
   "execution_count": 12,
   "metadata": {},
   "outputs": [],
   "source": [
    "# import numpy as np\n",
    "# import torch.autograd as autograd\n",
    "\n",
    "# def compute_out_size(in_size, mod):\n",
    "#     \"\"\"\n",
    "#     Compute output size of Module `mod` given an input with size `in_size`.\n",
    "#     \"\"\"\n",
    "    \n",
    "#     f = mod.forward(autograd.Variable(torch.Tensor(1, *in_size)))\n",
    "#     return int(np.prod(f.size()[1:]))"
   ]
  },
  {
   "cell_type": "code",
   "execution_count": 13,
   "metadata": {},
   "outputs": [],
   "source": [
    "net = MNISTCNN()\n",
    "# x = torch.Tensor(1, 28, 28) # shape = (batch size, channels, height, width)\n",
    "# print(compute_out_size(x.size(), net))"
   ]
  },
  {
   "cell_type": "code",
   "execution_count": 14,
   "metadata": {
    "scrolled": true
   },
   "outputs": [
    {
     "name": "stdout",
     "output_type": "stream",
     "text": [
      "torchsummary              1.5.1                    pypi_0    pypi\n"
     ]
    }
   ],
   "source": [
    "!conda list | grep summary"
   ]
  },
  {
   "cell_type": "code",
   "execution_count": 15,
   "metadata": {},
   "outputs": [],
   "source": [
    "from torchsummary import summary"
   ]
  },
  {
   "cell_type": "code",
   "execution_count": 16,
   "metadata": {},
   "outputs": [
    {
     "name": "stdout",
     "output_type": "stream",
     "text": [
      "----------------------------------------------------------------\n",
      "        Layer (type)               Output Shape         Param #\n",
      "================================================================\n",
      "            Conv2d-1           [-1, 32, 26, 26]             320\n",
      "            Conv2d-2           [-1, 32, 24, 24]           9,248\n",
      "            Conv2d-3           [-1, 64, 10, 10]          18,496\n",
      "            Conv2d-4             [-1, 64, 8, 8]          36,928\n",
      "           Flatten-5                 [-1, 1024]               0\n",
      "            Linear-6                  [-1, 200]         205,000\n",
      "            Linear-7                  [-1, 200]          40,200\n",
      "            Linear-8                   [-1, 10]           2,010\n",
      "================================================================\n",
      "Total params: 312,202\n",
      "Trainable params: 312,202\n",
      "Non-trainable params: 0\n",
      "----------------------------------------------------------------\n",
      "Input size (MB): 0.00\n",
      "Forward/backward pass size (MB): 0.40\n",
      "Params size (MB): 1.19\n",
      "Estimated Total Size (MB): 1.59\n",
      "----------------------------------------------------------------\n"
     ]
    }
   ],
   "source": [
    "device = torch.device('cuda' if torch.cuda.is_available() else 'cpu')\n",
    "net = net.to(device)\n",
    "summary(net, (1, 28, 28))"
   ]
  },
  {
   "cell_type": "markdown",
   "metadata": {},
   "source": [
    "### Wrap it"
   ]
  },
  {
   "cell_type": "code",
   "execution_count": 17,
   "metadata": {},
   "outputs": [],
   "source": [
    "from torch import optim\n",
    "\n",
    "# Random seed\n",
    "torch.manual_seed(0)\n",
    "\n",
    "net = MNISTCNN()\n",
    "criterion = nn.CrossEntropyLoss()\n",
    "optimizer = optim.SGD(net.parameters(),\n",
    "                      lr=0.01, momentum=0.9)\n",
    "\n",
    "from secml.ml.classifiers import CClassifierPyTorch\n",
    "dnn = CClassifierPyTorch(model=net,\n",
    "                         loss=criterion,\n",
    "                         optimizer=optimizer,\n",
    "                         epochs=25,\n",
    "                         batch_size=128,\n",
    "                         input_shape=(1, 28, 28),\n",
    "                         random_state=0)"
   ]
  },
  {
   "cell_type": "code",
   "execution_count": 18,
   "metadata": {},
   "outputs": [],
   "source": [
    "dnn.verbose = 1  # Can be used to display training process output"
   ]
  },
  {
   "cell_type": "code",
   "execution_count": 19,
   "metadata": {},
   "outputs": [
    {
     "name": "stdout",
     "output_type": "stream",
     "text": [
      "Training started...\n",
      "2020-05-20 11:54:05,228 - CClassifierPyTorch.0x7f0e07d9a0b8 - INFO - [epoch: 1] loss: 4.242\n",
      "2020-05-20 11:55:04,278 - CClassifierPyTorch.0x7f0e07d9a0b8 - INFO - [epoch: 11] loss: 0.033\n",
      "2020-05-20 11:56:03,325 - CClassifierPyTorch.0x7f0e07d9a0b8 - INFO - [epoch: 21] loss: 0.004\n",
      "Training completed!\n"
     ]
    }
   ],
   "source": [
    "print(\"Training started...\")\n",
    "dnn.fit(tr.X, tr.Y)\n",
    "print(\"Training completed!\")"
   ]
  },
  {
   "cell_type": "code",
   "execution_count": 20,
   "metadata": {},
   "outputs": [],
   "source": [
    "dnn.verbose = 0"
   ]
  },
  {
   "cell_type": "code",
   "execution_count": 21,
   "metadata": {},
   "outputs": [
    {
     "name": "stdout",
     "output_type": "stream",
     "text": [
      "CClassifierPyTorch{'classes': CArray(10,)(dense: [0 1 2 3 4 5 6 7 8 9]), 'n_features': 784, 'preprocess': None, 'n_jobs': 1, 'model': MNISTCNN(\n",
      "  (conv1): Conv2d(1, 32, kernel_size=(3, 3), stride=(1, 1))\n",
      "  (conv2): Conv2d(32, 32, kernel_size=(3, 3), stride=(1, 1))\n",
      "  (conv3): Conv2d(32, 64, kernel_size=(3, 3), stride=(1, 1))\n",
      "  (conv4): Conv2d(64, 64, kernel_size=(3, 3), stride=(1, 1))\n",
      "  (flat): Flatten()\n",
      "  (fc1): Linear(in_features=1024, out_features=200, bias=True)\n",
      "  (fc2): Linear(in_features=200, out_features=200, bias=True)\n",
      "  (fc3): Linear(in_features=200, out_features=10, bias=True)\n",
      "), 'trained': True, 'input_shape': (1, 28, 28), 'softmax_outputs': False, 'batch_size': 128, 'loss': CrossEntropyLoss(), 'optimizer': SGD (\n",
      "Parameter Group 0\n",
      "    dampening: 0\n",
      "    lr: 0.01\n",
      "    momentum: 0.9\n",
      "    nesterov: False\n",
      "    weight_decay: 0\n",
      "), 'optimizer_scheduler': None, 'epochs': 25}\n"
     ]
    }
   ],
   "source": [
    "print(dnn)"
   ]
  },
  {
   "cell_type": "code",
   "execution_count": 22,
   "metadata": {},
   "outputs": [
    {
     "name": "stdout",
     "output_type": "stream",
     "text": [
      "Model Accuracy: 0.9885\n"
     ]
    }
   ],
   "source": [
    "label_torch = dnn.predict(ts.X, return_decision_function=False)\n",
    "\n",
    "from secml.ml.peval.metrics import CMetric\n",
    "acc_torch = CMetric.create('accuracy').performance_score(ts.Y, label_torch)\n",
    "\n",
    "print(\"Model Accuracy: {}\".format(acc_torch))"
   ]
  },
  {
   "cell_type": "markdown",
   "metadata": {},
   "source": [
    "---"
   ]
  },
  {
   "cell_type": "markdown",
   "metadata": {},
   "source": [
    "# Generate Adversarial Samples"
   ]
  },
  {
   "cell_type": "code",
   "execution_count": 23,
   "metadata": {},
   "outputs": [
    {
     "name": "stdout",
     "output_type": "stream",
     "text": [
      "Attack started...\n",
      "Attack complete!\n"
     ]
    }
   ],
   "source": [
    "# For simplicity, let's attack a subset of the test set\n",
    "attack_ds = ts[:100, :]\n",
    "\n",
    "noise_type = 'l2'  # Type of perturbation 'l1' or 'l2'\n",
    "dmax = 3.0  # Maximum perturbation\n",
    "lb, ub = 0., 1.  # Bounds of the attack space. Can be set to `None` for unbounded\n",
    "y_target = None  # None if `error-generic` or a class label for `error-specific`\n",
    "\n",
    "# Should be chosen depending on the optimization problem\n",
    "solver_params = {\n",
    "    'eta': 0.5,\n",
    "    'eta_min': 2.0,\n",
    "    'eta_max': None,\n",
    "    'max_iter': 100,\n",
    "    'eps': 1e-6\n",
    "}\n",
    "\n",
    "from secml.adv.attacks import CAttackEvasionPGDLS\n",
    "pgd_ls_attack = CAttackEvasionPGDLS(classifier=dnn,\n",
    "                                    surrogate_classifier=dnn,\n",
    "                                    surrogate_data=tr,\n",
    "                                    distance=noise_type,\n",
    "                                    dmax=dmax,\n",
    "                                    solver_params=solver_params,\n",
    "                                    y_target=y_target)\n",
    "\n",
    "print(\"Attack started...\")\n",
    "eva_y_pred, _, eva_adv_ds, _ = pgd_ls_attack.run(\n",
    "    attack_ds.X, attack_ds.Y, double_init=True)\n",
    "print(\"Attack complete!\")"
   ]
  },
  {
   "cell_type": "code",
   "execution_count": 24,
   "metadata": {},
   "outputs": [
    {
     "data": {
      "text/plain": [
       "(100, 784)"
      ]
     },
     "execution_count": 24,
     "metadata": {},
     "output_type": "execute_result"
    }
   ],
   "source": [
    "attack_ds.X.shape"
   ]
  },
  {
   "cell_type": "code",
   "execution_count": 25,
   "metadata": {},
   "outputs": [
    {
     "name": "stdout",
     "output_type": "stream",
     "text": [
      "Accuracy on reduced test set before attack: 100.00%\n",
      "Accuracy on reduced test set after attack: 7.00%\n"
     ]
    }
   ],
   "source": [
    "from secml.ml.peval.metrics import CMetric\n",
    "metric = CMetric.create('accuracy')\n",
    "\n",
    "acc = metric.performance_score(\n",
    "    y_true=attack_ds.Y, y_pred=dnn.predict(attack_ds.X))\n",
    "acc_attack = metric.performance_score(\n",
    "    y_true=attack_ds.Y, y_pred=eva_y_pred)\n",
    "\n",
    "print(\"Accuracy on reduced test set before attack: {:.2%}\".format(acc))\n",
    "print(\"Accuracy on reduced test set after attack: {:.2%}\".format(acc_attack))"
   ]
  },
  {
   "cell_type": "markdown",
   "metadata": {},
   "source": [
    "---"
   ]
  },
  {
   "cell_type": "markdown",
   "metadata": {},
   "source": [
    "## Attack debug plots"
   ]
  },
  {
   "cell_type": "code",
   "execution_count": 26,
   "metadata": {},
   "outputs": [],
   "source": [
    "dbg = loader.load('testing', digits=(1,8))\n",
    "dbg.X /= 255."
   ]
  },
  {
   "cell_type": "code",
   "execution_count": 27,
   "metadata": {},
   "outputs": [
    {
     "data": {
      "text/plain": [
       "(CArray(1, 784)(dense: [[0. 0. 0. ... 0. 0. 0.]]), CArray(1,)(dense: [0]))"
      ]
     },
     "execution_count": 27,
     "metadata": {},
     "output_type": "execute_result"
    }
   ],
   "source": [
    "x0, y0 = dbg[0, :].X, dbg[0, :].Y\n",
    "x0, y0"
   ]
  },
  {
   "cell_type": "code",
   "execution_count": 28,
   "metadata": {},
   "outputs": [],
   "source": [
    "noise_type = 'l2'  # Type of perturbation 'l1' or 'l2'\n",
    "dmax = 3.0  # Maximum perturbation\n",
    "lb, ub = 0., 1.  # Bounds of the attack space. Can be set to `None` for unbounded\n",
    "y_target = 8 # CHANGED HERE FOR A TARGETED ATTACK! None if `error-generic` or a class label for `error-specific`\n",
    "\n",
    "# Should be chosen depending on the optimization problem\n",
    "solver_params = {\n",
    "    'eta': 0.5,\n",
    "    'eta_min': 2.0,\n",
    "    'eta_max': None,\n",
    "    'max_iter': 100,\n",
    "    'eps': 1e-6\n",
    "}\n",
    "\n",
    "from secml.adv.attacks import CAttackEvasionPGDLS\n",
    "pgd_ls_attack = CAttackEvasionPGDLS(classifier=dnn,\n",
    "                                    surrogate_classifier=dnn,\n",
    "                                    surrogate_data=tr,\n",
    "                                    distance=noise_type,\n",
    "                                    dmax=dmax,\n",
    "                                    solver_params=solver_params,\n",
    "                                    y_target=y_target)"
   ]
  },
  {
   "cell_type": "code",
   "execution_count": 29,
   "metadata": {},
   "outputs": [],
   "source": [
    "eva_y_pred, _, eva_adv_ds, _ = pgd_ls_attack.run(x0, y0, double_init=True)"
   ]
  },
  {
   "cell_type": "code",
   "execution_count": 30,
   "metadata": {},
   "outputs": [
    {
     "data": {
      "text/plain": [
       "CArray(1,)(dense: [8])"
      ]
     },
     "execution_count": 30,
     "metadata": {},
     "output_type": "execute_result"
    }
   ],
   "source": [
    "eva_y_pred "
   ]
  },
  {
   "cell_type": "markdown",
   "metadata": {},
   "source": [
    "Visualize adversarial sample"
   ]
  },
  {
   "cell_type": "code",
   "execution_count": 31,
   "metadata": {},
   "outputs": [],
   "source": [
    "from secml.figure import CFigure\n",
    "# Only required for visualization in notebooks\n",
    "%matplotlib inline\n",
    "\n",
    "# Let's define a convenience function to easily plot the MNIST dataset\n",
    "def show_digits(samples, preds, labels, digs, n_display=8):\n",
    "    samples = samples.atleast_2d()\n",
    "    n_display = min(n_display, samples.shape[0])\n",
    "    fig = CFigure(width=n_display*2, height=3)\n",
    "    for idx in range(n_display):\n",
    "        fig.subplot(2, n_display, idx+1)\n",
    "        fig.sp.xticks([])\n",
    "        fig.sp.yticks([])\n",
    "        fig.sp.imshow(samples[idx, :].reshape((28, 28)), cmap='gray')\n",
    "        fig.sp.title(\"{} ({})\".format(digits[labels[idx].item()], digs[preds[idx].item()]),\n",
    "                     color=(\"green\" if labels[idx].item()==preds[idx].item() else \"red\"))\n",
    "    fig.show()"
   ]
  },
  {
   "cell_type": "code",
   "execution_count": 32,
   "metadata": {},
   "outputs": [
    {
     "data": {
      "image/png": "[encoded data removed]",
      "text/plain": [
       "<Figure size 144x216 with 1 Axes>"
      ]
     },
     "metadata": {},
     "output_type": "display_data"
    },
    {
     "data": {
      "image/png": "[encoded data removed]",
      "text/plain": [
       "<Figure size 144x216 with 1 Axes>"
      ]
     },
     "metadata": {},
     "output_type": "display_data"
    }
   ],
   "source": [
    "digits = tuple(range(10))\n",
    "show_digits(x0, dnn.predict(x0), y0, digits)\n",
    "show_digits(eva_adv_ds.X, dnn.predict(eva_adv_ds.X), eva_adv_ds.Y, digits)"
   ]
  },
  {
   "cell_type": "code",
   "execution_count": 33,
   "metadata": {},
   "outputs": [
    {
     "data": {
      "text/plain": [
       "CArray(12,)(dense: [ 19.329091  13.296922   4.945312  -4.529959 -10.98631  -14.525495 -17.093864 -20.190557 -22.612732 -25.548998 -27.545806 -27.545806])"
      ]
     },
     "execution_count": 33,
     "metadata": {},
     "output_type": "execute_result"
    }
   ],
   "source": [
    "pgd_ls_attack.f_seq"
   ]
  },
  {
   "cell_type": "markdown",
   "metadata": {},
   "source": [
    "Plotting attack loss function:"
   ]
  },
  {
   "cell_type": "code",
   "execution_count": 34,
   "metadata": {},
   "outputs": [
    {
     "data": {
      "text/plain": [
       "<matplotlib.legend.Legend at 0x7f0d56346e48>"
      ]
     },
     "execution_count": 34,
     "metadata": {},
     "output_type": "execute_result"
    },
    {
     "data": {
      "image/png": "[encoded data removed]",
      "text/plain": [
       "<Figure size 720x360 with 1 Axes>"
      ]
     },
     "metadata": {},
     "output_type": "display_data"
    }
   ],
   "source": [
    "from secml.figure import CFigure\n",
    "fig = CFigure(height=5, width=10)\n",
    "\n",
    "# Convenience function for plotting the Security Evaluation Curve\n",
    "fig.sp.plot(pgd_ls_attack._f_seq, marker='o', label='PGD-LS')\n",
    "fig.sp.grid()\n",
    "fig.sp.xticks(range(pgd_ls_attack._f_seq.shape[0]))\n",
    "fig.sp.xlabel('Iteration')\n",
    "fig.sp.ylabel('Loss')\n",
    "fig.sp.legend()"
   ]
  },
  {
   "cell_type": "markdown",
   "metadata": {},
   "source": [
    "Plotting classifier confidence during attack:"
   ]
  },
  {
   "cell_type": "code",
   "execution_count": 35,
   "metadata": {},
   "outputs": [
    {
     "data": {
      "text/plain": [
       "CArray(12, 784)(dense: [[0.000000e+00 0.000000e+00 0.000000e+00 ... 0.000000e+00 0.000000e+00  0.000000e+00] [0.000000e+00 0.000000e+00 0.000000e+00 ... 0.000000e+00 0.000000e+00  0.000000e+00] [0.000000e+00 0.000000e+00 0.000000e+00 ... 2.585483e-05 1.420379e-05  3.196059e-06] ... [0.000000e+00 0.000000e+00 0.000000e+00 ... 1.156611e-07 2.744839e-06  6.841699e-07] [0.000000e+00 0.000000e+00 0.000000e+00 ... 1.156611e-07 6.653579e-07  7.344744e-08] [0.000000e+00 0.000000e+00 0.000000e+00 ... 1.156611e-07 6.653579e-07  7.344744e-08]])"
      ]
     },
     "execution_count": 35,
     "metadata": {},
     "output_type": "execute_result"
    }
   ],
   "source": [
    "pgd_ls_attack.x_seq"
   ]
  },
  {
   "cell_type": "code",
   "execution_count": 36,
   "metadata": {},
   "outputs": [],
   "source": [
    "one_score, eight_score = [], []\n",
    "\n",
    "for i in range(pgd_ls_attack.x_seq.shape[0]):\n",
    "    s = dnn.decision_function(pgd_ls_attack.x_seq[i,:])\n",
    "    one_score.append(s[1].item())\n",
    "    eight_score.append(s[8].item())"
   ]
  },
  {
   "cell_type": "code",
   "execution_count": 37,
   "metadata": {},
   "outputs": [
    {
     "data": {
      "text/plain": [
       "<matplotlib.legend.Legend at 0x7f0d562c83c8>"
      ]
     },
     "execution_count": 37,
     "metadata": {},
     "output_type": "execute_result"
    },
    {
     "data": {
      "image/png": "[encoded data removed]",
      "text/plain": [
       "<Figure size 720x360 with 1 Axes>"
      ]
     },
     "metadata": {},
     "output_type": "display_data"
    }
   ],
   "source": [
    "from secml.figure import CFigure\n",
    "fig = CFigure(height=5, width=10)\n",
    "\n",
    "# Convenience function for plotting the Security Evaluation Curve\n",
    "fig.sp.plot(one_score, marker='o', label='1')\n",
    "fig.sp.plot(eight_score, marker='o', label='8')\n",
    "fig.sp.grid()\n",
    "fig.sp.xticks(range(pgd_ls_attack.x_seq.shape[0]))\n",
    "fig.sp.xlabel('Iteration')\n",
    "fig.sp.ylabel('Confidence')\n",
    "fig.sp.legend()"
   ]
  },
  {
   "cell_type": "markdown",
   "metadata": {},
   "source": [
    "---"
   ]
  },
  {
   "cell_type": "markdown",
   "metadata": {},
   "source": [
    "# Security evaluation of a classifier"
   ]
  },
  {
   "cell_type": "code",
   "execution_count": 38,
   "metadata": {},
   "outputs": [],
   "source": [
    "# For simplicity, let's attack a subset of the test set\n",
    "attack_ds = ts[:100, :]\n",
    "\n",
    "noise_type = 'l2'  # Type of perturbation 'l1' or 'l2'\n",
    "dmax = 3.0  # Maximum perturbation\n",
    "lb, ub = 0., 1.  # Bounds of the attack space. Can be set to `None` for unbounded\n",
    "y_target = None  # None if `error-generic` or a class label for `error-specific`\n",
    "\n",
    "# Should be chosen depending on the optimization problem\n",
    "solver_params = {\n",
    "    'eta': 0.5,\n",
    "    'eta_min': 2.0,\n",
    "    'eta_max': None,\n",
    "    'max_iter': 100,\n",
    "    'eps': 1e-6\n",
    "}\n",
    "\n",
    "from secml.adv.attacks import CAttackEvasionPGDLS\n",
    "pgd_ls_attack = CAttackEvasionPGDLS(classifier=dnn,\n",
    "                                    surrogate_classifier=dnn,\n",
    "                                    surrogate_data=tr,\n",
    "                                    distance=noise_type,\n",
    "                                    dmax=dmax,\n",
    "                                    solver_params=solver_params,\n",
    "                                    y_target=y_target)"
   ]
  },
  {
   "cell_type": "code",
   "execution_count": 39,
   "metadata": {},
   "outputs": [
    {
     "name": "stdout",
     "output_type": "stream",
     "text": [
      "Running security evaluation...\n"
     ]
    }
   ],
   "source": [
    "# Perturbation levels to test\n",
    "from secml.array import CArray\n",
    "e_vals = CArray.arange(start=0, step=0.5, stop=5.1)\n",
    "\n",
    "from secml.adv.seceval import CSecEval\n",
    "dnn_seval = CSecEval(\n",
    "    attack=pgd_ls_attack, param_name='dmax', param_values=e_vals)\n",
    "\n",
    "# Run the security evaluation using the test set\n",
    "print(\"Running security evaluation...\")\n",
    "dnn_seval.run_sec_eval(attack_ds, double_init=False)"
   ]
  },
  {
   "cell_type": "code",
   "execution_count": 40,
   "metadata": {},
   "outputs": [],
   "source": [
    "# Only required for visualization in notebooks\n",
    "%matplotlib inline"
   ]
  },
  {
   "cell_type": "code",
   "execution_count": 41,
   "metadata": {},
   "outputs": [
    {
     "data": {
      "image/png": "[encoded data removed]",
      "text/plain": [
       "<Figure size 360x360 with 1 Axes>"
      ]
     },
     "metadata": {},
     "output_type": "display_data"
    }
   ],
   "source": [
    "from secml.figure import CFigure\n",
    "fig = CFigure(height=5, width=5)\n",
    "\n",
    "# Convenience function for plotting the Security Evaluation Curve\n",
    "fig.sp.plot_sec_eval(\n",
    "    dnn_seval.sec_eval_data, marker='o', label='DNN', show_average=True)"
   ]
  },
  {
   "cell_type": "markdown",
   "metadata": {},
   "source": [
    "---"
   ]
  },
  {
   "cell_type": "markdown",
   "metadata": {},
   "source": [
    "# Build detector"
   ]
  },
  {
   "cell_type": "code",
   "execution_count": 42,
   "metadata": {},
   "outputs": [],
   "source": [
    "from secml.ml.classifiers.multiclass import CClassifierMulticlassOVA\n",
    "from secml.ml.features import CNormalizerDNN, CNormalizerMinMax\n",
    "from secml.ml.kernels import CKernelRBF\n",
    "\n",
    "from components.c_classifier_kde import CClassifierKDE\n",
    "from components.c_reducer_ptsne import CReducerPTSNE"
   ]
  },
  {
   "cell_type": "code",
   "execution_count": 43,
   "metadata": {
    "scrolled": true
   },
   "outputs": [],
   "source": [
    "dnn_feats = CNormalizerDNN(dnn)\n",
    "\n",
    "\n",
    "feat_extr = CReducerPTSNE(n_components=2,\n",
    "                          n_hiddens=[64, 64],\n",
    "                          epochs=500,\n",
    "                          batch_size=128,\n",
    "                          preprocess=dnn_feats,\n",
    "                          random_state=random_state)\n",
    "\n",
    "nmz = CNormalizerMinMax(preprocess=feat_extr)\n",
    "\n",
    "# clf = CClassifierMulticlassOVA(classifier=CClassifierKDE,\n",
    "#                                kernel=CKernelRBF(gamma=10))"
   ]
  },
  {
   "cell_type": "code",
   "execution_count": 44,
   "metadata": {},
   "outputs": [],
   "source": [
    "from secml.ml.classifiers import CClassifierSVM\n",
    "\n",
    "clf = CClassifierMulticlassOVA(classifier=CClassifierSVM, kernel=CKernelRBF(gamma=10))"
   ]
  },
  {
   "cell_type": "code",
   "execution_count": 45,
   "metadata": {},
   "outputs": [
    {
     "data": {
      "text/plain": [
       "0.0"
      ]
     },
     "execution_count": 45,
     "metadata": {},
     "output_type": "execute_result"
    }
   ],
   "source": [
    "from secml.ml.classifiers.reject import CClassifierRejectThreshold\n",
    "\n",
    "clf_rej = CClassifierRejectThreshold(clf, 0., preprocess=nmz)\n",
    "clf_rej.threshold"
   ]
  },
  {
   "cell_type": "code",
   "execution_count": null,
   "metadata": {
    "scrolled": true
   },
   "outputs": [
    {
     "name": "stdout",
     "output_type": "stream",
     "text": [
      "Estimating the best training parameters...\n",
      "2020-05-20 11:58:43,582 - CPerfEvaluatorXVal.0x7f0cdc049c18 - INFO - Parameters to evaluate: {'C': [0.001, 0.01, 0.1, 1, 100, 1000], 'kernel.gamma': [0.01, 0.1, 1, 10, 100, 1000.0]}\n",
      "2020-05-20 11:58:43,662 - CClassifierMulticlassOVA.0x7f0cdc0ecc18 - INFO - Training against class: 0\n",
      "2020-05-20 11:58:44,543 - CClassifierSVM.0x7f0cdc0ae518 - INFO - Training SVM with parameters: {'preprocess': None, 'n_jobs': 1, 'C': 0.001, 'class_weight': None, 'grad_sampling': 1.0, 'store_dual_vars': None, 'kernel': CKernelRBF{'gamma': 0.01, 'rv': None, 'preprocess': None, 'n_jobs': 1}}\n",
      "2020-05-20 11:58:59,083 - CClassifierMulticlassOVA.0x7f0cdc0ecc18 - INFO - Training against class: 1\n",
      "2020-05-20 11:58:59,965 - CClassifierSVM.0x7f0cdc049828 - INFO - Training SVM with parameters: {'preprocess': None, 'n_jobs': 1, 'C': 0.001, 'class_weight': None, 'grad_sampling': 1.0, 'store_dual_vars': None, 'kernel': CKernelRBF{'gamma': 0.01, 'rv': None, 'preprocess': None, 'n_jobs': 1}}\n",
      "2020-05-20 11:59:15,023 - CClassifierMulticlassOVA.0x7f0cdc0ecc18 - INFO - Training against class: 2\n",
      "2020-05-20 11:59:15,921 - CClassifierSVM.0x7f0cdc049940 - INFO - Training SVM with parameters: {'preprocess': None, 'n_jobs': 1, 'C': 0.001, 'class_weight': None, 'grad_sampling': 1.0, 'store_dual_vars': None, 'kernel': CKernelRBF{'gamma': 0.01, 'rv': None, 'preprocess': None, 'n_jobs': 1}}\n",
      "2020-05-20 11:59:31,328 - CClassifierMulticlassOVA.0x7f0cdc0ecc18 - INFO - Training against class: 3\n",
      "2020-05-20 11:59:32,240 - CClassifierSVM.0x7f0cdc0498d0 - INFO - Training SVM with parameters: {'preprocess': None, 'n_jobs': 1, 'C': 0.001, 'class_weight': None, 'grad_sampling': 1.0, 'store_dual_vars': None, 'kernel': CKernelRBF{'gamma': 0.01, 'rv': None, 'preprocess': None, 'n_jobs': 1}}\n",
      "2020-05-20 11:59:47,369 - CClassifierMulticlassOVA.0x7f0cdc0ecc18 - INFO - Training against class: 4\n",
      "2020-05-20 11:59:48,275 - CClassifierSVM.0x7f0cdc0496d8 - INFO - Training SVM with parameters: {'preprocess': None, 'n_jobs': 1, 'C': 0.001, 'class_weight': None, 'grad_sampling': 1.0, 'store_dual_vars': None, 'kernel': CKernelRBF{'gamma': 0.01, 'rv': None, 'preprocess': None, 'n_jobs': 1}}\n",
      "2020-05-20 12:00:03,715 - CClassifierMulticlassOVA.0x7f0cdc0ecc18 - INFO - Training against class: 5\n",
      "2020-05-20 12:00:04,691 - CClassifierSVM.0x7f0cdc0499e8 - INFO - Training SVM with parameters: {'preprocess': None, 'n_jobs': 1, 'C': 0.001, 'class_weight': None, 'grad_sampling': 1.0, 'store_dual_vars': None, 'kernel': CKernelRBF{'gamma': 0.01, 'rv': None, 'preprocess': None, 'n_jobs': 1}}\n",
      "2020-05-20 12:00:19,940 - CClassifierMulticlassOVA.0x7f0cdc0ecc18 - INFO - Training against class: 6\n",
      "2020-05-20 12:00:20,831 - CClassifierSVM.0x7f0cdc049a58 - INFO - Training SVM with parameters: {'preprocess': None, 'n_jobs': 1, 'C': 0.001, 'class_weight': None, 'grad_sampling': 1.0, 'store_dual_vars': None, 'kernel': CKernelRBF{'gamma': 0.01, 'rv': None, 'preprocess': None, 'n_jobs': 1}}\n",
      "2020-05-20 12:00:35,559 - CClassifierMulticlassOVA.0x7f0cdc0ecc18 - INFO - Training against class: 7\n",
      "2020-05-20 12:00:36,421 - CClassifierSVM.0x7f0cdc049ac8 - INFO - Training SVM with parameters: {'preprocess': None, 'n_jobs': 1, 'C': 0.001, 'class_weight': None, 'grad_sampling': 1.0, 'store_dual_vars': None, 'kernel': CKernelRBF{'gamma': 0.01, 'rv': None, 'preprocess': None, 'n_jobs': 1}}\n",
      "2020-05-20 12:00:51,389 - CClassifierMulticlassOVA.0x7f0cdc0ecc18 - INFO - Training against class: 8\n",
      "2020-05-20 12:00:52,308 - CClassifierSVM.0x7f0cdc049b38 - INFO - Training SVM with parameters: {'preprocess': None, 'n_jobs': 1, 'C': 0.001, 'class_weight': None, 'grad_sampling': 1.0, 'store_dual_vars': None, 'kernel': CKernelRBF{'gamma': 0.01, 'rv': None, 'preprocess': None, 'n_jobs': 1}}\n",
      "2020-05-20 12:01:07,591 - CClassifierMulticlassOVA.0x7f0cdc0ecc18 - INFO - Training against class: 9\n",
      "2020-05-20 12:01:08,509 - CClassifierSVM.0x7f0cdc049ba8 - INFO - Training SVM with parameters: {'preprocess': None, 'n_jobs': 1, 'C': 0.001, 'class_weight': None, 'grad_sampling': 1.0, 'store_dual_vars': None, 'kernel': CKernelRBF{'gamma': 0.01, 'rv': None, 'preprocess': None, 'n_jobs': 1}}\n",
      "2020-05-20 12:01:35,945 - CClassifierMulticlassOVA.0x7f0cdc0ecc18 - INFO - Training against class: 0\n",
      "2020-05-20 12:01:36,833 - CClassifierSVM.0x7f0cdc0ae518 - INFO - Training SVM with parameters: {'preprocess': None, 'n_jobs': 1, 'C': 0.001, 'class_weight': None, 'grad_sampling': 1.0, 'store_dual_vars': None, 'kernel': CKernelRBF{'gamma': 0.01, 'rv': CArray(3914, 784)(dense: [[0. 0. 0. ... 0. 0. 0.] [0. 0. 0. ... 0. 0. 0.] [0. 0. 0. ... 0. 0. 0.] ... [0. 0. 0. ... 0. 0. 0.] [0. 0. 0. ... 0. 0. 0.] [0. 0. 0. ... 0. 0. 0.]]), 'preprocess': None, 'n_jobs': 1}}\n",
      "2020-05-20 12:01:51,652 - CClassifierMulticlassOVA.0x7f0cdc0ecc18 - INFO - Training against class: 1\n",
      "2020-05-20 12:01:52,540 - CClassifierSVM.0x7f0cdc049828 - INFO - Training SVM with parameters: {'preprocess': None, 'n_jobs': 1, 'C': 0.001, 'class_weight': None, 'grad_sampling': 1.0, 'store_dual_vars': None, 'kernel': CKernelRBF{'gamma': 0.01, 'rv': CArray(4546, 784)(dense: [[0. 0. 0. ... 0. 0. 0.] [0. 0. 0. ... 0. 0. 0.] [0. 0. 0. ... 0. 0. 0.] ... [0. 0. 0. ... 0. 0. 0.] [0. 0. 0. ... 0. 0. 0.] [0. 0. 0. ... 0. 0. 0.]]), 'preprocess': None, 'n_jobs': 1}}\n",
      "2020-05-20 12:02:08,108 - CClassifierMulticlassOVA.0x7f0cdc0ecc18 - INFO - Training against class: 2\n",
      "2020-05-20 12:02:08,992 - CClassifierSVM.0x7f0cdc049940 - INFO - Training SVM with parameters: {'preprocess': None, 'n_jobs': 1, 'C': 0.001, 'class_weight': None, 'grad_sampling': 1.0, 'store_dual_vars': None, 'kernel': CKernelRBF{'gamma': 0.01, 'rv': CArray(4018, 784)(dense: [[0. 0. 0. ... 0. 0. 0.] [0. 0. 0. ... 0. 0. 0.] [0. 0. 0. ... 0. 0. 0.] ... [0. 0. 0. ... 0. 0. 0.] [0. 0. 0. ... 0. 0. 0.] [0. 0. 0. ... 0. 0. 0.]]), 'preprocess': None, 'n_jobs': 1}}\n",
      "2020-05-20 12:02:24,403 - CClassifierMulticlassOVA.0x7f0cdc0ecc18 - INFO - Training against class: 3\n",
      "2020-05-20 12:02:25,320 - CClassifierSVM.0x7f0cdc0498d0 - INFO - Training SVM with parameters: {'preprocess': None, 'n_jobs': 1, 'C': 0.001, 'class_weight': None, 'grad_sampling': 1.0, 'store_dual_vars': None, 'kernel': CKernelRBF{'gamma': 0.01, 'rv': CArray(4072, 784)(dense: [[0. 0. 0. ... 0. 0. 0.] [0. 0. 0. ... 0. 0. 0.] [0. 0. 0. ... 0. 0. 0.] ... [0. 0. 0. ... 0. 0. 0.] [0. 0. 0. ... 0. 0. 0.] [0. 0. 0. ... 0. 0. 0.]]), 'preprocess': None, 'n_jobs': 1}}\n",
      "2020-05-20 12:02:40,105 - CClassifierMulticlassOVA.0x7f0cdc0ecc18 - INFO - Training against class: 4\n",
      "2020-05-20 12:02:41,036 - CClassifierSVM.0x7f0cdc0496d8 - INFO - Training SVM with parameters: {'preprocess': None, 'n_jobs': 1, 'C': 0.001, 'class_weight': None, 'grad_sampling': 1.0, 'store_dual_vars': None, 'kernel': CKernelRBF{'gamma': 0.01, 'rv': CArray(3848, 784)(dense: [[0. 0. 0. ... 0. 0. 0.] [0. 0. 0. ... 0. 0. 0.] [0. 0. 0. ... 0. 0. 0.] ... [0. 0. 0. ... 0. 0. 0.] [0. 0. 0. ... 0. 0. 0.] [0. 0. 0. ... 0. 0. 0.]]), 'preprocess': None, 'n_jobs': 1}}\n",
      "2020-05-20 12:02:55,944 - CClassifierMulticlassOVA.0x7f0cdc0ecc18 - INFO - Training against class: 5\n",
      "2020-05-20 12:02:56,873 - CClassifierSVM.0x7f0cdc0499e8 - INFO - Training SVM with parameters: {'preprocess': None, 'n_jobs': 1, 'C': 0.001, 'class_weight': None, 'grad_sampling': 1.0, 'store_dual_vars': None, 'kernel': CKernelRBF{'gamma': 0.01, 'rv': CArray(3514, 784)(dense: [[0. 0. 0. ... 0. 0. 0.] [0. 0. 0. ... 0. 0. 0.] [0. 0. 0. ... 0. 0. 0.] ... [0. 0. 0. ... 0. 0. 0.] [0. 0. 0. ... 0. 0. 0.] [0. 0. 0. ... 0. 0. 0.]]), 'preprocess': None, 'n_jobs': 1}}\n",
      "2020-05-20 12:03:11,740 - CClassifierMulticlassOVA.0x7f0cdc0ecc18 - INFO - Training against class: 6\n",
      "2020-05-20 12:03:12,652 - CClassifierSVM.0x7f0cdc049a58 - INFO - Training SVM with parameters: {'preprocess': None, 'n_jobs': 1, 'C': 0.001, 'class_weight': None, 'grad_sampling': 1.0, 'store_dual_vars': None, 'kernel': CKernelRBF{'gamma': 0.01, 'rv': CArray(3934, 784)(dense: [[0. 0. 0. ... 0. 0. 0.] [0. 0. 0. ... 0. 0. 0.] [0. 0. 0. ... 0. 0. 0.] ... [0. 0. 0. ... 0. 0. 0.] [0. 0. 0. ... 0. 0. 0.] [0. 0. 0. ... 0. 0. 0.]]), 'preprocess': None, 'n_jobs': 1}}\n",
      "2020-05-20 12:03:26,827 - CClassifierMulticlassOVA.0x7f0cdc0ecc18 - INFO - Training against class: 7\n",
      "2020-05-20 12:03:27,713 - CClassifierSVM.0x7f0cdc049ac8 - INFO - Training SVM with parameters: {'preprocess': None, 'n_jobs': 1, 'C': 0.001, 'class_weight': None, 'grad_sampling': 1.0, 'store_dual_vars': None, 'kernel': CKernelRBF{'gamma': 0.01, 'rv': CArray(4147, 784)(dense: [[0. 0. 0. ... 0. 0. 0.] [0. 0. 0. ... 0. 0. 0.] [0. 0. 0. ... 0. 0. 0.] ... [0. 0. 0. ... 0. 0. 0.] [0. 0. 0. ... 0. 0. 0.] [0. 0. 0. ... 0. 0. 0.]]), 'preprocess': None, 'n_jobs': 1}}\n",
      "2020-05-20 12:03:42,874 - CClassifierMulticlassOVA.0x7f0cdc0ecc18 - INFO - Training against class: 8\n",
      "2020-05-20 12:03:43,921 - CClassifierSVM.0x7f0cdc049b38 - INFO - Training SVM with parameters: {'preprocess': None, 'n_jobs': 1, 'C': 0.001, 'class_weight': None, 'grad_sampling': 1.0, 'store_dual_vars': None, 'kernel': CKernelRBF{'gamma': 0.01, 'rv': CArray(4054, 784)(dense: [[0. 0. 0. ... 0. 0. 0.] [0. 0. 0. ... 0. 0. 0.] [0. 0. 0. ... 0. 0. 0.] ... [0. 0. 0. ... 0. 0. 0.] [0. 0. 0. ... 0. 0. 0.] [0. 0. 0. ... 0. 0. 0.]]), 'preprocess': None, 'n_jobs': 1}}\n",
      "2020-05-20 12:03:58,580 - CClassifierMulticlassOVA.0x7f0cdc0ecc18 - INFO - Training against class: 9\n",
      "2020-05-20 12:03:59,484 - CClassifierSVM.0x7f0cdc049ba8 - INFO - Training SVM with parameters: {'preprocess': None, 'n_jobs': 1, 'C': 0.001, 'class_weight': None, 'grad_sampling': 1.0, 'store_dual_vars': None, 'kernel': CKernelRBF{'gamma': 0.01, 'rv': CArray(3986, 784)(dense: [[0. 0. 0. ... 0. 0. 0.] [0. 0. 0. ... 0. 0. 0.] [0. 0. 0. ... 0. 0. 0.] ... [0. 0. 0. ... 0. 0. 0.] [0. 0. 0. ... 0. 0. 0.] [0. 0. 0. ... 0. 0. 0.]]), 'preprocess': None, 'n_jobs': 1}}\n",
      "2020-05-20 12:04:25,964 - CClassifierMulticlassOVA.0x7f0cdc0ecc18 - INFO - Training against class: 0\n",
      "2020-05-20 12:04:26,810 - CClassifierSVM.0x7f0cdc0ae518 - INFO - Training SVM with parameters: {'preprocess': None, 'n_jobs': 1, 'C': 0.001, 'class_weight': None, 'grad_sampling': 1.0, 'store_dual_vars': None, 'kernel': CKernelRBF{'gamma': 0.01, 'rv': CArray(3841, 784)(dense: [[0. 0. 0. ... 0. 0. 0.] [0. 0. 0. ... 0. 0. 0.] [0. 0. 0. ... 0. 0. 0.] ... [0. 0. 0. ... 0. 0. 0.] [0. 0. 0. ... 0. 0. 0.] [0. 0. 0. ... 0. 0. 0.]]), 'preprocess': None, 'n_jobs': 1}}\n",
      "2020-05-20 12:04:41,670 - CClassifierMulticlassOVA.0x7f0cdc0ecc18 - INFO - Training against class: 1\n",
      "2020-05-20 12:04:42,582 - CClassifierSVM.0x7f0cdc049828 - INFO - Training SVM with parameters: {'preprocess': None, 'n_jobs': 1, 'C': 0.001, 'class_weight': None, 'grad_sampling': 1.0, 'store_dual_vars': None, 'kernel': CKernelRBF{'gamma': 0.01, 'rv': CArray(4640, 784)(dense: [[0. 0. 0. ... 0. 0. 0.] [0. 0. 0. ... 0. 0. 0.] [0. 0. 0. ... 0. 0. 0.] ... [0. 0. 0. ... 0. 0. 0.] [0. 0. 0. ... 0. 0. 0.] [0. 0. 0. ... 0. 0. 0.]]), 'preprocess': None, 'n_jobs': 1}}\n",
      "2020-05-20 12:04:57,718 - CClassifierMulticlassOVA.0x7f0cdc0ecc18 - INFO - Training against class: 2\n",
      "2020-05-20 12:04:58,653 - CClassifierSVM.0x7f0cdc049940 - INFO - Training SVM with parameters: {'preprocess': None, 'n_jobs': 1, 'C': 0.001, 'class_weight': None, 'grad_sampling': 1.0, 'store_dual_vars': None, 'kernel': CKernelRBF{'gamma': 0.01, 'rv': CArray(4062, 784)(dense: [[0. 0. 0. ... 0. 0. 0.] [0. 0. 0. ... 0. 0. 0.] [0. 0. 0. ... 0. 0. 0.] ... [0. 0. 0. ... 0. 0. 0.] [0. 0. 0. ... 0. 0. 0.] [0. 0. 0. ... 0. 0. 0.]]), 'preprocess': None, 'n_jobs': 1}}\n",
      "2020-05-20 12:05:13,743 - CClassifierMulticlassOVA.0x7f0cdc0ecc18 - INFO - Training against class: 3\n",
      "2020-05-20 12:05:14,687 - CClassifierSVM.0x7f0cdc0498d0 - INFO - Training SVM with parameters: {'preprocess': None, 'n_jobs': 1, 'C': 0.001, 'class_weight': None, 'grad_sampling': 1.0, 'store_dual_vars': None, 'kernel': CKernelRBF{'gamma': 0.01, 'rv': CArray(4122, 784)(dense: [[0. 0. 0. ... 0. 0. 0.] [0. 0. 0. ... 0. 0. 0.] [0. 0. 0. ... 0. 0. 0.] ... [0. 0. 0. ... 0. 0. 0.] [0. 0. 0. ... 0. 0. 0.] [0. 0. 0. ... 0. 0. 0.]]), 'preprocess': None, 'n_jobs': 1}}\n",
      "2020-05-20 12:05:29,661 - CClassifierMulticlassOVA.0x7f0cdc0ecc18 - INFO - Training against class: 4\n",
      "2020-05-20 12:05:30,537 - CClassifierSVM.0x7f0cdc0496d8 - INFO - Training SVM with parameters: {'preprocess': None, 'n_jobs': 1, 'C': 0.001, 'class_weight': None, 'grad_sampling': 1.0, 'store_dual_vars': None, 'kernel': CKernelRBF{'gamma': 0.01, 'rv': CArray(3881, 784)(dense: [[0. 0. 0. ... 0. 0. 0.] [0. 0. 0. ... 0. 0. 0.] [0. 0. 0. ... 0. 0. 0.] ... [0. 0. 0. ... 0. 0. 0.] [0. 0. 0. ... 0. 0. 0.] [0. 0. 0. ... 0. 0. 0.]]), 'preprocess': None, 'n_jobs': 1}}\n",
      "2020-05-20 12:05:45,523 - CClassifierMulticlassOVA.0x7f0cdc0ecc18 - INFO - Training against class: 5\n",
      "2020-05-20 12:05:46,421 - CClassifierSVM.0x7f0cdc0499e8 - INFO - Training SVM with parameters: {'preprocess': None, 'n_jobs': 1, 'C': 0.001, 'class_weight': None, 'grad_sampling': 1.0, 'store_dual_vars': None, 'kernel': CKernelRBF{'gamma': 0.01, 'rv': CArray(3608, 784)(dense: [[0. 0. 0. ... 0. 0. 0.] [0. 0. 0. ... 0. 0. 0.] [0. 0. 0. ... 0. 0. 0.] ... [0. 0. 0. ... 0. 0. 0.] [0. 0. 0. ... 0. 0. 0.] [0. 0. 0. ... 0. 0. 0.]]), 'preprocess': None, 'n_jobs': 1}}\n",
      "2020-05-20 12:06:00,910 - CClassifierMulticlassOVA.0x7f0cdc0ecc18 - INFO - Training against class: 6\n",
      "2020-05-20 12:06:01,810 - CClassifierSVM.0x7f0cdc049a58 - INFO - Training SVM with parameters: {'preprocess': None, 'n_jobs': 1, 'C': 0.001, 'class_weight': None, 'grad_sampling': 1.0, 'store_dual_vars': None, 'kernel': CKernelRBF{'gamma': 0.01, 'rv': CArray(3881, 784)(dense: [[0. 0. 0. ... 0. 0. 0.] [0. 0. 0. ... 0. 0. 0.] [0. 0. 0. ... 0. 0. 0.] ... [0. 0. 0. ... 0. 0. 0.] [0. 0. 0. ... 0. 0. 0.] [0. 0. 0. ... 0. 0. 0.]]), 'preprocess': None, 'n_jobs': 1}}\n",
      "2020-05-20 12:06:16,168 - CClassifierMulticlassOVA.0x7f0cdc0ecc18 - INFO - Training against class: 7\n",
      "2020-05-20 12:06:17,063 - CClassifierSVM.0x7f0cdc049ac8 - INFO - Training SVM with parameters: {'preprocess': None, 'n_jobs': 1, 'C': 0.001, 'class_weight': None, 'grad_sampling': 1.0, 'store_dual_vars': None, 'kernel': CKernelRBF{'gamma': 0.01, 'rv': CArray(4099, 784)(dense: [[0. 0. 0. ... 0. 0. 0.] [0. 0. 0. ... 0. 0. 0.] [0. 0. 0. ... 0. 0. 0.] ... [0. 0. 0. ... 0. 0. 0.] [0. 0. 0. ... 0. 0. 0.] [0. 0. 0. ... 0. 0. 0.]]), 'preprocess': None, 'n_jobs': 1}}\n",
      "2020-05-20 12:06:31,590 - CClassifierMulticlassOVA.0x7f0cdc0ecc18 - INFO - Training against class: 8\n",
      "2020-05-20 12:06:32,644 - CClassifierSVM.0x7f0cdc049b38 - INFO - Training SVM with parameters: {'preprocess': None, 'n_jobs': 1, 'C': 0.001, 'class_weight': None, 'grad_sampling': 1.0, 'store_dual_vars': None, 'kernel': CKernelRBF{'gamma': 0.01, 'rv': CArray(3909, 784)(dense: [[0. 0. 0. ... 0. 0. 0.] [0. 0. 0. ... 0. 0. 0.] [0. 0. 0. ... 0. 0. 0.] ... [0. 0. 0. ... 0. 0. 0.] [0. 0. 0. ... 0. 0. 0.] [0. 0. 0. ... 0. 0. 0.]]), 'preprocess': None, 'n_jobs': 1}}\n",
      "2020-05-20 12:06:47,934 - CClassifierMulticlassOVA.0x7f0cdc0ecc18 - INFO - Training against class: 9\n",
      "2020-05-20 12:06:48,893 - CClassifierSVM.0x7f0cdc049ba8 - INFO - Training SVM with parameters: {'preprocess': None, 'n_jobs': 1, 'C': 0.001, 'class_weight': None, 'grad_sampling': 1.0, 'store_dual_vars': None, 'kernel': CKernelRBF{'gamma': 0.01, 'rv': CArray(4002, 784)(dense: [[0. 0. 0. ... 0. 0. 0.] [0. 0. 0. ... 0. 0. 0.] [0. 0. 0. ... 0. 0. 0.] ... [0. 0. 0. ... 0. 0. 0.] [0. 0. 0. ... 0. 0. 0.] [0. 0. 0. ... 0. 0. 0.]]), 'preprocess': None, 'n_jobs': 1}}\n",
      "2020-05-20 12:07:17,396 - CPerfEvaluatorXVal.0x7f0cdc049c18 - INFO - Params: {'C': 0.001, 'kernel.gamma': 0.01} - Score: 0.8311666666666667\n",
      "2020-05-20 12:07:17,549 - CClassifierMulticlassOVA.0x7f0cdc0ecc18 - INFO - Training against class: 0\n",
      "2020-05-20 12:07:18,489 - CClassifierSVM.0x7f0cdc0ae518 - INFO - Training SVM with parameters: {'preprocess': None, 'n_jobs': 1, 'C': 0.001, 'class_weight': None, 'grad_sampling': 1.0, 'store_dual_vars': None, 'kernel': CKernelRBF{'gamma': 100.0, 'rv': CArray(3865, 784)(dense: [[0. 0. 0. ... 0. 0. 0.] [0. 0. 0. ... 0. 0. 0.] [0. 0. 0. ... 0. 0. 0.] ... [0. 0. 0. ... 0. 0. 0.] [0. 0. 0. ... 0. 0. 0.] [0. 0. 0. ... 0. 0. 0.]]), 'preprocess': None, 'n_jobs': 1}}\n",
      "2020-05-20 12:07:33,462 - CClassifierMulticlassOVA.0x7f0cdc0ecc18 - INFO - Training against class: 1\n",
      "2020-05-20 12:07:34,402 - CClassifierSVM.0x7f0cdc049828 - INFO - Training SVM with parameters: {'preprocess': None, 'n_jobs': 1, 'C': 0.001, 'class_weight': None, 'grad_sampling': 1.0, 'store_dual_vars': None, 'kernel': CKernelRBF{'gamma': 100.0, 'rv': CArray(4578, 784)(dense: [[0. 0. 0. ... 0. 0. 0.] [0. 0. 0. ... 0. 0. 0.] [0. 0. 0. ... 0. 0. 0.] ... [0. 0. 0. ... 0. 0. 0.] [0. 0. 0. ... 0. 0. 0.] [0. 0. 0. ... 0. 0. 0.]]), 'preprocess': None, 'n_jobs': 1}}\n",
      "2020-05-20 12:07:49,289 - CClassifierMulticlassOVA.0x7f0cdc0ecc18 - INFO - Training against class: 2\n",
      "2020-05-20 12:07:50,243 - CClassifierSVM.0x7f0cdc049940 - INFO - Training SVM with parameters: {'preprocess': None, 'n_jobs': 1, 'C': 0.001, 'class_weight': None, 'grad_sampling': 1.0, 'store_dual_vars': None, 'kernel': CKernelRBF{'gamma': 100.0, 'rv': CArray(4045, 784)(dense: [[0. 0. 0. ... 0. 0. 0.] [0. 0. 0. ... 0. 0. 0.] [0. 0. 0. ... 0. 0. 0.] ... [0. 0. 0. ... 0. 0. 0.] [0. 0. 0. ... 0. 0. 0.] [0. 0. 0. ... 0. 0. 0.]]), 'preprocess': None, 'n_jobs': 1}}\n",
      "2020-05-20 12:08:04,881 - CClassifierMulticlassOVA.0x7f0cdc0ecc18 - INFO - Training against class: 3\n",
      "2020-05-20 12:08:05,777 - CClassifierSVM.0x7f0cdc0498d0 - INFO - Training SVM with parameters: {'preprocess': None, 'n_jobs': 1, 'C': 0.001, 'class_weight': None, 'grad_sampling': 1.0, 'store_dual_vars': None, 'kernel': CKernelRBF{'gamma': 100.0, 'rv': CArray(4110, 784)(dense: [[0. 0. 0. ... 0. 0. 0.] [0. 0. 0. ... 0. 0. 0.] [0. 0. 0. ... 0. 0. 0.] ... [0. 0. 0. ... 0. 0. 0.] [0. 0. 0. ... 0. 0. 0.] [0. 0. 0. ... 0. 0. 0.]]), 'preprocess': None, 'n_jobs': 1}}\n",
      "2020-05-20 12:08:20,151 - CClassifierMulticlassOVA.0x7f0cdc0ecc18 - INFO - Training against class: 4\n",
      "2020-05-20 12:08:21,150 - CClassifierSVM.0x7f0cdc0496d8 - INFO - Training SVM with parameters: {'preprocess': None, 'n_jobs': 1, 'C': 0.001, 'class_weight': None, 'grad_sampling': 1.0, 'store_dual_vars': None, 'kernel': CKernelRBF{'gamma': 100.0, 'rv': CArray(3869, 784)(dense: [[0. 0. 0. ... 0. 0. 0.] [0. 0. 0. ... 0. 0. 0.] [0. 0. 0. ... 0. 0. 0.] ... [0. 0. 0. ... 0. 0. 0.] [0. 0. 0. ... 0. 0. 0.] [0. 0. 0. ... 0. 0. 0.]]), 'preprocess': None, 'n_jobs': 1}}\n",
      "2020-05-20 12:08:35,499 - CClassifierMulticlassOVA.0x7f0cdc0ecc18 - INFO - Training against class: 5\n",
      "2020-05-20 12:08:36,557 - CClassifierSVM.0x7f0cdc0499e8 - INFO - Training SVM with parameters: {'preprocess': None, 'n_jobs': 1, 'C': 0.001, 'class_weight': None, 'grad_sampling': 1.0, 'store_dual_vars': None, 'kernel': CKernelRBF{'gamma': 100.0, 'rv': CArray(3604, 784)(dense: [[0. 0. 0. ... 0. 0. 0.] [0. 0. 0. ... 0. 0. 0.] [0. 0. 0. ... 0. 0. 0.] ... [0. 0. 0. ... 0. 0. 0.] [0. 0. 0. ... 0. 0. 0.] [0. 0. 0. ... 0. 0. 0.]]), 'preprocess': None, 'n_jobs': 1}}\n",
      "2020-05-20 12:08:51,356 - CClassifierMulticlassOVA.0x7f0cdc0ecc18 - INFO - Training against class: 6\n",
      "2020-05-20 12:08:52,272 - CClassifierSVM.0x7f0cdc049a58 - INFO - Training SVM with parameters: {'preprocess': None, 'n_jobs': 1, 'C': 0.001, 'class_weight': None, 'grad_sampling': 1.0, 'store_dual_vars': None, 'kernel': CKernelRBF{'gamma': 100.0, 'rv': CArray(3863, 784)(dense: [[0. 0. 0. ... 0. 0. 0.] [0. 0. 0. ... 0. 0. 0.] [0. 0. 0. ... 0. 0. 0.] ... [0. 0. 0. ... 0. 0. 0.] [0. 0. 0. ... 0. 0. 0.] [0. 0. 0. ... 0. 0. 0.]]), 'preprocess': None, 'n_jobs': 1}}\n",
      "2020-05-20 12:09:06,648 - CClassifierMulticlassOVA.0x7f0cdc0ecc18 - INFO - Training against class: 7\n",
      "2020-05-20 12:09:07,612 - CClassifierSVM.0x7f0cdc049ac8 - INFO - Training SVM with parameters: {'preprocess': None, 'n_jobs': 1, 'C': 0.001, 'class_weight': None, 'grad_sampling': 1.0, 'store_dual_vars': None, 'kernel': CKernelRBF{'gamma': 100.0, 'rv': CArray(4114, 784)(dense: [[0. 0. 0. ... 0. 0. 0.] [0. 0. 0. ... 0. 0. 0.] [0. 0. 0. ... 0. 0. 0.] ... [0. 0. 0. ... 0. 0. 0.] [0. 0. 0. ... 0. 0. 0.] [0. 0. 0. ... 0. 0. 0.]]), 'preprocess': None, 'n_jobs': 1}}\n",
      "2020-05-20 12:09:21,993 - CClassifierMulticlassOVA.0x7f0cdc0ecc18 - INFO - Training against class: 8\n",
      "2020-05-20 12:09:22,950 - CClassifierSVM.0x7f0cdc049b38 - INFO - Training SVM with parameters: {'preprocess': None, 'n_jobs': 1, 'C': 0.001, 'class_weight': None, 'grad_sampling': 1.0, 'store_dual_vars': None, 'kernel': CKernelRBF{'gamma': 100.0, 'rv': CArray(3906, 784)(dense: [[0. 0. 0. ... 0. 0. 0.] [0. 0. 0. ... 0. 0. 0.] [0. 0. 0. ... 0. 0. 0.] ... [0. 0. 0. ... 0. 0. 0.] [0. 0. 0. ... 0. 0. 0.] [0. 0. 0. ... 0. 0. 0.]]), 'preprocess': None, 'n_jobs': 1}}\n",
      "2020-05-20 12:09:37,419 - CClassifierMulticlassOVA.0x7f0cdc0ecc18 - INFO - Training against class: 9\n",
      "2020-05-20 12:09:38,390 - CClassifierSVM.0x7f0cdc049ba8 - INFO - Training SVM with parameters: {'preprocess': None, 'n_jobs': 1, 'C': 0.001, 'class_weight': None, 'grad_sampling': 1.0, 'store_dual_vars': None, 'kernel': CKernelRBF{'gamma': 100.0, 'rv': CArray(4093, 784)(dense: [[0. 0. 0. ... 0. 0. 0.] [0. 0. 0. ... 0. 0. 0.] [0. 0. 0. ... 0. 0. 0.] ... [0. 0. 0. ... 0. 0. 0.] [0. 0. 0. ... 0. 0. 0.] [0. 0. 0. ... 0. 0. 0.]]), 'preprocess': None, 'n_jobs': 1}}\n",
      "2020-05-20 12:10:09,328 - CClassifierMulticlassOVA.0x7f0cdc0ecc18 - INFO - Training against class: 0\n",
      "2020-05-20 12:10:10,309 - CClassifierSVM.0x7f0cdc0ae518 - INFO - Training SVM with parameters: {'preprocess': None, 'n_jobs': 1, 'C': 0.001, 'class_weight': None, 'grad_sampling': 1.0, 'store_dual_vars': None, 'kernel': CKernelRBF{'gamma': 100.0, 'rv': CArray(5868, 784)(dense: [[0. 0. 0. ... 0. 0. 0.] [0. 0. 0. ... 0. 0. 0.] [0. 0. 0. ... 0. 0. 0.] ... [0. 0. 0. ... 0. 0. 0.] [0. 0. 0. ... 0. 0. 0.] [0. 0. 0. ... 0. 0. 0.]]), 'preprocess': None, 'n_jobs': 1}}\n",
      "2020-05-20 12:10:24,207 - CClassifierMulticlassOVA.0x7f0cdc0ecc18 - INFO - Training against class: 1\n",
      "2020-05-20 12:10:25,120 - CClassifierSVM.0x7f0cdc049828 - INFO - Training SVM with parameters: {'preprocess': None, 'n_jobs': 1, 'C': 0.001, 'class_weight': None, 'grad_sampling': 1.0, 'store_dual_vars': None, 'kernel': CKernelRBF{'gamma': 100.0, 'rv': CArray(6819, 784)(dense: [[0. 0. 0. ... 0. 0. 0.] [0. 0. 0. ... 0. 0. 0.] [0. 0. 0. ... 0. 0. 0.] ... [0. 0. 0. ... 0. 0. 0.] [0. 0. 0. ... 0. 0. 0.] [0. 0. 0. ... 0. 0. 0.]]), 'preprocess': None, 'n_jobs': 1}}\n",
      "2020-05-20 12:10:39,684 - CClassifierMulticlassOVA.0x7f0cdc0ecc18 - INFO - Training against class: 2\n",
      "2020-05-20 12:10:40,595 - CClassifierSVM.0x7f0cdc049940 - INFO - Training SVM with parameters: {'preprocess': None, 'n_jobs': 1, 'C': 0.001, 'class_weight': None, 'grad_sampling': 1.0, 'store_dual_vars': None, 'kernel': CKernelRBF{'gamma': 100.0, 'rv': CArray(6012, 784)(dense: [[0. 0. 0. ... 0. 0. 0.] [0. 0. 0. ... 0. 0. 0.] [0. 0. 0. ... 0. 0. 0.] ... [0. 0. 0. ... 0. 0. 0.] [0. 0. 0. ... 0. 0. 0.] [0. 0. 0. ... 0. 0. 0.]]), 'preprocess': None, 'n_jobs': 1}}\n",
      "2020-05-20 12:10:55,475 - CClassifierMulticlassOVA.0x7f0cdc0ecc18 - INFO - Training against class: 3\n",
      "2020-05-20 12:10:56,461 - CClassifierSVM.0x7f0cdc0498d0 - INFO - Training SVM with parameters: {'preprocess': None, 'n_jobs': 1, 'C': 0.001, 'class_weight': None, 'grad_sampling': 1.0, 'store_dual_vars': None, 'kernel': CKernelRBF{'gamma': 100.0, 'rv': CArray(6105, 784)(dense: [[0. 0. 0. ... 0. 0. 0.] [0. 0. 0. ... 0. 0. 0.] [0. 0. 0. ... 0. 0. 0.] ... [0. 0. 0. ... 0. 0. 0.] [0. 0. 0. ... 0. 0. 0.] [0. 0. 0. ... 0. 0. 0.]]), 'preprocess': None, 'n_jobs': 1}}\n",
      "2020-05-20 12:11:11,282 - CClassifierMulticlassOVA.0x7f0cdc0ecc18 - INFO - Training against class: 4\n",
      "2020-05-20 12:11:12,186 - CClassifierSVM.0x7f0cdc0496d8 - INFO - Training SVM with parameters: {'preprocess': None, 'n_jobs': 1, 'C': 0.001, 'class_weight': None, 'grad_sampling': 1.0, 'store_dual_vars': None, 'kernel': CKernelRBF{'gamma': 100.0, 'rv': CArray(5769, 784)(dense: [[0. 0. 0. ... 0. 0. 0.] [0. 0. 0. ... 0. 0. 0.] [0. 0. 0. ... 0. 0. 0.] ... [0. 0. 0. ... 0. 0. 0.] [0. 0. 0. ... 0. 0. 0.] [0. 0. 0. ... 0. 0. 0.]]), 'preprocess': None, 'n_jobs': 1}}\n",
      "2020-05-20 12:11:25,997 - CClassifierMulticlassOVA.0x7f0cdc0ecc18 - INFO - Training against class: 5\n",
      "2020-05-20 12:11:26,886 - CClassifierSVM.0x7f0cdc0499e8 - INFO - Training SVM with parameters: {'preprocess': None, 'n_jobs': 1, 'C': 0.001, 'class_weight': None, 'grad_sampling': 1.0, 'store_dual_vars': None, 'kernel': CKernelRBF{'gamma': 100.0, 'rv': CArray(5259, 784)(dense: [[0. 0. 0. ... 0. 0. 0.] [0. 0. 0. ... 0. 0. 0.] [0. 0. 0. ... 0. 0. 0.] ... [0. 0. 0. ... 0. 0. 0.] [0. 0. 0. ... 0. 0. 0.] [0. 0. 0. ... 0. 0. 0.]]), 'preprocess': None, 'n_jobs': 1}}\n",
      "2020-05-20 12:11:41,267 - CClassifierMulticlassOVA.0x7f0cdc0ecc18 - INFO - Training against class: 6\n",
      "2020-05-20 12:11:42,160 - CClassifierSVM.0x7f0cdc049a58 - INFO - Training SVM with parameters: {'preprocess': None, 'n_jobs': 1, 'C': 0.001, 'class_weight': None, 'grad_sampling': 1.0, 'store_dual_vars': None, 'kernel': CKernelRBF{'gamma': 100.0, 'rv': CArray(5898, 784)(dense: [[0. 0. 0. ... 0. 0. 0.] [0. 0. 0. ... 0. 0. 0.] [0. 0. 0. ... 0. 0. 0.] ... [0. 0. 0. ... 0. 0. 0.] [0. 0. 0. ... 0. 0. 0.] [0. 0. 0. ... 0. 0. 0.]]), 'preprocess': None, 'n_jobs': 1}}\n",
      "2020-05-20 12:11:56,681 - CClassifierMulticlassOVA.0x7f0cdc0ecc18 - INFO - Training against class: 7\n",
      "2020-05-20 12:11:57,654 - CClassifierSVM.0x7f0cdc049ac8 - INFO - Training SVM with parameters: {'preprocess': None, 'n_jobs': 1, 'C': 0.001, 'class_weight': None, 'grad_sampling': 1.0, 'store_dual_vars': None, 'kernel': CKernelRBF{'gamma': 100.0, 'rv': CArray(6219, 784)(dense: [[0. 0. 0. ... 0. 0. 0.] [0. 0. 0. ... 0. 0. 0.] [0. 0. 0. ... 0. 0. 0.] ... [0. 0. 0. ... 0. 0. 0.] [0. 0. 0. ... 0. 0. 0.] [0. 0. 0. ... 0. 0. 0.]]), 'preprocess': None, 'n_jobs': 1}}\n",
      "2020-05-20 12:12:12,295 - CClassifierMulticlassOVA.0x7f0cdc0ecc18 - INFO - Training against class: 8\n",
      "2020-05-20 12:12:13,175 - CClassifierSVM.0x7f0cdc049b38 - INFO - Training SVM with parameters: {'preprocess': None, 'n_jobs': 1, 'C': 0.001, 'class_weight': None, 'grad_sampling': 1.0, 'store_dual_vars': None, 'kernel': CKernelRBF{'gamma': 100.0, 'rv': CArray(6075, 784)(dense: [[0. 0. 0. ... 0. 0. 0.] [0. 0. 0. ... 0. 0. 0.] [0. 0. 0. ... 0. 0. 0.] ... [0. 0. 0. ... 0. 0. 0.] [0. 0. 0. ... 0. 0. 0.] [0. 0. 0. ... 0. 0. 0.]]), 'preprocess': None, 'n_jobs': 1}}\n",
      "2020-05-20 12:12:27,419 - CClassifierMulticlassOVA.0x7f0cdc0ecc18 - INFO - Training against class: 9\n",
      "2020-05-20 12:12:28,296 - CClassifierSVM.0x7f0cdc049ba8 - INFO - Training SVM with parameters: {'preprocess': None, 'n_jobs': 1, 'C': 0.001, 'class_weight': None, 'grad_sampling': 1.0, 'store_dual_vars': None, 'kernel': CKernelRBF{'gamma': 100.0, 'rv': CArray(5976, 784)(dense: [[0. 0. 0. ... 0. 0. 0.] [0. 0. 0. ... 0. 0. 0.] [0. 0. 0. ... 0. 0. 0.] ... [0. 0. 0. ... 0. 0. 0.] [0. 0. 0. ... 0. 0. 0.] [0. 0. 0. ... 0. 0. 0.]]), 'preprocess': None, 'n_jobs': 1}}\n",
      "2020-05-20 12:12:58,793 - CClassifierMulticlassOVA.0x7f0cdc0ecc18 - INFO - Training against class: 0\n",
      "2020-05-20 12:12:59,694 - CClassifierSVM.0x7f0cdc0ae518 - INFO - Training SVM with parameters: {'preprocess': None, 'n_jobs': 1, 'C': 0.001, 'class_weight': None, 'grad_sampling': 1.0, 'store_dual_vars': None, 'kernel': CKernelRBF{'gamma': 100.0, 'rv': CArray(5757, 784)(dense: [[0. 0. 0. ... 0. 0. 0.] [0. 0. 0. ... 0. 0. 0.] [0. 0. 0. ... 0. 0. 0.] ... [0. 0. 0. ... 0. 0. 0.] [0. 0. 0. ... 0. 0. 0.] [0. 0. 0. ... 0. 0. 0.]]), 'preprocess': None, 'n_jobs': 1}}\n",
      "2020-05-20 12:13:14,158 - CClassifierMulticlassOVA.0x7f0cdc0ecc18 - INFO - Training against class: 1\n",
      "2020-05-20 12:13:15,071 - CClassifierSVM.0x7f0cdc049828 - INFO - Training SVM with parameters: {'preprocess': None, 'n_jobs': 1, 'C': 0.001, 'class_weight': None, 'grad_sampling': 1.0, 'store_dual_vars': None, 'kernel': CKernelRBF{'gamma': 100.0, 'rv': CArray(6960, 784)(dense: [[0. 0. 0. ... 0. 0. 0.] [0. 0. 0. ... 0. 0. 0.] [0. 0. 0. ... 0. 0. 0.] ... [0. 0. 0. ... 0. 0. 0.] [0. 0. 0. ... 0. 0. 0.] [0. 0. 0. ... 0. 0. 0.]]), 'preprocess': None, 'n_jobs': 1}}\n",
      "2020-05-20 12:13:30,034 - CClassifierMulticlassOVA.0x7f0cdc0ecc18 - INFO - Training against class: 2\n",
      "2020-05-20 12:13:31,002 - CClassifierSVM.0x7f0cdc049940 - INFO - Training SVM with parameters: {'preprocess': None, 'n_jobs': 1, 'C': 0.001, 'class_weight': None, 'grad_sampling': 1.0, 'store_dual_vars': None, 'kernel': CKernelRBF{'gamma': 100.0, 'rv': CArray(6084, 784)(dense: [[0. 0. 0. ... 0. 0. 0.] [0. 0. 0. ... 0. 0. 0.] [0. 0. 0. ... 0. 0. 0.] ... [0. 0. 0. ... 0. 0. 0.] [0. 0. 0. ... 0. 0. 0.] [0. 0. 0. ... 0. 0. 0.]]), 'preprocess': None, 'n_jobs': 1}}\n",
      "2020-05-20 12:13:45,814 - CClassifierMulticlassOVA.0x7f0cdc0ecc18 - INFO - Training against class: 3\n",
      "2020-05-20 12:13:46,713 - CClassifierSVM.0x7f0cdc0498d0 - INFO - Training SVM with parameters: {'preprocess': None, 'n_jobs': 1, 'C': 0.001, 'class_weight': None, 'grad_sampling': 1.0, 'store_dual_vars': None, 'kernel': CKernelRBF{'gamma': 100.0, 'rv': CArray(6177, 784)(dense: [[0. 0. 0. ... 0. 0. 0.] [0. 0. 0. ... 0. 0. 0.] [0. 0. 0. ... 0. 0. 0.] ... [0. 0. 0. ... 0. 0. 0.] [0. 0. 0. ... 0. 0. 0.] [0. 0. 0. ... 0. 0. 0.]]), 'preprocess': None, 'n_jobs': 1}}\n",
      "2020-05-20 12:14:00,331 - CClassifierMulticlassOVA.0x7f0cdc0ecc18 - INFO - Training against class: 4\n",
      "2020-05-20 12:14:01,218 - CClassifierSVM.0x7f0cdc0496d8 - INFO - Training SVM with parameters: {'preprocess': None, 'n_jobs': 1, 'C': 0.001, 'class_weight': None, 'grad_sampling': 1.0, 'store_dual_vars': None, 'kernel': CKernelRBF{'gamma': 100.0, 'rv': CArray(5808, 784)(dense: [[0. 0. 0. ... 0. 0. 0.] [0. 0. 0. ... 0. 0. 0.] [0. 0. 0. ... 0. 0. 0.] ... [0. 0. 0. ... 0. 0. 0.] [0. 0. 0. ... 0. 0. 0.] [0. 0. 0. ... 0. 0. 0.]]), 'preprocess': None, 'n_jobs': 1}}\n",
      "2020-05-20 12:14:15,667 - CClassifierMulticlassOVA.0x7f0cdc0ecc18 - INFO - Training against class: 5\n",
      "2020-05-20 12:14:16,640 - CClassifierSVM.0x7f0cdc0499e8 - INFO - Training SVM with parameters: {'preprocess': None, 'n_jobs': 1, 'C': 0.001, 'class_weight': None, 'grad_sampling': 1.0, 'store_dual_vars': None, 'kernel': CKernelRBF{'gamma': 100.0, 'rv': CArray(5406, 784)(dense: [[0. 0. 0. ... 0. 0. 0.] [0. 0. 0. ... 0. 0. 0.] [0. 0. 0. ... 0. 0. 0.] ... [0. 0. 0. ... 0. 0. 0.] [0. 0. 0. ... 0. 0. 0.] [0. 0. 0. ... 0. 0. 0.]]), 'preprocess': None, 'n_jobs': 1}}\n",
      "2020-05-20 12:14:30,609 - CClassifierMulticlassOVA.0x7f0cdc0ecc18 - INFO - Training against class: 6\n",
      "2020-05-20 12:14:31,530 - CClassifierSVM.0x7f0cdc049a58 - INFO - Training SVM with parameters: {'preprocess': None, 'n_jobs': 1, 'C': 0.001, 'class_weight': None, 'grad_sampling': 1.0, 'store_dual_vars': None, 'kernel': CKernelRBF{'gamma': 100.0, 'rv': CArray(5811, 784)(dense: [[0. 0. 0. ... 0. 0. 0.] [0. 0. 0. ... 0. 0. 0.] [0. 0. 0. ... 0. 0. 0.] ... [0. 0. 0. ... 0. 0. 0.] [0. 0. 0. ... 0. 0. 0.] [0. 0. 0. ... 0. 0. 0.]]), 'preprocess': None, 'n_jobs': 1}}\n",
      "2020-05-20 12:14:45,425 - CClassifierMulticlassOVA.0x7f0cdc0ecc18 - INFO - Training against class: 7\n",
      "2020-05-20 12:14:46,317 - CClassifierSVM.0x7f0cdc049ac8 - INFO - Training SVM with parameters: {'preprocess': None, 'n_jobs': 1, 'C': 0.001, 'class_weight': None, 'grad_sampling': 1.0, 'store_dual_vars': None, 'kernel': CKernelRBF{'gamma': 100.0, 'rv': CArray(6147, 784)(dense: [[0. 0. 0. ... 0. 0. 0.] [0. 0. 0. ... 0. 0. 0.] [0. 0. 0. ... 0. 0. 0.] ... [0. 0. 0. ... 0. 0. 0.] [0. 0. 0. ... 0. 0. 0.] [0. 0. 0. ... 0. 0. 0.]]), 'preprocess': None, 'n_jobs': 1}}\n",
      "2020-05-20 12:15:00,412 - CClassifierMulticlassOVA.0x7f0cdc0ecc18 - INFO - Training against class: 8\n",
      "2020-05-20 12:15:01,379 - CClassifierSVM.0x7f0cdc049b38 - INFO - Training SVM with parameters: {'preprocess': None, 'n_jobs': 1, 'C': 0.001, 'class_weight': None, 'grad_sampling': 1.0, 'store_dual_vars': None, 'kernel': CKernelRBF{'gamma': 100.0, 'rv': CArray(5856, 784)(dense: [[0. 0. 0. ... 0. 0. 0.] [0. 0. 0. ... 0. 0. 0.] [0. 0. 0. ... 0. 0. 0.] ... [0. 0. 0. ... 0. 0. 0.] [0. 0. 0. ... 0. 0. 0.] [0. 0. 0. ... 0. 0. 0.]]), 'preprocess': None, 'n_jobs': 1}}\n",
      "2020-05-20 12:15:15,566 - CClassifierMulticlassOVA.0x7f0cdc0ecc18 - INFO - Training against class: 9\n",
      "2020-05-20 12:15:16,531 - CClassifierSVM.0x7f0cdc049ba8 - INFO - Training SVM with parameters: {'preprocess': None, 'n_jobs': 1, 'C': 0.001, 'class_weight': None, 'grad_sampling': 1.0, 'store_dual_vars': None, 'kernel': CKernelRBF{'gamma': 100.0, 'rv': CArray(5994, 784)(dense: [[0. 0. 0. ... 0. 0. 0.] [0. 0. 0. ... 0. 0. 0.] [0. 0. 0. ... 0. 0. 0.] ... [0. 0. 0. ... 0. 0. 0.] [0. 0. 0. ... 0. 0. 0.] [0. 0. 0. ... 0. 0. 0.]]), 'preprocess': None, 'n_jobs': 1}}\n",
      "2020-05-20 12:15:46,868 - CPerfEvaluatorXVal.0x7f0cdc049c18 - INFO - Params: {'C': 0.001, 'kernel.gamma': 100} - Score: 0.11469999999999998\n",
      "2020-05-20 12:15:47,000 - CClassifierMulticlassOVA.0x7f0cdc0ecc18 - INFO - Training against class: 0\n",
      "2020-05-20 12:15:47,952 - CClassifierSVM.0x7f0cdc0ae518 - INFO - Training SVM with parameters: {'preprocess': None, 'n_jobs': 1, 'C': 0.001, 'class_weight': None, 'grad_sampling': 1.0, 'store_dual_vars': None, 'kernel': CKernelRBF{'gamma': 10.0, 'rv': CArray(5793, 784)(dense: [[0. 0. 0. ... 0. 0. 0.] [0. 0. 0. ... 0. 0. 0.] [0. 0. 0. ... 0. 0. 0.] ... [0. 0. 0. ... 0. 0. 0.] [0. 0. 0. ... 0. 0. 0.] [0. 0. 0. ... 0. 0. 0.]]), 'preprocess': None, 'n_jobs': 1}}\n",
      "2020-05-20 12:16:04,253 - CClassifierMulticlassOVA.0x7f0cdc0ecc18 - INFO - Training against class: 1\n",
      "2020-05-20 12:16:05,209 - CClassifierSVM.0x7f0cdc049828 - INFO - Training SVM with parameters: {'preprocess': None, 'n_jobs': 1, 'C': 0.001, 'class_weight': None, 'grad_sampling': 1.0, 'store_dual_vars': None, 'kernel': CKernelRBF{'gamma': 10.0, 'rv': CArray(6867, 784)(dense: [[0. 0. 0. ... 0. 0. 0.] [0. 0. 0. ... 0. 0. 0.] [0. 0. 0. ... 0. 0. 0.] ... [0. 0. 0. ... 0. 0. 0.] [0. 0. 0. ... 0. 0. 0.] [0. 0. 0. ... 0. 0. 0.]]), 'preprocess': None, 'n_jobs': 1}}\n",
      "2020-05-20 12:16:21,795 - CClassifierMulticlassOVA.0x7f0cdc0ecc18 - INFO - Training against class: 2\n",
      "2020-05-20 12:16:22,748 - CClassifierSVM.0x7f0cdc049940 - INFO - Training SVM with parameters: {'preprocess': None, 'n_jobs': 1, 'C': 0.001, 'class_weight': None, 'grad_sampling': 1.0, 'store_dual_vars': None, 'kernel': CKernelRBF{'gamma': 10.0, 'rv': CArray(6054, 784)(dense: [[0. 0. 0. ... 0. 0. 0.] [0. 0. 0. ... 0. 0. 0.] [0. 0. 0. ... 0. 0. 0.] ... [0. 0. 0. ... 0. 0. 0.] [0. 0. 0. ... 0. 0. 0.] [0. 0. 0. ... 0. 0. 0.]]), 'preprocess': None, 'n_jobs': 1}}\n",
      "2020-05-20 12:16:39,488 - CClassifierMulticlassOVA.0x7f0cdc0ecc18 - INFO - Training against class: 3\n",
      "2020-05-20 12:16:40,409 - CClassifierSVM.0x7f0cdc0498d0 - INFO - Training SVM with parameters: {'preprocess': None, 'n_jobs': 1, 'C': 0.001, 'class_weight': None, 'grad_sampling': 1.0, 'store_dual_vars': None, 'kernel': CKernelRBF{'gamma': 10.0, 'rv': CArray(6162, 784)(dense: [[0. 0. 0. ... 0. 0. 0.] [0. 0. 0. ... 0. 0. 0.] [0. 0. 0. ... 0. 0. 0.] ... [0. 0. 0. ... 0. 0. 0.] [0. 0. 0. ... 0. 0. 0.] [0. 0. 0. ... 0. 0. 0.]]), 'preprocess': None, 'n_jobs': 1}}\n",
      "2020-05-20 12:16:56,707 - CClassifierMulticlassOVA.0x7f0cdc0ecc18 - INFO - Training against class: 4\n",
      "2020-05-20 12:16:57,752 - CClassifierSVM.0x7f0cdc0496d8 - INFO - Training SVM with parameters: {'preprocess': None, 'n_jobs': 1, 'C': 0.001, 'class_weight': None, 'grad_sampling': 1.0, 'store_dual_vars': None, 'kernel': CKernelRBF{'gamma': 10.0, 'rv': CArray(5799, 784)(dense: [[0. 0. 0. ... 0. 0. 0.] [0. 0. 0. ... 0. 0. 0.] [0. 0. 0. ... 0. 0. 0.] ... [0. 0. 0. ... 0. 0. 0.] [0. 0. 0. ... 0. 0. 0.] [0. 0. 0. ... 0. 0. 0.]]), 'preprocess': None, 'n_jobs': 1}}\n",
      "2020-05-20 12:17:13,693 - CClassifierMulticlassOVA.0x7f0cdc0ecc18 - INFO - Training against class: 5\n",
      "2020-05-20 12:17:14,552 - CClassifierSVM.0x7f0cdc0499e8 - INFO - Training SVM with parameters: {'preprocess': None, 'n_jobs': 1, 'C': 0.001, 'class_weight': None, 'grad_sampling': 1.0, 'store_dual_vars': None, 'kernel': CKernelRBF{'gamma': 10.0, 'rv': CArray(5385, 784)(dense: [[0. 0. 0. ... 0. 0. 0.] [0. 0. 0. ... 0. 0. 0.] [0. 0. 0. ... 0. 0. 0.] ... [0. 0. 0. ... 0. 0. 0.] [0. 0. 0. ... 0. 0. 0.] [0. 0. 0. ... 0. 0. 0.]]), 'preprocess': None, 'n_jobs': 1}}\n",
      "2020-05-20 12:17:30,482 - CClassifierMulticlassOVA.0x7f0cdc0ecc18 - INFO - Training against class: 6\n",
      "2020-05-20 12:17:31,384 - CClassifierSVM.0x7f0cdc049a58 - INFO - Training SVM with parameters: {'preprocess': None, 'n_jobs': 1, 'C': 0.001, 'class_weight': None, 'grad_sampling': 1.0, 'store_dual_vars': None, 'kernel': CKernelRBF{'gamma': 10.0, 'rv': CArray(5787, 784)(dense: [[0. 0. 0. ... 0. 0. 0.] [0. 0. 0. ... 0. 0. 0.] [0. 0. 0. ... 0. 0. 0.] ... [0. 0. 0. ... 0. 0. 0.] [0. 0. 0. ... 0. 0. 0.] [0. 0. 0. ... 0. 0. 0.]]), 'preprocess': None, 'n_jobs': 1}}\n",
      "2020-05-20 12:17:47,485 - CClassifierMulticlassOVA.0x7f0cdc0ecc18 - INFO - Training against class: 7\n",
      "2020-05-20 12:17:48,573 - CClassifierSVM.0x7f0cdc049ac8 - INFO - Training SVM with parameters: {'preprocess': None, 'n_jobs': 1, 'C': 0.001, 'class_weight': None, 'grad_sampling': 1.0, 'store_dual_vars': None, 'kernel': CKernelRBF{'gamma': 10.0, 'rv': CArray(6168, 784)(dense: [[0. 0. 0. ... 0. 0. 0.] [0. 0. 0. ... 0. 0. 0.] [0. 0. 0. ... 0. 0. 0.] ... [0. 0. 0. ... 0. 0. 0.] [0. 0. 0. ... 0. 0. 0.] [0. 0. 0. ... 0. 0. 0.]]), 'preprocess': None, 'n_jobs': 1}}\n",
      "2020-05-20 12:18:05,774 - CClassifierMulticlassOVA.0x7f0cdc0ecc18 - INFO - Training against class: 8\n",
      "2020-05-20 12:18:06,757 - CClassifierSVM.0x7f0cdc049b38 - INFO - Training SVM with parameters: {'preprocess': None, 'n_jobs': 1, 'C': 0.001, 'class_weight': None, 'grad_sampling': 1.0, 'store_dual_vars': None, 'kernel': CKernelRBF{'gamma': 10.0, 'rv': CArray(5853, 784)(dense: [[0. 0. 0. ... 0. 0. 0.] [0. 0. 0. ... 0. 0. 0.] [0. 0. 0. ... 0. 0. 0.] ... [0. 0. 0. ... 0. 0. 0.] [0. 0. 0. ... 0. 0. 0.] [0. 0. 0. ... 0. 0. 0.]]), 'preprocess': None, 'n_jobs': 1}}\n",
      "2020-05-20 12:18:24,006 - CClassifierMulticlassOVA.0x7f0cdc0ecc18 - INFO - Training against class: 9\n",
      "2020-05-20 12:18:25,109 - CClassifierSVM.0x7f0cdc049ba8 - INFO - Training SVM with parameters: {'preprocess': None, 'n_jobs': 1, 'C': 0.001, 'class_weight': None, 'grad_sampling': 1.0, 'store_dual_vars': None, 'kernel': CKernelRBF{'gamma': 10.0, 'rv': CArray(6132, 784)(dense: [[0. 0. 0. ... 0. 0. 0.] [0. 0. 0. ... 0. 0. 0.] [0. 0. 0. ... 0. 0. 0.] ... [0. 0. 0. ... 0. 0. 0.] [0. 0. 0. ... 0. 0. 0.] [0. 0. 0. ... 0. 0. 0.]]), 'preprocess': None, 'n_jobs': 1}}\n",
      "2020-05-20 12:18:59,645 - CClassifierMulticlassOVA.0x7f0cdc0ecc18 - INFO - Training against class: 0\n",
      "2020-05-20 12:19:00,556 - CClassifierSVM.0x7f0cdc0ae518 - INFO - Training SVM with parameters: {'preprocess': None, 'n_jobs': 1, 'C': 0.001, 'class_weight': None, 'grad_sampling': 1.0, 'store_dual_vars': None, 'kernel': CKernelRBF{'gamma': 10.0, 'rv': CArray(5868, 784)(dense: [[0. 0. 0. ... 0. 0. 0.] [0. 0. 0. ... 0. 0. 0.] [0. 0. 0. ... 0. 0. 0.] ... [0. 0. 0. ... 0. 0. 0.] [0. 0. 0. ... 0. 0. 0.] [0. 0. 0. ... 0. 0. 0.]]), 'preprocess': None, 'n_jobs': 1}}\n",
      "2020-05-20 12:19:16,156 - CClassifierMulticlassOVA.0x7f0cdc0ecc18 - INFO - Training against class: 1\n",
      "2020-05-20 12:19:17,027 - CClassifierSVM.0x7f0cdc049828 - INFO - Training SVM with parameters: {'preprocess': None, 'n_jobs': 1, 'C': 0.001, 'class_weight': None, 'grad_sampling': 1.0, 'store_dual_vars': None, 'kernel': CKernelRBF{'gamma': 10.0, 'rv': CArray(6819, 784)(dense: [[0. 0. 0. ... 0. 0. 0.] [0. 0. 0. ... 0. 0. 0.] [0. 0. 0. ... 0. 0. 0.] ... [0. 0. 0. ... 0. 0. 0.] [0. 0. 0. ... 0. 0. 0.] [0. 0. 0. ... 0. 0. 0.]]), 'preprocess': None, 'n_jobs': 1}}\n",
      "2020-05-20 12:19:33,402 - CClassifierMulticlassOVA.0x7f0cdc0ecc18 - INFO - Training against class: 2\n",
      "2020-05-20 12:19:34,254 - CClassifierSVM.0x7f0cdc049940 - INFO - Training SVM with parameters: {'preprocess': None, 'n_jobs': 1, 'C': 0.001, 'class_weight': None, 'grad_sampling': 1.0, 'store_dual_vars': None, 'kernel': CKernelRBF{'gamma': 10.0, 'rv': CArray(6012, 784)(dense: [[0. 0. 0. ... 0. 0. 0.] [0. 0. 0. ... 0. 0. 0.] [0. 0. 0. ... 0. 0. 0.] ... [0. 0. 0. ... 0. 0. 0.] [0. 0. 0. ... 0. 0. 0.] [0. 0. 0. ... 0. 0. 0.]]), 'preprocess': None, 'n_jobs': 1}}\n",
      "2020-05-20 12:19:50,001 - CClassifierMulticlassOVA.0x7f0cdc0ecc18 - INFO - Training against class: 3\n",
      "2020-05-20 12:19:50,901 - CClassifierSVM.0x7f0cdc0498d0 - INFO - Training SVM with parameters: {'preprocess': None, 'n_jobs': 1, 'C': 0.001, 'class_weight': None, 'grad_sampling': 1.0, 'store_dual_vars': None, 'kernel': CKernelRBF{'gamma': 10.0, 'rv': CArray(6105, 784)(dense: [[0. 0. 0. ... 0. 0. 0.] [0. 0. 0. ... 0. 0. 0.] [0. 0. 0. ... 0. 0. 0.] ... [0. 0. 0. ... 0. 0. 0.] [0. 0. 0. ... 0. 0. 0.] [0. 0. 0. ... 0. 0. 0.]]), 'preprocess': None, 'n_jobs': 1}}\n",
      "2020-05-20 12:20:06,728 - CClassifierMulticlassOVA.0x7f0cdc0ecc18 - INFO - Training against class: 4\n",
      "2020-05-20 12:20:07,516 - CClassifierSVM.0x7f0cdc0496d8 - INFO - Training SVM with parameters: {'preprocess': None, 'n_jobs': 1, 'C': 0.001, 'class_weight': None, 'grad_sampling': 1.0, 'store_dual_vars': None, 'kernel': CKernelRBF{'gamma': 10.0, 'rv': CArray(5769, 784)(dense: [[0. 0. 0. ... 0. 0. 0.] [0. 0. 0. ... 0. 0. 0.] [0. 0. 0. ... 0. 0. 0.] ... [0. 0. 0. ... 0. 0. 0.] [0. 0. 0. ... 0. 0. 0.] [0. 0. 0. ... 0. 0. 0.]]), 'preprocess': None, 'n_jobs': 1}}\n",
      "2020-05-20 12:20:23,424 - CClassifierMulticlassOVA.0x7f0cdc0ecc18 - INFO - Training against class: 5\n",
      "2020-05-20 12:20:24,362 - CClassifierSVM.0x7f0cdc0499e8 - INFO - Training SVM with parameters: {'preprocess': None, 'n_jobs': 1, 'C': 0.001, 'class_weight': None, 'grad_sampling': 1.0, 'store_dual_vars': None, 'kernel': CKernelRBF{'gamma': 10.0, 'rv': CArray(5259, 784)(dense: [[0. 0. 0. ... 0. 0. 0.] [0. 0. 0. ... 0. 0. 0.] [0. 0. 0. ... 0. 0. 0.] ... [0. 0. 0. ... 0. 0. 0.] [0. 0. 0. ... 0. 0. 0.] [0. 0. 0. ... 0. 0. 0.]]), 'preprocess': None, 'n_jobs': 1}}\n",
      "2020-05-20 12:20:40,137 - CClassifierMulticlassOVA.0x7f0cdc0ecc18 - INFO - Training against class: 6\n",
      "2020-05-20 12:20:40,980 - CClassifierSVM.0x7f0cdc049a58 - INFO - Training SVM with parameters: {'preprocess': None, 'n_jobs': 1, 'C': 0.001, 'class_weight': None, 'grad_sampling': 1.0, 'store_dual_vars': None, 'kernel': CKernelRBF{'gamma': 10.0, 'rv': CArray(5898, 784)(dense: [[0. 0. 0. ... 0. 0. 0.] [0. 0. 0. ... 0. 0. 0.] [0. 0. 0. ... 0. 0. 0.] ... [0. 0. 0. ... 0. 0. 0.] [0. 0. 0. ... 0. 0. 0.] [0. 0. 0. ... 0. 0. 0.]]), 'preprocess': None, 'n_jobs': 1}}\n",
      "2020-05-20 12:20:57,113 - CClassifierMulticlassOVA.0x7f0cdc0ecc18 - INFO - Training against class: 7\n",
      "2020-05-20 12:20:58,115 - CClassifierSVM.0x7f0cdc049ac8 - INFO - Training SVM with parameters: {'preprocess': None, 'n_jobs': 1, 'C': 0.001, 'class_weight': None, 'grad_sampling': 1.0, 'store_dual_vars': None, 'kernel': CKernelRBF{'gamma': 10.0, 'rv': CArray(6219, 784)(dense: [[0. 0. 0. ... 0. 0. 0.] [0. 0. 0. ... 0. 0. 0.] [0. 0. 0. ... 0. 0. 0.] ... [0. 0. 0. ... 0. 0. 0.] [0. 0. 0. ... 0. 0. 0.] [0. 0. 0. ... 0. 0. 0.]]), 'preprocess': None, 'n_jobs': 1}}\n",
      "2020-05-20 12:21:14,417 - CClassifierMulticlassOVA.0x7f0cdc0ecc18 - INFO - Training against class: 8\n",
      "2020-05-20 12:21:15,306 - CClassifierSVM.0x7f0cdc049b38 - INFO - Training SVM with parameters: {'preprocess': None, 'n_jobs': 1, 'C': 0.001, 'class_weight': None, 'grad_sampling': 1.0, 'store_dual_vars': None, 'kernel': CKernelRBF{'gamma': 10.0, 'rv': CArray(6075, 784)(dense: [[0. 0. 0. ... 0. 0. 0.] [0. 0. 0. ... 0. 0. 0.] [0. 0. 0. ... 0. 0. 0.] ... [0. 0. 0. ... 0. 0. 0.] [0. 0. 0. ... 0. 0. 0.] [0. 0. 0. ... 0. 0. 0.]]), 'preprocess': None, 'n_jobs': 1}}\n",
      "2020-05-20 12:21:31,184 - CClassifierMulticlassOVA.0x7f0cdc0ecc18 - INFO - Training against class: 9\n",
      "2020-05-20 12:21:32,053 - CClassifierSVM.0x7f0cdc049ba8 - INFO - Training SVM with parameters: {'preprocess': None, 'n_jobs': 1, 'C': 0.001, 'class_weight': None, 'grad_sampling': 1.0, 'store_dual_vars': None, 'kernel': CKernelRBF{'gamma': 10.0, 'rv': CArray(5976, 784)(dense: [[0. 0. 0. ... 0. 0. 0.] [0. 0. 0. ... 0. 0. 0.] [0. 0. 0. ... 0. 0. 0.] ... [0. 0. 0. ... 0. 0. 0.] [0. 0. 0. ... 0. 0. 0.] [0. 0. 0. ... 0. 0. 0.]]), 'preprocess': None, 'n_jobs': 1}}\n",
      "2020-05-20 12:22:06,775 - CClassifierMulticlassOVA.0x7f0cdc0ecc18 - INFO - Training against class: 0\n",
      "2020-05-20 12:22:07,641 - CClassifierSVM.0x7f0cdc0ae518 - INFO - Training SVM with parameters: {'preprocess': None, 'n_jobs': 1, 'C': 0.001, 'class_weight': None, 'grad_sampling': 1.0, 'store_dual_vars': None, 'kernel': CKernelRBF{'gamma': 10.0, 'rv': CArray(5757, 784)(dense: [[0. 0. 0. ... 0. 0. 0.] [0. 0. 0. ... 0. 0. 0.] [0. 0. 0. ... 0. 0. 0.] ... [0. 0. 0. ... 0. 0. 0.] [0. 0. 0. ... 0. 0. 0.] [0. 0. 0. ... 0. 0. 0.]]), 'preprocess': None, 'n_jobs': 1}}\n",
      "2020-05-20 12:22:23,814 - CClassifierMulticlassOVA.0x7f0cdc0ecc18 - INFO - Training against class: 1\n",
      "2020-05-20 12:22:24,712 - CClassifierSVM.0x7f0cdc049828 - INFO - Training SVM with parameters: {'preprocess': None, 'n_jobs': 1, 'C': 0.001, 'class_weight': None, 'grad_sampling': 1.0, 'store_dual_vars': None, 'kernel': CKernelRBF{'gamma': 10.0, 'rv': CArray(6960, 784)(dense: [[0. 0. 0. ... 0. 0. 0.] [0. 0. 0. ... 0. 0. 0.] [0. 0. 0. ... 0. 0. 0.] ... [0. 0. 0. ... 0. 0. 0.] [0. 0. 0. ... 0. 0. 0.] [0. 0. 0. ... 0. 0. 0.]]), 'preprocess': None, 'n_jobs': 1}}\n",
      "2020-05-20 12:22:41,647 - CClassifierMulticlassOVA.0x7f0cdc0ecc18 - INFO - Training against class: 2\n",
      "2020-05-20 12:22:42,679 - CClassifierSVM.0x7f0cdc049940 - INFO - Training SVM with parameters: {'preprocess': None, 'n_jobs': 1, 'C': 0.001, 'class_weight': None, 'grad_sampling': 1.0, 'store_dual_vars': None, 'kernel': CKernelRBF{'gamma': 10.0, 'rv': CArray(6084, 784)(dense: [[0. 0. 0. ... 0. 0. 0.] [0. 0. 0. ... 0. 0. 0.] [0. 0. 0. ... 0. 0. 0.] ... [0. 0. 0. ... 0. 0. 0.] [0. 0. 0. ... 0. 0. 0.] [0. 0. 0. ... 0. 0. 0.]]), 'preprocess': None, 'n_jobs': 1}}\n",
      "2020-05-20 12:22:59,389 - CClassifierMulticlassOVA.0x7f0cdc0ecc18 - INFO - Training against class: 3\n",
      "2020-05-20 12:23:00,325 - CClassifierSVM.0x7f0cdc0498d0 - INFO - Training SVM with parameters: {'preprocess': None, 'n_jobs': 1, 'C': 0.001, 'class_weight': None, 'grad_sampling': 1.0, 'store_dual_vars': None, 'kernel': CKernelRBF{'gamma': 10.0, 'rv': CArray(6177, 784)(dense: [[0. 0. 0. ... 0. 0. 0.] [0. 0. 0. ... 0. 0. 0.] [0. 0. 0. ... 0. 0. 0.] ... [0. 0. 0. ... 0. 0. 0.] [0. 0. 0. ... 0. 0. 0.] [0. 0. 0. ... 0. 0. 0.]]), 'preprocess': None, 'n_jobs': 1}}\n",
      "2020-05-20 12:23:16,232 - CClassifierMulticlassOVA.0x7f0cdc0ecc18 - INFO - Training against class: 4\n",
      "2020-05-20 12:23:17,096 - CClassifierSVM.0x7f0cdc0496d8 - INFO - Training SVM with parameters: {'preprocess': None, 'n_jobs': 1, 'C': 0.001, 'class_weight': None, 'grad_sampling': 1.0, 'store_dual_vars': None, 'kernel': CKernelRBF{'gamma': 10.0, 'rv': CArray(5808, 784)(dense: [[0. 0. 0. ... 0. 0. 0.] [0. 0. 0. ... 0. 0. 0.] [0. 0. 0. ... 0. 0. 0.] ... [0. 0. 0. ... 0. 0. 0.] [0. 0. 0. ... 0. 0. 0.] [0. 0. 0. ... 0. 0. 0.]]), 'preprocess': None, 'n_jobs': 1}}\n",
      "2020-05-20 12:23:32,873 - CClassifierMulticlassOVA.0x7f0cdc0ecc18 - INFO - Training against class: 5\n",
      "2020-05-20 12:23:33,833 - CClassifierSVM.0x7f0cdc0499e8 - INFO - Training SVM with parameters: {'preprocess': None, 'n_jobs': 1, 'C': 0.001, 'class_weight': None, 'grad_sampling': 1.0, 'store_dual_vars': None, 'kernel': CKernelRBF{'gamma': 10.0, 'rv': CArray(5406, 784)(dense: [[0. 0. 0. ... 0. 0. 0.] [0. 0. 0. ... 0. 0. 0.] [0. 0. 0. ... 0. 0. 0.] ... [0. 0. 0. ... 0. 0. 0.] [0. 0. 0. ... 0. 0. 0.] [0. 0. 0. ... 0. 0. 0.]]), 'preprocess': None, 'n_jobs': 1}}\n",
      "2020-05-20 12:23:49,597 - CClassifierMulticlassOVA.0x7f0cdc0ecc18 - INFO - Training against class: 6\n",
      "2020-05-20 12:23:50,535 - CClassifierSVM.0x7f0cdc049a58 - INFO - Training SVM with parameters: {'preprocess': None, 'n_jobs': 1, 'C': 0.001, 'class_weight': None, 'grad_sampling': 1.0, 'store_dual_vars': None, 'kernel': CKernelRBF{'gamma': 10.0, 'rv': CArray(5811, 784)(dense: [[0. 0. 0. ... 0. 0. 0.] [0. 0. 0. ... 0. 0. 0.] [0. 0. 0. ... 0. 0. 0.] ... [0. 0. 0. ... 0. 0. 0.] [0. 0. 0. ... 0. 0. 0.] [0. 0. 0. ... 0. 0. 0.]]), 'preprocess': None, 'n_jobs': 1}}\n",
      "2020-05-20 12:24:06,130 - CClassifierMulticlassOVA.0x7f0cdc0ecc18 - INFO - Training against class: 7\n",
      "2020-05-20 12:24:07,055 - CClassifierSVM.0x7f0cdc049ac8 - INFO - Training SVM with parameters: {'preprocess': None, 'n_jobs': 1, 'C': 0.001, 'class_weight': None, 'grad_sampling': 1.0, 'store_dual_vars': None, 'kernel': CKernelRBF{'gamma': 10.0, 'rv': CArray(6147, 784)(dense: [[0. 0. 0. ... 0. 0. 0.] [0. 0. 0. ... 0. 0. 0.] [0. 0. 0. ... 0. 0. 0.] ... [0. 0. 0. ... 0. 0. 0.] [0. 0. 0. ... 0. 0. 0.] [0. 0. 0. ... 0. 0. 0.]]), 'preprocess': None, 'n_jobs': 1}}\n",
      "2020-05-20 12:24:22,803 - CClassifierMulticlassOVA.0x7f0cdc0ecc18 - INFO - Training against class: 8\n",
      "2020-05-20 12:24:23,619 - CClassifierSVM.0x7f0cdc049b38 - INFO - Training SVM with parameters: {'preprocess': None, 'n_jobs': 1, 'C': 0.001, 'class_weight': None, 'grad_sampling': 1.0, 'store_dual_vars': None, 'kernel': CKernelRBF{'gamma': 10.0, 'rv': CArray(5856, 784)(dense: [[0. 0. 0. ... 0. 0. 0.] [0. 0. 0. ... 0. 0. 0.] [0. 0. 0. ... 0. 0. 0.] ... [0. 0. 0. ... 0. 0. 0.] [0. 0. 0. ... 0. 0. 0.] [0. 0. 0. ... 0. 0. 0.]]), 'preprocess': None, 'n_jobs': 1}}\n",
      "2020-05-20 12:24:39,803 - CClassifierMulticlassOVA.0x7f0cdc0ecc18 - INFO - Training against class: 9\n",
      "2020-05-20 12:24:40,700 - CClassifierSVM.0x7f0cdc049ba8 - INFO - Training SVM with parameters: {'preprocess': None, 'n_jobs': 1, 'C': 0.001, 'class_weight': None, 'grad_sampling': 1.0, 'store_dual_vars': None, 'kernel': CKernelRBF{'gamma': 10.0, 'rv': CArray(5994, 784)(dense: [[0. 0. 0. ... 0. 0. 0.] [0. 0. 0. ... 0. 0. 0.] [0. 0. 0. ... 0. 0. 0.] ... [0. 0. 0. ... 0. 0. 0.] [0. 0. 0. ... 0. 0. 0.] [0. 0. 0. ... 0. 0. 0.]]), 'preprocess': None, 'n_jobs': 1}}\n",
      "2020-05-20 12:25:14,368 - CPerfEvaluatorXVal.0x7f0cdc049c18 - INFO - Params: {'C': 0.001, 'kernel.gamma': 10} - Score: 0.11469999999999998\n",
      "2020-05-20 12:25:14,463 - CClassifierMulticlassOVA.0x7f0cdc0ecc18 - INFO - Training against class: 0\n",
      "2020-05-20 12:25:15,440 - CClassifierSVM.0x7f0cdc0ae518 - INFO - Training SVM with parameters: {'preprocess': None, 'n_jobs': 1, 'C': 0.001, 'class_weight': None, 'grad_sampling': 1.0, 'store_dual_vars': None, 'kernel': CKernelRBF{'gamma': 1.0, 'rv': CArray(5793, 784)(dense: [[0. 0. 0. ... 0. 0. 0.] [0. 0. 0. ... 0. 0. 0.] [0. 0. 0. ... 0. 0. 0.] ... [0. 0. 0. ... 0. 0. 0.] [0. 0. 0. ... 0. 0. 0.] [0. 0. 0. ... 0. 0. 0.]]), 'preprocess': None, 'n_jobs': 1}}\n",
      "2020-05-20 12:25:32,584 - CClassifierMulticlassOVA.0x7f0cdc0ecc18 - INFO - Training against class: 1\n",
      "2020-05-20 12:25:33,455 - CClassifierSVM.0x7f0cdc049828 - INFO - Training SVM with parameters: {'preprocess': None, 'n_jobs': 1, 'C': 0.001, 'class_weight': None, 'grad_sampling': 1.0, 'store_dual_vars': None, 'kernel': CKernelRBF{'gamma': 1.0, 'rv': CArray(6867, 784)(dense: [[0. 0. 0. ... 0. 0. 0.] [0. 0. 0. ... 0. 0. 0.] [0. 0. 0. ... 0. 0. 0.] ... [0. 0. 0. ... 0. 0. 0.] [0. 0. 0. ... 0. 0. 0.] [0. 0. 0. ... 0. 0. 0.]]), 'preprocess': None, 'n_jobs': 1}}\n",
      "2020-05-20 12:25:51,980 - CClassifierMulticlassOVA.0x7f0cdc0ecc18 - INFO - Training against class: 2\n",
      "2020-05-20 12:25:52,880 - CClassifierSVM.0x7f0cdc049940 - INFO - Training SVM with parameters: {'preprocess': None, 'n_jobs': 1, 'C': 0.001, 'class_weight': None, 'grad_sampling': 1.0, 'store_dual_vars': None, 'kernel': CKernelRBF{'gamma': 1.0, 'rv': CArray(6054, 784)(dense: [[0. 0. 0. ... 0. 0. 0.] [0. 0. 0. ... 0. 0. 0.] [0. 0. 0. ... 0. 0. 0.] ... [0. 0. 0. ... 0. 0. 0.] [0. 0. 0. ... 0. 0. 0.] [0. 0. 0. ... 0. 0. 0.]]), 'preprocess': None, 'n_jobs': 1}}\n",
      "2020-05-20 12:26:10,824 - CClassifierMulticlassOVA.0x7f0cdc0ecc18 - INFO - Training against class: 3\n",
      "2020-05-20 12:26:11,697 - CClassifierSVM.0x7f0cdc0498d0 - INFO - Training SVM with parameters: {'preprocess': None, 'n_jobs': 1, 'C': 0.001, 'class_weight': None, 'grad_sampling': 1.0, 'store_dual_vars': None, 'kernel': CKernelRBF{'gamma': 1.0, 'rv': CArray(6162, 784)(dense: [[0. 0. 0. ... 0. 0. 0.] [0. 0. 0. ... 0. 0. 0.] [0. 0. 0. ... 0. 0. 0.] ... [0. 0. 0. ... 0. 0. 0.] [0. 0. 0. ... 0. 0. 0.] [0. 0. 0. ... 0. 0. 0.]]), 'preprocess': None, 'n_jobs': 1}}\n",
      "2020-05-20 12:26:29,893 - CClassifierMulticlassOVA.0x7f0cdc0ecc18 - INFO - Training against class: 4\n",
      "2020-05-20 12:26:30,764 - CClassifierSVM.0x7f0cdc0496d8 - INFO - Training SVM with parameters: {'preprocess': None, 'n_jobs': 1, 'C': 0.001, 'class_weight': None, 'grad_sampling': 1.0, 'store_dual_vars': None, 'kernel': CKernelRBF{'gamma': 1.0, 'rv': CArray(5799, 784)(dense: [[0. 0. 0. ... 0. 0. 0.] [0. 0. 0. ... 0. 0. 0.] [0. 0. 0. ... 0. 0. 0.] ... [0. 0. 0. ... 0. 0. 0.] [0. 0. 0. ... 0. 0. 0.] [0. 0. 0. ... 0. 0. 0.]]), 'preprocess': None, 'n_jobs': 1}}\n",
      "2020-05-20 12:26:48,674 - CClassifierMulticlassOVA.0x7f0cdc0ecc18 - INFO - Training against class: 5\n",
      "2020-05-20 12:26:49,592 - CClassifierSVM.0x7f0cdc0499e8 - INFO - Training SVM with parameters: {'preprocess': None, 'n_jobs': 1, 'C': 0.001, 'class_weight': None, 'grad_sampling': 1.0, 'store_dual_vars': None, 'kernel': CKernelRBF{'gamma': 1.0, 'rv': CArray(5385, 784)(dense: [[0. 0. 0. ... 0. 0. 0.] [0. 0. 0. ... 0. 0. 0.] [0. 0. 0. ... 0. 0. 0.] ... [0. 0. 0. ... 0. 0. 0.] [0. 0. 0. ... 0. 0. 0.] [0. 0. 0. ... 0. 0. 0.]]), 'preprocess': None, 'n_jobs': 1}}\n",
      "2020-05-20 12:27:07,648 - CClassifierMulticlassOVA.0x7f0cdc0ecc18 - INFO - Training against class: 6\n",
      "2020-05-20 12:27:08,563 - CClassifierSVM.0x7f0cdc049a58 - INFO - Training SVM with parameters: {'preprocess': None, 'n_jobs': 1, 'C': 0.001, 'class_weight': None, 'grad_sampling': 1.0, 'store_dual_vars': None, 'kernel': CKernelRBF{'gamma': 1.0, 'rv': CArray(5787, 784)(dense: [[0. 0. 0. ... 0. 0. 0.] [0. 0. 0. ... 0. 0. 0.] [0. 0. 0. ... 0. 0. 0.] ... [0. 0. 0. ... 0. 0. 0.] [0. 0. 0. ... 0. 0. 0.] [0. 0. 0. ... 0. 0. 0.]]), 'preprocess': None, 'n_jobs': 1}}\n",
      "2020-05-20 12:27:26,544 - CClassifierMulticlassOVA.0x7f0cdc0ecc18 - INFO - Training against class: 7\n",
      "2020-05-20 12:27:27,453 - CClassifierSVM.0x7f0cdc049ac8 - INFO - Training SVM with parameters: {'preprocess': None, 'n_jobs': 1, 'C': 0.001, 'class_weight': None, 'grad_sampling': 1.0, 'store_dual_vars': None, 'kernel': CKernelRBF{'gamma': 1.0, 'rv': CArray(6168, 784)(dense: [[0. 0. 0. ... 0. 0. 0.] [0. 0. 0. ... 0. 0. 0.] [0. 0. 0. ... 0. 0. 0.] ... [0. 0. 0. ... 0. 0. 0.] [0. 0. 0. ... 0. 0. 0.] [0. 0. 0. ... 0. 0. 0.]]), 'preprocess': None, 'n_jobs': 1}}\n",
      "2020-05-20 12:27:45,378 - CClassifierMulticlassOVA.0x7f0cdc0ecc18 - INFO - Training against class: 8\n",
      "2020-05-20 12:27:46,277 - CClassifierSVM.0x7f0cdc049b38 - INFO - Training SVM with parameters: {'preprocess': None, 'n_jobs': 1, 'C': 0.001, 'class_weight': None, 'grad_sampling': 1.0, 'store_dual_vars': None, 'kernel': CKernelRBF{'gamma': 1.0, 'rv': CArray(5853, 784)(dense: [[0. 0. 0. ... 0. 0. 0.] [0. 0. 0. ... 0. 0. 0.] [0. 0. 0. ... 0. 0. 0.] ... [0. 0. 0. ... 0. 0. 0.] [0. 0. 0. ... 0. 0. 0.] [0. 0. 0. ... 0. 0. 0.]]), 'preprocess': None, 'n_jobs': 1}}\n",
      "2020-05-20 12:28:04,755 - CClassifierMulticlassOVA.0x7f0cdc0ecc18 - INFO - Training against class: 9\n",
      "2020-05-20 12:28:05,672 - CClassifierSVM.0x7f0cdc049ba8 - INFO - Training SVM with parameters: {'preprocess': None, 'n_jobs': 1, 'C': 0.001, 'class_weight': None, 'grad_sampling': 1.0, 'store_dual_vars': None, 'kernel': CKernelRBF{'gamma': 1.0, 'rv': CArray(6132, 784)(dense: [[0. 0. 0. ... 0. 0. 0.] [0. 0. 0. ... 0. 0. 0.] [0. 0. 0. ... 0. 0. 0.] ... [0. 0. 0. ... 0. 0. 0.] [0. 0. 0. ... 0. 0. 0.] [0. 0. 0. ... 0. 0. 0.]]), 'preprocess': None, 'n_jobs': 1}}\n",
      "2020-05-20 12:28:41,247 - CClassifierMulticlassOVA.0x7f0cdc0ecc18 - INFO - Training against class: 0\n",
      "2020-05-20 12:28:42,164 - CClassifierSVM.0x7f0cdc0ae518 - INFO - Training SVM with parameters: {'preprocess': None, 'n_jobs': 1, 'C': 0.001, 'class_weight': None, 'grad_sampling': 1.0, 'store_dual_vars': None, 'kernel': CKernelRBF{'gamma': 1.0, 'rv': CArray(5834, 784)(dense: [[0. 0. 0. ... 0. 0. 0.] [0. 0. 0. ... 0. 0. 0.] [0. 0. 0. ... 0. 0. 0.] ... [0. 0. 0. ... 0. 0. 0.] [0. 0. 0. ... 0. 0. 0.] [0. 0. 0. ... 0. 0. 0.]]), 'preprocess': None, 'n_jobs': 1}}\n",
      "2020-05-20 12:29:00,156 - CClassifierMulticlassOVA.0x7f0cdc0ecc18 - INFO - Training against class: 1\n",
      "2020-05-20 12:29:01,225 - CClassifierSVM.0x7f0cdc049828 - INFO - Training SVM with parameters: {'preprocess': None, 'n_jobs': 1, 'C': 0.001, 'class_weight': None, 'grad_sampling': 1.0, 'store_dual_vars': None, 'kernel': CKernelRBF{'gamma': 1.0, 'rv': CArray(6620, 784)(dense: [[0. 0. 0. ... 0. 0. 0.] [0. 0. 0. ... 0. 0. 0.] [0. 0. 0. ... 0. 0. 0.] ... [0. 0. 0. ... 0. 0. 0.] [0. 0. 0. ... 0. 0. 0.] [0. 0. 0. ... 0. 0. 0.]]), 'preprocess': None, 'n_jobs': 1}}\n",
      "2020-05-20 12:29:20,190 - CClassifierMulticlassOVA.0x7f0cdc0ecc18 - INFO - Training against class: 2\n",
      "2020-05-20 12:29:21,169 - CClassifierSVM.0x7f0cdc049940 - INFO - Training SVM with parameters: {'preprocess': None, 'n_jobs': 1, 'C': 0.001, 'class_weight': None, 'grad_sampling': 1.0, 'store_dual_vars': None, 'kernel': CKernelRBF{'gamma': 1.0, 'rv': CArray(5973, 784)(dense: [[0. 0. 0. ... 0. 0. 0.] [0. 0. 0. ... 0. 0. 0.] [0. 0. 0. ... 0. 0. 0.] ... [0. 0. 0. ... 0. 0. 0.] [0. 0. 0. ... 0. 0. 0.] [0. 0. 0. ... 0. 0. 0.]]), 'preprocess': None, 'n_jobs': 1}}\n",
      "2020-05-20 12:29:40,144 - CClassifierMulticlassOVA.0x7f0cdc0ecc18 - INFO - Training against class: 3\n",
      "2020-05-20 12:29:41,225 - CClassifierSVM.0x7f0cdc0498d0 - INFO - Training SVM with parameters: {'preprocess': None, 'n_jobs': 1, 'C': 0.001, 'class_weight': None, 'grad_sampling': 1.0, 'store_dual_vars': None, 'kernel': CKernelRBF{'gamma': 1.0, 'rv': CArray(6005, 784)(dense: [[0. 0. 0. ... 0. 0. 0.] [0. 0. 0. ... 0. 0. 0.] [0. 0. 0. ... 0. 0. 0.] ... [0. 0. 0. ... 0. 0. 0.] [0. 0. 0. ... 0. 0. 0.] [0. 0. 0. ... 0. 0. 0.]]), 'preprocess': None, 'n_jobs': 1}}\n",
      "2020-05-20 12:30:00,735 - CClassifierMulticlassOVA.0x7f0cdc0ecc18 - INFO - Training against class: 4\n",
      "2020-05-20 12:30:01,721 - CClassifierSVM.0x7f0cdc0496d8 - INFO - Training SVM with parameters: {'preprocess': None, 'n_jobs': 1, 'C': 0.001, 'class_weight': None, 'grad_sampling': 1.0, 'store_dual_vars': None, 'kernel': CKernelRBF{'gamma': 1.0, 'rv': CArray(5542, 784)(dense: [[0. 0. 0. ... 0. 0. 0.] [0. 0. 0. ... 0. 0. 0.] [0. 0. 0. ... 0. 0. 0.] ... [0. 0. 0. ... 0. 0. 0.] [0. 0. 0. ... 0. 0. 0.] [0. 0. 0. ... 0. 0. 0.]]), 'preprocess': None, 'n_jobs': 1}}\n",
      "2020-05-20 12:30:20,072 - CClassifierMulticlassOVA.0x7f0cdc0ecc18 - INFO - Training against class: 5\n",
      "2020-05-20 12:30:21,011 - CClassifierSVM.0x7f0cdc0499e8 - INFO - Training SVM with parameters: {'preprocess': None, 'n_jobs': 1, 'C': 0.001, 'class_weight': None, 'grad_sampling': 1.0, 'store_dual_vars': None, 'kernel': CKernelRBF{'gamma': 1.0, 'rv': CArray(5170, 784)(dense: [[0. 0. 0. ... 0. 0. 0.] [0. 0. 0. ... 0. 0. 0.] [0. 0. 0. ... 0. 0. 0.] ... [0. 0. 0. ... 0. 0. 0.] [0. 0. 0. ... 0. 0. 0.] [0. 0. 0. ... 0. 0. 0.]]), 'preprocess': None, 'n_jobs': 1}}\n",
      "2020-05-20 12:30:39,982 - CClassifierMulticlassOVA.0x7f0cdc0ecc18 - INFO - Training against class: 6\n",
      "2020-05-20 12:30:40,925 - CClassifierSVM.0x7f0cdc049a58 - INFO - Training SVM with parameters: {'preprocess': None, 'n_jobs': 1, 'C': 0.001, 'class_weight': None, 'grad_sampling': 1.0, 'store_dual_vars': None, 'kernel': CKernelRBF{'gamma': 1.0, 'rv': CArray(5834, 784)(dense: [[0. 0. 0. ... 0. 0. 0.] [0. 0. 0. ... 0. 0. 0.] [0. 0. 0. ... 0. 0. 0.] ... [0. 0. 0. ... 0. 0. 0.] [0. 0. 0. ... 0. 0. 0.] [0. 0. 0. ... 0. 0. 0.]]), 'preprocess': None, 'n_jobs': 1}}\n",
      "2020-05-20 12:30:59,462 - CClassifierMulticlassOVA.0x7f0cdc0ecc18 - INFO - Training against class: 7\n",
      "2020-05-20 12:31:00,418 - CClassifierSVM.0x7f0cdc049ac8 - INFO - Training SVM with parameters: {'preprocess': None, 'n_jobs': 1, 'C': 0.001, 'class_weight': None, 'grad_sampling': 1.0, 'store_dual_vars': None, 'kernel': CKernelRBF{'gamma': 1.0, 'rv': CArray(5948, 784)(dense: [[0. 0. 0. ... 0. 0. 0.] [0. 0. 0. ... 0. 0. 0.] [0. 0. 0. ... 0. 0. 0.] ... [0. 0. 0. ... 0. 0. 0.] [0. 0. 0. ... 0. 0. 0.] [0. 0. 0. ... 0. 0. 0.]]), 'preprocess': None, 'n_jobs': 1}}\n",
      "2020-05-20 12:31:19,361 - CClassifierMulticlassOVA.0x7f0cdc0ecc18 - INFO - Training against class: 8\n",
      "2020-05-20 12:31:20,381 - CClassifierSVM.0x7f0cdc049b38 - INFO - Training SVM with parameters: {'preprocess': None, 'n_jobs': 1, 'C': 0.001, 'class_weight': None, 'grad_sampling': 1.0, 'store_dual_vars': None, 'kernel': CKernelRBF{'gamma': 1.0, 'rv': CArray(5993, 784)(dense: [[0. 0. 0. ... 0. 0. 0.] [0. 0. 0. ... 0. 0. 0.] [0. 0. 0. ... 0. 0. 0.] ... [0. 0. 0. ... 0. 0. 0.] [0. 0. 0. ... 0. 0. 0.] [0. 0. 0. ... 0. 0. 0.]]), 'preprocess': None, 'n_jobs': 1}}\n",
      "2020-05-20 12:31:39,585 - CClassifierMulticlassOVA.0x7f0cdc0ecc18 - INFO - Training against class: 9\n",
      "2020-05-20 12:31:40,621 - CClassifierSVM.0x7f0cdc049ba8 - INFO - Training SVM with parameters: {'preprocess': None, 'n_jobs': 1, 'C': 0.001, 'class_weight': None, 'grad_sampling': 1.0, 'store_dual_vars': None, 'kernel': CKernelRBF{'gamma': 1.0, 'rv': CArray(5617, 784)(dense: [[0. 0. 0. ... 0. 0. 0.] [0. 0. 0. ... 0. 0. 0.] [0. 0. 0. ... 0. 0. 0.] ... [0. 0. 0. ... 0. 0. 0.] [0. 0. 0. ... 0. 0. 0.] [0. 0. 0. ... 0. 0. 0.]]), 'preprocess': None, 'n_jobs': 1}}\n",
      "2020-05-20 12:32:17,374 - CClassifierMulticlassOVA.0x7f0cdc0ecc18 - INFO - Training against class: 0\n",
      "2020-05-20 12:32:18,317 - CClassifierSVM.0x7f0cdc0ae518 - INFO - Training SVM with parameters: {'preprocess': None, 'n_jobs': 1, 'C': 0.001, 'class_weight': None, 'grad_sampling': 1.0, 'store_dual_vars': None, 'kernel': CKernelRBF{'gamma': 1.0, 'rv': CArray(5732, 784)(dense: [[0. 0. 0. ... 0. 0. 0.] [0. 0. 0. ... 0. 0. 0.] [0. 0. 0. ... 0. 0. 0.] ... [0. 0. 0. ... 0. 0. 0.] [0. 0. 0. ... 0. 0. 0.] [0. 0. 0. ... 0. 0. 0.]]), 'preprocess': None, 'n_jobs': 1}}\n",
      "2020-05-20 12:32:36,335 - CClassifierMulticlassOVA.0x7f0cdc0ecc18 - INFO - Training against class: 1\n",
      "2020-05-20 12:32:37,227 - CClassifierSVM.0x7f0cdc049828 - INFO - Training SVM with parameters: {'preprocess': None, 'n_jobs': 1, 'C': 0.001, 'class_weight': None, 'grad_sampling': 1.0, 'store_dual_vars': None, 'kernel': CKernelRBF{'gamma': 1.0, 'rv': CArray(6737, 784)(dense: [[0. 0. 0. ... 0. 0. 0.] [0. 0. 0. ... 0. 0. 0.] [0. 0. 0. ... 0. 0. 0.] ... [0. 0. 0. ... 0. 0. 0.] [0. 0. 0. ... 0. 0. 0.] [0. 0. 0. ... 0. 0. 0.]]), 'preprocess': None, 'n_jobs': 1}}\n",
      "2020-05-20 12:32:55,672 - CClassifierMulticlassOVA.0x7f0cdc0ecc18 - INFO - Training against class: 2\n",
      "2020-05-20 12:32:56,605 - CClassifierSVM.0x7f0cdc049940 - INFO - Training SVM with parameters: {'preprocess': None, 'n_jobs': 1, 'C': 0.001, 'class_weight': None, 'grad_sampling': 1.0, 'store_dual_vars': None, 'kernel': CKernelRBF{'gamma': 1.0, 'rv': CArray(6039, 784)(dense: [[0. 0. 0. ... 0. 0. 0.] [0. 0. 0. ... 0. 0. 0.] [0. 0. 0. ... 0. 0. 0.] ... [0. 0. 0. ... 0. 0. 0.] [0. 0. 0. ... 0. 0. 0.] [0. 0. 0. ... 0. 0. 0.]]), 'preprocess': None, 'n_jobs': 1}}\n",
      "2020-05-20 12:33:15,135 - CClassifierMulticlassOVA.0x7f0cdc0ecc18 - INFO - Training against class: 3\n",
      "2020-05-20 12:33:16,038 - CClassifierSVM.0x7f0cdc0498d0 - INFO - Training SVM with parameters: {'preprocess': None, 'n_jobs': 1, 'C': 0.001, 'class_weight': None, 'grad_sampling': 1.0, 'store_dual_vars': None, 'kernel': CKernelRBF{'gamma': 1.0, 'rv': CArray(6069, 784)(dense: [[0. 0. 0. ... 0. 0. 0.] [0. 0. 0. ... 0. 0. 0.] [0. 0. 0. ... 0. 0. 0.] ... [0. 0. 0. ... 0. 0. 0.] [0. 0. 0. ... 0. 0. 0.] [0. 0. 0. ... 0. 0. 0.]]), 'preprocess': None, 'n_jobs': 1}}\n",
      "2020-05-20 12:33:34,687 - CClassifierMulticlassOVA.0x7f0cdc0ecc18 - INFO - Training against class: 4\n",
      "2020-05-20 12:33:35,597 - CClassifierSVM.0x7f0cdc0496d8 - INFO - Training SVM with parameters: {'preprocess': None, 'n_jobs': 1, 'C': 0.001, 'class_weight': None, 'grad_sampling': 1.0, 'store_dual_vars': None, 'kernel': CKernelRBF{'gamma': 1.0, 'rv': CArray(5573, 784)(dense: [[0. 0. 0. ... 0. 0. 0.] [0. 0. 0. ... 0. 0. 0.] [0. 0. 0. ... 0. 0. 0.] ... [0. 0. 0. ... 0. 0. 0.] [0. 0. 0. ... 0. 0. 0.] [0. 0. 0. ... 0. 0. 0.]]), 'preprocess': None, 'n_jobs': 1}}\n",
      "2020-05-20 12:33:53,446 - CClassifierMulticlassOVA.0x7f0cdc0ecc18 - INFO - Training against class: 5\n",
      "2020-05-20 12:33:54,388 - CClassifierSVM.0x7f0cdc0499e8 - INFO - Training SVM with parameters: {'preprocess': None, 'n_jobs': 1, 'C': 0.001, 'class_weight': None, 'grad_sampling': 1.0, 'store_dual_vars': None, 'kernel': CKernelRBF{'gamma': 1.0, 'rv': CArray(5307, 784)(dense: [[0. 0. 0. ... 0. 0. 0.] [0. 0. 0. ... 0. 0. 0.] [0. 0. 0. ... 0. 0. 0.] ... [0. 0. 0. ... 0. 0. 0.] [0. 0. 0. ... 0. 0. 0.] [0. 0. 0. ... 0. 0. 0.]]), 'preprocess': None, 'n_jobs': 1}}\n",
      "2020-05-20 12:34:12,163 - CClassifierMulticlassOVA.0x7f0cdc0ecc18 - INFO - Training against class: 6\n",
      "2020-05-20 12:34:13,095 - CClassifierSVM.0x7f0cdc049a58 - INFO - Training SVM with parameters: {'preprocess': None, 'n_jobs': 1, 'C': 0.001, 'class_weight': None, 'grad_sampling': 1.0, 'store_dual_vars': None, 'kernel': CKernelRBF{'gamma': 1.0, 'rv': CArray(5749, 784)(dense: [[0. 0. 0. ... 0. 0. 0.] [0. 0. 0. ... 0. 0. 0.] [0. 0. 0. ... 0. 0. 0.] ... [0. 0. 0. ... 0. 0. 0.] [0. 0. 0. ... 0. 0. 0.] [0. 0. 0. ... 0. 0. 0.]]), 'preprocess': None, 'n_jobs': 1}}\n",
      "2020-05-20 12:34:30,552 - CClassifierMulticlassOVA.0x7f0cdc0ecc18 - INFO - Training against class: 7\n",
      "2020-05-20 12:34:31,444 - CClassifierSVM.0x7f0cdc049ac8 - INFO - Training SVM with parameters: {'preprocess': None, 'n_jobs': 1, 'C': 0.001, 'class_weight': None, 'grad_sampling': 1.0, 'store_dual_vars': None, 'kernel': CKernelRBF{'gamma': 1.0, 'rv': CArray(5883, 784)(dense: [[0. 0. 0. ... 0. 0. 0.] [0. 0. 0. ... 0. 0. 0.] [0. 0. 0. ... 0. 0. 0.] ... [0. 0. 0. ... 0. 0. 0.] [0. 0. 0. ... 0. 0. 0.] [0. 0. 0. ... 0. 0. 0.]]), 'preprocess': None, 'n_jobs': 1}}\n",
      "2020-05-20 12:34:50,326 - CClassifierMulticlassOVA.0x7f0cdc0ecc18 - INFO - Training against class: 8\n",
      "2020-05-20 12:34:51,228 - CClassifierSVM.0x7f0cdc049b38 - INFO - Training SVM with parameters: {'preprocess': None, 'n_jobs': 1, 'C': 0.001, 'class_weight': None, 'grad_sampling': 1.0, 'store_dual_vars': None, 'kernel': CKernelRBF{'gamma': 1.0, 'rv': CArray(5770, 784)(dense: [[0. 0. 0. ... 0. 0. 0.] [0. 0. 0. ... 0. 0. 0.] [0. 0. 0. ... 0. 0. 0.] ... [0. 0. 0. ... 0. 0. 0.] [0. 0. 0. ... 0. 0. 0.] [0. 0. 0. ... 0. 0. 0.]]), 'preprocess': None, 'n_jobs': 1}}\n",
      "2020-05-20 12:35:09,284 - CClassifierMulticlassOVA.0x7f0cdc0ecc18 - INFO - Training against class: 9\n",
      "2020-05-20 12:35:10,346 - CClassifierSVM.0x7f0cdc049ba8 - INFO - Training SVM with parameters: {'preprocess': None, 'n_jobs': 1, 'C': 0.001, 'class_weight': None, 'grad_sampling': 1.0, 'store_dual_vars': None, 'kernel': CKernelRBF{'gamma': 1.0, 'rv': CArray(5608, 784)(dense: [[0. 0. 0. ... 0. 0. 0.] [0. 0. 0. ... 0. 0. 0.] [0. 0. 0. ... 0. 0. 0.] ... [0. 0. 0. ... 0. 0. 0.] [0. 0. 0. ... 0. 0. 0.] [0. 0. 0. ... 0. 0. 0.]]), 'preprocess': None, 'n_jobs': 1}}\n",
      "2020-05-20 12:35:46,194 - CPerfEvaluatorXVal.0x7f0cdc049c18 - INFO - Params: {'C': 0.001, 'kernel.gamma': 1} - Score: 0.4180333333333333\n",
      "2020-05-20 12:35:46,371 - CClassifierMulticlassOVA.0x7f0cdc0ecc18 - INFO - Training against class: 0\n",
      "2020-05-20 12:35:47,371 - CClassifierSVM.0x7f0cdc0ae518 - INFO - Training SVM with parameters: {'preprocess': None, 'n_jobs': 1, 'C': 0.001, 'class_weight': None, 'grad_sampling': 1.0, 'store_dual_vars': None, 'kernel': CKernelRBF{'gamma': 0.1, 'rv': CArray(5767, 784)(dense: [[0. 0. 0. ... 0. 0. 0.] [0. 0. 0. ... 0. 0. 0.] [0. 0. 0. ... 0. 0. 0.] ... [0. 0. 0. ... 0. 0. 0.] [0. 0. 0. ... 0. 0. 0.] [0. 0. 0. ... 0. 0. 0.]]), 'preprocess': None, 'n_jobs': 1}}\n",
      "2020-05-20 12:36:02,281 - CClassifierMulticlassOVA.0x7f0cdc0ecc18 - INFO - Training against class: 1\n",
      "2020-05-20 12:36:03,235 - CClassifierSVM.0x7f0cdc049828 - INFO - Training SVM with parameters: {'preprocess': None, 'n_jobs': 1, 'C': 0.001, 'class_weight': None, 'grad_sampling': 1.0, 'store_dual_vars': None, 'kernel': CKernelRBF{'gamma': 0.1, 'rv': CArray(6671, 784)(dense: [[0. 0. 0. ... 0. 0. 0.] [0. 0. 0. ... 0. 0. 0.] [0. 0. 0. ... 0. 0. 0.] ... [0. 0. 0. ... 0. 0. 0.] [0. 0. 0. ... 0. 0. 0.] [0. 0. 0. ... 0. 0. 0.]]), 'preprocess': None, 'n_jobs': 1}}\n",
      "2020-05-20 12:36:17,479 - CClassifierMulticlassOVA.0x7f0cdc0ecc18 - INFO - Training against class: 2\n",
      "2020-05-20 12:36:18,453 - CClassifierSVM.0x7f0cdc049940 - INFO - Training SVM with parameters: {'preprocess': None, 'n_jobs': 1, 'C': 0.001, 'class_weight': None, 'grad_sampling': 1.0, 'store_dual_vars': None, 'kernel': CKernelRBF{'gamma': 0.1, 'rv': CArray(6014, 784)(dense: [[0. 0. 0. ... 0. 0. 0.] [0. 0. 0. ... 0. 0. 0.] [0. 0. 0. ... 0. 0. 0.] ... [0. 0. 0. ... 0. 0. 0.] [0. 0. 0. ... 0. 0. 0.] [0. 0. 0. ... 0. 0. 0.]]), 'preprocess': None, 'n_jobs': 1}}\n",
      "2020-05-20 12:36:33,251 - CClassifierMulticlassOVA.0x7f0cdc0ecc18 - INFO - Training against class: 3\n",
      "2020-05-20 12:36:34,198 - CClassifierSVM.0x7f0cdc0498d0 - INFO - Training SVM with parameters: {'preprocess': None, 'n_jobs': 1, 'C': 0.001, 'class_weight': None, 'grad_sampling': 1.0, 'store_dual_vars': None, 'kernel': CKernelRBF{'gamma': 0.1, 'rv': CArray(6054, 784)(dense: [[0. 0. 0. ... 0. 0. 0.] [0. 0. 0. ... 0. 0. 0.] [0. 0. 0. ... 0. 0. 0.] ... [0. 0. 0. ... 0. 0. 0.] [0. 0. 0. ... 0. 0. 0.] [0. 0. 0. ... 0. 0. 0.]]), 'preprocess': None, 'n_jobs': 1}}\n",
      "2020-05-20 12:36:49,150 - CClassifierMulticlassOVA.0x7f0cdc0ecc18 - INFO - Training against class: 4\n",
      "2020-05-20 12:36:50,055 - CClassifierSVM.0x7f0cdc0496d8 - INFO - Training SVM with parameters: {'preprocess': None, 'n_jobs': 1, 'C': 0.001, 'class_weight': None, 'grad_sampling': 1.0, 'store_dual_vars': None, 'kernel': CKernelRBF{'gamma': 0.1, 'rv': CArray(5550, 784)(dense: [[0. 0. 0. ... 0. 0. 0.] [0. 0. 0. ... 0. 0. 0.] [0. 0. 0. ... 0. 0. 0.] ... [0. 0. 0. ... 0. 0. 0.] [0. 0. 0. ... 0. 0. 0.] [0. 0. 0. ... 0. 0. 0.]]), 'preprocess': None, 'n_jobs': 1}}\n",
      "2020-05-20 12:37:05,359 - CClassifierMulticlassOVA.0x7f0cdc0ecc18 - INFO - Training against class: 5\n",
      "2020-05-20 12:37:06,258 - CClassifierSVM.0x7f0cdc0499e8 - INFO - Training SVM with parameters: {'preprocess': None, 'n_jobs': 1, 'C': 0.001, 'class_weight': None, 'grad_sampling': 1.0, 'store_dual_vars': None, 'kernel': CKernelRBF{'gamma': 0.1, 'rv': CArray(5285, 784)(dense: [[0. 0. 0. ... 0. 0. 0.] [0. 0. 0. ... 0. 0. 0.] [0. 0. 0. ... 0. 0. 0.] ... [0. 0. 0. ... 0. 0. 0.] [0. 0. 0. ... 0. 0. 0.] [0. 0. 0. ... 0. 0. 0.]]), 'preprocess': None, 'n_jobs': 1}}\n",
      "2020-05-20 12:37:20,466 - CClassifierMulticlassOVA.0x7f0cdc0ecc18 - INFO - Training against class: 6\n",
      "2020-05-20 12:37:21,359 - CClassifierSVM.0x7f0cdc049a58 - INFO - Training SVM with parameters: {'preprocess': None, 'n_jobs': 1, 'C': 0.001, 'class_weight': None, 'grad_sampling': 1.0, 'store_dual_vars': None, 'kernel': CKernelRBF{'gamma': 0.1, 'rv': CArray(5722, 784)(dense: [[0. 0. 0. ... 0. 0. 0.] [0. 0. 0. ... 0. 0. 0.] [0. 0. 0. ... 0. 0. 0.] ... [0. 0. 0. ... 0. 0. 0.] [0. 0. 0. ... 0. 0. 0.] [0. 0. 0. ... 0. 0. 0.]]), 'preprocess': None, 'n_jobs': 1}}\n",
      "2020-05-20 12:37:36,201 - CClassifierMulticlassOVA.0x7f0cdc0ecc18 - INFO - Training against class: 7\n",
      "2020-05-20 12:37:37,090 - CClassifierSVM.0x7f0cdc049ac8 - INFO - Training SVM with parameters: {'preprocess': None, 'n_jobs': 1, 'C': 0.001, 'class_weight': None, 'grad_sampling': 1.0, 'store_dual_vars': None, 'kernel': CKernelRBF{'gamma': 0.1, 'rv': CArray(5897, 784)(dense: [[0. 0. 0. ... 0. 0. 0.] [0. 0. 0. ... 0. 0. 0.] [0. 0. 0. ... 0. 0. 0.] ... [0. 0. 0. ... 0. 0. 0.] [0. 0. 0. ... 0. 0. 0.] [0. 0. 0. ... 0. 0. 0.]]), 'preprocess': None, 'n_jobs': 1}}\n",
      "2020-05-20 12:37:52,024 - CClassifierMulticlassOVA.0x7f0cdc0ecc18 - INFO - Training against class: 8\n",
      "2020-05-20 12:37:52,967 - CClassifierSVM.0x7f0cdc049b38 - INFO - Training SVM with parameters: {'preprocess': None, 'n_jobs': 1, 'C': 0.001, 'class_weight': None, 'grad_sampling': 1.0, 'store_dual_vars': None, 'kernel': CKernelRBF{'gamma': 0.1, 'rv': CArray(5762, 784)(dense: [[0. 0. 0. ... 0. 0. 0.] [0. 0. 0. ... 0. 0. 0.] [0. 0. 0. ... 0. 0. 0.] ... [0. 0. 0. ... 0. 0. 0.] [0. 0. 0. ... 0. 0. 0.] [0. 0. 0. ... 0. 0. 0.]]), 'preprocess': None, 'n_jobs': 1}}\n",
      "2020-05-20 12:38:07,191 - CClassifierMulticlassOVA.0x7f0cdc0ecc18 - INFO - Training against class: 9\n",
      "2020-05-20 12:38:08,135 - CClassifierSVM.0x7f0cdc049ba8 - INFO - Training SVM with parameters: {'preprocess': None, 'n_jobs': 1, 'C': 0.001, 'class_weight': None, 'grad_sampling': 1.0, 'store_dual_vars': None, 'kernel': CKernelRBF{'gamma': 0.1, 'rv': CArray(5747, 784)(dense: [[0. 0. 0. ... 0. 0. 0.] [0. 0. 0. ... 0. 0. 0.] [0. 0. 0. ... 0. 0. 0.] ... [0. 0. 0. ... 0. 0. 0.] [0. 0. 0. ... 0. 0. 0.] [0. 0. 0. ... 0. 0. 0.]]), 'preprocess': None, 'n_jobs': 1}}\n",
      "2020-05-20 12:38:35,377 - CClassifierMulticlassOVA.0x7f0cdc0ecc18 - INFO - Training against class: 0\n",
      "2020-05-20 12:38:36,275 - CClassifierSVM.0x7f0cdc0ae518 - INFO - Training SVM with parameters: {'preprocess': None, 'n_jobs': 1, 'C': 0.001, 'class_weight': None, 'grad_sampling': 1.0, 'store_dual_vars': None, 'kernel': CKernelRBF{'gamma': 0.1, 'rv': CArray(3954, 784)(dense: [[0. 0. 0. ... 0. 0. 0.] [0. 0. 0. ... 0. 0. 0.] [0. 0. 0. ... 0. 0. 0.] ... [0. 0. 0. ... 0. 0. 0.] [0. 0. 0. ... 0. 0. 0.] [0. 0. 0. ... 0. 0. 0.]]), 'preprocess': None, 'n_jobs': 1}}\n",
      "2020-05-20 12:38:51,460 - CClassifierMulticlassOVA.0x7f0cdc0ecc18 - INFO - Training against class: 1\n",
      "2020-05-20 12:38:52,371 - CClassifierSVM.0x7f0cdc049828 - INFO - Training SVM with parameters: {'preprocess': None, 'n_jobs': 1, 'C': 0.001, 'class_weight': None, 'grad_sampling': 1.0, 'store_dual_vars': None, 'kernel': CKernelRBF{'gamma': 0.1, 'rv': CArray(4549, 784)(dense: [[0. 0. 0. ... 0. 0. 0.] [0. 0. 0. ... 0. 0. 0.] [0. 0. 0. ... 0. 0. 0.] ... [0. 0. 0. ... 0. 0. 0.] [0. 0. 0. ... 0. 0. 0.] [0. 0. 0. ... 0. 0. 0.]]), 'preprocess': None, 'n_jobs': 1}}\n",
      "2020-05-20 12:39:06,967 - CClassifierMulticlassOVA.0x7f0cdc0ecc18 - INFO - Training against class: 2\n",
      "2020-05-20 12:39:07,853 - CClassifierSVM.0x7f0cdc049940 - INFO - Training SVM with parameters: {'preprocess': None, 'n_jobs': 1, 'C': 0.001, 'class_weight': None, 'grad_sampling': 1.0, 'store_dual_vars': None, 'kernel': CKernelRBF{'gamma': 0.1, 'rv': CArray(4075, 784)(dense: [[0. 0. 0. ... 0. 0. 0.] [0. 0. 0. ... 0. 0. 0.] [0. 0. 0. ... 0. 0. 0.] ... [0. 0. 0. ... 0. 0. 0.] [0. 0. 0. ... 0. 0. 0.] [0. 0. 0. ... 0. 0. 0.]]), 'preprocess': None, 'n_jobs': 1}}\n",
      "2020-05-20 12:39:22,756 - CClassifierMulticlassOVA.0x7f0cdc0ecc18 - INFO - Training against class: 3\n",
      "2020-05-20 12:39:23,799 - CClassifierSVM.0x7f0cdc0498d0 - INFO - Training SVM with parameters: {'preprocess': None, 'n_jobs': 1, 'C': 0.001, 'class_weight': None, 'grad_sampling': 1.0, 'store_dual_vars': None, 'kernel': CKernelRBF{'gamma': 0.1, 'rv': CArray(4122, 784)(dense: [[0. 0. 0. ... 0. 0. 0.] [0. 0. 0. ... 0. 0. 0.] [0. 0. 0. ... 0. 0. 0.] ... [0. 0. 0. ... 0. 0. 0.] [0. 0. 0. ... 0. 0. 0.] [0. 0. 0. ... 0. 0. 0.]]), 'preprocess': None, 'n_jobs': 1}}\n",
      "2020-05-20 12:39:38,760 - CClassifierMulticlassOVA.0x7f0cdc0ecc18 - INFO - Training against class: 4\n",
      "2020-05-20 12:39:39,759 - CClassifierSVM.0x7f0cdc0496d8 - INFO - Training SVM with parameters: {'preprocess': None, 'n_jobs': 1, 'C': 0.001, 'class_weight': None, 'grad_sampling': 1.0, 'store_dual_vars': None, 'kernel': CKernelRBF{'gamma': 0.1, 'rv': CArray(3898, 784)(dense: [[0. 0. 0. ... 0. 0. 0.] [0. 0. 0. ... 0. 0. 0.] [0. 0. 0. ... 0. 0. 0.] ... [0. 0. 0. ... 0. 0. 0.] [0. 0. 0. ... 0. 0. 0.] [0. 0. 0. ... 0. 0. 0.]]), 'preprocess': None, 'n_jobs': 1}}\n",
      "2020-05-20 12:39:55,028 - CClassifierMulticlassOVA.0x7f0cdc0ecc18 - INFO - Training against class: 5\n",
      "2020-05-20 12:39:56,080 - CClassifierSVM.0x7f0cdc0499e8 - INFO - Training SVM with parameters: {'preprocess': None, 'n_jobs': 1, 'C': 0.001, 'class_weight': None, 'grad_sampling': 1.0, 'store_dual_vars': None, 'kernel': CKernelRBF{'gamma': 0.1, 'rv': CArray(3564, 784)(dense: [[0. 0. 0. ... 0. 0. 0.] [0. 0. 0. ... 0. 0. 0.] [0. 0. 0. ... 0. 0. 0.] ... [0. 0. 0. ... 0. 0. 0.] [0. 0. 0. ... 0. 0. 0.] [0. 0. 0. ... 0. 0. 0.]]), 'preprocess': None, 'n_jobs': 1}}\n",
      "2020-05-20 12:40:10,829 - CClassifierMulticlassOVA.0x7f0cdc0ecc18 - INFO - Training against class: 6\n",
      "2020-05-20 12:40:11,750 - CClassifierSVM.0x7f0cdc049a58 - INFO - Training SVM with parameters: {'preprocess': None, 'n_jobs': 1, 'C': 0.001, 'class_weight': None, 'grad_sampling': 1.0, 'store_dual_vars': None, 'kernel': CKernelRBF{'gamma': 0.1, 'rv': CArray(3969, 784)(dense: [[0. 0. 0. ... 0. 0. 0.] [0. 0. 0. ... 0. 0. 0.] [0. 0. 0. ... 0. 0. 0.] ... [0. 0. 0. ... 0. 0. 0.] [0. 0. 0. ... 0. 0. 0.] [0. 0. 0. ... 0. 0. 0.]]), 'preprocess': None, 'n_jobs': 1}}\n",
      "2020-05-20 12:40:26,908 - CClassifierMulticlassOVA.0x7f0cdc0ecc18 - INFO - Training against class: 7\n",
      "2020-05-20 12:40:27,779 - CClassifierSVM.0x7f0cdc049ac8 - INFO - Training SVM with parameters: {'preprocess': None, 'n_jobs': 1, 'C': 0.001, 'class_weight': None, 'grad_sampling': 1.0, 'store_dual_vars': None, 'kernel': CKernelRBF{'gamma': 0.1, 'rv': CArray(4176, 784)(dense: [[0. 0. 0. ... 0. 0. 0.] [0. 0. 0. ... 0. 0. 0.] [0. 0. 0. ... 0. 0. 0.] ... [0. 0. 0. ... 0. 0. 0.] [0. 0. 0. ... 0. 0. 0.] [0. 0. 0. ... 0. 0. 0.]]), 'preprocess': None, 'n_jobs': 1}}\n",
      "2020-05-20 12:40:42,427 - CClassifierMulticlassOVA.0x7f0cdc0ecc18 - INFO - Training against class: 8\n",
      "2020-05-20 12:40:43,390 - CClassifierSVM.0x7f0cdc049b38 - INFO - Training SVM with parameters: {'preprocess': None, 'n_jobs': 1, 'C': 0.001, 'class_weight': None, 'grad_sampling': 1.0, 'store_dual_vars': None, 'kernel': CKernelRBF{'gamma': 0.1, 'rv': CArray(4137, 784)(dense: [[0. 0. 0. ... 0. 0. 0.] [0. 0. 0. ... 0. 0. 0.] [0. 0. 0. ... 0. 0. 0.] ... [0. 0. 0. ... 0. 0. 0.] [0. 0. 0. ... 0. 0. 0.] [0. 0. 0. ... 0. 0. 0.]]), 'preprocess': None, 'n_jobs': 1}}\n",
      "2020-05-20 12:40:57,447 - CClassifierMulticlassOVA.0x7f0cdc0ecc18 - INFO - Training against class: 9\n",
      "2020-05-20 12:40:58,335 - CClassifierSVM.0x7f0cdc049ba8 - INFO - Training SVM with parameters: {'preprocess': None, 'n_jobs': 1, 'C': 0.001, 'class_weight': None, 'grad_sampling': 1.0, 'store_dual_vars': None, 'kernel': CKernelRBF{'gamma': 0.1, 'rv': CArray(4016, 784)(dense: [[0. 0. 0. ... 0. 0. 0.] [0. 0. 0. ... 0. 0. 0.] [0. 0. 0. ... 0. 0. 0.] ... [0. 0. 0. ... 0. 0. 0.] [0. 0. 0. ... 0. 0. 0.] [0. 0. 0. ... 0. 0. 0.]]), 'preprocess': None, 'n_jobs': 1}}\n",
      "2020-05-20 12:41:25,736 - CClassifierMulticlassOVA.0x7f0cdc0ecc18 - INFO - Training against class: 0\n",
      "2020-05-20 12:41:26,638 - CClassifierSVM.0x7f0cdc0ae518 - INFO - Training SVM with parameters: {'preprocess': None, 'n_jobs': 1, 'C': 0.001, 'class_weight': None, 'grad_sampling': 1.0, 'store_dual_vars': None, 'kernel': CKernelRBF{'gamma': 0.1, 'rv': CArray(3880, 784)(dense: [[0. 0. 0. ... 0. 0. 0.] [0. 0. 0. ... 0. 0. 0.] [0. 0. 0. ... 0. 0. 0.] ... [0. 0. 0. ... 0. 0. 0.] [0. 0. 0. ... 0. 0. 0.] [0. 0. 0. ... 0. 0. 0.]]), 'preprocess': None, 'n_jobs': 1}}\n",
      "2020-05-20 12:41:41,464 - CClassifierMulticlassOVA.0x7f0cdc0ecc18 - INFO - Training against class: 1\n",
      "2020-05-20 12:41:42,333 - CClassifierSVM.0x7f0cdc049828 - INFO - Training SVM with parameters: {'preprocess': None, 'n_jobs': 1, 'C': 0.001, 'class_weight': None, 'grad_sampling': 1.0, 'store_dual_vars': None, 'kernel': CKernelRBF{'gamma': 0.1, 'rv': CArray(4645, 784)(dense: [[0. 0. 0. ... 0. 0. 0.] [0. 0. 0. ... 0. 0. 0.] [0. 0. 0. ... 0. 0. 0.] ... [0. 0. 0. ... 0. 0. 0.] [0. 0. 0. ... 0. 0. 0.] [0. 0. 0. ... 0. 0. 0.]]), 'preprocess': None, 'n_jobs': 1}}\n",
      "2020-05-20 12:41:57,699 - CClassifierMulticlassOVA.0x7f0cdc0ecc18 - INFO - Training against class: 2\n",
      "2020-05-20 12:41:58,645 - CClassifierSVM.0x7f0cdc049940 - INFO - Training SVM with parameters: {'preprocess': None, 'n_jobs': 1, 'C': 0.001, 'class_weight': None, 'grad_sampling': 1.0, 'store_dual_vars': None, 'kernel': CKernelRBF{'gamma': 0.1, 'rv': CArray(4123, 784)(dense: [[0. 0. 0. ... 0. 0. 0.] [0. 0. 0. ... 0. 0. 0.] [0. 0. 0. ... 0. 0. 0.] ... [0. 0. 0. ... 0. 0. 0.] [0. 0. 0. ... 0. 0. 0.] [0. 0. 0. ... 0. 0. 0.]]), 'preprocess': None, 'n_jobs': 1}}\n",
      "2020-05-20 12:42:13,510 - CClassifierMulticlassOVA.0x7f0cdc0ecc18 - INFO - Training against class: 3\n",
      "2020-05-20 12:42:14,427 - CClassifierSVM.0x7f0cdc0498d0 - INFO - Training SVM with parameters: {'preprocess': None, 'n_jobs': 1, 'C': 0.001, 'class_weight': None, 'grad_sampling': 1.0, 'store_dual_vars': None, 'kernel': CKernelRBF{'gamma': 0.1, 'rv': CArray(4166, 784)(dense: [[0. 0. 0. ... 0. 0. 0.] [0. 0. 0. ... 0. 0. 0.] [0. 0. 0. ... 0. 0. 0.] ... [0. 0. 0. ... 0. 0. 0.] [0. 0. 0. ... 0. 0. 0.] [0. 0. 0. ... 0. 0. 0.]]), 'preprocess': None, 'n_jobs': 1}}\n",
      "2020-05-20 12:42:29,365 - CClassifierMulticlassOVA.0x7f0cdc0ecc18 - INFO - Training against class: 4\n",
      "2020-05-20 12:42:30,353 - CClassifierSVM.0x7f0cdc0496d8 - INFO - Training SVM with parameters: {'preprocess': None, 'n_jobs': 1, 'C': 0.001, 'class_weight': None, 'grad_sampling': 1.0, 'store_dual_vars': None, 'kernel': CKernelRBF{'gamma': 0.1, 'rv': CArray(3930, 784)(dense: [[0. 0. 0. ... 0. 0. 0.] [0. 0. 0. ... 0. 0. 0.] [0. 0. 0. ... 0. 0. 0.] ... [0. 0. 0. ... 0. 0. 0.] [0. 0. 0. ... 0. 0. 0.] [0. 0. 0. ... 0. 0. 0.]]), 'preprocess': None, 'n_jobs': 1}}\n",
      "2020-05-20 12:42:45,769 - CClassifierMulticlassOVA.0x7f0cdc0ecc18 - INFO - Training against class: 5\n",
      "2020-05-20 12:42:46,622 - CClassifierSVM.0x7f0cdc0499e8 - INFO - Training SVM with parameters: {'preprocess': None, 'n_jobs': 1, 'C': 0.001, 'class_weight': None, 'grad_sampling': 1.0, 'store_dual_vars': None, 'kernel': CKernelRBF{'gamma': 0.1, 'rv': CArray(3655, 784)(dense: [[0. 0. 0. ... 0. 0. 0.] [0. 0. 0. ... 0. 0. 0.] [0. 0. 0. ... 0. 0. 0.] ... [0. 0. 0. ... 0. 0. 0.] [0. 0. 0. ... 0. 0. 0.] [0. 0. 0. ... 0. 0. 0.]]), 'preprocess': None, 'n_jobs': 1}}\n",
      "2020-05-20 12:43:00,845 - CClassifierMulticlassOVA.0x7f0cdc0ecc18 - INFO - Training against class: 6\n",
      "2020-05-20 12:43:01,726 - CClassifierSVM.0x7f0cdc049a58 - INFO - Training SVM with parameters: {'preprocess': None, 'n_jobs': 1, 'C': 0.001, 'class_weight': None, 'grad_sampling': 1.0, 'store_dual_vars': None, 'kernel': CKernelRBF{'gamma': 0.1, 'rv': CArray(3914, 784)(dense: [[0. 0. 0. ... 0. 0. 0.] [0. 0. 0. ... 0. 0. 0.] [0. 0. 0. ... 0. 0. 0.] ... [0. 0. 0. ... 0. 0. 0.] [0. 0. 0. ... 0. 0. 0.] [0. 0. 0. ... 0. 0. 0.]]), 'preprocess': None, 'n_jobs': 1}}\n",
      "2020-05-20 12:43:16,373 - CClassifierMulticlassOVA.0x7f0cdc0ecc18 - INFO - Training against class: 7\n",
      "2020-05-20 12:43:17,230 - CClassifierSVM.0x7f0cdc049ac8 - INFO - Training SVM with parameters: {'preprocess': None, 'n_jobs': 1, 'C': 0.001, 'class_weight': None, 'grad_sampling': 1.0, 'store_dual_vars': None, 'kernel': CKernelRBF{'gamma': 0.1, 'rv': CArray(4131, 784)(dense: [[0. 0. 0. ... 0. 0. 0.] [0. 0. 0. ... 0. 0. 0.] [0. 0. 0. ... 0. 0. 0.] ... [0. 0. 0. ... 0. 0. 0.] [0. 0. 0. ... 0. 0. 0.] [0. 0. 0. ... 0. 0. 0.]]), 'preprocess': None, 'n_jobs': 1}}\n",
      "2020-05-20 12:43:31,938 - CClassifierMulticlassOVA.0x7f0cdc0ecc18 - INFO - Training against class: 8\n",
      "2020-05-20 12:43:32,814 - CClassifierSVM.0x7f0cdc049b38 - INFO - Training SVM with parameters: {'preprocess': None, 'n_jobs': 1, 'C': 0.001, 'class_weight': None, 'grad_sampling': 1.0, 'store_dual_vars': None, 'kernel': CKernelRBF{'gamma': 0.1, 'rv': CArray(3992, 784)(dense: [[0. 0. 0. ... 0. 0. 0.] [0. 0. 0. ... 0. 0. 0.] [0. 0. 0. ... 0. 0. 0.] ... [0. 0. 0. ... 0. 0. 0.] [0. 0. 0. ... 0. 0. 0.] [0. 0. 0. ... 0. 0. 0.]]), 'preprocess': None, 'n_jobs': 1}}\n",
      "2020-05-20 12:43:47,331 - CClassifierMulticlassOVA.0x7f0cdc0ecc18 - INFO - Training against class: 9\n",
      "2020-05-20 12:43:48,215 - CClassifierSVM.0x7f0cdc049ba8 - INFO - Training SVM with parameters: {'preprocess': None, 'n_jobs': 1, 'C': 0.001, 'class_weight': None, 'grad_sampling': 1.0, 'store_dual_vars': None, 'kernel': CKernelRBF{'gamma': 0.1, 'rv': CArray(4029, 784)(dense: [[0. 0. 0. ... 0. 0. 0.] [0. 0. 0. ... 0. 0. 0.] [0. 0. 0. ... 0. 0. 0.] ... [0. 0. 0. ... 0. 0. 0.] [0. 0. 0. ... 0. 0. 0.] [0. 0. 0. ... 0. 0. 0.]]), 'preprocess': None, 'n_jobs': 1}}\n",
      "2020-05-20 12:44:14,876 - CPerfEvaluatorXVal.0x7f0cdc049c18 - INFO - Params: {'C': 0.001, 'kernel.gamma': 0.1} - Score: 0.9117666666666665\n",
      "2020-05-20 12:44:15,003 - CClassifierMulticlassOVA.0x7f0cdc0ecc18 - INFO - Training against class: 0\n",
      "2020-05-20 12:44:15,912 - CClassifierSVM.0x7f0cdc0ae518 - INFO - Training SVM with parameters: {'preprocess': None, 'n_jobs': 1, 'C': 0.001, 'class_weight': None, 'grad_sampling': 1.0, 'store_dual_vars': None, 'kernel': CKernelRBF{'gamma': 1000.0, 'rv': CArray(3905, 784)(dense: [[0. 0. 0. ... 0. 0. 0.] [0. 0. 0. ... 0. 0. 0.] [0. 0. 0. ... 0. 0. 0.] ... [0. 0. 0. ... 0. 0. 0.] [0. 0. 0. ... 0. 0. 0.] [0. 0. 0. ... 0. 0. 0.]]), 'preprocess': None, 'n_jobs': 1}}\n",
      "2020-05-20 12:44:30,536 - CClassifierMulticlassOVA.0x7f0cdc0ecc18 - INFO - Training against class: 1\n",
      "2020-05-20 12:44:31,497 - CClassifierSVM.0x7f0cdc049828 - INFO - Training SVM with parameters: {'preprocess': None, 'n_jobs': 1, 'C': 0.001, 'class_weight': None, 'grad_sampling': 1.0, 'store_dual_vars': None, 'kernel': CKernelRBF{'gamma': 1000.0, 'rv': CArray(4583, 784)(dense: [[0. 0. 0. ... 0. 0. 0.] [0. 0. 0. ... 0. 0. 0.] [0. 0. 0. ... 0. 0. 0.] ... [0. 0. 0. ... 0. 0. 0.] [0. 0. 0. ... 0. 0. 0.] [0. 0. 0. ... 0. 0. 0.]]), 'preprocess': None, 'n_jobs': 1}}\n",
      "2020-05-20 12:44:46,176 - CClassifierMulticlassOVA.0x7f0cdc0ecc18 - INFO - Training against class: 2\n",
      "2020-05-20 12:44:47,129 - CClassifierSVM.0x7f0cdc049940 - INFO - Training SVM with parameters: {'preprocess': None, 'n_jobs': 1, 'C': 0.001, 'class_weight': None, 'grad_sampling': 1.0, 'store_dual_vars': None, 'kernel': CKernelRBF{'gamma': 1000.0, 'rv': CArray(4092, 784)(dense: [[0. 0. 0. ... 0. 0. 0.] [0. 0. 0. ... 0. 0. 0.] [0. 0. 0. ... 0. 0. 0.] ... [0. 0. 0. ... 0. 0. 0.] [0. 0. 0. ... 0. 0. 0.] [0. 0. 0. ... 0. 0. 0.]]), 'preprocess': None, 'n_jobs': 1}}\n",
      "2020-05-20 12:45:01,822 - CClassifierMulticlassOVA.0x7f0cdc0ecc18 - INFO - Training against class: 3\n",
      "2020-05-20 12:45:02,745 - CClassifierSVM.0x7f0cdc0498d0 - INFO - Training SVM with parameters: {'preprocess': None, 'n_jobs': 1, 'C': 0.001, 'class_weight': None, 'grad_sampling': 1.0, 'store_dual_vars': None, 'kernel': CKernelRBF{'gamma': 1000.0, 'rv': CArray(4163, 784)(dense: [[0. 0. 0. ... 0. 0. 0.] [0. 0. 0. ... 0. 0. 0.] [0. 0. 0. ... 0. 0. 0.] ... [0. 0. 0. ... 0. 0. 0.] [0. 0. 0. ... 0. 0. 0.] [0. 0. 0. ... 0. 0. 0.]]), 'preprocess': None, 'n_jobs': 1}}\n",
      "2020-05-20 12:45:17,111 - CClassifierMulticlassOVA.0x7f0cdc0ecc18 - INFO - Training against class: 4\n",
      "2020-05-20 12:45:17,976 - CClassifierSVM.0x7f0cdc0496d8 - INFO - Training SVM with parameters: {'preprocess': None, 'n_jobs': 1, 'C': 0.001, 'class_weight': None, 'grad_sampling': 1.0, 'store_dual_vars': None, 'kernel': CKernelRBF{'gamma': 1000.0, 'rv': CArray(3923, 784)(dense: [[0. 0. 0. ... 0. 0. 0.] [0. 0. 0. ... 0. 0. 0.] [0. 0. 0. ... 0. 0. 0.] ... [0. 0. 0. ... 0. 0. 0.] [0. 0. 0. ... 0. 0. 0.] [0. 0. 0. ... 0. 0. 0.]]), 'preprocess': None, 'n_jobs': 1}}\n",
      "2020-05-20 12:45:32,153 - CClassifierMulticlassOVA.0x7f0cdc0ecc18 - INFO - Training against class: 5\n",
      "2020-05-20 12:45:32,982 - CClassifierSVM.0x7f0cdc0499e8 - INFO - Training SVM with parameters: {'preprocess': None, 'n_jobs': 1, 'C': 0.001, 'class_weight': None, 'grad_sampling': 1.0, 'store_dual_vars': None, 'kernel': CKernelRBF{'gamma': 1000.0, 'rv': CArray(3637, 784)(dense: [[0. 0. 0. ... 0. 0. 0.] [0. 0. 0. ... 0. 0. 0.] [0. 0. 0. ... 0. 0. 0.] ... [0. 0. 0. ... 0. 0. 0.] [0. 0. 0. ... 0. 0. 0.] [0. 0. 0. ... 0. 0. 0.]]), 'preprocess': None, 'n_jobs': 1}}\n",
      "2020-05-20 12:45:47,073 - CClassifierMulticlassOVA.0x7f0cdc0ecc18 - INFO - Training against class: 6\n",
      "2020-05-20 12:45:48,070 - CClassifierSVM.0x7f0cdc049a58 - INFO - Training SVM with parameters: {'preprocess': None, 'n_jobs': 1, 'C': 0.001, 'class_weight': None, 'grad_sampling': 1.0, 'store_dual_vars': None, 'kernel': CKernelRBF{'gamma': 1000.0, 'rv': CArray(3893, 784)(dense: [[0. 0. 0. ... 0. 0. 0.] [0. 0. 0. ... 0. 0. 0.] [0. 0. 0. ... 0. 0. 0.] ... [0. 0. 0. ... 0. 0. 0.] [0. 0. 0. ... 0. 0. 0.] [0. 0. 0. ... 0. 0. 0.]]), 'preprocess': None, 'n_jobs': 1}}\n",
      "2020-05-20 12:46:02,438 - CClassifierMulticlassOVA.0x7f0cdc0ecc18 - INFO - Training against class: 7\n",
      "2020-05-20 12:46:03,305 - CClassifierSVM.0x7f0cdc049ac8 - INFO - Training SVM with parameters: {'preprocess': None, 'n_jobs': 1, 'C': 0.001, 'class_weight': None, 'grad_sampling': 1.0, 'store_dual_vars': None, 'kernel': CKernelRBF{'gamma': 1000.0, 'rv': CArray(4159, 784)(dense: [[0. 0. 0. ... 0. 0. 0.] [0. 0. 0. ... 0. 0. 0.] [0. 0. 0. ... 0. 0. 0.] ... [0. 0. 0. ... 0. 0. 0.] [0. 0. 0. ... 0. 0. 0.] [0. 0. 0. ... 0. 0. 0.]]), 'preprocess': None, 'n_jobs': 1}}\n",
      "2020-05-20 12:46:17,800 - CClassifierMulticlassOVA.0x7f0cdc0ecc18 - INFO - Training against class: 8\n",
      "2020-05-20 12:46:18,732 - CClassifierSVM.0x7f0cdc049b38 - INFO - Training SVM with parameters: {'preprocess': None, 'n_jobs': 1, 'C': 0.001, 'class_weight': None, 'grad_sampling': 1.0, 'store_dual_vars': None, 'kernel': CKernelRBF{'gamma': 1000.0, 'rv': CArray(3974, 784)(dense: [[0. 0. 0. ... 0. 0. 0.] [0. 0. 0. ... 0. 0. 0.] [0. 0. 0. ... 0. 0. 0.] ... [0. 0. 0. ... 0. 0. 0.] [0. 0. 0. ... 0. 0. 0.] [0. 0. 0. ... 0. 0. 0.]]), 'preprocess': None, 'n_jobs': 1}}\n",
      "2020-05-20 12:46:33,229 - CClassifierMulticlassOVA.0x7f0cdc0ecc18 - INFO - Training against class: 9\n",
      "2020-05-20 12:46:34,120 - CClassifierSVM.0x7f0cdc049ba8 - INFO - Training SVM with parameters: {'preprocess': None, 'n_jobs': 1, 'C': 0.001, 'class_weight': None, 'grad_sampling': 1.0, 'store_dual_vars': None, 'kernel': CKernelRBF{'gamma': 1000.0, 'rv': CArray(4113, 784)(dense: [[0. 0. 0. ... 0. 0. 0.] [0. 0. 0. ... 0. 0. 0.] [0. 0. 0. ... 0. 0. 0.] ... [0. 0. 0. ... 0. 0. 0.] [0. 0. 0. ... 0. 0. 0.] [0. 0. 0. ... 0. 0. 0.]]), 'preprocess': None, 'n_jobs': 1}}\n",
      "2020-05-20 12:47:05,040 - CClassifierMulticlassOVA.0x7f0cdc0ecc18 - INFO - Training against class: 0\n",
      "2020-05-20 12:47:05,926 - CClassifierSVM.0x7f0cdc0ae518 - INFO - Training SVM with parameters: {'preprocess': None, 'n_jobs': 1, 'C': 0.001, 'class_weight': None, 'grad_sampling': 1.0, 'store_dual_vars': None, 'kernel': CKernelRBF{'gamma': 1000.0, 'rv': CArray(5868, 784)(dense: [[0. 0. 0. ... 0. 0. 0.] [0. 0. 0. ... 0. 0. 0.] [0. 0. 0. ... 0. 0. 0.] ... [0. 0. 0. ... 0. 0. 0.] [0. 0. 0. ... 0. 0. 0.] [0. 0. 0. ... 0. 0. 0.]]), 'preprocess': None, 'n_jobs': 1}}\n",
      "2020-05-20 12:47:20,043 - CClassifierMulticlassOVA.0x7f0cdc0ecc18 - INFO - Training against class: 1\n",
      "2020-05-20 12:47:20,934 - CClassifierSVM.0x7f0cdc049828 - INFO - Training SVM with parameters: {'preprocess': None, 'n_jobs': 1, 'C': 0.001, 'class_weight': None, 'grad_sampling': 1.0, 'store_dual_vars': None, 'kernel': CKernelRBF{'gamma': 1000.0, 'rv': CArray(6819, 784)(dense: [[0. 0. 0. ... 0. 0. 0.] [0. 0. 0. ... 0. 0. 0.] [0. 0. 0. ... 0. 0. 0.] ... [0. 0. 0. ... 0. 0. 0.] [0. 0. 0. ... 0. 0. 0.] [0. 0. 0. ... 0. 0. 0.]]), 'preprocess': None, 'n_jobs': 1}}\n",
      "2020-05-20 12:47:35,328 - CClassifierMulticlassOVA.0x7f0cdc0ecc18 - INFO - Training against class: 2\n",
      "2020-05-20 12:47:36,198 - CClassifierSVM.0x7f0cdc049940 - INFO - Training SVM with parameters: {'preprocess': None, 'n_jobs': 1, 'C': 0.001, 'class_weight': None, 'grad_sampling': 1.0, 'store_dual_vars': None, 'kernel': CKernelRBF{'gamma': 1000.0, 'rv': CArray(6012, 784)(dense: [[0. 0. 0. ... 0. 0. 0.] [0. 0. 0. ... 0. 0. 0.] [0. 0. 0. ... 0. 0. 0.] ... [0. 0. 0. ... 0. 0. 0.] [0. 0. 0. ... 0. 0. 0.] [0. 0. 0. ... 0. 0. 0.]]), 'preprocess': None, 'n_jobs': 1}}\n",
      "2020-05-20 12:47:50,365 - CClassifierMulticlassOVA.0x7f0cdc0ecc18 - INFO - Training against class: 3\n",
      "2020-05-20 12:47:51,206 - CClassifierSVM.0x7f0cdc0498d0 - INFO - Training SVM with parameters: {'preprocess': None, 'n_jobs': 1, 'C': 0.001, 'class_weight': None, 'grad_sampling': 1.0, 'store_dual_vars': None, 'kernel': CKernelRBF{'gamma': 1000.0, 'rv': CArray(6105, 784)(dense: [[0. 0. 0. ... 0. 0. 0.] [0. 0. 0. ... 0. 0. 0.] [0. 0. 0. ... 0. 0. 0.] ... [0. 0. 0. ... 0. 0. 0.] [0. 0. 0. ... 0. 0. 0.] [0. 0. 0. ... 0. 0. 0.]]), 'preprocess': None, 'n_jobs': 1}}\n",
      "2020-05-20 12:48:05,832 - CClassifierMulticlassOVA.0x7f0cdc0ecc18 - INFO - Training against class: 4\n",
      "2020-05-20 12:48:06,755 - CClassifierSVM.0x7f0cdc0496d8 - INFO - Training SVM with parameters: {'preprocess': None, 'n_jobs': 1, 'C': 0.001, 'class_weight': None, 'grad_sampling': 1.0, 'store_dual_vars': None, 'kernel': CKernelRBF{'gamma': 1000.0, 'rv': CArray(5769, 784)(dense: [[0. 0. 0. ... 0. 0. 0.] [0. 0. 0. ... 0. 0. 0.] [0. 0. 0. ... 0. 0. 0.] ... [0. 0. 0. ... 0. 0. 0.] [0. 0. 0. ... 0. 0. 0.] [0. 0. 0. ... 0. 0. 0.]]), 'preprocess': None, 'n_jobs': 1}}\n",
      "2020-05-20 12:48:20,780 - CClassifierMulticlassOVA.0x7f0cdc0ecc18 - INFO - Training against class: 5\n",
      "2020-05-20 12:48:21,713 - CClassifierSVM.0x7f0cdc0499e8 - INFO - Training SVM with parameters: {'preprocess': None, 'n_jobs': 1, 'C': 0.001, 'class_weight': None, 'grad_sampling': 1.0, 'store_dual_vars': None, 'kernel': CKernelRBF{'gamma': 1000.0, 'rv': CArray(5259, 784)(dense: [[0. 0. 0. ... 0. 0. 0.] [0. 0. 0. ... 0. 0. 0.] [0. 0. 0. ... 0. 0. 0.] ... [0. 0. 0. ... 0. 0. 0.] [0. 0. 0. ... 0. 0. 0.] [0. 0. 0. ... 0. 0. 0.]]), 'preprocess': None, 'n_jobs': 1}}\n",
      "2020-05-20 12:48:36,630 - CClassifierMulticlassOVA.0x7f0cdc0ecc18 - INFO - Training against class: 6\n",
      "2020-05-20 12:48:37,556 - CClassifierSVM.0x7f0cdc049a58 - INFO - Training SVM with parameters: {'preprocess': None, 'n_jobs': 1, 'C': 0.001, 'class_weight': None, 'grad_sampling': 1.0, 'store_dual_vars': None, 'kernel': CKernelRBF{'gamma': 1000.0, 'rv': CArray(5898, 784)(dense: [[0. 0. 0. ... 0. 0. 0.] [0. 0. 0. ... 0. 0. 0.] [0. 0. 0. ... 0. 0. 0.] ... [0. 0. 0. ... 0. 0. 0.] [0. 0. 0. ... 0. 0. 0.] [0. 0. 0. ... 0. 0. 0.]]), 'preprocess': None, 'n_jobs': 1}}\n",
      "2020-05-20 12:48:51,997 - CClassifierMulticlassOVA.0x7f0cdc0ecc18 - INFO - Training against class: 7\n",
      "2020-05-20 12:48:52,955 - CClassifierSVM.0x7f0cdc049ac8 - INFO - Training SVM with parameters: {'preprocess': None, 'n_jobs': 1, 'C': 0.001, 'class_weight': None, 'grad_sampling': 1.0, 'store_dual_vars': None, 'kernel': CKernelRBF{'gamma': 1000.0, 'rv': CArray(6219, 784)(dense: [[0. 0. 0. ... 0. 0. 0.] [0. 0. 0. ... 0. 0. 0.] [0. 0. 0. ... 0. 0. 0.] ... [0. 0. 0. ... 0. 0. 0.] [0. 0. 0. ... 0. 0. 0.] [0. 0. 0. ... 0. 0. 0.]]), 'preprocess': None, 'n_jobs': 1}}\n",
      "2020-05-20 12:49:06,761 - CClassifierMulticlassOVA.0x7f0cdc0ecc18 - INFO - Training against class: 8\n",
      "2020-05-20 12:49:07,690 - CClassifierSVM.0x7f0cdc049b38 - INFO - Training SVM with parameters: {'preprocess': None, 'n_jobs': 1, 'C': 0.001, 'class_weight': None, 'grad_sampling': 1.0, 'store_dual_vars': None, 'kernel': CKernelRBF{'gamma': 1000.0, 'rv': CArray(6075, 784)(dense: [[0. 0. 0. ... 0. 0. 0.] [0. 0. 0. ... 0. 0. 0.] [0. 0. 0. ... 0. 0. 0.] ... [0. 0. 0. ... 0. 0. 0.] [0. 0. 0. ... 0. 0. 0.] [0. 0. 0. ... 0. 0. 0.]]), 'preprocess': None, 'n_jobs': 1}}\n",
      "2020-05-20 12:49:21,994 - CClassifierMulticlassOVA.0x7f0cdc0ecc18 - INFO - Training against class: 9\n",
      "2020-05-20 12:49:22,927 - CClassifierSVM.0x7f0cdc049ba8 - INFO - Training SVM with parameters: {'preprocess': None, 'n_jobs': 1, 'C': 0.001, 'class_weight': None, 'grad_sampling': 1.0, 'store_dual_vars': None, 'kernel': CKernelRBF{'gamma': 1000.0, 'rv': CArray(5976, 784)(dense: [[0. 0. 0. ... 0. 0. 0.] [0. 0. 0. ... 0. 0. 0.] [0. 0. 0. ... 0. 0. 0.] ... [0. 0. 0. ... 0. 0. 0.] [0. 0. 0. ... 0. 0. 0.] [0. 0. 0. ... 0. 0. 0.]]), 'preprocess': None, 'n_jobs': 1}}\n",
      "2020-05-20 12:49:54,075 - CClassifierMulticlassOVA.0x7f0cdc0ecc18 - INFO - Training against class: 0\n",
      "2020-05-20 12:49:54,972 - CClassifierSVM.0x7f0cdc0ae518 - INFO - Training SVM with parameters: {'preprocess': None, 'n_jobs': 1, 'C': 0.001, 'class_weight': None, 'grad_sampling': 1.0, 'store_dual_vars': None, 'kernel': CKernelRBF{'gamma': 1000.0, 'rv': CArray(5757, 784)(dense: [[0. 0. 0. ... 0. 0. 0.] [0. 0. 0. ... 0. 0. 0.] [0. 0. 0. ... 0. 0. 0.] ... [0. 0. 0. ... 0. 0. 0.] [0. 0. 0. ... 0. 0. 0.] [0. 0. 0. ... 0. 0. 0.]]), 'preprocess': None, 'n_jobs': 1}}\n",
      "2020-05-20 12:50:09,824 - CClassifierMulticlassOVA.0x7f0cdc0ecc18 - INFO - Training against class: 1\n",
      "2020-05-20 12:50:10,742 - CClassifierSVM.0x7f0cdc049828 - INFO - Training SVM with parameters: {'preprocess': None, 'n_jobs': 1, 'C': 0.001, 'class_weight': None, 'grad_sampling': 1.0, 'store_dual_vars': None, 'kernel': CKernelRBF{'gamma': 1000.0, 'rv': CArray(6960, 784)(dense: [[0. 0. 0. ... 0. 0. 0.] [0. 0. 0. ... 0. 0. 0.] [0. 0. 0. ... 0. 0. 0.] ... [0. 0. 0. ... 0. 0. 0.] [0. 0. 0. ... 0. 0. 0.] [0. 0. 0. ... 0. 0. 0.]]), 'preprocess': None, 'n_jobs': 1}}\n",
      "2020-05-20 12:50:25,338 - CClassifierMulticlassOVA.0x7f0cdc0ecc18 - INFO - Training against class: 2\n",
      "2020-05-20 12:50:26,318 - CClassifierSVM.0x7f0cdc049940 - INFO - Training SVM with parameters: {'preprocess': None, 'n_jobs': 1, 'C': 0.001, 'class_weight': None, 'grad_sampling': 1.0, 'store_dual_vars': None, 'kernel': CKernelRBF{'gamma': 1000.0, 'rv': CArray(6084, 784)(dense: [[0. 0. 0. ... 0. 0. 0.] [0. 0. 0. ... 0. 0. 0.] [0. 0. 0. ... 0. 0. 0.] ... [0. 0. 0. ... 0. 0. 0.] [0. 0. 0. ... 0. 0. 0.] [0. 0. 0. ... 0. 0. 0.]]), 'preprocess': None, 'n_jobs': 1}}\n",
      "2020-05-20 12:50:40,821 - CClassifierMulticlassOVA.0x7f0cdc0ecc18 - INFO - Training against class: 3\n",
      "2020-05-20 12:50:41,722 - CClassifierSVM.0x7f0cdc0498d0 - INFO - Training SVM with parameters: {'preprocess': None, 'n_jobs': 1, 'C': 0.001, 'class_weight': None, 'grad_sampling': 1.0, 'store_dual_vars': None, 'kernel': CKernelRBF{'gamma': 1000.0, 'rv': CArray(6177, 784)(dense: [[0. 0. 0. ... 0. 0. 0.] [0. 0. 0. ... 0. 0. 0.] [0. 0. 0. ... 0. 0. 0.] ... [0. 0. 0. ... 0. 0. 0.] [0. 0. 0. ... 0. 0. 0.] [0. 0. 0. ... 0. 0. 0.]]), 'preprocess': None, 'n_jobs': 1}}\n",
      "2020-05-20 12:50:55,980 - CClassifierMulticlassOVA.0x7f0cdc0ecc18 - INFO - Training against class: 4\n",
      "2020-05-20 12:50:56,898 - CClassifierSVM.0x7f0cdc0496d8 - INFO - Training SVM with parameters: {'preprocess': None, 'n_jobs': 1, 'C': 0.001, 'class_weight': None, 'grad_sampling': 1.0, 'store_dual_vars': None, 'kernel': CKernelRBF{'gamma': 1000.0, 'rv': CArray(5808, 784)(dense: [[0. 0. 0. ... 0. 0. 0.] [0. 0. 0. ... 0. 0. 0.] [0. 0. 0. ... 0. 0. 0.] ... [0. 0. 0. ... 0. 0. 0.] [0. 0. 0. ... 0. 0. 0.] [0. 0. 0. ... 0. 0. 0.]]), 'preprocess': None, 'n_jobs': 1}}\n",
      "2020-05-20 12:51:11,404 - CClassifierMulticlassOVA.0x7f0cdc0ecc18 - INFO - Training against class: 5\n",
      "2020-05-20 12:51:12,295 - CClassifierSVM.0x7f0cdc0499e8 - INFO - Training SVM with parameters: {'preprocess': None, 'n_jobs': 1, 'C': 0.001, 'class_weight': None, 'grad_sampling': 1.0, 'store_dual_vars': None, 'kernel': CKernelRBF{'gamma': 1000.0, 'rv': CArray(5406, 784)(dense: [[0. 0. 0. ... 0. 0. 0.] [0. 0. 0. ... 0. 0. 0.] [0. 0. 0. ... 0. 0. 0.] ... [0. 0. 0. ... 0. 0. 0.] [0. 0. 0. ... 0. 0. 0.] [0. 0. 0. ... 0. 0. 0.]]), 'preprocess': None, 'n_jobs': 1}}\n",
      "2020-05-20 12:51:26,918 - CClassifierMulticlassOVA.0x7f0cdc0ecc18 - INFO - Training against class: 6\n",
      "2020-05-20 12:51:27,891 - CClassifierSVM.0x7f0cdc049a58 - INFO - Training SVM with parameters: {'preprocess': None, 'n_jobs': 1, 'C': 0.001, 'class_weight': None, 'grad_sampling': 1.0, 'store_dual_vars': None, 'kernel': CKernelRBF{'gamma': 1000.0, 'rv': CArray(5811, 784)(dense: [[0. 0. 0. ... 0. 0. 0.] [0. 0. 0. ... 0. 0. 0.] [0. 0. 0. ... 0. 0. 0.] ... [0. 0. 0. ... 0. 0. 0.] [0. 0. 0. ... 0. 0. 0.] [0. 0. 0. ... 0. 0. 0.]]), 'preprocess': None, 'n_jobs': 1}}\n",
      "2020-05-20 12:51:42,321 - CClassifierMulticlassOVA.0x7f0cdc0ecc18 - INFO - Training against class: 7\n",
      "2020-05-20 12:51:43,212 - CClassifierSVM.0x7f0cdc049ac8 - INFO - Training SVM with parameters: {'preprocess': None, 'n_jobs': 1, 'C': 0.001, 'class_weight': None, 'grad_sampling': 1.0, 'store_dual_vars': None, 'kernel': CKernelRBF{'gamma': 1000.0, 'rv': CArray(6147, 784)(dense: [[0. 0. 0. ... 0. 0. 0.] [0. 0. 0. ... 0. 0. 0.] [0. 0. 0. ... 0. 0. 0.] ... [0. 0. 0. ... 0. 0. 0.] [0. 0. 0. ... 0. 0. 0.] [0. 0. 0. ... 0. 0. 0.]]), 'preprocess': None, 'n_jobs': 1}}\n",
      "2020-05-20 12:51:57,649 - CClassifierMulticlassOVA.0x7f0cdc0ecc18 - INFO - Training against class: 8\n",
      "2020-05-20 12:51:58,591 - CClassifierSVM.0x7f0cdc049b38 - INFO - Training SVM with parameters: {'preprocess': None, 'n_jobs': 1, 'C': 0.001, 'class_weight': None, 'grad_sampling': 1.0, 'store_dual_vars': None, 'kernel': CKernelRBF{'gamma': 1000.0, 'rv': CArray(5856, 784)(dense: [[0. 0. 0. ... 0. 0. 0.] [0. 0. 0. ... 0. 0. 0.] [0. 0. 0. ... 0. 0. 0.] ... [0. 0. 0. ... 0. 0. 0.] [0. 0. 0. ... 0. 0. 0.] [0. 0. 0. ... 0. 0. 0.]]), 'preprocess': None, 'n_jobs': 1}}\n",
      "2020-05-20 12:52:13,023 - CClassifierMulticlassOVA.0x7f0cdc0ecc18 - INFO - Training against class: 9\n",
      "2020-05-20 12:52:13,894 - CClassifierSVM.0x7f0cdc049ba8 - INFO - Training SVM with parameters: {'preprocess': None, 'n_jobs': 1, 'C': 0.001, 'class_weight': None, 'grad_sampling': 1.0, 'store_dual_vars': None, 'kernel': CKernelRBF{'gamma': 1000.0, 'rv': CArray(5994, 784)(dense: [[0. 0. 0. ... 0. 0. 0.] [0. 0. 0. ... 0. 0. 0.] [0. 0. 0. ... 0. 0. 0.] ... [0. 0. 0. ... 0. 0. 0.] [0. 0. 0. ... 0. 0. 0.] [0. 0. 0. ... 0. 0. 0.]]), 'preprocess': None, 'n_jobs': 1}}\n",
      "2020-05-20 12:52:44,625 - CPerfEvaluatorXVal.0x7f0cdc049c18 - INFO - Params: {'C': 0.001, 'kernel.gamma': 1000.0} - Score: 0.11469999999999998\n",
      "2020-05-20 12:52:44,767 - CClassifierMulticlassOVA.0x7f0cdc0ecc18 - INFO - Training against class: 0\n",
      "2020-05-20 12:52:45,834 - CClassifierSVM.0x7f0cdc0ae518 - INFO - Training SVM with parameters: {'preprocess': None, 'n_jobs': 1, 'C': 0.01, 'class_weight': None, 'grad_sampling': 1.0, 'store_dual_vars': None, 'kernel': CKernelRBF{'gamma': 1000.0, 'rv': CArray(5793, 784)(dense: [[0. 0. 0. ... 0. 0. 0.] [0. 0. 0. ... 0. 0. 0.] [0. 0. 0. ... 0. 0. 0.] ... [0. 0. 0. ... 0. 0. 0.] [0. 0. 0. ... 0. 0. 0.] [0. 0. 0. ... 0. 0. 0.]]), 'preprocess': None, 'n_jobs': 1}}\n",
      "2020-05-20 12:53:03,741 - CClassifierMulticlassOVA.0x7f0cdc0ecc18 - INFO - Training against class: 1\n",
      "2020-05-20 12:53:04,719 - CClassifierSVM.0x7f0cdc049828 - INFO - Training SVM with parameters: {'preprocess': None, 'n_jobs': 1, 'C': 0.01, 'class_weight': None, 'grad_sampling': 1.0, 'store_dual_vars': None, 'kernel': CKernelRBF{'gamma': 1000.0, 'rv': CArray(6867, 784)(dense: [[0. 0. 0. ... 0. 0. 0.] [0. 0. 0. ... 0. 0. 0.] [0. 0. 0. ... 0. 0. 0.] ... [0. 0. 0. ... 0. 0. 0.] [0. 0. 0. ... 0. 0. 0.] [0. 0. 0. ... 0. 0. 0.]]), 'preprocess': None, 'n_jobs': 1}}\n",
      "2020-05-20 12:53:22,359 - CClassifierMulticlassOVA.0x7f0cdc0ecc18 - INFO - Training against class: 2\n",
      "2020-05-20 12:53:23,417 - CClassifierSVM.0x7f0cdc049940 - INFO - Training SVM with parameters: {'preprocess': None, 'n_jobs': 1, 'C': 0.01, 'class_weight': None, 'grad_sampling': 1.0, 'store_dual_vars': None, 'kernel': CKernelRBF{'gamma': 1000.0, 'rv': CArray(6054, 784)(dense: [[0. 0. 0. ... 0. 0. 0.] [0. 0. 0. ... 0. 0. 0.] [0. 0. 0. ... 0. 0. 0.] ... [0. 0. 0. ... 0. 0. 0.] [0. 0. 0. ... 0. 0. 0.] [0. 0. 0. ... 0. 0. 0.]]), 'preprocess': None, 'n_jobs': 1}}\n",
      "2020-05-20 12:53:41,496 - CClassifierMulticlassOVA.0x7f0cdc0ecc18 - INFO - Training against class: 3\n",
      "2020-05-20 12:53:42,426 - CClassifierSVM.0x7f0cdc0498d0 - INFO - Training SVM with parameters: {'preprocess': None, 'n_jobs': 1, 'C': 0.01, 'class_weight': None, 'grad_sampling': 1.0, 'store_dual_vars': None, 'kernel': CKernelRBF{'gamma': 1000.0, 'rv': CArray(6162, 784)(dense: [[0. 0. 0. ... 0. 0. 0.] [0. 0. 0. ... 0. 0. 0.] [0. 0. 0. ... 0. 0. 0.] ... [0. 0. 0. ... 0. 0. 0.] [0. 0. 0. ... 0. 0. 0.] [0. 0. 0. ... 0. 0. 0.]]), 'preprocess': None, 'n_jobs': 1}}\n",
      "2020-05-20 12:54:00,884 - CClassifierMulticlassOVA.0x7f0cdc0ecc18 - INFO - Training against class: 4\n",
      "2020-05-20 12:54:01,775 - CClassifierSVM.0x7f0cdc0496d8 - INFO - Training SVM with parameters: {'preprocess': None, 'n_jobs': 1, 'C': 0.01, 'class_weight': None, 'grad_sampling': 1.0, 'store_dual_vars': None, 'kernel': CKernelRBF{'gamma': 1000.0, 'rv': CArray(5799, 784)(dense: [[0. 0. 0. ... 0. 0. 0.] [0. 0. 0. ... 0. 0. 0.] [0. 0. 0. ... 0. 0. 0.] ... [0. 0. 0. ... 0. 0. 0.] [0. 0. 0. ... 0. 0. 0.] [0. 0. 0. ... 0. 0. 0.]]), 'preprocess': None, 'n_jobs': 1}}\n",
      "2020-05-20 12:54:20,011 - CClassifierMulticlassOVA.0x7f0cdc0ecc18 - INFO - Training against class: 5\n",
      "2020-05-20 12:54:20,878 - CClassifierSVM.0x7f0cdc0499e8 - INFO - Training SVM with parameters: {'preprocess': None, 'n_jobs': 1, 'C': 0.01, 'class_weight': None, 'grad_sampling': 1.0, 'store_dual_vars': None, 'kernel': CKernelRBF{'gamma': 1000.0, 'rv': CArray(5385, 784)(dense: [[0. 0. 0. ... 0. 0. 0.] [0. 0. 0. ... 0. 0. 0.] [0. 0. 0. ... 0. 0. 0.] ... [0. 0. 0. ... 0. 0. 0.] [0. 0. 0. ... 0. 0. 0.] [0. 0. 0. ... 0. 0. 0.]]), 'preprocess': None, 'n_jobs': 1}}\n",
      "2020-05-20 12:54:39,389 - CClassifierMulticlassOVA.0x7f0cdc0ecc18 - INFO - Training against class: 6\n",
      "2020-05-20 12:54:40,280 - CClassifierSVM.0x7f0cdc049a58 - INFO - Training SVM with parameters: {'preprocess': None, 'n_jobs': 1, 'C': 0.01, 'class_weight': None, 'grad_sampling': 1.0, 'store_dual_vars': None, 'kernel': CKernelRBF{'gamma': 1000.0, 'rv': CArray(5787, 784)(dense: [[0. 0. 0. ... 0. 0. 0.] [0. 0. 0. ... 0. 0. 0.] [0. 0. 0. ... 0. 0. 0.] ... [0. 0. 0. ... 0. 0. 0.] [0. 0. 0. ... 0. 0. 0.] [0. 0. 0. ... 0. 0. 0.]]), 'preprocess': None, 'n_jobs': 1}}\n",
      "2020-05-20 12:54:59,186 - CClassifierMulticlassOVA.0x7f0cdc0ecc18 - INFO - Training against class: 7\n",
      "2020-05-20 12:55:00,073 - CClassifierSVM.0x7f0cdc049ac8 - INFO - Training SVM with parameters: {'preprocess': None, 'n_jobs': 1, 'C': 0.01, 'class_weight': None, 'grad_sampling': 1.0, 'store_dual_vars': None, 'kernel': CKernelRBF{'gamma': 1000.0, 'rv': CArray(6168, 784)(dense: [[0. 0. 0. ... 0. 0. 0.] [0. 0. 0. ... 0. 0. 0.] [0. 0. 0. ... 0. 0. 0.] ... [0. 0. 0. ... 0. 0. 0.] [0. 0. 0. ... 0. 0. 0.] [0. 0. 0. ... 0. 0. 0.]]), 'preprocess': None, 'n_jobs': 1}}\n",
      "2020-05-20 12:55:18,604 - CClassifierMulticlassOVA.0x7f0cdc0ecc18 - INFO - Training against class: 8\n",
      "2020-05-20 12:55:19,495 - CClassifierSVM.0x7f0cdc049b38 - INFO - Training SVM with parameters: {'preprocess': None, 'n_jobs': 1, 'C': 0.01, 'class_weight': None, 'grad_sampling': 1.0, 'store_dual_vars': None, 'kernel': CKernelRBF{'gamma': 1000.0, 'rv': CArray(5853, 784)(dense: [[0. 0. 0. ... 0. 0. 0.] [0. 0. 0. ... 0. 0. 0.] [0. 0. 0. ... 0. 0. 0.] ... [0. 0. 0. ... 0. 0. 0.] [0. 0. 0. ... 0. 0. 0.] [0. 0. 0. ... 0. 0. 0.]]), 'preprocess': None, 'n_jobs': 1}}\n",
      "2020-05-20 12:55:37,642 - CClassifierMulticlassOVA.0x7f0cdc0ecc18 - INFO - Training against class: 9\n",
      "2020-05-20 12:55:38,562 - CClassifierSVM.0x7f0cdc049ba8 - INFO - Training SVM with parameters: {'preprocess': None, 'n_jobs': 1, 'C': 0.01, 'class_weight': None, 'grad_sampling': 1.0, 'store_dual_vars': None, 'kernel': CKernelRBF{'gamma': 1000.0, 'rv': CArray(6132, 784)(dense: [[0. 0. 0. ... 0. 0. 0.] [0. 0. 0. ... 0. 0. 0.] [0. 0. 0. ... 0. 0. 0.] ... [0. 0. 0. ... 0. 0. 0.] [0. 0. 0. ... 0. 0. 0.] [0. 0. 0. ... 0. 0. 0.]]), 'preprocess': None, 'n_jobs': 1}}\n",
      "2020-05-20 12:56:48,440 - CClassifierMulticlassOVA.0x7f0cdc0ecc18 - INFO - Training against class: 0\n",
      "2020-05-20 12:56:49,347 - CClassifierSVM.0x7f0cdc0ae518 - INFO - Training SVM with parameters: {'preprocess': None, 'n_jobs': 1, 'C': 0.01, 'class_weight': None, 'grad_sampling': 1.0, 'store_dual_vars': None, 'kernel': CKernelRBF{'gamma': 1000.0, 'rv': CArray(20000, 784)(dense: [[0. 0. 0. ... 0. 0. 0.] [0. 0. 0. ... 0. 0. 0.] [0. 0. 0. ... 0. 0. 0.] ... [0. 0. 0. ... 0. 0. 0.] [0. 0. 0. ... 0. 0. 0.] [0. 0. 0. ... 0. 0. 0.]]), 'preprocess': None, 'n_jobs': 1}}\n",
      "2020-05-20 12:57:06,797 - CClassifierMulticlassOVA.0x7f0cdc0ecc18 - INFO - Training against class: 1\n",
      "2020-05-20 12:57:07,668 - CClassifierSVM.0x7f0cdc049828 - INFO - Training SVM with parameters: {'preprocess': None, 'n_jobs': 1, 'C': 0.01, 'class_weight': None, 'grad_sampling': 1.0, 'store_dual_vars': None, 'kernel': CKernelRBF{'gamma': 1000.0, 'rv': CArray(20000, 784)(dense: [[0. 0. 0. ... 0. 0. 0.] [0. 0. 0. ... 0. 0. 0.] [0. 0. 0. ... 0. 0. 0.] ... [0. 0. 0. ... 0. 0. 0.] [0. 0. 0. ... 0. 0. 0.] [0. 0. 0. ... 0. 0. 0.]]), 'preprocess': None, 'n_jobs': 1}}\n",
      "2020-05-20 12:57:26,188 - CClassifierMulticlassOVA.0x7f0cdc0ecc18 - INFO - Training against class: 2\n",
      "2020-05-20 12:57:27,096 - CClassifierSVM.0x7f0cdc049940 - INFO - Training SVM with parameters: {'preprocess': None, 'n_jobs': 1, 'C': 0.01, 'class_weight': None, 'grad_sampling': 1.0, 'store_dual_vars': None, 'kernel': CKernelRBF{'gamma': 1000.0, 'rv': CArray(20000, 784)(dense: [[0. 0. 0. ... 0. 0. 0.] [0. 0. 0. ... 0. 0. 0.] [0. 0. 0. ... 0. 0. 0.] ... [0. 0. 0. ... 0. 0. 0.] [0. 0. 0. ... 0. 0. 0.] [0. 0. 0. ... 0. 0. 0.]]), 'preprocess': None, 'n_jobs': 1}}\n",
      "2020-05-20 12:57:45,201 - CClassifierMulticlassOVA.0x7f0cdc0ecc18 - INFO - Training against class: 3\n",
      "2020-05-20 12:57:46,100 - CClassifierSVM.0x7f0cdc0498d0 - INFO - Training SVM with parameters: {'preprocess': None, 'n_jobs': 1, 'C': 0.01, 'class_weight': None, 'grad_sampling': 1.0, 'store_dual_vars': None, 'kernel': CKernelRBF{'gamma': 1000.0, 'rv': CArray(20000, 784)(dense: [[0. 0. 0. ... 0. 0. 0.] [0. 0. 0. ... 0. 0. 0.] [0. 0. 0. ... 0. 0. 0.] ... [0. 0. 0. ... 0. 0. 0.] [0. 0. 0. ... 0. 0. 0.] [0. 0. 0. ... 0. 0. 0.]]), 'preprocess': None, 'n_jobs': 1}}\n",
      "2020-05-20 12:58:04,757 - CClassifierMulticlassOVA.0x7f0cdc0ecc18 - INFO - Training against class: 4\n",
      "2020-05-20 12:58:05,683 - CClassifierSVM.0x7f0cdc0496d8 - INFO - Training SVM with parameters: {'preprocess': None, 'n_jobs': 1, 'C': 0.01, 'class_weight': None, 'grad_sampling': 1.0, 'store_dual_vars': None, 'kernel': CKernelRBF{'gamma': 1000.0, 'rv': CArray(20000, 784)(dense: [[0. 0. 0. ... 0. 0. 0.] [0. 0. 0. ... 0. 0. 0.] [0. 0. 0. ... 0. 0. 0.] ... [0. 0. 0. ... 0. 0. 0.] [0. 0. 0. ... 0. 0. 0.] [0. 0. 0. ... 0. 0. 0.]]), 'preprocess': None, 'n_jobs': 1}}\n",
      "2020-05-20 12:58:23,895 - CClassifierMulticlassOVA.0x7f0cdc0ecc18 - INFO - Training against class: 5\n",
      "2020-05-20 12:58:24,860 - CClassifierSVM.0x7f0cdc0499e8 - INFO - Training SVM with parameters: {'preprocess': None, 'n_jobs': 1, 'C': 0.01, 'class_weight': None, 'grad_sampling': 1.0, 'store_dual_vars': None, 'kernel': CKernelRBF{'gamma': 1000.0, 'rv': CArray(20000, 784)(dense: [[0. 0. 0. ... 0. 0. 0.] [0. 0. 0. ... 0. 0. 0.] [0. 0. 0. ... 0. 0. 0.] ... [0. 0. 0. ... 0. 0. 0.] [0. 0. 0. ... 0. 0. 0.] [0. 0. 0. ... 0. 0. 0.]]), 'preprocess': None, 'n_jobs': 1}}\n",
      "2020-05-20 12:58:43,015 - CClassifierMulticlassOVA.0x7f0cdc0ecc18 - INFO - Training against class: 6\n",
      "2020-05-20 12:58:43,876 - CClassifierSVM.0x7f0cdc049a58 - INFO - Training SVM with parameters: {'preprocess': None, 'n_jobs': 1, 'C': 0.01, 'class_weight': None, 'grad_sampling': 1.0, 'store_dual_vars': None, 'kernel': CKernelRBF{'gamma': 1000.0, 'rv': CArray(20000, 784)(dense: [[0. 0. 0. ... 0. 0. 0.] [0. 0. 0. ... 0. 0. 0.] [0. 0. 0. ... 0. 0. 0.] ... [0. 0. 0. ... 0. 0. 0.] [0. 0. 0. ... 0. 0. 0.] [0. 0. 0. ... 0. 0. 0.]]), 'preprocess': None, 'n_jobs': 1}}\n",
      "2020-05-20 12:59:02,278 - CClassifierMulticlassOVA.0x7f0cdc0ecc18 - INFO - Training against class: 7\n",
      "2020-05-20 12:59:03,167 - CClassifierSVM.0x7f0cdc049ac8 - INFO - Training SVM with parameters: {'preprocess': None, 'n_jobs': 1, 'C': 0.01, 'class_weight': None, 'grad_sampling': 1.0, 'store_dual_vars': None, 'kernel': CKernelRBF{'gamma': 1000.0, 'rv': CArray(20000, 784)(dense: [[0. 0. 0. ... 0. 0. 0.] [0. 0. 0. ... 0. 0. 0.] [0. 0. 0. ... 0. 0. 0.] ... [0. 0. 0. ... 0. 0. 0.] [0. 0. 0. ... 0. 0. 0.] [0. 0. 0. ... 0. 0. 0.]]), 'preprocess': None, 'n_jobs': 1}}\n",
      "2020-05-20 12:59:21,590 - CClassifierMulticlassOVA.0x7f0cdc0ecc18 - INFO - Training against class: 8\n",
      "2020-05-20 12:59:22,490 - CClassifierSVM.0x7f0cdc049b38 - INFO - Training SVM with parameters: {'preprocess': None, 'n_jobs': 1, 'C': 0.01, 'class_weight': None, 'grad_sampling': 1.0, 'store_dual_vars': None, 'kernel': CKernelRBF{'gamma': 1000.0, 'rv': CArray(20000, 784)(dense: [[0. 0. 0. ... 0. 0. 0.] [0. 0. 0. ... 0. 0. 0.] [0. 0. 0. ... 0. 0. 0.] ... [0. 0. 0. ... 0. 0. 0.] [0. 0. 0. ... 0. 0. 0.] [0. 0. 0. ... 0. 0. 0.]]), 'preprocess': None, 'n_jobs': 1}}\n",
      "2020-05-20 12:59:40,953 - CClassifierMulticlassOVA.0x7f0cdc0ecc18 - INFO - Training against class: 9\n",
      "2020-05-20 12:59:41,891 - CClassifierSVM.0x7f0cdc049ba8 - INFO - Training SVM with parameters: {'preprocess': None, 'n_jobs': 1, 'C': 0.01, 'class_weight': None, 'grad_sampling': 1.0, 'store_dual_vars': None, 'kernel': CKernelRBF{'gamma': 1000.0, 'rv': CArray(20000, 784)(dense: [[0. 0. 0. ... 0. 0. 0.] [0. 0. 0. ... 0. 0. 0.] [0. 0. 0. ... 0. 0. 0.] ... [0. 0. 0. ... 0. 0. 0.] [0. 0. 0. ... 0. 0. 0.] [0. 0. 0. ... 0. 0. 0.]]), 'preprocess': None, 'n_jobs': 1}}\n",
      "2020-05-20 13:00:50,970 - CClassifierMulticlassOVA.0x7f0cdc0ecc18 - INFO - Training against class: 0\n",
      "2020-05-20 13:00:51,867 - CClassifierSVM.0x7f0cdc0ae518 - INFO - Training SVM with parameters: {'preprocess': None, 'n_jobs': 1, 'C': 0.01, 'class_weight': None, 'grad_sampling': 1.0, 'store_dual_vars': None, 'kernel': CKernelRBF{'gamma': 1000.0, 'rv': CArray(20000, 784)(dense: [[0. 0. 0. ... 0. 0. 0.] [0. 0. 0. ... 0. 0. 0.] [0. 0. 0. ... 0. 0. 0.] ... [0. 0. 0. ... 0. 0. 0.] [0. 0. 0. ... 0. 0. 0.] [0. 0. 0. ... 0. 0. 0.]]), 'preprocess': None, 'n_jobs': 1}}\n",
      "2020-05-20 13:01:10,632 - CClassifierMulticlassOVA.0x7f0cdc0ecc18 - INFO - Training against class: 1\n",
      "2020-05-20 13:01:11,546 - CClassifierSVM.0x7f0cdc049828 - INFO - Training SVM with parameters: {'preprocess': None, 'n_jobs': 1, 'C': 0.01, 'class_weight': None, 'grad_sampling': 1.0, 'store_dual_vars': None, 'kernel': CKernelRBF{'gamma': 1000.0, 'rv': CArray(20000, 784)(dense: [[0. 0. 0. ... 0. 0. 0.] [0. 0. 0. ... 0. 0. 0.] [0. 0. 0. ... 0. 0. 0.] ... [0. 0. 0. ... 0. 0. 0.] [0. 0. 0. ... 0. 0. 0.] [0. 0. 0. ... 0. 0. 0.]]), 'preprocess': None, 'n_jobs': 1}}\n",
      "2020-05-20 13:01:29,766 - CClassifierMulticlassOVA.0x7f0cdc0ecc18 - INFO - Training against class: 2\n",
      "2020-05-20 13:01:30,694 - CClassifierSVM.0x7f0cdc049940 - INFO - Training SVM with parameters: {'preprocess': None, 'n_jobs': 1, 'C': 0.01, 'class_weight': None, 'grad_sampling': 1.0, 'store_dual_vars': None, 'kernel': CKernelRBF{'gamma': 1000.0, 'rv': CArray(20000, 784)(dense: [[0. 0. 0. ... 0. 0. 0.] [0. 0. 0. ... 0. 0. 0.] [0. 0. 0. ... 0. 0. 0.] ... [0. 0. 0. ... 0. 0. 0.] [0. 0. 0. ... 0. 0. 0.] [0. 0. 0. ... 0. 0. 0.]]), 'preprocess': None, 'n_jobs': 1}}\n",
      "2020-05-20 13:01:48,351 - CClassifierMulticlassOVA.0x7f0cdc0ecc18 - INFO - Training against class: 3\n",
      "2020-05-20 13:01:49,328 - CClassifierSVM.0x7f0cdc0498d0 - INFO - Training SVM with parameters: {'preprocess': None, 'n_jobs': 1, 'C': 0.01, 'class_weight': None, 'grad_sampling': 1.0, 'store_dual_vars': None, 'kernel': CKernelRBF{'gamma': 1000.0, 'rv': CArray(20000, 784)(dense: [[0. 0. 0. ... 0. 0. 0.] [0. 0. 0. ... 0. 0. 0.] [0. 0. 0. ... 0. 0. 0.] ... [0. 0. 0. ... 0. 0. 0.] [0. 0. 0. ... 0. 0. 0.] [0. 0. 0. ... 0. 0. 0.]]), 'preprocess': None, 'n_jobs': 1}}\n",
      "2020-05-20 13:02:07,642 - CClassifierMulticlassOVA.0x7f0cdc0ecc18 - INFO - Training against class: 4\n",
      "2020-05-20 13:02:08,722 - CClassifierSVM.0x7f0cdc0496d8 - INFO - Training SVM with parameters: {'preprocess': None, 'n_jobs': 1, 'C': 0.01, 'class_weight': None, 'grad_sampling': 1.0, 'store_dual_vars': None, 'kernel': CKernelRBF{'gamma': 1000.0, 'rv': CArray(20000, 784)(dense: [[0. 0. 0. ... 0. 0. 0.] [0. 0. 0. ... 0. 0. 0.] [0. 0. 0. ... 0. 0. 0.] ... [0. 0. 0. ... 0. 0. 0.] [0. 0. 0. ... 0. 0. 0.] [0. 0. 0. ... 0. 0. 0.]]), 'preprocess': None, 'n_jobs': 1}}\n",
      "2020-05-20 13:02:26,308 - CClassifierMulticlassOVA.0x7f0cdc0ecc18 - INFO - Training against class: 5\n",
      "2020-05-20 13:02:27,247 - CClassifierSVM.0x7f0cdc0499e8 - INFO - Training SVM with parameters: {'preprocess': None, 'n_jobs': 1, 'C': 0.01, 'class_weight': None, 'grad_sampling': 1.0, 'store_dual_vars': None, 'kernel': CKernelRBF{'gamma': 1000.0, 'rv': CArray(20000, 784)(dense: [[0. 0. 0. ... 0. 0. 0.] [0. 0. 0. ... 0. 0. 0.] [0. 0. 0. ... 0. 0. 0.] ... [0. 0. 0. ... 0. 0. 0.] [0. 0. 0. ... 0. 0. 0.] [0. 0. 0. ... 0. 0. 0.]]), 'preprocess': None, 'n_jobs': 1}}\n",
      "2020-05-20 13:02:45,618 - CClassifierMulticlassOVA.0x7f0cdc0ecc18 - INFO - Training against class: 6\n",
      "2020-05-20 13:02:46,611 - CClassifierSVM.0x7f0cdc049a58 - INFO - Training SVM with parameters: {'preprocess': None, 'n_jobs': 1, 'C': 0.01, 'class_weight': None, 'grad_sampling': 1.0, 'store_dual_vars': None, 'kernel': CKernelRBF{'gamma': 1000.0, 'rv': CArray(20000, 784)(dense: [[0. 0. 0. ... 0. 0. 0.] [0. 0. 0. ... 0. 0. 0.] [0. 0. 0. ... 0. 0. 0.] ... [0. 0. 0. ... 0. 0. 0.] [0. 0. 0. ... 0. 0. 0.] [0. 0. 0. ... 0. 0. 0.]]), 'preprocess': None, 'n_jobs': 1}}\n",
      "2020-05-20 13:03:05,111 - CClassifierMulticlassOVA.0x7f0cdc0ecc18 - INFO - Training against class: 7\n",
      "2020-05-20 13:03:06,032 - CClassifierSVM.0x7f0cdc049ac8 - INFO - Training SVM with parameters: {'preprocess': None, 'n_jobs': 1, 'C': 0.01, 'class_weight': None, 'grad_sampling': 1.0, 'store_dual_vars': None, 'kernel': CKernelRBF{'gamma': 1000.0, 'rv': CArray(20000, 784)(dense: [[0. 0. 0. ... 0. 0. 0.] [0. 0. 0. ... 0. 0. 0.] [0. 0. 0. ... 0. 0. 0.] ... [0. 0. 0. ... 0. 0. 0.] [0. 0. 0. ... 0. 0. 0.] [0. 0. 0. ... 0. 0. 0.]]), 'preprocess': None, 'n_jobs': 1}}\n",
      "2020-05-20 13:03:24,575 - CClassifierMulticlassOVA.0x7f0cdc0ecc18 - INFO - Training against class: 8\n",
      "2020-05-20 13:03:25,458 - CClassifierSVM.0x7f0cdc049b38 - INFO - Training SVM with parameters: {'preprocess': None, 'n_jobs': 1, 'C': 0.01, 'class_weight': None, 'grad_sampling': 1.0, 'store_dual_vars': None, 'kernel': CKernelRBF{'gamma': 1000.0, 'rv': CArray(20000, 784)(dense: [[0. 0. 0. ... 0. 0. 0.] [0. 0. 0. ... 0. 0. 0.] [0. 0. 0. ... 0. 0. 0.] ... [0. 0. 0. ... 0. 0. 0.] [0. 0. 0. ... 0. 0. 0.] [0. 0. 0. ... 0. 0. 0.]]), 'preprocess': None, 'n_jobs': 1}}\n",
      "2020-05-20 13:03:43,840 - CClassifierMulticlassOVA.0x7f0cdc0ecc18 - INFO - Training against class: 9\n",
      "2020-05-20 13:03:44,890 - CClassifierSVM.0x7f0cdc049ba8 - INFO - Training SVM with parameters: {'preprocess': None, 'n_jobs': 1, 'C': 0.01, 'class_weight': None, 'grad_sampling': 1.0, 'store_dual_vars': None, 'kernel': CKernelRBF{'gamma': 1000.0, 'rv': CArray(20000, 784)(dense: [[0. 0. 0. ... 0. 0. 0.] [0. 0. 0. ... 0. 0. 0.] [0. 0. 0. ... 0. 0. 0.] ... [0. 0. 0. ... 0. 0. 0.] [0. 0. 0. ... 0. 0. 0.] [0. 0. 0. ... 0. 0. 0.]]), 'preprocess': None, 'n_jobs': 1}}\n",
      "2020-05-20 13:04:54,837 - CPerfEvaluatorXVal.0x7f0cdc049c18 - INFO - Params: {'C': 0.01, 'kernel.gamma': 1000.0} - Score: 0.11469999999999998\n",
      "2020-05-20 13:04:54,980 - CClassifierMulticlassOVA.0x7f0cdc0ecc18 - INFO - Training against class: 0\n",
      "2020-05-20 13:04:55,863 - CClassifierSVM.0x7f0cdc0ae518 - INFO - Training SVM with parameters: {'preprocess': None, 'n_jobs': 1, 'C': 0.01, 'class_weight': None, 'grad_sampling': 1.0, 'store_dual_vars': None, 'kernel': CKernelRBF{'gamma': 0.1, 'rv': CArray(20000, 784)(dense: [[0. 0. 0. ... 0. 0. 0.] [0. 0. 0. ... 0. 0. 0.] [0. 0. 0. ... 0. 0. 0.] ... [0. 0. 0. ... 0. 0. 0.] [0. 0. 0. ... 0. 0. 0.] [0. 0. 0. ... 0. 0. 0.]]), 'preprocess': None, 'n_jobs': 1}}\n",
      "2020-05-20 13:05:14,086 - CClassifierMulticlassOVA.0x7f0cdc0ecc18 - INFO - Training against class: 1\n",
      "2020-05-20 13:05:15,025 - CClassifierSVM.0x7f0cdc049828 - INFO - Training SVM with parameters: {'preprocess': None, 'n_jobs': 1, 'C': 0.01, 'class_weight': None, 'grad_sampling': 1.0, 'store_dual_vars': None, 'kernel': CKernelRBF{'gamma': 0.1, 'rv': CArray(20000, 784)(dense: [[0. 0. 0. ... 0. 0. 0.] [0. 0. 0. ... 0. 0. 0.] [0. 0. 0. ... 0. 0. 0.] ... [0. 0. 0. ... 0. 0. 0.] [0. 0. 0. ... 0. 0. 0.] [0. 0. 0. ... 0. 0. 0.]]), 'preprocess': None, 'n_jobs': 1}}\n",
      "2020-05-20 13:05:31,601 - CClassifierMulticlassOVA.0x7f0cdc0ecc18 - INFO - Training against class: 2\n",
      "2020-05-20 13:05:32,521 - CClassifierSVM.0x7f0cdc049940 - INFO - Training SVM with parameters: {'preprocess': None, 'n_jobs': 1, 'C': 0.01, 'class_weight': None, 'grad_sampling': 1.0, 'store_dual_vars': None, 'kernel': CKernelRBF{'gamma': 0.1, 'rv': CArray(20000, 784)(dense: [[0. 0. 0. ... 0. 0. 0.] [0. 0. 0. ... 0. 0. 0.] [0. 0. 0. ... 0. 0. 0.] ... [0. 0. 0. ... 0. 0. 0.] [0. 0. 0. ... 0. 0. 0.] [0. 0. 0. ... 0. 0. 0.]]), 'preprocess': None, 'n_jobs': 1}}\n",
      "2020-05-20 13:05:50,762 - CClassifierMulticlassOVA.0x7f0cdc0ecc18 - INFO - Training against class: 3\n",
      "2020-05-20 13:05:51,669 - CClassifierSVM.0x7f0cdc0498d0 - INFO - Training SVM with parameters: {'preprocess': None, 'n_jobs': 1, 'C': 0.01, 'class_weight': None, 'grad_sampling': 1.0, 'store_dual_vars': None, 'kernel': CKernelRBF{'gamma': 0.1, 'rv': CArray(20000, 784)(dense: [[0. 0. 0. ... 0. 0. 0.] [0. 0. 0. ... 0. 0. 0.] [0. 0. 0. ... 0. 0. 0.] ... [0. 0. 0. ... 0. 0. 0.] [0. 0. 0. ... 0. 0. 0.] [0. 0. 0. ... 0. 0. 0.]]), 'preprocess': None, 'n_jobs': 1}}\n",
      "2020-05-20 13:06:10,475 - CClassifierMulticlassOVA.0x7f0cdc0ecc18 - INFO - Training against class: 4\n",
      "2020-05-20 13:06:11,358 - CClassifierSVM.0x7f0cdc0496d8 - INFO - Training SVM with parameters: {'preprocess': None, 'n_jobs': 1, 'C': 0.01, 'class_weight': None, 'grad_sampling': 1.0, 'store_dual_vars': None, 'kernel': CKernelRBF{'gamma': 0.1, 'rv': CArray(20000, 784)(dense: [[0. 0. 0. ... 0. 0. 0.] [0. 0. 0. ... 0. 0. 0.] [0. 0. 0. ... 0. 0. 0.] ... [0. 0. 0. ... 0. 0. 0.] [0. 0. 0. ... 0. 0. 0.] [0. 0. 0. ... 0. 0. 0.]]), 'preprocess': None, 'n_jobs': 1}}\n",
      "2020-05-20 13:06:29,654 - CClassifierMulticlassOVA.0x7f0cdc0ecc18 - INFO - Training against class: 5\n",
      "2020-05-20 13:06:30,685 - CClassifierSVM.0x7f0cdc0499e8 - INFO - Training SVM with parameters: {'preprocess': None, 'n_jobs': 1, 'C': 0.01, 'class_weight': None, 'grad_sampling': 1.0, 'store_dual_vars': None, 'kernel': CKernelRBF{'gamma': 0.1, 'rv': CArray(20000, 784)(dense: [[0. 0. 0. ... 0. 0. 0.] [0. 0. 0. ... 0. 0. 0.] [0. 0. 0. ... 0. 0. 0.] ... [0. 0. 0. ... 0. 0. 0.] [0. 0. 0. ... 0. 0. 0.] [0. 0. 0. ... 0. 0. 0.]]), 'preprocess': None, 'n_jobs': 1}}\n",
      "2020-05-20 13:06:48,649 - CClassifierMulticlassOVA.0x7f0cdc0ecc18 - INFO - Training against class: 6\n",
      "2020-05-20 13:06:49,532 - CClassifierSVM.0x7f0cdc049a58 - INFO - Training SVM with parameters: {'preprocess': None, 'n_jobs': 1, 'C': 0.01, 'class_weight': None, 'grad_sampling': 1.0, 'store_dual_vars': None, 'kernel': CKernelRBF{'gamma': 0.1, 'rv': CArray(20000, 784)(dense: [[0. 0. 0. ... 0. 0. 0.] [0. 0. 0. ... 0. 0. 0.] [0. 0. 0. ... 0. 0. 0.] ... [0. 0. 0. ... 0. 0. 0.] [0. 0. 0. ... 0. 0. 0.] [0. 0. 0. ... 0. 0. 0.]]), 'preprocess': None, 'n_jobs': 1}}\n",
      "2020-05-20 13:07:08,040 - CClassifierMulticlassOVA.0x7f0cdc0ecc18 - INFO - Training against class: 7\n",
      "2020-05-20 13:07:09,076 - CClassifierSVM.0x7f0cdc049ac8 - INFO - Training SVM with parameters: {'preprocess': None, 'n_jobs': 1, 'C': 0.01, 'class_weight': None, 'grad_sampling': 1.0, 'store_dual_vars': None, 'kernel': CKernelRBF{'gamma': 0.1, 'rv': CArray(20000, 784)(dense: [[0. 0. 0. ... 0. 0. 0.] [0. 0. 0. ... 0. 0. 0.] [0. 0. 0. ... 0. 0. 0.] ... [0. 0. 0. ... 0. 0. 0.] [0. 0. 0. ... 0. 0. 0.] [0. 0. 0. ... 0. 0. 0.]]), 'preprocess': None, 'n_jobs': 1}}\n",
      "2020-05-20 13:07:27,360 - CClassifierMulticlassOVA.0x7f0cdc0ecc18 - INFO - Training against class: 8\n",
      "2020-05-20 13:07:28,337 - CClassifierSVM.0x7f0cdc049b38 - INFO - Training SVM with parameters: {'preprocess': None, 'n_jobs': 1, 'C': 0.01, 'class_weight': None, 'grad_sampling': 1.0, 'store_dual_vars': None, 'kernel': CKernelRBF{'gamma': 0.1, 'rv': CArray(20000, 784)(dense: [[0. 0. 0. ... 0. 0. 0.] [0. 0. 0. ... 0. 0. 0.] [0. 0. 0. ... 0. 0. 0.] ... [0. 0. 0. ... 0. 0. 0.] [0. 0. 0. ... 0. 0. 0.] [0. 0. 0. ... 0. 0. 0.]]), 'preprocess': None, 'n_jobs': 1}}\n",
      "2020-05-20 13:07:47,055 - CClassifierMulticlassOVA.0x7f0cdc0ecc18 - INFO - Training against class: 9\n",
      "2020-05-20 13:07:48,047 - CClassifierSVM.0x7f0cdc049ba8 - INFO - Training SVM with parameters: {'preprocess': None, 'n_jobs': 1, 'C': 0.01, 'class_weight': None, 'grad_sampling': 1.0, 'store_dual_vars': None, 'kernel': CKernelRBF{'gamma': 0.1, 'rv': CArray(20000, 784)(dense: [[0. 0. 0. ... 0. 0. 0.] [0. 0. 0. ... 0. 0. 0.] [0. 0. 0. ... 0. 0. 0.] ... [0. 0. 0. ... 0. 0. 0.] [0. 0. 0. ... 0. 0. 0.] [0. 0. 0. ... 0. 0. 0.]]), 'preprocess': None, 'n_jobs': 1}}\n",
      "2020-05-20 13:08:37,550 - CClassifierMulticlassOVA.0x7f0cdc0ecc18 - INFO - Training against class: 0\n",
      "2020-05-20 13:08:38,462 - CClassifierSVM.0x7f0cdc0ae518 - INFO - Training SVM with parameters: {'preprocess': None, 'n_jobs': 1, 'C': 0.01, 'class_weight': None, 'grad_sampling': 1.0, 'store_dual_vars': None, 'kernel': CKernelRBF{'gamma': 0.1, 'rv': CArray(11581, 784)(dense: [[0. 0. 0. ... 0. 0. 0.] [0. 0. 0. ... 0. 0. 0.] [0. 0. 0. ... 0. 0. 0.] ... [0. 0. 0. ... 0. 0. 0.] [0. 0. 0. ... 0. 0. 0.] [0. 0. 0. ... 0. 0. 0.]]), 'preprocess': None, 'n_jobs': 1}}\n",
      "2020-05-20 13:08:56,520 - CClassifierMulticlassOVA.0x7f0cdc0ecc18 - INFO - Training against class: 1\n",
      "2020-05-20 13:08:57,450 - CClassifierSVM.0x7f0cdc049828 - INFO - Training SVM with parameters: {'preprocess': None, 'n_jobs': 1, 'C': 0.01, 'class_weight': None, 'grad_sampling': 1.0, 'store_dual_vars': None, 'kernel': CKernelRBF{'gamma': 0.1, 'rv': CArray(7803, 784)(dense: [[0. 0. 0. ... 0. 0. 0.] [0. 0. 0. ... 0. 0. 0.] [0. 0. 0. ... 0. 0. 0.] ... [0. 0. 0. ... 0. 0. 0.] [0. 0. 0. ... 0. 0. 0.] [0. 0. 0. ... 0. 0. 0.]]), 'preprocess': None, 'n_jobs': 1}}\n",
      "2020-05-20 13:09:13,166 - CClassifierMulticlassOVA.0x7f0cdc0ecc18 - INFO - Training against class: 2\n",
      "2020-05-20 13:09:14,189 - CClassifierSVM.0x7f0cdc049940 - INFO - Training SVM with parameters: {'preprocess': None, 'n_jobs': 1, 'C': 0.01, 'class_weight': None, 'grad_sampling': 1.0, 'store_dual_vars': None, 'kernel': CKernelRBF{'gamma': 0.1, 'rv': CArray(11632, 784)(dense: [[0. 0. 0. ... 0. 0. 0.] [0. 0. 0. ... 0. 0. 0.] [0. 0. 0. ... 0. 0. 0.] ... [0. 0. 0. ... 0. 0. 0.] [0. 0. 0. ... 0. 0. 0.] [0. 0. 0. ... 0. 0. 0.]]), 'preprocess': None, 'n_jobs': 1}}\n",
      "2020-05-20 13:09:32,584 - CClassifierMulticlassOVA.0x7f0cdc0ecc18 - INFO - Training against class: 3\n",
      "2020-05-20 13:09:33,594 - CClassifierSVM.0x7f0cdc0498d0 - INFO - Training SVM with parameters: {'preprocess': None, 'n_jobs': 1, 'C': 0.01, 'class_weight': None, 'grad_sampling': 1.0, 'store_dual_vars': None, 'kernel': CKernelRBF{'gamma': 0.1, 'rv': CArray(11814, 784)(dense: [[0. 0. 0. ... 0. 0. 0.] [0. 0. 0. ... 0. 0. 0.] [0. 0. 0. ... 0. 0. 0.] ... [0. 0. 0. ... 0. 0. 0.] [0. 0. 0. ... 0. 0. 0.] [0. 0. 0. ... 0. 0. 0.]]), 'preprocess': None, 'n_jobs': 1}}\n",
      "2020-05-20 13:09:51,789 - CClassifierMulticlassOVA.0x7f0cdc0ecc18 - INFO - Training against class: 4\n",
      "2020-05-20 13:09:52,725 - CClassifierSVM.0x7f0cdc0496d8 - INFO - Training SVM with parameters: {'preprocess': None, 'n_jobs': 1, 'C': 0.01, 'class_weight': None, 'grad_sampling': 1.0, 'store_dual_vars': None, 'kernel': CKernelRBF{'gamma': 0.1, 'rv': CArray(11769, 784)(dense: [[0. 0. 0. ... 0. 0. 0.] [0. 0. 0. ... 0. 0. 0.] [0. 0. 0. ... 0. 0. 0.] ... [0. 0. 0. ... 0. 0. 0.] [0. 0. 0. ... 0. 0. 0.] [0. 0. 0. ... 0. 0. 0.]]), 'preprocess': None, 'n_jobs': 1}}\n",
      "2020-05-20 13:10:11,533 - CClassifierMulticlassOVA.0x7f0cdc0ecc18 - INFO - Training against class: 5\n",
      "2020-05-20 13:10:12,473 - CClassifierSVM.0x7f0cdc0499e8 - INFO - Training SVM with parameters: {'preprocess': None, 'n_jobs': 1, 'C': 0.01, 'class_weight': None, 'grad_sampling': 1.0, 'store_dual_vars': None, 'kernel': CKernelRBF{'gamma': 0.1, 'rv': CArray(11565, 784)(dense: [[0. 0. 0. ... 0. 0. 0.] [0. 0. 0. ... 0. 0. 0.] [0. 0. 0. ... 0. 0. 0.] ... [0. 0. 0. ... 0. 0. 0.] [0. 0. 0. ... 0. 0. 0.] [0. 0. 0. ... 0. 0. 0.]]), 'preprocess': None, 'n_jobs': 1}}\n",
      "2020-05-20 13:10:31,151 - CClassifierMulticlassOVA.0x7f0cdc0ecc18 - INFO - Training against class: 6\n",
      "2020-05-20 13:10:32,152 - CClassifierSVM.0x7f0cdc049a58 - INFO - Training SVM with parameters: {'preprocess': None, 'n_jobs': 1, 'C': 0.01, 'class_weight': None, 'grad_sampling': 1.0, 'store_dual_vars': None, 'kernel': CKernelRBF{'gamma': 0.1, 'rv': CArray(11442, 784)(dense: [[0. 0. 0. ... 0. 0. 0.] [0. 0. 0. ... 0. 0. 0.] [0. 0. 0. ... 0. 0. 0.] ... [0. 0. 0. ... 0. 0. 0.] [0. 0. 0. ... 0. 0. 0.] [0. 0. 0. ... 0. 0. 0.]]), 'preprocess': None, 'n_jobs': 1}}\n",
      "2020-05-20 13:10:49,708 - CClassifierMulticlassOVA.0x7f0cdc0ecc18 - INFO - Training against class: 7\n",
      "2020-05-20 13:10:50,659 - CClassifierSVM.0x7f0cdc049ac8 - INFO - Training SVM with parameters: {'preprocess': None, 'n_jobs': 1, 'C': 0.01, 'class_weight': None, 'grad_sampling': 1.0, 'store_dual_vars': None, 'kernel': CKernelRBF{'gamma': 0.1, 'rv': CArray(11498, 784)(dense: [[0. 0. 0. ... 0. 0. 0.] [0. 0. 0. ... 0. 0. 0.] [0. 0. 0. ... 0. 0. 0.] ... [0. 0. 0. ... 0. 0. 0.] [0. 0. 0. ... 0. 0. 0.] [0. 0. 0. ... 0. 0. 0.]]), 'preprocess': None, 'n_jobs': 1}}\n",
      "2020-05-20 13:11:09,096 - CClassifierMulticlassOVA.0x7f0cdc0ecc18 - INFO - Training against class: 8\n",
      "2020-05-20 13:11:10,032 - CClassifierSVM.0x7f0cdc049b38 - INFO - Training SVM with parameters: {'preprocess': None, 'n_jobs': 1, 'C': 0.01, 'class_weight': None, 'grad_sampling': 1.0, 'store_dual_vars': None, 'kernel': CKernelRBF{'gamma': 0.1, 'rv': CArray(12174, 784)(dense: [[0. 0. 0. ... 0. 0. 0.] [0. 0. 0. ... 0. 0. 0.] [0. 0. 0. ... 0. 0. 0.] ... [0. 0. 0. ... 0. 0. 0.] [0. 0. 0. ... 0. 0. 0.] [0. 0. 0. ... 0. 0. 0.]]), 'preprocess': None, 'n_jobs': 1}}\n",
      "2020-05-20 13:11:28,352 - CClassifierMulticlassOVA.0x7f0cdc0ecc18 - INFO - Training against class: 9\n",
      "2020-05-20 13:11:29,305 - CClassifierSVM.0x7f0cdc049ba8 - INFO - Training SVM with parameters: {'preprocess': None, 'n_jobs': 1, 'C': 0.01, 'class_weight': None, 'grad_sampling': 1.0, 'store_dual_vars': None, 'kernel': CKernelRBF{'gamma': 0.1, 'rv': CArray(10298, 784)(dense: [[0. 0. 0. ... 0. 0. 0.] [0. 0. 0. ... 0. 0. 0.] [0. 0. 0. ... 0. 0. 0.] ... [0. 0. 0. ... 0. 0. 0.] [0. 0. 0. ... 0. 0. 0.] [0. 0. 0. ... 0. 0. 0.]]), 'preprocess': None, 'n_jobs': 1}}\n",
      "2020-05-20 13:12:19,203 - CClassifierMulticlassOVA.0x7f0cdc0ecc18 - INFO - Training against class: 0\n",
      "2020-05-20 13:12:20,167 - CClassifierSVM.0x7f0cdc0ae518 - INFO - Training SVM with parameters: {'preprocess': None, 'n_jobs': 1, 'C': 0.01, 'class_weight': None, 'grad_sampling': 1.0, 'store_dual_vars': None, 'kernel': CKernelRBF{'gamma': 0.1, 'rv': CArray(11569, 784)(dense: [[0. 0. 0. ... 0. 0. 0.] [0. 0. 0. ... 0. 0. 0.] [0. 0. 0. ... 0. 0. 0.] ... [0. 0. 0. ... 0. 0. 0.] [0. 0. 0. ... 0. 0. 0.] [0. 0. 0. ... 0. 0. 0.]]), 'preprocess': None, 'n_jobs': 1}}\n",
      "2020-05-20 13:12:37,728 - CClassifierMulticlassOVA.0x7f0cdc0ecc18 - INFO - Training against class: 1\n",
      "2020-05-20 13:12:38,687 - CClassifierSVM.0x7f0cdc049828 - INFO - Training SVM with parameters: {'preprocess': None, 'n_jobs': 1, 'C': 0.01, 'class_weight': None, 'grad_sampling': 1.0, 'store_dual_vars': None, 'kernel': CKernelRBF{'gamma': 0.1, 'rv': CArray(7880, 784)(dense: [[0. 0. 0. ... 0. 0. 0.] [0. 0. 0. ... 0. 0. 0.] [0. 0. 0. ... 0. 0. 0.] ... [0. 0. 0. ... 0. 0. 0.] [0. 0. 0. ... 0. 0. 0.] [0. 0. 0. ... 0. 0. 0.]]), 'preprocess': None, 'n_jobs': 1}}\n",
      "2020-05-20 13:12:55,473 - CClassifierMulticlassOVA.0x7f0cdc0ecc18 - INFO - Training against class: 2\n",
      "2020-05-20 13:12:56,443 - CClassifierSVM.0x7f0cdc049940 - INFO - Training SVM with parameters: {'preprocess': None, 'n_jobs': 1, 'C': 0.01, 'class_weight': None, 'grad_sampling': 1.0, 'store_dual_vars': None, 'kernel': CKernelRBF{'gamma': 0.1, 'rv': CArray(11649, 784)(dense: [[0. 0. 0. ... 0. 0. 0.] [0. 0. 0. ... 0. 0. 0.] [0. 0. 0. ... 0. 0. 0.] ... [0. 0. 0. ... 0. 0. 0.] [0. 0. 0. ... 0. 0. 0.] [0. 0. 0. ... 0. 0. 0.]]), 'preprocess': None, 'n_jobs': 1}}\n",
      "2020-05-20 13:13:14,733 - CClassifierMulticlassOVA.0x7f0cdc0ecc18 - INFO - Training against class: 3\n",
      "2020-05-20 13:13:15,631 - CClassifierSVM.0x7f0cdc0498d0 - INFO - Training SVM with parameters: {'preprocess': None, 'n_jobs': 1, 'C': 0.01, 'class_weight': None, 'grad_sampling': 1.0, 'store_dual_vars': None, 'kernel': CKernelRBF{'gamma': 0.1, 'rv': CArray(11865, 784)(dense: [[0. 0. 0. ... 0. 0. 0.] [0. 0. 0. ... 0. 0. 0.] [0. 0. 0. ... 0. 0. 0.] ... [0. 0. 0. ... 0. 0. 0.] [0. 0. 0. ... 0. 0. 0.] [0. 0. 0. ... 0. 0. 0.]]), 'preprocess': None, 'n_jobs': 1}}\n",
      "2020-05-20 13:13:33,405 - CClassifierMulticlassOVA.0x7f0cdc0ecc18 - INFO - Training against class: 4\n",
      "2020-05-20 13:13:34,323 - CClassifierSVM.0x7f0cdc0496d8 - INFO - Training SVM with parameters: {'preprocess': None, 'n_jobs': 1, 'C': 0.01, 'class_weight': None, 'grad_sampling': 1.0, 'store_dual_vars': None, 'kernel': CKernelRBF{'gamma': 0.1, 'rv': CArray(11774, 784)(dense: [[0. 0. 0. ... 0. 0. 0.] [0. 0. 0. ... 0. 0. 0.] [0. 0. 0. ... 0. 0. 0.] ... [0. 0. 0. ... 0. 0. 0.] [0. 0. 0. ... 0. 0. 0.] [0. 0. 0. ... 0. 0. 0.]]), 'preprocess': None, 'n_jobs': 1}}\n",
      "2020-05-20 13:13:52,591 - CClassifierMulticlassOVA.0x7f0cdc0ecc18 - INFO - Training against class: 5\n",
      "2020-05-20 13:13:53,509 - CClassifierSVM.0x7f0cdc0499e8 - INFO - Training SVM with parameters: {'preprocess': None, 'n_jobs': 1, 'C': 0.01, 'class_weight': None, 'grad_sampling': 1.0, 'store_dual_vars': None, 'kernel': CKernelRBF{'gamma': 0.1, 'rv': CArray(11694, 784)(dense: [[0. 0. 0. ... 0. 0. 0.] [0. 0. 0. ... 0. 0. 0.] [0. 0. 0. ... 0. 0. 0.] ... [0. 0. 0. ... 0. 0. 0.] [0. 0. 0. ... 0. 0. 0.] [0. 0. 0. ... 0. 0. 0.]]), 'preprocess': None, 'n_jobs': 1}}\n",
      "2020-05-20 13:14:11,496 - CClassifierMulticlassOVA.0x7f0cdc0ecc18 - INFO - Training against class: 6\n",
      "2020-05-20 13:14:12,396 - CClassifierSVM.0x7f0cdc049a58 - INFO - Training SVM with parameters: {'preprocess': None, 'n_jobs': 1, 'C': 0.01, 'class_weight': None, 'grad_sampling': 1.0, 'store_dual_vars': None, 'kernel': CKernelRBF{'gamma': 0.1, 'rv': CArray(11422, 784)(dense: [[0. 0. 0. ... 0. 0. 0.] [0. 0. 0. ... 0. 0. 0.] [0. 0. 0. ... 0. 0. 0.] ... [0. 0. 0. ... 0. 0. 0.] [0. 0. 0. ... 0. 0. 0.] [0. 0. 0. ... 0. 0. 0.]]), 'preprocess': None, 'n_jobs': 1}}\n",
      "2020-05-20 13:14:30,838 - CClassifierMulticlassOVA.0x7f0cdc0ecc18 - INFO - Training against class: 7\n",
      "2020-05-20 13:14:31,731 - CClassifierSVM.0x7f0cdc049ac8 - INFO - Training SVM with parameters: {'preprocess': None, 'n_jobs': 1, 'C': 0.01, 'class_weight': None, 'grad_sampling': 1.0, 'store_dual_vars': None, 'kernel': CKernelRBF{'gamma': 0.1, 'rv': CArray(11458, 784)(dense: [[0. 0. 0. ... 0. 0. 0.] [0. 0. 0. ... 0. 0. 0.] [0. 0. 0. ... 0. 0. 0.] ... [0. 0. 0. ... 0. 0. 0.] [0. 0. 0. ... 0. 0. 0.] [0. 0. 0. ... 0. 0. 0.]]), 'preprocess': None, 'n_jobs': 1}}\n",
      "2020-05-20 13:14:50,166 - CClassifierMulticlassOVA.0x7f0cdc0ecc18 - INFO - Training against class: 8\n",
      "2020-05-20 13:14:51,146 - CClassifierSVM.0x7f0cdc049b38 - INFO - Training SVM with parameters: {'preprocess': None, 'n_jobs': 1, 'C': 0.01, 'class_weight': None, 'grad_sampling': 1.0, 'store_dual_vars': None, 'kernel': CKernelRBF{'gamma': 0.1, 'rv': CArray(12126, 784)(dense: [[0. 0. 0. ... 0. 0. 0.] [0. 0. 0. ... 0. 0. 0.] [0. 0. 0. ... 0. 0. 0.] ... [0. 0. 0. ... 0. 0. 0.] [0. 0. 0. ... 0. 0. 0.] [0. 0. 0. ... 0. 0. 0.]]), 'preprocess': None, 'n_jobs': 1}}\n",
      "2020-05-20 13:15:09,148 - CClassifierMulticlassOVA.0x7f0cdc0ecc18 - INFO - Training against class: 9\n",
      "2020-05-20 13:15:10,047 - CClassifierSVM.0x7f0cdc049ba8 - INFO - Training SVM with parameters: {'preprocess': None, 'n_jobs': 1, 'C': 0.01, 'class_weight': None, 'grad_sampling': 1.0, 'store_dual_vars': None, 'kernel': CKernelRBF{'gamma': 0.1, 'rv': CArray(10293, 784)(dense: [[0. 0. 0. ... 0. 0. 0.] [0. 0. 0. ... 0. 0. 0.] [0. 0. 0. ... 0. 0. 0.] ... [0. 0. 0. ... 0. 0. 0.] [0. 0. 0. ... 0. 0. 0.] [0. 0. 0. ... 0. 0. 0.]]), 'preprocess': None, 'n_jobs': 1}}\n",
      "2020-05-20 13:15:59,191 - CPerfEvaluatorXVal.0x7f0cdc049c18 - INFO - Params: {'C': 0.01, 'kernel.gamma': 0.1} - Score: 0.9039\n",
      "2020-05-20 13:15:59,316 - CClassifierMulticlassOVA.0x7f0cdc0ecc18 - INFO - Training against class: 0\n",
      "2020-05-20 13:16:00,205 - CClassifierSVM.0x7f0cdc0ae518 - INFO - Training SVM with parameters: {'preprocess': None, 'n_jobs': 1, 'C': 0.01, 'class_weight': None, 'grad_sampling': 1.0, 'store_dual_vars': None, 'kernel': CKernelRBF{'gamma': 10.0, 'rv': CArray(11533, 784)(dense: [[0. 0. 0. ... 0. 0. 0.] [0. 0. 0. ... 0. 0. 0.] [0. 0. 0. ... 0. 0. 0.] ... [0. 0. 0. ... 0. 0. 0.] [0. 0. 0. ... 0. 0. 0.] [0. 0. 0. ... 0. 0. 0.]]), 'preprocess': None, 'n_jobs': 1}}\n",
      "2020-05-20 13:16:21,141 - CClassifierMulticlassOVA.0x7f0cdc0ecc18 - INFO - Training against class: 1\n",
      "2020-05-20 13:16:22,047 - CClassifierSVM.0x7f0cdc049828 - INFO - Training SVM with parameters: {'preprocess': None, 'n_jobs': 1, 'C': 0.01, 'class_weight': None, 'grad_sampling': 1.0, 'store_dual_vars': None, 'kernel': CKernelRBF{'gamma': 10.0, 'rv': CArray(8142, 784)(dense: [[0. 0. 0. ... 0. 0. 0.] [0. 0. 0. ... 0. 0. 0.] [0. 0. 0. ... 0. 0. 0.] ... [0. 0. 0. ... 0. 0. 0.] [0. 0. 0. ... 0. 0. 0.] [0. 0. 0. ... 0. 0. 0.]]), 'preprocess': None, 'n_jobs': 1}}\n",
      "2020-05-20 13:16:43,605 - CClassifierMulticlassOVA.0x7f0cdc0ecc18 - INFO - Training against class: 2\n",
      "2020-05-20 13:16:44,623 - CClassifierSVM.0x7f0cdc049940 - INFO - Training SVM with parameters: {'preprocess': None, 'n_jobs': 1, 'C': 0.01, 'class_weight': None, 'grad_sampling': 1.0, 'store_dual_vars': None, 'kernel': CKernelRBF{'gamma': 10.0, 'rv': CArray(11636, 784)(dense: [[0. 0. 0. ... 0. 0. 0.] [0. 0. 0. ... 0. 0. 0.] [0. 0. 0. ... 0. 0. 0.] ... [0. 0. 0. ... 0. 0. 0.] [0. 0. 0. ... 0. 0. 0.] [0. 0. 0. ... 0. 0. 0.]]), 'preprocess': None, 'n_jobs': 1}}\n",
      "2020-05-20 13:17:06,522 - CClassifierMulticlassOVA.0x7f0cdc0ecc18 - INFO - Training against class: 3\n",
      "2020-05-20 13:17:07,456 - CClassifierSVM.0x7f0cdc0498d0 - INFO - Training SVM with parameters: {'preprocess': None, 'n_jobs': 1, 'C': 0.01, 'class_weight': None, 'grad_sampling': 1.0, 'store_dual_vars': None, 'kernel': CKernelRBF{'gamma': 10.0, 'rv': CArray(11897, 784)(dense: [[0. 0. 0. ... 0. 0. 0.] [0. 0. 0. ... 0. 0. 0.] [0. 0. 0. ... 0. 0. 0.] ... [0. 0. 0. ... 0. 0. 0.] [0. 0. 0. ... 0. 0. 0.] [0. 0. 0. ... 0. 0. 0.]]), 'preprocess': None, 'n_jobs': 1}}\n",
      "2020-05-20 13:17:27,861 - CClassifierMulticlassOVA.0x7f0cdc0ecc18 - INFO - Training against class: 4\n",
      "2020-05-20 13:17:28,757 - CClassifierSVM.0x7f0cdc0496d8 - INFO - Training SVM with parameters: {'preprocess': None, 'n_jobs': 1, 'C': 0.01, 'class_weight': None, 'grad_sampling': 1.0, 'store_dual_vars': None, 'kernel': CKernelRBF{'gamma': 10.0, 'rv': CArray(11757, 784)(dense: [[0. 0. 0. ... 0. 0. 0.] [0. 0. 0. ... 0. 0. 0.] [0. 0. 0. ... 0. 0. 0.] ... [0. 0. 0. ... 0. 0. 0.] [0. 0. 0. ... 0. 0. 0.] [0. 0. 0. ... 0. 0. 0.]]), 'preprocess': None, 'n_jobs': 1}}\n",
      "2020-05-20 13:17:50,198 - CClassifierMulticlassOVA.0x7f0cdc0ecc18 - INFO - Training against class: 5\n",
      "2020-05-20 13:17:51,111 - CClassifierSVM.0x7f0cdc0499e8 - INFO - Training SVM with parameters: {'preprocess': None, 'n_jobs': 1, 'C': 0.01, 'class_weight': None, 'grad_sampling': 1.0, 'store_dual_vars': None, 'kernel': CKernelRBF{'gamma': 10.0, 'rv': CArray(11726, 784)(dense: [[0. 0. 0. ... 0. 0. 0.] [0. 0. 0. ... 0. 0. 0.] [0. 0. 0. ... 0. 0. 0.] ... [0. 0. 0. ... 0. 0. 0.] [0. 0. 0. ... 0. 0. 0.] [0. 0. 0. ... 0. 0. 0.]]), 'preprocess': None, 'n_jobs': 1}}\n",
      "2020-05-20 13:18:12,580 - CClassifierMulticlassOVA.0x7f0cdc0ecc18 - INFO - Training against class: 6\n",
      "2020-05-20 13:18:13,530 - CClassifierSVM.0x7f0cdc049a58 - INFO - Training SVM with parameters: {'preprocess': None, 'n_jobs': 1, 'C': 0.01, 'class_weight': None, 'grad_sampling': 1.0, 'store_dual_vars': None, 'kernel': CKernelRBF{'gamma': 10.0, 'rv': CArray(11432, 784)(dense: [[0. 0. 0. ... 0. 0. 0.] [0. 0. 0. ... 0. 0. 0.] [0. 0. 0. ... 0. 0. 0.] ... [0. 0. 0. ... 0. 0. 0.] [0. 0. 0. ... 0. 0. 0.] [0. 0. 0. ... 0. 0. 0.]]), 'preprocess': None, 'n_jobs': 1}}\n",
      "2020-05-20 13:18:35,241 - CClassifierMulticlassOVA.0x7f0cdc0ecc18 - INFO - Training against class: 7\n",
      "2020-05-20 13:18:36,160 - CClassifierSVM.0x7f0cdc049ac8 - INFO - Training SVM with parameters: {'preprocess': None, 'n_jobs': 1, 'C': 0.01, 'class_weight': None, 'grad_sampling': 1.0, 'store_dual_vars': None, 'kernel': CKernelRBF{'gamma': 10.0, 'rv': CArray(11545, 784)(dense: [[0. 0. 0. ... 0. 0. 0.] [0. 0. 0. ... 0. 0. 0.] [0. 0. 0. ... 0. 0. 0.] ... [0. 0. 0. ... 0. 0. 0.] [0. 0. 0. ... 0. 0. 0.] [0. 0. 0. ... 0. 0. 0.]]), 'preprocess': None, 'n_jobs': 1}}\n",
      "2020-05-20 13:18:57,888 - CClassifierMulticlassOVA.0x7f0cdc0ecc18 - INFO - Training against class: 8\n",
      "2020-05-20 13:18:58,779 - CClassifierSVM.0x7f0cdc049b38 - INFO - Training SVM with parameters: {'preprocess': None, 'n_jobs': 1, 'C': 0.01, 'class_weight': None, 'grad_sampling': 1.0, 'store_dual_vars': None, 'kernel': CKernelRBF{'gamma': 10.0, 'rv': CArray(12159, 784)(dense: [[0. 0. 0. ... 0. 0. 0.] [0. 0. 0. ... 0. 0. 0.] [0. 0. 0. ... 0. 0. 0.] ... [0. 0. 0. ... 0. 0. 0.] [0. 0. 0. ... 0. 0. 0.] [0. 0. 0. ... 0. 0. 0.]]), 'preprocess': None, 'n_jobs': 1}}\n",
      "2020-05-20 13:19:20,145 - CClassifierMulticlassOVA.0x7f0cdc0ecc18 - INFO - Training against class: 9\n",
      "2020-05-20 13:19:21,045 - CClassifierSVM.0x7f0cdc049ba8 - INFO - Training SVM with parameters: {'preprocess': None, 'n_jobs': 1, 'C': 0.01, 'class_weight': None, 'grad_sampling': 1.0, 'store_dual_vars': None, 'kernel': CKernelRBF{'gamma': 10.0, 'rv': CArray(10383, 784)(dense: [[0. 0. 0. ... 0. 0. 0.] [0. 0. 0. ... 0. 0. 0.] [0. 0. 0. ... 0. 0. 0.] ... [0. 0. 0. ... 0. 0. 0.] [0. 0. 0. ... 0. 0. 0.] [0. 0. 0. ... 0. 0. 0.]]), 'preprocess': None, 'n_jobs': 1}}\n",
      "2020-05-20 13:20:42,140 - CClassifierMulticlassOVA.0x7f0cdc0ecc18 - INFO - Training against class: 0\n",
      "2020-05-20 13:20:43,102 - CClassifierSVM.0x7f0cdc0ae518 - INFO - Training SVM with parameters: {'preprocess': None, 'n_jobs': 1, 'C': 0.01, 'class_weight': None, 'grad_sampling': 1.0, 'store_dual_vars': None, 'kernel': CKernelRBF{'gamma': 10.0, 'rv': CArray(20000, 784)(dense: [[0. 0. 0. ... 0. 0. 0.] [0. 0. 0. ... 0. 0. 0.] [0. 0. 0. ... 0. 0. 0.] ... [0. 0. 0. ... 0. 0. 0.] [0. 0. 0. ... 0. 0. 0.] [0. 0. 0. ... 0. 0. 0.]]), 'preprocess': None, 'n_jobs': 1}}\n",
      "2020-05-20 13:21:04,978 - CClassifierMulticlassOVA.0x7f0cdc0ecc18 - INFO - Training against class: 1\n",
      "2020-05-20 13:21:05,961 - CClassifierSVM.0x7f0cdc049828 - INFO - Training SVM with parameters: {'preprocess': None, 'n_jobs': 1, 'C': 0.01, 'class_weight': None, 'grad_sampling': 1.0, 'store_dual_vars': None, 'kernel': CKernelRBF{'gamma': 10.0, 'rv': CArray(20000, 784)(dense: [[0. 0. 0. ... 0. 0. 0.] [0. 0. 0. ... 0. 0. 0.] [0. 0. 0. ... 0. 0. 0.] ... [0. 0. 0. ... 0. 0. 0.] [0. 0. 0. ... 0. 0. 0.] [0. 0. 0. ... 0. 0. 0.]]), 'preprocess': None, 'n_jobs': 1}}\n",
      "2020-05-20 13:21:26,935 - CClassifierMulticlassOVA.0x7f0cdc0ecc18 - INFO - Training against class: 2\n",
      "2020-05-20 13:21:27,834 - CClassifierSVM.0x7f0cdc049940 - INFO - Training SVM with parameters: {'preprocess': None, 'n_jobs': 1, 'C': 0.01, 'class_weight': None, 'grad_sampling': 1.0, 'store_dual_vars': None, 'kernel': CKernelRBF{'gamma': 10.0, 'rv': CArray(20000, 784)(dense: [[0. 0. 0. ... 0. 0. 0.] [0. 0. 0. ... 0. 0. 0.] [0. 0. 0. ... 0. 0. 0.] ... [0. 0. 0. ... 0. 0. 0.] [0. 0. 0. ... 0. 0. 0.] [0. 0. 0. ... 0. 0. 0.]]), 'preprocess': None, 'n_jobs': 1}}\n",
      "2020-05-20 13:21:48,536 - CClassifierMulticlassOVA.0x7f0cdc0ecc18 - INFO - Training against class: 3\n",
      "2020-05-20 13:21:49,612 - CClassifierSVM.0x7f0cdc0498d0 - INFO - Training SVM with parameters: {'preprocess': None, 'n_jobs': 1, 'C': 0.01, 'class_weight': None, 'grad_sampling': 1.0, 'store_dual_vars': None, 'kernel': CKernelRBF{'gamma': 10.0, 'rv': CArray(20000, 784)(dense: [[0. 0. 0. ... 0. 0. 0.] [0. 0. 0. ... 0. 0. 0.] [0. 0. 0. ... 0. 0. 0.] ... [0. 0. 0. ... 0. 0. 0.] [0. 0. 0. ... 0. 0. 0.] [0. 0. 0. ... 0. 0. 0.]]), 'preprocess': None, 'n_jobs': 1}}\n",
      "2020-05-20 13:22:10,958 - CClassifierMulticlassOVA.0x7f0cdc0ecc18 - INFO - Training against class: 4\n",
      "2020-05-20 13:22:11,847 - CClassifierSVM.0x7f0cdc0496d8 - INFO - Training SVM with parameters: {'preprocess': None, 'n_jobs': 1, 'C': 0.01, 'class_weight': None, 'grad_sampling': 1.0, 'store_dual_vars': None, 'kernel': CKernelRBF{'gamma': 10.0, 'rv': CArray(20000, 784)(dense: [[0. 0. 0. ... 0. 0. 0.] [0. 0. 0. ... 0. 0. 0.] [0. 0. 0. ... 0. 0. 0.] ... [0. 0. 0. ... 0. 0. 0.] [0. 0. 0. ... 0. 0. 0.] [0. 0. 0. ... 0. 0. 0.]]), 'preprocess': None, 'n_jobs': 1}}\n",
      "2020-05-20 13:22:33,177 - CClassifierMulticlassOVA.0x7f0cdc0ecc18 - INFO - Training against class: 5\n",
      "2020-05-20 13:22:34,058 - CClassifierSVM.0x7f0cdc0499e8 - INFO - Training SVM with parameters: {'preprocess': None, 'n_jobs': 1, 'C': 0.01, 'class_weight': None, 'grad_sampling': 1.0, 'store_dual_vars': None, 'kernel': CKernelRBF{'gamma': 10.0, 'rv': CArray(20000, 784)(dense: [[0. 0. 0. ... 0. 0. 0.] [0. 0. 0. ... 0. 0. 0.] [0. 0. 0. ... 0. 0. 0.] ... [0. 0. 0. ... 0. 0. 0.] [0. 0. 0. ... 0. 0. 0.] [0. 0. 0. ... 0. 0. 0.]]), 'preprocess': None, 'n_jobs': 1}}\n",
      "2020-05-20 13:22:55,160 - CClassifierMulticlassOVA.0x7f0cdc0ecc18 - INFO - Training against class: 6\n",
      "2020-05-20 13:22:56,053 - CClassifierSVM.0x7f0cdc049a58 - INFO - Training SVM with parameters: {'preprocess': None, 'n_jobs': 1, 'C': 0.01, 'class_weight': None, 'grad_sampling': 1.0, 'store_dual_vars': None, 'kernel': CKernelRBF{'gamma': 10.0, 'rv': CArray(20000, 784)(dense: [[0. 0. 0. ... 0. 0. 0.] [0. 0. 0. ... 0. 0. 0.] [0. 0. 0. ... 0. 0. 0.] ... [0. 0. 0. ... 0. 0. 0.] [0. 0. 0. ... 0. 0. 0.] [0. 0. 0. ... 0. 0. 0.]]), 'preprocess': None, 'n_jobs': 1}}\n",
      "2020-05-20 13:23:17,527 - CClassifierMulticlassOVA.0x7f0cdc0ecc18 - INFO - Training against class: 7\n",
      "2020-05-20 13:23:18,516 - CClassifierSVM.0x7f0cdc049ac8 - INFO - Training SVM with parameters: {'preprocess': None, 'n_jobs': 1, 'C': 0.01, 'class_weight': None, 'grad_sampling': 1.0, 'store_dual_vars': None, 'kernel': CKernelRBF{'gamma': 10.0, 'rv': CArray(20000, 784)(dense: [[0. 0. 0. ... 0. 0. 0.] [0. 0. 0. ... 0. 0. 0.] [0. 0. 0. ... 0. 0. 0.] ... [0. 0. 0. ... 0. 0. 0.] [0. 0. 0. ... 0. 0. 0.] [0. 0. 0. ... 0. 0. 0.]]), 'preprocess': None, 'n_jobs': 1}}\n",
      "2020-05-20 13:23:40,553 - CClassifierMulticlassOVA.0x7f0cdc0ecc18 - INFO - Training against class: 8\n",
      "2020-05-20 13:23:41,566 - CClassifierSVM.0x7f0cdc049b38 - INFO - Training SVM with parameters: {'preprocess': None, 'n_jobs': 1, 'C': 0.01, 'class_weight': None, 'grad_sampling': 1.0, 'store_dual_vars': None, 'kernel': CKernelRBF{'gamma': 10.0, 'rv': CArray(20000, 784)(dense: [[0. 0. 0. ... 0. 0. 0.] [0. 0. 0. ... 0. 0. 0.] [0. 0. 0. ... 0. 0. 0.] ... [0. 0. 0. ... 0. 0. 0.] [0. 0. 0. ... 0. 0. 0.] [0. 0. 0. ... 0. 0. 0.]]), 'preprocess': None, 'n_jobs': 1}}\n",
      "2020-05-20 13:24:02,866 - CClassifierMulticlassOVA.0x7f0cdc0ecc18 - INFO - Training against class: 9\n",
      "2020-05-20 13:24:03,802 - CClassifierSVM.0x7f0cdc049ba8 - INFO - Training SVM with parameters: {'preprocess': None, 'n_jobs': 1, 'C': 0.01, 'class_weight': None, 'grad_sampling': 1.0, 'store_dual_vars': None, 'kernel': CKernelRBF{'gamma': 10.0, 'rv': CArray(20000, 784)(dense: [[0. 0. 0. ... 0. 0. 0.] [0. 0. 0. ... 0. 0. 0.] [0. 0. 0. ... 0. 0. 0.] ... [0. 0. 0. ... 0. 0. 0.] [0. 0. 0. ... 0. 0. 0.] [0. 0. 0. ... 0. 0. 0.]]), 'preprocess': None, 'n_jobs': 1}}\n",
      "2020-05-20 13:25:24,035 - CClassifierMulticlassOVA.0x7f0cdc0ecc18 - INFO - Training against class: 0\n",
      "2020-05-20 13:25:24,910 - CClassifierSVM.0x7f0cdc0ae518 - INFO - Training SVM with parameters: {'preprocess': None, 'n_jobs': 1, 'C': 0.01, 'class_weight': None, 'grad_sampling': 1.0, 'store_dual_vars': None, 'kernel': CKernelRBF{'gamma': 10.0, 'rv': CArray(20000, 784)(dense: [[0. 0. 0. ... 0. 0. 0.] [0. 0. 0. ... 0. 0. 0.] [0. 0. 0. ... 0. 0. 0.] ... [0. 0. 0. ... 0. 0. 0.] [0. 0. 0. ... 0. 0. 0.] [0. 0. 0. ... 0. 0. 0.]]), 'preprocess': None, 'n_jobs': 1}}\n",
      "2020-05-20 13:25:46,316 - CClassifierMulticlassOVA.0x7f0cdc0ecc18 - INFO - Training against class: 1\n",
      "2020-05-20 13:25:47,243 - CClassifierSVM.0x7f0cdc049828 - INFO - Training SVM with parameters: {'preprocess': None, 'n_jobs': 1, 'C': 0.01, 'class_weight': None, 'grad_sampling': 1.0, 'store_dual_vars': None, 'kernel': CKernelRBF{'gamma': 10.0, 'rv': CArray(20000, 784)(dense: [[0. 0. 0. ... 0. 0. 0.] [0. 0. 0. ... 0. 0. 0.] [0. 0. 0. ... 0. 0. 0.] ... [0. 0. 0. ... 0. 0. 0.] [0. 0. 0. ... 0. 0. 0.] [0. 0. 0. ... 0. 0. 0.]]), 'preprocess': None, 'n_jobs': 1}}\n",
      "2020-05-20 13:26:08,604 - CClassifierMulticlassOVA.0x7f0cdc0ecc18 - INFO - Training against class: 2\n",
      "2020-05-20 13:26:09,559 - CClassifierSVM.0x7f0cdc049940 - INFO - Training SVM with parameters: {'preprocess': None, 'n_jobs': 1, 'C': 0.01, 'class_weight': None, 'grad_sampling': 1.0, 'store_dual_vars': None, 'kernel': CKernelRBF{'gamma': 10.0, 'rv': CArray(20000, 784)(dense: [[0. 0. 0. ... 0. 0. 0.] [0. 0. 0. ... 0. 0. 0.] [0. 0. 0. ... 0. 0. 0.] ... [0. 0. 0. ... 0. 0. 0.] [0. 0. 0. ... 0. 0. 0.] [0. 0. 0. ... 0. 0. 0.]]), 'preprocess': None, 'n_jobs': 1}}\n",
      "2020-05-20 13:26:30,189 - CClassifierMulticlassOVA.0x7f0cdc0ecc18 - INFO - Training against class: 3\n",
      "2020-05-20 13:26:31,097 - CClassifierSVM.0x7f0cdc0498d0 - INFO - Training SVM with parameters: {'preprocess': None, 'n_jobs': 1, 'C': 0.01, 'class_weight': None, 'grad_sampling': 1.0, 'store_dual_vars': None, 'kernel': CKernelRBF{'gamma': 10.0, 'rv': CArray(20000, 784)(dense: [[0. 0. 0. ... 0. 0. 0.] [0. 0. 0. ... 0. 0. 0.] [0. 0. 0. ... 0. 0. 0.] ... [0. 0. 0. ... 0. 0. 0.] [0. 0. 0. ... 0. 0. 0.] [0. 0. 0. ... 0. 0. 0.]]), 'preprocess': None, 'n_jobs': 1}}\n",
      "2020-05-20 13:26:51,400 - CClassifierMulticlassOVA.0x7f0cdc0ecc18 - INFO - Training against class: 4\n",
      "2020-05-20 13:26:52,319 - CClassifierSVM.0x7f0cdc0496d8 - INFO - Training SVM with parameters: {'preprocess': None, 'n_jobs': 1, 'C': 0.01, 'class_weight': None, 'grad_sampling': 1.0, 'store_dual_vars': None, 'kernel': CKernelRBF{'gamma': 10.0, 'rv': CArray(20000, 784)(dense: [[0. 0. 0. ... 0. 0. 0.] [0. 0. 0. ... 0. 0. 0.] [0. 0. 0. ... 0. 0. 0.] ... [0. 0. 0. ... 0. 0. 0.] [0. 0. 0. ... 0. 0. 0.] [0. 0. 0. ... 0. 0. 0.]]), 'preprocess': None, 'n_jobs': 1}}\n",
      "2020-05-20 13:27:13,693 - CClassifierMulticlassOVA.0x7f0cdc0ecc18 - INFO - Training against class: 5\n",
      "2020-05-20 13:27:14,794 - CClassifierSVM.0x7f0cdc0499e8 - INFO - Training SVM with parameters: {'preprocess': None, 'n_jobs': 1, 'C': 0.01, 'class_weight': None, 'grad_sampling': 1.0, 'store_dual_vars': None, 'kernel': CKernelRBF{'gamma': 10.0, 'rv': CArray(20000, 784)(dense: [[0. 0. 0. ... 0. 0. 0.] [0. 0. 0. ... 0. 0. 0.] [0. 0. 0. ... 0. 0. 0.] ... [0. 0. 0. ... 0. 0. 0.] [0. 0. 0. ... 0. 0. 0.] [0. 0. 0. ... 0. 0. 0.]]), 'preprocess': None, 'n_jobs': 1}}\n",
      "2020-05-20 13:27:36,154 - CClassifierMulticlassOVA.0x7f0cdc0ecc18 - INFO - Training against class: 6\n",
      "2020-05-20 13:27:37,182 - CClassifierSVM.0x7f0cdc049a58 - INFO - Training SVM with parameters: {'preprocess': None, 'n_jobs': 1, 'C': 0.01, 'class_weight': None, 'grad_sampling': 1.0, 'store_dual_vars': None, 'kernel': CKernelRBF{'gamma': 10.0, 'rv': CArray(20000, 784)(dense: [[0. 0. 0. ... 0. 0. 0.] [0. 0. 0. ... 0. 0. 0.] [0. 0. 0. ... 0. 0. 0.] ... [0. 0. 0. ... 0. 0. 0.] [0. 0. 0. ... 0. 0. 0.] [0. 0. 0. ... 0. 0. 0.]]), 'preprocess': None, 'n_jobs': 1}}\n",
      "2020-05-20 13:27:58,073 - CClassifierMulticlassOVA.0x7f0cdc0ecc18 - INFO - Training against class: 7\n",
      "2020-05-20 13:27:59,007 - CClassifierSVM.0x7f0cdc049ac8 - INFO - Training SVM with parameters: {'preprocess': None, 'n_jobs': 1, 'C': 0.01, 'class_weight': None, 'grad_sampling': 1.0, 'store_dual_vars': None, 'kernel': CKernelRBF{'gamma': 10.0, 'rv': CArray(20000, 784)(dense: [[0. 0. 0. ... 0. 0. 0.] [0. 0. 0. ... 0. 0. 0.] [0. 0. 0. ... 0. 0. 0.] ... [0. 0. 0. ... 0. 0. 0.] [0. 0. 0. ... 0. 0. 0.] [0. 0. 0. ... 0. 0. 0.]]), 'preprocess': None, 'n_jobs': 1}}\n",
      "2020-05-20 13:28:19,575 - CClassifierMulticlassOVA.0x7f0cdc0ecc18 - INFO - Training against class: 8\n",
      "2020-05-20 13:28:20,457 - CClassifierSVM.0x7f0cdc049b38 - INFO - Training SVM with parameters: {'preprocess': None, 'n_jobs': 1, 'C': 0.01, 'class_weight': None, 'grad_sampling': 1.0, 'store_dual_vars': None, 'kernel': CKernelRBF{'gamma': 10.0, 'rv': CArray(20000, 784)(dense: [[0. 0. 0. ... 0. 0. 0.] [0. 0. 0. ... 0. 0. 0.] [0. 0. 0. ... 0. 0. 0.] ... [0. 0. 0. ... 0. 0. 0.] [0. 0. 0. ... 0. 0. 0.] [0. 0. 0. ... 0. 0. 0.]]), 'preprocess': None, 'n_jobs': 1}}\n",
      "2020-05-20 13:28:41,551 - CClassifierMulticlassOVA.0x7f0cdc0ecc18 - INFO - Training against class: 9\n",
      "2020-05-20 13:28:42,423 - CClassifierSVM.0x7f0cdc049ba8 - INFO - Training SVM with parameters: {'preprocess': None, 'n_jobs': 1, 'C': 0.01, 'class_weight': None, 'grad_sampling': 1.0, 'store_dual_vars': None, 'kernel': CKernelRBF{'gamma': 10.0, 'rv': CArray(20000, 784)(dense: [[0. 0. 0. ... 0. 0. 0.] [0. 0. 0. ... 0. 0. 0.] [0. 0. 0. ... 0. 0. 0.] ... [0. 0. 0. ... 0. 0. 0.] [0. 0. 0. ... 0. 0. 0.] [0. 0. 0. ... 0. 0. 0.]]), 'preprocess': None, 'n_jobs': 1}}\n",
      "2020-05-20 13:30:01,968 - CPerfEvaluatorXVal.0x7f0cdc049c18 - INFO - Params: {'C': 0.01, 'kernel.gamma': 10} - Score: 0.11469999999999998\n",
      "2020-05-20 13:30:02,103 - CClassifierMulticlassOVA.0x7f0cdc0ecc18 - INFO - Training against class: 0\n",
      "2020-05-20 13:30:03,033 - CClassifierSVM.0x7f0cdc0ae518 - INFO - Training SVM with parameters: {'preprocess': None, 'n_jobs': 1, 'C': 0.01, 'class_weight': None, 'grad_sampling': 1.0, 'store_dual_vars': None, 'kernel': CKernelRBF{'gamma': 100.0, 'rv': CArray(20000, 784)(dense: [[0. 0. 0. ... 0. 0. 0.] [0. 0. 0. ... 0. 0. 0.] [0. 0. 0. ... 0. 0. 0.] ... [0. 0. 0. ... 0. 0. 0.] [0. 0. 0. ... 0. 0. 0.] [0. 0. 0. ... 0. 0. 0.]]), 'preprocess': None, 'n_jobs': 1}}\n",
      "2020-05-20 13:30:21,134 - CClassifierMulticlassOVA.0x7f0cdc0ecc18 - INFO - Training against class: 1\n",
      "2020-05-20 13:30:22,242 - CClassifierSVM.0x7f0cdc049828 - INFO - Training SVM with parameters: {'preprocess': None, 'n_jobs': 1, 'C': 0.01, 'class_weight': None, 'grad_sampling': 1.0, 'store_dual_vars': None, 'kernel': CKernelRBF{'gamma': 100.0, 'rv': CArray(20000, 784)(dense: [[0. 0. 0. ... 0. 0. 0.] [0. 0. 0. ... 0. 0. 0.] [0. 0. 0. ... 0. 0. 0.] ... [0. 0. 0. ... 0. 0. 0.] [0. 0. 0. ... 0. 0. 0.] [0. 0. 0. ... 0. 0. 0.]]), 'preprocess': None, 'n_jobs': 1}}\n",
      "2020-05-20 13:30:39,577 - CClassifierMulticlassOVA.0x7f0cdc0ecc18 - INFO - Training against class: 2\n",
      "2020-05-20 13:30:40,476 - CClassifierSVM.0x7f0cdc049940 - INFO - Training SVM with parameters: {'preprocess': None, 'n_jobs': 1, 'C': 0.01, 'class_weight': None, 'grad_sampling': 1.0, 'store_dual_vars': None, 'kernel': CKernelRBF{'gamma': 100.0, 'rv': CArray(20000, 784)(dense: [[0. 0. 0. ... 0. 0. 0.] [0. 0. 0. ... 0. 0. 0.] [0. 0. 0. ... 0. 0. 0.] ... [0. 0. 0. ... 0. 0. 0.] [0. 0. 0. ... 0. 0. 0.] [0. 0. 0. ... 0. 0. 0.]]), 'preprocess': None, 'n_jobs': 1}}\n",
      "2020-05-20 13:30:58,336 - CClassifierMulticlassOVA.0x7f0cdc0ecc18 - INFO - Training against class: 3\n",
      "2020-05-20 13:30:59,296 - CClassifierSVM.0x7f0cdc0498d0 - INFO - Training SVM with parameters: {'preprocess': None, 'n_jobs': 1, 'C': 0.01, 'class_weight': None, 'grad_sampling': 1.0, 'store_dual_vars': None, 'kernel': CKernelRBF{'gamma': 100.0, 'rv': CArray(20000, 784)(dense: [[0. 0. 0. ... 0. 0. 0.] [0. 0. 0. ... 0. 0. 0.] [0. 0. 0. ... 0. 0. 0.] ... [0. 0. 0. ... 0. 0. 0.] [0. 0. 0. ... 0. 0. 0.] [0. 0. 0. ... 0. 0. 0.]]), 'preprocess': None, 'n_jobs': 1}}\n",
      "2020-05-20 13:31:17,266 - CClassifierMulticlassOVA.0x7f0cdc0ecc18 - INFO - Training against class: 4\n",
      "2020-05-20 13:31:18,281 - CClassifierSVM.0x7f0cdc0496d8 - INFO - Training SVM with parameters: {'preprocess': None, 'n_jobs': 1, 'C': 0.01, 'class_weight': None, 'grad_sampling': 1.0, 'store_dual_vars': None, 'kernel': CKernelRBF{'gamma': 100.0, 'rv': CArray(20000, 784)(dense: [[0. 0. 0. ... 0. 0. 0.] [0. 0. 0. ... 0. 0. 0.] [0. 0. 0. ... 0. 0. 0.] ... [0. 0. 0. ... 0. 0. 0.] [0. 0. 0. ... 0. 0. 0.] [0. 0. 0. ... 0. 0. 0.]]), 'preprocess': None, 'n_jobs': 1}}\n",
      "2020-05-20 13:31:36,285 - CClassifierMulticlassOVA.0x7f0cdc0ecc18 - INFO - Training against class: 5\n",
      "2020-05-20 13:31:37,156 - CClassifierSVM.0x7f0cdc0499e8 - INFO - Training SVM with parameters: {'preprocess': None, 'n_jobs': 1, 'C': 0.01, 'class_weight': None, 'grad_sampling': 1.0, 'store_dual_vars': None, 'kernel': CKernelRBF{'gamma': 100.0, 'rv': CArray(20000, 784)(dense: [[0. 0. 0. ... 0. 0. 0.] [0. 0. 0. ... 0. 0. 0.] [0. 0. 0. ... 0. 0. 0.] ... [0. 0. 0. ... 0. 0. 0.] [0. 0. 0. ... 0. 0. 0.] [0. 0. 0. ... 0. 0. 0.]]), 'preprocess': None, 'n_jobs': 1}}\n",
      "2020-05-20 13:31:55,261 - CClassifierMulticlassOVA.0x7f0cdc0ecc18 - INFO - Training against class: 6\n",
      "2020-05-20 13:31:56,190 - CClassifierSVM.0x7f0cdc049a58 - INFO - Training SVM with parameters: {'preprocess': None, 'n_jobs': 1, 'C': 0.01, 'class_weight': None, 'grad_sampling': 1.0, 'store_dual_vars': None, 'kernel': CKernelRBF{'gamma': 100.0, 'rv': CArray(20000, 784)(dense: [[0. 0. 0. ... 0. 0. 0.] [0. 0. 0. ... 0. 0. 0.] [0. 0. 0. ... 0. 0. 0.] ... [0. 0. 0. ... 0. 0. 0.] [0. 0. 0. ... 0. 0. 0.] [0. 0. 0. ... 0. 0. 0.]]), 'preprocess': None, 'n_jobs': 1}}\n",
      "2020-05-20 13:32:14,089 - CClassifierMulticlassOVA.0x7f0cdc0ecc18 - INFO - Training against class: 7\n",
      "2020-05-20 13:32:15,050 - CClassifierSVM.0x7f0cdc049ac8 - INFO - Training SVM with parameters: {'preprocess': None, 'n_jobs': 1, 'C': 0.01, 'class_weight': None, 'grad_sampling': 1.0, 'store_dual_vars': None, 'kernel': CKernelRBF{'gamma': 100.0, 'rv': CArray(20000, 784)(dense: [[0. 0. 0. ... 0. 0. 0.] [0. 0. 0. ... 0. 0. 0.] [0. 0. 0. ... 0. 0. 0.] ... [0. 0. 0. ... 0. 0. 0.] [0. 0. 0. ... 0. 0. 0.] [0. 0. 0. ... 0. 0. 0.]]), 'preprocess': None, 'n_jobs': 1}}\n",
      "2020-05-20 13:32:32,894 - CClassifierMulticlassOVA.0x7f0cdc0ecc18 - INFO - Training against class: 8\n",
      "2020-05-20 13:32:33,818 - CClassifierSVM.0x7f0cdc049b38 - INFO - Training SVM with parameters: {'preprocess': None, 'n_jobs': 1, 'C': 0.01, 'class_weight': None, 'grad_sampling': 1.0, 'store_dual_vars': None, 'kernel': CKernelRBF{'gamma': 100.0, 'rv': CArray(20000, 784)(dense: [[0. 0. 0. ... 0. 0. 0.] [0. 0. 0. ... 0. 0. 0.] [0. 0. 0. ... 0. 0. 0.] ... [0. 0. 0. ... 0. 0. 0.] [0. 0. 0. ... 0. 0. 0.] [0. 0. 0. ... 0. 0. 0.]]), 'preprocess': None, 'n_jobs': 1}}\n",
      "2020-05-20 13:32:51,834 - CClassifierMulticlassOVA.0x7f0cdc0ecc18 - INFO - Training against class: 9\n",
      "2020-05-20 13:32:52,701 - CClassifierSVM.0x7f0cdc049ba8 - INFO - Training SVM with parameters: {'preprocess': None, 'n_jobs': 1, 'C': 0.01, 'class_weight': None, 'grad_sampling': 1.0, 'store_dual_vars': None, 'kernel': CKernelRBF{'gamma': 100.0, 'rv': CArray(20000, 784)(dense: [[0. 0. 0. ... 0. 0. 0.] [0. 0. 0. ... 0. 0. 0.] [0. 0. 0. ... 0. 0. 0.] ... [0. 0. 0. ... 0. 0. 0.] [0. 0. 0. ... 0. 0. 0.] [0. 0. 0. ... 0. 0. 0.]]), 'preprocess': None, 'n_jobs': 1}}\n",
      "2020-05-20 13:34:00,833 - CClassifierMulticlassOVA.0x7f0cdc0ecc18 - INFO - Training against class: 0\n",
      "2020-05-20 13:34:01,723 - CClassifierSVM.0x7f0cdc0ae518 - INFO - Training SVM with parameters: {'preprocess': None, 'n_jobs': 1, 'C': 0.01, 'class_weight': None, 'grad_sampling': 1.0, 'store_dual_vars': None, 'kernel': CKernelRBF{'gamma': 100.0, 'rv': CArray(20000, 784)(dense: [[0. 0. 0. ... 0. 0. 0.] [0. 0. 0. ... 0. 0. 0.] [0. 0. 0. ... 0. 0. 0.] ... [0. 0. 0. ... 0. 0. 0.] [0. 0. 0. ... 0. 0. 0.] [0. 0. 0. ... 0. 0. 0.]]), 'preprocess': None, 'n_jobs': 1}}\n",
      "2020-05-20 13:34:19,743 - CClassifierMulticlassOVA.0x7f0cdc0ecc18 - INFO - Training against class: 1\n",
      "2020-05-20 13:34:20,614 - CClassifierSVM.0x7f0cdc049828 - INFO - Training SVM with parameters: {'preprocess': None, 'n_jobs': 1, 'C': 0.01, 'class_weight': None, 'grad_sampling': 1.0, 'store_dual_vars': None, 'kernel': CKernelRBF{'gamma': 100.0, 'rv': CArray(20000, 784)(dense: [[0. 0. 0. ... 0. 0. 0.] [0. 0. 0. ... 0. 0. 0.] [0. 0. 0. ... 0. 0. 0.] ... [0. 0. 0. ... 0. 0. 0.] [0. 0. 0. ... 0. 0. 0.] [0. 0. 0. ... 0. 0. 0.]]), 'preprocess': None, 'n_jobs': 1}}\n",
      "2020-05-20 13:34:38,306 - CClassifierMulticlassOVA.0x7f0cdc0ecc18 - INFO - Training against class: 2\n",
      "2020-05-20 13:34:39,146 - CClassifierSVM.0x7f0cdc049940 - INFO - Training SVM with parameters: {'preprocess': None, 'n_jobs': 1, 'C': 0.01, 'class_weight': None, 'grad_sampling': 1.0, 'store_dual_vars': None, 'kernel': CKernelRBF{'gamma': 100.0, 'rv': CArray(20000, 784)(dense: [[0. 0. 0. ... 0. 0. 0.] [0. 0. 0. ... 0. 0. 0.] [0. 0. 0. ... 0. 0. 0.] ... [0. 0. 0. ... 0. 0. 0.] [0. 0. 0. ... 0. 0. 0.] [0. 0. 0. ... 0. 0. 0.]]), 'preprocess': None, 'n_jobs': 1}}\n",
      "2020-05-20 13:34:56,540 - CClassifierMulticlassOVA.0x7f0cdc0ecc18 - INFO - Training against class: 3\n",
      "2020-05-20 13:34:57,364 - CClassifierSVM.0x7f0cdc0498d0 - INFO - Training SVM with parameters: {'preprocess': None, 'n_jobs': 1, 'C': 0.01, 'class_weight': None, 'grad_sampling': 1.0, 'store_dual_vars': None, 'kernel': CKernelRBF{'gamma': 100.0, 'rv': CArray(20000, 784)(dense: [[0. 0. 0. ... 0. 0. 0.] [0. 0. 0. ... 0. 0. 0.] [0. 0. 0. ... 0. 0. 0.] ... [0. 0. 0. ... 0. 0. 0.] [0. 0. 0. ... 0. 0. 0.] [0. 0. 0. ... 0. 0. 0.]]), 'preprocess': None, 'n_jobs': 1}}\n",
      "2020-05-20 13:35:15,853 - CClassifierMulticlassOVA.0x7f0cdc0ecc18 - INFO - Training against class: 4\n",
      "2020-05-20 13:35:16,943 - CClassifierSVM.0x7f0cdc0496d8 - INFO - Training SVM with parameters: {'preprocess': None, 'n_jobs': 1, 'C': 0.01, 'class_weight': None, 'grad_sampling': 1.0, 'store_dual_vars': None, 'kernel': CKernelRBF{'gamma': 100.0, 'rv': CArray(20000, 784)(dense: [[0. 0. 0. ... 0. 0. 0.] [0. 0. 0. ... 0. 0. 0.] [0. 0. 0. ... 0. 0. 0.] ... [0. 0. 0. ... 0. 0. 0.] [0. 0. 0. ... 0. 0. 0.] [0. 0. 0. ... 0. 0. 0.]]), 'preprocess': None, 'n_jobs': 1}}\n",
      "2020-05-20 13:35:34,464 - CClassifierMulticlassOVA.0x7f0cdc0ecc18 - INFO - Training against class: 5\n",
      "2020-05-20 13:35:35,506 - CClassifierSVM.0x7f0cdc0499e8 - INFO - Training SVM with parameters: {'preprocess': None, 'n_jobs': 1, 'C': 0.01, 'class_weight': None, 'grad_sampling': 1.0, 'store_dual_vars': None, 'kernel': CKernelRBF{'gamma': 100.0, 'rv': CArray(20000, 784)(dense: [[0. 0. 0. ... 0. 0. 0.] [0. 0. 0. ... 0. 0. 0.] [0. 0. 0. ... 0. 0. 0.] ... [0. 0. 0. ... 0. 0. 0.] [0. 0. 0. ... 0. 0. 0.] [0. 0. 0. ... 0. 0. 0.]]), 'preprocess': None, 'n_jobs': 1}}\n",
      "2020-05-20 13:35:53,116 - CClassifierMulticlassOVA.0x7f0cdc0ecc18 - INFO - Training against class: 6\n",
      "2020-05-20 13:35:54,052 - CClassifierSVM.0x7f0cdc049a58 - INFO - Training SVM with parameters: {'preprocess': None, 'n_jobs': 1, 'C': 0.01, 'class_weight': None, 'grad_sampling': 1.0, 'store_dual_vars': None, 'kernel': CKernelRBF{'gamma': 100.0, 'rv': CArray(20000, 784)(dense: [[0. 0. 0. ... 0. 0. 0.] [0. 0. 0. ... 0. 0. 0.] [0. 0. 0. ... 0. 0. 0.] ... [0. 0. 0. ... 0. 0. 0.] [0. 0. 0. ... 0. 0. 0.] [0. 0. 0. ... 0. 0. 0.]]), 'preprocess': None, 'n_jobs': 1}}\n",
      "2020-05-20 13:36:11,555 - CClassifierMulticlassOVA.0x7f0cdc0ecc18 - INFO - Training against class: 7\n",
      "2020-05-20 13:36:12,496 - CClassifierSVM.0x7f0cdc049ac8 - INFO - Training SVM with parameters: {'preprocess': None, 'n_jobs': 1, 'C': 0.01, 'class_weight': None, 'grad_sampling': 1.0, 'store_dual_vars': None, 'kernel': CKernelRBF{'gamma': 100.0, 'rv': CArray(20000, 784)(dense: [[0. 0. 0. ... 0. 0. 0.] [0. 0. 0. ... 0. 0. 0.] [0. 0. 0. ... 0. 0. 0.] ... [0. 0. 0. ... 0. 0. 0.] [0. 0. 0. ... 0. 0. 0.] [0. 0. 0. ... 0. 0. 0.]]), 'preprocess': None, 'n_jobs': 1}}\n",
      "2020-05-20 13:36:31,423 - CClassifierMulticlassOVA.0x7f0cdc0ecc18 - INFO - Training against class: 8\n",
      "2020-05-20 13:36:32,391 - CClassifierSVM.0x7f0cdc049b38 - INFO - Training SVM with parameters: {'preprocess': None, 'n_jobs': 1, 'C': 0.01, 'class_weight': None, 'grad_sampling': 1.0, 'store_dual_vars': None, 'kernel': CKernelRBF{'gamma': 100.0, 'rv': CArray(20000, 784)(dense: [[0. 0. 0. ... 0. 0. 0.] [0. 0. 0. ... 0. 0. 0.] [0. 0. 0. ... 0. 0. 0.] ... [0. 0. 0. ... 0. 0. 0.] [0. 0. 0. ... 0. 0. 0.] [0. 0. 0. ... 0. 0. 0.]]), 'preprocess': None, 'n_jobs': 1}}\n",
      "2020-05-20 13:36:50,651 - CClassifierMulticlassOVA.0x7f0cdc0ecc18 - INFO - Training against class: 9\n",
      "2020-05-20 13:36:51,707 - CClassifierSVM.0x7f0cdc049ba8 - INFO - Training SVM with parameters: {'preprocess': None, 'n_jobs': 1, 'C': 0.01, 'class_weight': None, 'grad_sampling': 1.0, 'store_dual_vars': None, 'kernel': CKernelRBF{'gamma': 100.0, 'rv': CArray(20000, 784)(dense: [[0. 0. 0. ... 0. 0. 0.] [0. 0. 0. ... 0. 0. 0.] [0. 0. 0. ... 0. 0. 0.] ... [0. 0. 0. ... 0. 0. 0.] [0. 0. 0. ... 0. 0. 0.] [0. 0. 0. ... 0. 0. 0.]]), 'preprocess': None, 'n_jobs': 1}}\n",
      "2020-05-20 13:38:01,289 - CClassifierMulticlassOVA.0x7f0cdc0ecc18 - INFO - Training against class: 0\n",
      "2020-05-20 13:38:02,249 - CClassifierSVM.0x7f0cdc0ae518 - INFO - Training SVM with parameters: {'preprocess': None, 'n_jobs': 1, 'C': 0.01, 'class_weight': None, 'grad_sampling': 1.0, 'store_dual_vars': None, 'kernel': CKernelRBF{'gamma': 100.0, 'rv': CArray(20000, 784)(dense: [[0. 0. 0. ... 0. 0. 0.] [0. 0. 0. ... 0. 0. 0.] [0. 0. 0. ... 0. 0. 0.] ... [0. 0. 0. ... 0. 0. 0.] [0. 0. 0. ... 0. 0. 0.] [0. 0. 0. ... 0. 0. 0.]]), 'preprocess': None, 'n_jobs': 1}}\n",
      "2020-05-20 13:38:20,218 - CClassifierMulticlassOVA.0x7f0cdc0ecc18 - INFO - Training against class: 1\n",
      "2020-05-20 13:38:21,323 - CClassifierSVM.0x7f0cdc049828 - INFO - Training SVM with parameters: {'preprocess': None, 'n_jobs': 1, 'C': 0.01, 'class_weight': None, 'grad_sampling': 1.0, 'store_dual_vars': None, 'kernel': CKernelRBF{'gamma': 100.0, 'rv': CArray(20000, 784)(dense: [[0. 0. 0. ... 0. 0. 0.] [0. 0. 0. ... 0. 0. 0.] [0. 0. 0. ... 0. 0. 0.] ... [0. 0. 0. ... 0. 0. 0.] [0. 0. 0. ... 0. 0. 0.] [0. 0. 0. ... 0. 0. 0.]]), 'preprocess': None, 'n_jobs': 1}}\n",
      "2020-05-20 13:38:39,623 - CClassifierMulticlassOVA.0x7f0cdc0ecc18 - INFO - Training against class: 2\n",
      "2020-05-20 13:38:40,543 - CClassifierSVM.0x7f0cdc049940 - INFO - Training SVM with parameters: {'preprocess': None, 'n_jobs': 1, 'C': 0.01, 'class_weight': None, 'grad_sampling': 1.0, 'store_dual_vars': None, 'kernel': CKernelRBF{'gamma': 100.0, 'rv': CArray(20000, 784)(dense: [[0. 0. 0. ... 0. 0. 0.] [0. 0. 0. ... 0. 0. 0.] [0. 0. 0. ... 0. 0. 0.] ... [0. 0. 0. ... 0. 0. 0.] [0. 0. 0. ... 0. 0. 0.] [0. 0. 0. ... 0. 0. 0.]]), 'preprocess': None, 'n_jobs': 1}}\n",
      "2020-05-20 13:38:59,315 - CClassifierMulticlassOVA.0x7f0cdc0ecc18 - INFO - Training against class: 3\n",
      "2020-05-20 13:39:00,315 - CClassifierSVM.0x7f0cdc0498d0 - INFO - Training SVM with parameters: {'preprocess': None, 'n_jobs': 1, 'C': 0.01, 'class_weight': None, 'grad_sampling': 1.0, 'store_dual_vars': None, 'kernel': CKernelRBF{'gamma': 100.0, 'rv': CArray(20000, 784)(dense: [[0. 0. 0. ... 0. 0. 0.] [0. 0. 0. ... 0. 0. 0.] [0. 0. 0. ... 0. 0. 0.] ... [0. 0. 0. ... 0. 0. 0.] [0. 0. 0. ... 0. 0. 0.] [0. 0. 0. ... 0. 0. 0.]]), 'preprocess': None, 'n_jobs': 1}}\n",
      "2020-05-20 13:39:18,703 - CClassifierMulticlassOVA.0x7f0cdc0ecc18 - INFO - Training against class: 4\n",
      "2020-05-20 13:39:19,601 - CClassifierSVM.0x7f0cdc0496d8 - INFO - Training SVM with parameters: {'preprocess': None, 'n_jobs': 1, 'C': 0.01, 'class_weight': None, 'grad_sampling': 1.0, 'store_dual_vars': None, 'kernel': CKernelRBF{'gamma': 100.0, 'rv': CArray(20000, 784)(dense: [[0. 0. 0. ... 0. 0. 0.] [0. 0. 0. ... 0. 0. 0.] [0. 0. 0. ... 0. 0. 0.] ... [0. 0. 0. ... 0. 0. 0.] [0. 0. 0. ... 0. 0. 0.] [0. 0. 0. ... 0. 0. 0.]]), 'preprocess': None, 'n_jobs': 1}}\n",
      "2020-05-20 13:39:38,547 - CClassifierMulticlassOVA.0x7f0cdc0ecc18 - INFO - Training against class: 5\n",
      "2020-05-20 13:39:39,443 - CClassifierSVM.0x7f0cdc0499e8 - INFO - Training SVM with parameters: {'preprocess': None, 'n_jobs': 1, 'C': 0.01, 'class_weight': None, 'grad_sampling': 1.0, 'store_dual_vars': None, 'kernel': CKernelRBF{'gamma': 100.0, 'rv': CArray(20000, 784)(dense: [[0. 0. 0. ... 0. 0. 0.] [0. 0. 0. ... 0. 0. 0.] [0. 0. 0. ... 0. 0. 0.] ... [0. 0. 0. ... 0. 0. 0.] [0. 0. 0. ... 0. 0. 0.] [0. 0. 0. ... 0. 0. 0.]]), 'preprocess': None, 'n_jobs': 1}}\n",
      "2020-05-20 13:39:57,851 - CClassifierMulticlassOVA.0x7f0cdc0ecc18 - INFO - Training against class: 6\n",
      "2020-05-20 13:39:58,752 - CClassifierSVM.0x7f0cdc049a58 - INFO - Training SVM with parameters: {'preprocess': None, 'n_jobs': 1, 'C': 0.01, 'class_weight': None, 'grad_sampling': 1.0, 'store_dual_vars': None, 'kernel': CKernelRBF{'gamma': 100.0, 'rv': CArray(20000, 784)(dense: [[0. 0. 0. ... 0. 0. 0.] [0. 0. 0. ... 0. 0. 0.] [0. 0. 0. ... 0. 0. 0.] ... [0. 0. 0. ... 0. 0. 0.] [0. 0. 0. ... 0. 0. 0.] [0. 0. 0. ... 0. 0. 0.]]), 'preprocess': None, 'n_jobs': 1}}\n",
      "2020-05-20 13:40:17,443 - CClassifierMulticlassOVA.0x7f0cdc0ecc18 - INFO - Training against class: 7\n",
      "2020-05-20 13:40:18,365 - CClassifierSVM.0x7f0cdc049ac8 - INFO - Training SVM with parameters: {'preprocess': None, 'n_jobs': 1, 'C': 0.01, 'class_weight': None, 'grad_sampling': 1.0, 'store_dual_vars': None, 'kernel': CKernelRBF{'gamma': 100.0, 'rv': CArray(20000, 784)(dense: [[0. 0. 0. ... 0. 0. 0.] [0. 0. 0. ... 0. 0. 0.] [0. 0. 0. ... 0. 0. 0.] ... [0. 0. 0. ... 0. 0. 0.] [0. 0. 0. ... 0. 0. 0.] [0. 0. 0. ... 0. 0. 0.]]), 'preprocess': None, 'n_jobs': 1}}\n",
      "2020-05-20 13:40:36,984 - CClassifierMulticlassOVA.0x7f0cdc0ecc18 - INFO - Training against class: 8\n",
      "2020-05-20 13:40:37,870 - CClassifierSVM.0x7f0cdc049b38 - INFO - Training SVM with parameters: {'preprocess': None, 'n_jobs': 1, 'C': 0.01, 'class_weight': None, 'grad_sampling': 1.0, 'store_dual_vars': None, 'kernel': CKernelRBF{'gamma': 100.0, 'rv': CArray(20000, 784)(dense: [[0. 0. 0. ... 0. 0. 0.] [0. 0. 0. ... 0. 0. 0.] [0. 0. 0. ... 0. 0. 0.] ... [0. 0. 0. ... 0. 0. 0.] [0. 0. 0. ... 0. 0. 0.] [0. 0. 0. ... 0. 0. 0.]]), 'preprocess': None, 'n_jobs': 1}}\n",
      "2020-05-20 13:40:56,263 - CClassifierMulticlassOVA.0x7f0cdc0ecc18 - INFO - Training against class: 9\n",
      "2020-05-20 13:40:57,164 - CClassifierSVM.0x7f0cdc049ba8 - INFO - Training SVM with parameters: {'preprocess': None, 'n_jobs': 1, 'C': 0.01, 'class_weight': None, 'grad_sampling': 1.0, 'store_dual_vars': None, 'kernel': CKernelRBF{'gamma': 100.0, 'rv': CArray(20000, 784)(dense: [[0. 0. 0. ... 0. 0. 0.] [0. 0. 0. ... 0. 0. 0.] [0. 0. 0. ... 0. 0. 0.] ... [0. 0. 0. ... 0. 0. 0.] [0. 0. 0. ... 0. 0. 0.] [0. 0. 0. ... 0. 0. 0.]]), 'preprocess': None, 'n_jobs': 1}}\n",
      "2020-05-20 13:42:07,087 - CPerfEvaluatorXVal.0x7f0cdc049c18 - INFO - Params: {'C': 0.01, 'kernel.gamma': 100} - Score: 0.11469999999999998\n",
      "2020-05-20 13:42:07,207 - CClassifierMulticlassOVA.0x7f0cdc0ecc18 - INFO - Training against class: 0\n",
      "2020-05-20 13:42:08,160 - CClassifierSVM.0x7f0cdc0ae518 - INFO - Training SVM with parameters: {'preprocess': None, 'n_jobs': 1, 'C': 0.01, 'class_weight': None, 'grad_sampling': 1.0, 'store_dual_vars': None, 'kernel': CKernelRBF{'gamma': 0.01, 'rv': CArray(20000, 784)(dense: [[0. 0. 0. ... 0. 0. 0.] [0. 0. 0. ... 0. 0. 0.] [0. 0. 0. ... 0. 0. 0.] ... [0. 0. 0. ... 0. 0. 0.] [0. 0. 0. ... 0. 0. 0.] [0. 0. 0. ... 0. 0. 0.]]), 'preprocess': None, 'n_jobs': 1}}\n",
      "2020-05-20 13:42:23,728 - CClassifierMulticlassOVA.0x7f0cdc0ecc18 - INFO - Training against class: 1\n",
      "2020-05-20 13:42:24,644 - CClassifierSVM.0x7f0cdc049828 - INFO - Training SVM with parameters: {'preprocess': None, 'n_jobs': 1, 'C': 0.01, 'class_weight': None, 'grad_sampling': 1.0, 'store_dual_vars': None, 'kernel': CKernelRBF{'gamma': 0.01, 'rv': CArray(20000, 784)(dense: [[0. 0. 0. ... 0. 0. 0.] [0. 0. 0. ... 0. 0. 0.] [0. 0. 0. ... 0. 0. 0.] ... [0. 0. 0. ... 0. 0. 0.] [0. 0. 0. ... 0. 0. 0.] [0. 0. 0. ... 0. 0. 0.]]), 'preprocess': None, 'n_jobs': 1}}\n",
      "2020-05-20 13:42:40,086 - CClassifierMulticlassOVA.0x7f0cdc0ecc18 - INFO - Training against class: 2\n",
      "2020-05-20 13:42:40,997 - CClassifierSVM.0x7f0cdc049940 - INFO - Training SVM with parameters: {'preprocess': None, 'n_jobs': 1, 'C': 0.01, 'class_weight': None, 'grad_sampling': 1.0, 'store_dual_vars': None, 'kernel': CKernelRBF{'gamma': 0.01, 'rv': CArray(20000, 784)(dense: [[0. 0. 0. ... 0. 0. 0.] [0. 0. 0. ... 0. 0. 0.] [0. 0. 0. ... 0. 0. 0.] ... [0. 0. 0. ... 0. 0. 0.] [0. 0. 0. ... 0. 0. 0.] [0. 0. 0. ... 0. 0. 0.]]), 'preprocess': None, 'n_jobs': 1}}\n",
      "2020-05-20 13:42:56,019 - CClassifierMulticlassOVA.0x7f0cdc0ecc18 - INFO - Training against class: 3\n",
      "2020-05-20 13:42:56,989 - CClassifierSVM.0x7f0cdc0498d0 - INFO - Training SVM with parameters: {'preprocess': None, 'n_jobs': 1, 'C': 0.01, 'class_weight': None, 'grad_sampling': 1.0, 'store_dual_vars': None, 'kernel': CKernelRBF{'gamma': 0.01, 'rv': CArray(20000, 784)(dense: [[0. 0. 0. ... 0. 0. 0.] [0. 0. 0. ... 0. 0. 0.] [0. 0. 0. ... 0. 0. 0.] ... [0. 0. 0. ... 0. 0. 0.] [0. 0. 0. ... 0. 0. 0.] [0. 0. 0. ... 0. 0. 0.]]), 'preprocess': None, 'n_jobs': 1}}\n",
      "2020-05-20 13:43:11,926 - CClassifierMulticlassOVA.0x7f0cdc0ecc18 - INFO - Training against class: 4\n",
      "2020-05-20 13:43:12,896 - CClassifierSVM.0x7f0cdc0496d8 - INFO - Training SVM with parameters: {'preprocess': None, 'n_jobs': 1, 'C': 0.01, 'class_weight': None, 'grad_sampling': 1.0, 'store_dual_vars': None, 'kernel': CKernelRBF{'gamma': 0.01, 'rv': CArray(20000, 784)(dense: [[0. 0. 0. ... 0. 0. 0.] [0. 0. 0. ... 0. 0. 0.] [0. 0. 0. ... 0. 0. 0.] ... [0. 0. 0. ... 0. 0. 0.] [0. 0. 0. ... 0. 0. 0.] [0. 0. 0. ... 0. 0. 0.]]), 'preprocess': None, 'n_jobs': 1}}\n",
      "2020-05-20 13:43:27,441 - CClassifierMulticlassOVA.0x7f0cdc0ecc18 - INFO - Training against class: 5\n",
      "2020-05-20 13:43:28,352 - CClassifierSVM.0x7f0cdc0499e8 - INFO - Training SVM with parameters: {'preprocess': None, 'n_jobs': 1, 'C': 0.01, 'class_weight': None, 'grad_sampling': 1.0, 'store_dual_vars': None, 'kernel': CKernelRBF{'gamma': 0.01, 'rv': CArray(20000, 784)(dense: [[0. 0. 0. ... 0. 0. 0.] [0. 0. 0. ... 0. 0. 0.] [0. 0. 0. ... 0. 0. 0.] ... [0. 0. 0. ... 0. 0. 0.] [0. 0. 0. ... 0. 0. 0.] [0. 0. 0. ... 0. 0. 0.]]), 'preprocess': None, 'n_jobs': 1}}\n",
      "2020-05-20 13:43:43,574 - CClassifierMulticlassOVA.0x7f0cdc0ecc18 - INFO - Training against class: 6\n",
      "2020-05-20 13:43:44,504 - CClassifierSVM.0x7f0cdc049a58 - INFO - Training SVM with parameters: {'preprocess': None, 'n_jobs': 1, 'C': 0.01, 'class_weight': None, 'grad_sampling': 1.0, 'store_dual_vars': None, 'kernel': CKernelRBF{'gamma': 0.01, 'rv': CArray(20000, 784)(dense: [[0. 0. 0. ... 0. 0. 0.] [0. 0. 0. ... 0. 0. 0.] [0. 0. 0. ... 0. 0. 0.] ... [0. 0. 0. ... 0. 0. 0.] [0. 0. 0. ... 0. 0. 0.] [0. 0. 0. ... 0. 0. 0.]]), 'preprocess': None, 'n_jobs': 1}}\n",
      "2020-05-20 13:43:58,851 - CClassifierMulticlassOVA.0x7f0cdc0ecc18 - INFO - Training against class: 7\n",
      "2020-05-20 13:43:59,758 - CClassifierSVM.0x7f0cdc049ac8 - INFO - Training SVM with parameters: {'preprocess': None, 'n_jobs': 1, 'C': 0.01, 'class_weight': None, 'grad_sampling': 1.0, 'store_dual_vars': None, 'kernel': CKernelRBF{'gamma': 0.01, 'rv': CArray(20000, 784)(dense: [[0. 0. 0. ... 0. 0. 0.] [0. 0. 0. ... 0. 0. 0.] [0. 0. 0. ... 0. 0. 0.] ... [0. 0. 0. ... 0. 0. 0.] [0. 0. 0. ... 0. 0. 0.] [0. 0. 0. ... 0. 0. 0.]]), 'preprocess': None, 'n_jobs': 1}}\n",
      "2020-05-20 13:44:15,556 - CClassifierMulticlassOVA.0x7f0cdc0ecc18 - INFO - Training against class: 8\n",
      "2020-05-20 13:44:16,650 - CClassifierSVM.0x7f0cdc049b38 - INFO - Training SVM with parameters: {'preprocess': None, 'n_jobs': 1, 'C': 0.01, 'class_weight': None, 'grad_sampling': 1.0, 'store_dual_vars': None, 'kernel': CKernelRBF{'gamma': 0.01, 'rv': CArray(20000, 784)(dense: [[0. 0. 0. ... 0. 0. 0.] [0. 0. 0. ... 0. 0. 0.] [0. 0. 0. ... 0. 0. 0.] ... [0. 0. 0. ... 0. 0. 0.] [0. 0. 0. ... 0. 0. 0.] [0. 0. 0. ... 0. 0. 0.]]), 'preprocess': None, 'n_jobs': 1}}\n",
      "2020-05-20 13:44:32,570 - CClassifierMulticlassOVA.0x7f0cdc0ecc18 - INFO - Training against class: 9\n",
      "2020-05-20 13:44:33,473 - CClassifierSVM.0x7f0cdc049ba8 - INFO - Training SVM with parameters: {'preprocess': None, 'n_jobs': 1, 'C': 0.01, 'class_weight': None, 'grad_sampling': 1.0, 'store_dual_vars': None, 'kernel': CKernelRBF{'gamma': 0.01, 'rv': CArray(20000, 784)(dense: [[0. 0. 0. ... 0. 0. 0.] [0. 0. 0. ... 0. 0. 0.] [0. 0. 0. ... 0. 0. 0.] ... [0. 0. 0. ... 0. 0. 0.] [0. 0. 0. ... 0. 0. 0.] [0. 0. 0. ... 0. 0. 0.]]), 'preprocess': None, 'n_jobs': 1}}\n",
      "2020-05-20 13:45:01,196 - CClassifierMulticlassOVA.0x7f0cdc0ecc18 - INFO - Training against class: 0\n",
      "2020-05-20 13:45:02,106 - CClassifierSVM.0x7f0cdc0ae518 - INFO - Training SVM with parameters: {'preprocess': None, 'n_jobs': 1, 'C': 0.01, 'class_weight': None, 'grad_sampling': 1.0, 'store_dual_vars': None, 'kernel': CKernelRBF{'gamma': 0.01, 'rv': CArray(3596, 784)(dense: [[0. 0. 0. ... 0. 0. 0.] [0. 0. 0. ... 0. 0. 0.] [0. 0. 0. ... 0. 0. 0.] ... [0. 0. 0. ... 0. 0. 0.] [0. 0. 0. ... 0. 0. 0.] [0. 0. 0. ... 0. 0. 0.]]), 'preprocess': None, 'n_jobs': 1}}\n",
      "2020-05-20 13:45:17,337 - CClassifierMulticlassOVA.0x7f0cdc0ecc18 - INFO - Training against class: 1\n",
      "2020-05-20 13:45:18,326 - CClassifierSVM.0x7f0cdc049828 - INFO - Training SVM with parameters: {'preprocess': None, 'n_jobs': 1, 'C': 0.01, 'class_weight': None, 'grad_sampling': 1.0, 'store_dual_vars': None, 'kernel': CKernelRBF{'gamma': 0.01, 'rv': CArray(3914, 784)(dense: [[0. 0. 0. ... 0. 0. 0.] [0. 0. 0. ... 0. 0. 0.] [0. 0. 0. ... 0. 0. 0.] ... [0. 0. 0. ... 0. 0. 0.] [0. 0. 0. ... 0. 0. 0.] [0. 0. 0. ... 0. 0. 0.]]), 'preprocess': None, 'n_jobs': 1}}\n",
      "2020-05-20 13:45:33,570 - CClassifierMulticlassOVA.0x7f0cdc0ecc18 - INFO - Training against class: 2\n",
      "2020-05-20 13:45:34,531 - CClassifierSVM.0x7f0cdc049940 - INFO - Training SVM with parameters: {'preprocess': None, 'n_jobs': 1, 'C': 0.01, 'class_weight': None, 'grad_sampling': 1.0, 'store_dual_vars': None, 'kernel': CKernelRBF{'gamma': 0.01, 'rv': CArray(4041, 784)(dense: [[0. 0. 0. ... 0. 0. 0.] [0. 0. 0. ... 0. 0. 0.] [0. 0. 0. ... 0. 0. 0.] ... [0. 0. 0. ... 0. 0. 0.] [0. 0. 0. ... 0. 0. 0.] [0. 0. 0. ... 0. 0. 0.]]), 'preprocess': None, 'n_jobs': 1}}\n",
      "2020-05-20 13:45:49,707 - CClassifierMulticlassOVA.0x7f0cdc0ecc18 - INFO - Training against class: 3\n",
      "2020-05-20 13:45:50,636 - CClassifierSVM.0x7f0cdc0498d0 - INFO - Training SVM with parameters: {'preprocess': None, 'n_jobs': 1, 'C': 0.01, 'class_weight': None, 'grad_sampling': 1.0, 'store_dual_vars': None, 'kernel': CKernelRBF{'gamma': 0.01, 'rv': CArray(4094, 784)(dense: [[0. 0. 0. ... 0. 0. 0.] [0. 0. 0. ... 0. 0. 0.] [0. 0. 0. ... 0. 0. 0.] ... [0. 0. 0. ... 0. 0. 0.] [0. 0. 0. ... 0. 0. 0.] [0. 0. 0. ... 0. 0. 0.]]), 'preprocess': None, 'n_jobs': 1}}\n",
      "2020-05-20 13:46:05,548 - CClassifierMulticlassOVA.0x7f0cdc0ecc18 - INFO - Training against class: 4\n",
      "2020-05-20 13:46:06,483 - CClassifierSVM.0x7f0cdc0496d8 - INFO - Training SVM with parameters: {'preprocess': None, 'n_jobs': 1, 'C': 0.01, 'class_weight': None, 'grad_sampling': 1.0, 'store_dual_vars': None, 'kernel': CKernelRBF{'gamma': 0.01, 'rv': CArray(3883, 784)(dense: [[0. 0. 0. ... 0. 0. 0.] [0. 0. 0. ... 0. 0. 0.] [0. 0. 0. ... 0. 0. 0.] ... [0. 0. 0. ... 0. 0. 0.] [0. 0. 0. ... 0. 0. 0.] [0. 0. 0. ... 0. 0. 0.]]), 'preprocess': None, 'n_jobs': 1}}\n",
      "2020-05-20 13:46:21,285 - CClassifierMulticlassOVA.0x7f0cdc0ecc18 - INFO - Training against class: 5\n",
      "2020-05-20 13:46:22,179 - CClassifierSVM.0x7f0cdc0499e8 - INFO - Training SVM with parameters: {'preprocess': None, 'n_jobs': 1, 'C': 0.01, 'class_weight': None, 'grad_sampling': 1.0, 'store_dual_vars': None, 'kernel': CKernelRBF{'gamma': 0.01, 'rv': CArray(3562, 784)(dense: [[0. 0. 0. ... 0. 0. 0.] [0. 0. 0. ... 0. 0. 0.] [0. 0. 0. ... 0. 0. 0.] ... [0. 0. 0. ... 0. 0. 0.] [0. 0. 0. ... 0. 0. 0.] [0. 0. 0. ... 0. 0. 0.]]), 'preprocess': None, 'n_jobs': 1}}\n",
      "2020-05-20 13:46:37,912 - CClassifierMulticlassOVA.0x7f0cdc0ecc18 - INFO - Training against class: 6\n",
      "2020-05-20 13:46:38,864 - CClassifierSVM.0x7f0cdc049a58 - INFO - Training SVM with parameters: {'preprocess': None, 'n_jobs': 1, 'C': 0.01, 'class_weight': None, 'grad_sampling': 1.0, 'store_dual_vars': None, 'kernel': CKernelRBF{'gamma': 0.01, 'rv': CArray(3935, 784)(dense: [[0. 0. 0. ... 0. 0. 0.] [0. 0. 0. ... 0. 0. 0.] [0. 0. 0. ... 0. 0. 0.] ... [0. 0. 0. ... 0. 0. 0.] [0. 0. 0. ... 0. 0. 0.] [0. 0. 0. ... 0. 0. 0.]]), 'preprocess': None, 'n_jobs': 1}}\n",
      "2020-05-20 13:46:53,527 - CClassifierMulticlassOVA.0x7f0cdc0ecc18 - INFO - Training against class: 7\n",
      "2020-05-20 13:46:54,447 - CClassifierSVM.0x7f0cdc049ac8 - INFO - Training SVM with parameters: {'preprocess': None, 'n_jobs': 1, 'C': 0.01, 'class_weight': None, 'grad_sampling': 1.0, 'store_dual_vars': None, 'kernel': CKernelRBF{'gamma': 0.01, 'rv': CArray(4107, 784)(dense: [[0. 0. 0. ... 0. 0. 0.] [0. 0. 0. ... 0. 0. 0.] [0. 0. 0. ... 0. 0. 0.] ... [0. 0. 0. ... 0. 0. 0.] [0. 0. 0. ... 0. 0. 0.] [0. 0. 0. ... 0. 0. 0.]]), 'preprocess': None, 'n_jobs': 1}}\n",
      "2020-05-20 13:47:08,976 - CClassifierMulticlassOVA.0x7f0cdc0ecc18 - INFO - Training against class: 8\n",
      "2020-05-20 13:47:09,872 - CClassifierSVM.0x7f0cdc049b38 - INFO - Training SVM with parameters: {'preprocess': None, 'n_jobs': 1, 'C': 0.01, 'class_weight': None, 'grad_sampling': 1.0, 'store_dual_vars': None, 'kernel': CKernelRBF{'gamma': 0.01, 'rv': CArray(4089, 784)(dense: [[0. 0. 0. ... 0. 0. 0.] [0. 0. 0. ... 0. 0. 0.] [0. 0. 0. ... 0. 0. 0.] ... [0. 0. 0. ... 0. 0. 0.] [0. 0. 0. ... 0. 0. 0.] [0. 0. 0. ... 0. 0. 0.]]), 'preprocess': None, 'n_jobs': 1}}\n",
      "2020-05-20 13:47:25,131 - CClassifierMulticlassOVA.0x7f0cdc0ecc18 - INFO - Training against class: 9\n",
      "2020-05-20 13:47:26,065 - CClassifierSVM.0x7f0cdc049ba8 - INFO - Training SVM with parameters: {'preprocess': None, 'n_jobs': 1, 'C': 0.01, 'class_weight': None, 'grad_sampling': 1.0, 'store_dual_vars': None, 'kernel': CKernelRBF{'gamma': 0.01, 'rv': CArray(4024, 784)(dense: [[0. 0. 0. ... 0. 0. 0.] [0. 0. 0. ... 0. 0. 0.] [0. 0. 0. ... 0. 0. 0.] ... [0. 0. 0. ... 0. 0. 0.] [0. 0. 0. ... 0. 0. 0.] [0. 0. 0. ... 0. 0. 0.]]), 'preprocess': None, 'n_jobs': 1}}\n",
      "2020-05-20 13:47:53,336 - CClassifierMulticlassOVA.0x7f0cdc0ecc18 - INFO - Training against class: 0\n",
      "2020-05-20 13:47:54,240 - CClassifierSVM.0x7f0cdc0ae518 - INFO - Training SVM with parameters: {'preprocess': None, 'n_jobs': 1, 'C': 0.01, 'class_weight': None, 'grad_sampling': 1.0, 'store_dual_vars': None, 'kernel': CKernelRBF{'gamma': 0.01, 'rv': CArray(3537, 784)(dense: [[0. 0. 0. ... 0. 0. 0.] [0. 0. 0. ... 0. 0. 0.] [0. 0. 0. ... 0. 0. 0.] ... [0. 0. 0. ... 0. 0. 0.] [0. 0. 0. ... 0. 0. 0.] [0. 0. 0. ... 0. 0. 0.]]), 'preprocess': None, 'n_jobs': 1}}\n",
      "2020-05-20 13:48:09,046 - CClassifierMulticlassOVA.0x7f0cdc0ecc18 - INFO - Training against class: 1\n",
      "2020-05-20 13:48:09,941 - CClassifierSVM.0x7f0cdc049828 - INFO - Training SVM with parameters: {'preprocess': None, 'n_jobs': 1, 'C': 0.01, 'class_weight': None, 'grad_sampling': 1.0, 'store_dual_vars': None, 'kernel': CKernelRBF{'gamma': 0.01, 'rv': CArray(3881, 784)(dense: [[0. 0. 0. ... 0. 0. 0.] [0. 0. 0. ... 0. 0. 0.] [0. 0. 0. ... 0. 0. 0.] ... [0. 0. 0. ... 0. 0. 0.] [0. 0. 0. ... 0. 0. 0.] [0. 0. 0. ... 0. 0. 0.]]), 'preprocess': None, 'n_jobs': 1}}\n",
      "2020-05-20 13:48:25,046 - CClassifierMulticlassOVA.0x7f0cdc0ecc18 - INFO - Training against class: 2\n",
      "2020-05-20 13:48:26,006 - CClassifierSVM.0x7f0cdc049940 - INFO - Training SVM with parameters: {'preprocess': None, 'n_jobs': 1, 'C': 0.01, 'class_weight': None, 'grad_sampling': 1.0, 'store_dual_vars': None, 'kernel': CKernelRBF{'gamma': 0.01, 'rv': CArray(4089, 784)(dense: [[0. 0. 0. ... 0. 0. 0.] [0. 0. 0. ... 0. 0. 0.] [0. 0. 0. ... 0. 0. 0.] ... [0. 0. 0. ... 0. 0. 0.] [0. 0. 0. ... 0. 0. 0.] [0. 0. 0. ... 0. 0. 0.]]), 'preprocess': None, 'n_jobs': 1}}\n",
      "2020-05-20 13:48:41,478 - CClassifierMulticlassOVA.0x7f0cdc0ecc18 - INFO - Training against class: 3\n",
      "2020-05-20 13:48:42,470 - CClassifierSVM.0x7f0cdc0498d0 - INFO - Training SVM with parameters: {'preprocess': None, 'n_jobs': 1, 'C': 0.01, 'class_weight': None, 'grad_sampling': 1.0, 'store_dual_vars': None, 'kernel': CKernelRBF{'gamma': 0.01, 'rv': CArray(4140, 784)(dense: [[0. 0. 0. ... 0. 0. 0.] [0. 0. 0. ... 0. 0. 0.] [0. 0. 0. ... 0. 0. 0.] ... [0. 0. 0. ... 0. 0. 0.] [0. 0. 0. ... 0. 0. 0.] [0. 0. 0. ... 0. 0. 0.]]), 'preprocess': None, 'n_jobs': 1}}\n",
      "2020-05-20 13:48:57,931 - CClassifierMulticlassOVA.0x7f0cdc0ecc18 - INFO - Training against class: 4\n",
      "2020-05-20 13:48:58,931 - CClassifierSVM.0x7f0cdc0496d8 - INFO - Training SVM with parameters: {'preprocess': None, 'n_jobs': 1, 'C': 0.01, 'class_weight': None, 'grad_sampling': 1.0, 'store_dual_vars': None, 'kernel': CKernelRBF{'gamma': 0.01, 'rv': CArray(3903, 784)(dense: [[0. 0. 0. ... 0. 0. 0.] [0. 0. 0. ... 0. 0. 0.] [0. 0. 0. ... 0. 0. 0.] ... [0. 0. 0. ... 0. 0. 0.] [0. 0. 0. ... 0. 0. 0.] [0. 0. 0. ... 0. 0. 0.]]), 'preprocess': None, 'n_jobs': 1}}\n",
      "2020-05-20 13:49:13,954 - CClassifierMulticlassOVA.0x7f0cdc0ecc18 - INFO - Training against class: 5\n",
      "2020-05-20 13:49:14,874 - CClassifierSVM.0x7f0cdc0499e8 - INFO - Training SVM with parameters: {'preprocess': None, 'n_jobs': 1, 'C': 0.01, 'class_weight': None, 'grad_sampling': 1.0, 'store_dual_vars': None, 'kernel': CKernelRBF{'gamma': 0.01, 'rv': CArray(3659, 784)(dense: [[0. 0. 0. ... 0. 0. 0.] [0. 0. 0. ... 0. 0. 0.] [0. 0. 0. ... 0. 0. 0.] ... [0. 0. 0. ... 0. 0. 0.] [0. 0. 0. ... 0. 0. 0.] [0. 0. 0. ... 0. 0. 0.]]), 'preprocess': None, 'n_jobs': 1}}\n",
      "2020-05-20 13:49:30,073 - CClassifierMulticlassOVA.0x7f0cdc0ecc18 - INFO - Training against class: 6\n",
      "2020-05-20 13:49:31,001 - CClassifierSVM.0x7f0cdc049a58 - INFO - Training SVM with parameters: {'preprocess': None, 'n_jobs': 1, 'C': 0.01, 'class_weight': None, 'grad_sampling': 1.0, 'store_dual_vars': None, 'kernel': CKernelRBF{'gamma': 0.01, 'rv': CArray(3882, 784)(dense: [[0. 0. 0. ... 0. 0. 0.] [0. 0. 0. ... 0. 0. 0.] [0. 0. 0. ... 0. 0. 0.] ... [0. 0. 0. ... 0. 0. 0.] [0. 0. 0. ... 0. 0. 0.] [0. 0. 0. ... 0. 0. 0.]]), 'preprocess': None, 'n_jobs': 1}}\n",
      "2020-05-20 13:49:45,111 - CClassifierMulticlassOVA.0x7f0cdc0ecc18 - INFO - Training against class: 7\n",
      "2020-05-20 13:49:46,109 - CClassifierSVM.0x7f0cdc049ac8 - INFO - Training SVM with parameters: {'preprocess': None, 'n_jobs': 1, 'C': 0.01, 'class_weight': None, 'grad_sampling': 1.0, 'store_dual_vars': None, 'kernel': CKernelRBF{'gamma': 0.01, 'rv': CArray(4074, 784)(dense: [[0. 0. 0. ... 0. 0. 0.] [0. 0. 0. ... 0. 0. 0.] [0. 0. 0. ... 0. 0. 0.] ... [0. 0. 0. ... 0. 0. 0.] [0. 0. 0. ... 0. 0. 0.] [0. 0. 0. ... 0. 0. 0.]]), 'preprocess': None, 'n_jobs': 1}}\n",
      "2020-05-20 13:50:01,526 - CClassifierMulticlassOVA.0x7f0cdc0ecc18 - INFO - Training against class: 8\n",
      "2020-05-20 13:50:02,533 - CClassifierSVM.0x7f0cdc049b38 - INFO - Training SVM with parameters: {'preprocess': None, 'n_jobs': 1, 'C': 0.01, 'class_weight': None, 'grad_sampling': 1.0, 'store_dual_vars': None, 'kernel': CKernelRBF{'gamma': 0.01, 'rv': CArray(3937, 784)(dense: [[0. 0. 0. ... 0. 0. 0.] [0. 0. 0. ... 0. 0. 0.] [0. 0. 0. ... 0. 0. 0.] ... [0. 0. 0. ... 0. 0. 0.] [0. 0. 0. ... 0. 0. 0.] [0. 0. 0. ... 0. 0. 0.]]), 'preprocess': None, 'n_jobs': 1}}\n",
      "2020-05-20 13:50:16,908 - CClassifierMulticlassOVA.0x7f0cdc0ecc18 - INFO - Training against class: 9\n",
      "2020-05-20 13:50:17,816 - CClassifierSVM.0x7f0cdc049ba8 - INFO - Training SVM with parameters: {'preprocess': None, 'n_jobs': 1, 'C': 0.01, 'class_weight': None, 'grad_sampling': 1.0, 'store_dual_vars': None, 'kernel': CKernelRBF{'gamma': 0.01, 'rv': CArray(4031, 784)(dense: [[0. 0. 0. ... 0. 0. 0.] [0. 0. 0. ... 0. 0. 0.] [0. 0. 0. ... 0. 0. 0.] ... [0. 0. 0. ... 0. 0. 0.] [0. 0. 0. ... 0. 0. 0.] [0. 0. 0. ... 0. 0. 0.]]), 'preprocess': None, 'n_jobs': 1}}\n",
      "2020-05-20 13:50:45,206 - CPerfEvaluatorXVal.0x7f0cdc049c18 - INFO - Params: {'C': 0.01, 'kernel.gamma': 0.01} - Score: 0.8483999999999999\n",
      "2020-05-20 13:50:45,347 - CClassifierMulticlassOVA.0x7f0cdc0ecc18 - INFO - Training against class: 0\n",
      "2020-05-20 13:50:46,281 - CClassifierSVM.0x7f0cdc0ae518 - INFO - Training SVM with parameters: {'preprocess': None, 'n_jobs': 1, 'C': 0.01, 'class_weight': None, 'grad_sampling': 1.0, 'store_dual_vars': None, 'kernel': CKernelRBF{'gamma': 1.0, 'rv': CArray(3567, 784)(dense: [[0. 0. 0. ... 0. 0. 0.] [0. 0. 0. ... 0. 0. 0.] [0. 0. 0. ... 0. 0. 0.] ... [0. 0. 0. ... 0. 0. 0.] [0. 0. 0. ... 0. 0. 0.] [0. 0. 0. ... 0. 0. 0.]]), 'preprocess': None, 'n_jobs': 1}}\n",
      "2020-05-20 13:51:15,695 - CClassifierMulticlassOVA.0x7f0cdc0ecc18 - INFO - Training against class: 1\n",
      "2020-05-20 13:51:16,638 - CClassifierSVM.0x7f0cdc049828 - INFO - Training SVM with parameters: {'preprocess': None, 'n_jobs': 1, 'C': 0.01, 'class_weight': None, 'grad_sampling': 1.0, 'store_dual_vars': None, 'kernel': CKernelRBF{'gamma': 1.0, 'rv': CArray(3872, 784)(dense: [[0. 0. 0. ... 0. 0. 0.] [0. 0. 0. ... 0. 0. 0.] [0. 0. 0. ... 0. 0. 0.] ... [0. 0. 0. ... 0. 0. 0.] [0. 0. 0. ... 0. 0. 0.] [0. 0. 0. ... 0. 0. 0.]]), 'preprocess': None, 'n_jobs': 1}}\n",
      "2020-05-20 13:51:46,147 - CClassifierMulticlassOVA.0x7f0cdc0ecc18 - INFO - Training against class: 2\n",
      "2020-05-20 13:51:47,061 - CClassifierSVM.0x7f0cdc049940 - INFO - Training SVM with parameters: {'preprocess': None, 'n_jobs': 1, 'C': 0.01, 'class_weight': None, 'grad_sampling': 1.0, 'store_dual_vars': None, 'kernel': CKernelRBF{'gamma': 1.0, 'rv': CArray(4067, 784)(dense: [[0. 0. 0. ... 0. 0. 0.] [0. 0. 0. ... 0. 0. 0.] [0. 0. 0. ... 0. 0. 0.] ... [0. 0. 0. ... 0. 0. 0.] [0. 0. 0. ... 0. 0. 0.] [0. 0. 0. ... 0. 0. 0.]]), 'preprocess': None, 'n_jobs': 1}}\n",
      "2020-05-20 13:52:15,923 - CClassifierMulticlassOVA.0x7f0cdc0ecc18 - INFO - Training against class: 3\n",
      "2020-05-20 13:52:16,841 - CClassifierSVM.0x7f0cdc0498d0 - INFO - Training SVM with parameters: {'preprocess': None, 'n_jobs': 1, 'C': 0.01, 'class_weight': None, 'grad_sampling': 1.0, 'store_dual_vars': None, 'kernel': CKernelRBF{'gamma': 1.0, 'rv': CArray(4132, 784)(dense: [[0. 0. 0. ... 0. 0. 0.] [0. 0. 0. ... 0. 0. 0.] [0. 0. 0. ... 0. 0. 0.] ... [0. 0. 0. ... 0. 0. 0.] [0. 0. 0. ... 0. 0. 0.] [0. 0. 0. ... 0. 0. 0.]]), 'preprocess': None, 'n_jobs': 1}}\n",
      "2020-05-20 13:52:46,364 - CClassifierMulticlassOVA.0x7f0cdc0ecc18 - INFO - Training against class: 4\n",
      "2020-05-20 13:52:47,325 - CClassifierSVM.0x7f0cdc0496d8 - INFO - Training SVM with parameters: {'preprocess': None, 'n_jobs': 1, 'C': 0.01, 'class_weight': None, 'grad_sampling': 1.0, 'store_dual_vars': None, 'kernel': CKernelRBF{'gamma': 1.0, 'rv': CArray(3910, 784)(dense: [[0. 0. 0. ... 0. 0. 0.] [0. 0. 0. ... 0. 0. 0.] [0. 0. 0. ... 0. 0. 0.] ... [0. 0. 0. ... 0. 0. 0.] [0. 0. 0. ... 0. 0. 0.] [0. 0. 0. ... 0. 0. 0.]]), 'preprocess': None, 'n_jobs': 1}}\n",
      "2020-05-20 13:53:17,080 - CClassifierMulticlassOVA.0x7f0cdc0ecc18 - INFO - Training against class: 5\n",
      "2020-05-20 13:53:18,173 - CClassifierSVM.0x7f0cdc0499e8 - INFO - Training SVM with parameters: {'preprocess': None, 'n_jobs': 1, 'C': 0.01, 'class_weight': None, 'grad_sampling': 1.0, 'store_dual_vars': None, 'kernel': CKernelRBF{'gamma': 1.0, 'rv': CArray(3649, 784)(dense: [[0. 0. 0. ... 0. 0. 0.] [0. 0. 0. ... 0. 0. 0.] [0. 0. 0. ... 0. 0. 0.] ... [0. 0. 0. ... 0. 0. 0.] [0. 0. 0. ... 0. 0. 0.] [0. 0. 0. ... 0. 0. 0.]]), 'preprocess': None, 'n_jobs': 1}}\n",
      "2020-05-20 13:53:46,334 - CClassifierMulticlassOVA.0x7f0cdc0ecc18 - INFO - Training against class: 6\n",
      "2020-05-20 13:53:47,229 - CClassifierSVM.0x7f0cdc049a58 - INFO - Training SVM with parameters: {'preprocess': None, 'n_jobs': 1, 'C': 0.01, 'class_weight': None, 'grad_sampling': 1.0, 'store_dual_vars': None, 'kernel': CKernelRBF{'gamma': 1.0, 'rv': CArray(3873, 784)(dense: [[0. 0. 0. ... 0. 0. 0.] [0. 0. 0. ... 0. 0. 0.] [0. 0. 0. ... 0. 0. 0.] ... [0. 0. 0. ... 0. 0. 0.] [0. 0. 0. ... 0. 0. 0.] [0. 0. 0. ... 0. 0. 0.]]), 'preprocess': None, 'n_jobs': 1}}\n",
      "2020-05-20 13:54:16,036 - CClassifierMulticlassOVA.0x7f0cdc0ecc18 - INFO - Training against class: 7\n",
      "2020-05-20 13:54:16,914 - CClassifierSVM.0x7f0cdc049ac8 - INFO - Training SVM with parameters: {'preprocess': None, 'n_jobs': 1, 'C': 0.01, 'class_weight': None, 'grad_sampling': 1.0, 'store_dual_vars': None, 'kernel': CKernelRBF{'gamma': 1.0, 'rv': CArray(4075, 784)(dense: [[0. 0. 0. ... 0. 0. 0.] [0. 0. 0. ... 0. 0. 0.] [0. 0. 0. ... 0. 0. 0.] ... [0. 0. 0. ... 0. 0. 0.] [0. 0. 0. ... 0. 0. 0.] [0. 0. 0. ... 0. 0. 0.]]), 'preprocess': None, 'n_jobs': 1}}\n",
      "2020-05-20 13:54:45,990 - CClassifierMulticlassOVA.0x7f0cdc0ecc18 - INFO - Training against class: 8\n",
      "2020-05-20 13:54:46,854 - CClassifierSVM.0x7f0cdc049b38 - INFO - Training SVM with parameters: {'preprocess': None, 'n_jobs': 1, 'C': 0.01, 'class_weight': None, 'grad_sampling': 1.0, 'store_dual_vars': None, 'kernel': CKernelRBF{'gamma': 1.0, 'rv': CArray(3943, 784)(dense: [[0. 0. 0. ... 0. 0. 0.] [0. 0. 0. ... 0. 0. 0.] [0. 0. 0. ... 0. 0. 0.] ... [0. 0. 0. ... 0. 0. 0.] [0. 0. 0. ... 0. 0. 0.] [0. 0. 0. ... 0. 0. 0.]]), 'preprocess': None, 'n_jobs': 1}}\n",
      "2020-05-20 13:55:15,790 - CClassifierMulticlassOVA.0x7f0cdc0ecc18 - INFO - Training against class: 9\n",
      "2020-05-20 13:55:16,711 - CClassifierSVM.0x7f0cdc049ba8 - INFO - Training SVM with parameters: {'preprocess': None, 'n_jobs': 1, 'C': 0.01, 'class_weight': None, 'grad_sampling': 1.0, 'store_dual_vars': None, 'kernel': CKernelRBF{'gamma': 1.0, 'rv': CArray(4123, 784)(dense: [[0. 0. 0. ... 0. 0. 0.] [0. 0. 0. ... 0. 0. 0.] [0. 0. 0. ... 0. 0. 0.] ... [0. 0. 0. ... 0. 0. 0.] [0. 0. 0. ... 0. 0. 0.] [0. 0. 0. ... 0. 0. 0.]]), 'preprocess': None, 'n_jobs': 1}}\n",
      "2020-05-20 13:56:39,821 - CClassifierMulticlassOVA.0x7f0cdc0ecc18 - INFO - Training against class: 0\n",
      "2020-05-20 13:56:40,709 - CClassifierSVM.0x7f0cdc0ae518 - INFO - Training SVM with parameters: {'preprocess': None, 'n_jobs': 1, 'C': 0.01, 'class_weight': None, 'grad_sampling': 1.0, 'store_dual_vars': None, 'kernel': CKernelRBF{'gamma': 1.0, 'rv': CArray(19799, 784)(dense: [[0. 0. 0. ... 0. 0. 0.] [0. 0. 0. ... 0. 0. 0.] [0. 0. 0. ... 0. 0. 0.] ... [0. 0. 0. ... 0. 0. 0.] [0. 0. 0. ... 0. 0. 0.] [0. 0. 0. ... 0. 0. 0.]]), 'preprocess': None, 'n_jobs': 1}}\n",
      "2020-05-20 13:57:08,672 - CClassifierMulticlassOVA.0x7f0cdc0ecc18 - INFO - Training against class: 1\n",
      "2020-05-20 13:57:09,568 - CClassifierSVM.0x7f0cdc049828 - INFO - Training SVM with parameters: {'preprocess': None, 'n_jobs': 1, 'C': 0.01, 'class_weight': None, 'grad_sampling': 1.0, 'store_dual_vars': None, 'kernel': CKernelRBF{'gamma': 1.0, 'rv': CArray(20000, 784)(dense: [[0. 0. 0. ... 0. 0. 0.] [0. 0. 0. ... 0. 0. 0.] [0. 0. 0. ... 0. 0. 0.] ... [0. 0. 0. ... 0. 0. 0.] [0. 0. 0. ... 0. 0. 0.] [0. 0. 0. ... 0. 0. 0.]]), 'preprocess': None, 'n_jobs': 1}}\n",
      "2020-05-20 13:57:38,787 - CClassifierMulticlassOVA.0x7f0cdc0ecc18 - INFO - Training against class: 2\n",
      "2020-05-20 13:57:39,699 - CClassifierSVM.0x7f0cdc049940 - INFO - Training SVM with parameters: {'preprocess': None, 'n_jobs': 1, 'C': 0.01, 'class_weight': None, 'grad_sampling': 1.0, 'store_dual_vars': None, 'kernel': CKernelRBF{'gamma': 1.0, 'rv': CArray(19799, 784)(dense: [[0. 0. 0. ... 0. 0. 0.] [0. 0. 0. ... 0. 0. 0.] [0. 0. 0. ... 0. 0. 0.] ... [0. 0. 0. ... 0. 0. 0.] [0. 0. 0. ... 0. 0. 0.] [0. 0. 0. ... 0. 0. 0.]]), 'preprocess': None, 'n_jobs': 1}}\n",
      "2020-05-20 13:58:08,677 - CClassifierMulticlassOVA.0x7f0cdc0ecc18 - INFO - Training against class: 3\n",
      "2020-05-20 13:58:09,608 - CClassifierSVM.0x7f0cdc0498d0 - INFO - Training SVM with parameters: {'preprocess': None, 'n_jobs': 1, 'C': 0.01, 'class_weight': None, 'grad_sampling': 1.0, 'store_dual_vars': None, 'kernel': CKernelRBF{'gamma': 1.0, 'rv': CArray(19799, 784)(dense: [[0. 0. 0. ... 0. 0. 0.] [0. 0. 0. ... 0. 0. 0.] [0. 0. 0. ... 0. 0. 0.] ... [0. 0. 0. ... 0. 0. 0.] [0. 0. 0. ... 0. 0. 0.] [0. 0. 0. ... 0. 0. 0.]]), 'preprocess': None, 'n_jobs': 1}}\n",
      "2020-05-20 13:58:39,055 - CClassifierMulticlassOVA.0x7f0cdc0ecc18 - INFO - Training against class: 4\n",
      "2020-05-20 13:58:40,046 - CClassifierSVM.0x7f0cdc0496d8 - INFO - Training SVM with parameters: {'preprocess': None, 'n_jobs': 1, 'C': 0.01, 'class_weight': None, 'grad_sampling': 1.0, 'store_dual_vars': None, 'kernel': CKernelRBF{'gamma': 1.0, 'rv': CArray(19798, 784)(dense: [[0. 0. 0. ... 0. 0. 0.] [0. 0. 0. ... 0. 0. 0.] [0. 0. 0. ... 0. 0. 0.] ... [0. 0. 0. ... 0. 0. 0.] [0. 0. 0. ... 0. 0. 0.] [0. 0. 0. ... 0. 0. 0.]]), 'preprocess': None, 'n_jobs': 1}}\n",
      "2020-05-20 13:59:09,937 - CClassifierMulticlassOVA.0x7f0cdc0ecc18 - INFO - Training against class: 5\n",
      "2020-05-20 13:59:10,888 - CClassifierSVM.0x7f0cdc0499e8 - INFO - Training SVM with parameters: {'preprocess': None, 'n_jobs': 1, 'C': 0.01, 'class_weight': None, 'grad_sampling': 1.0, 'store_dual_vars': None, 'kernel': CKernelRBF{'gamma': 1.0, 'rv': CArray(19798, 784)(dense: [[0. 0. 0. ... 0. 0. 0.] [0. 0. 0. ... 0. 0. 0.] [0. 0. 0. ... 0. 0. 0.] ... [0. 0. 0. ... 0. 0. 0.] [0. 0. 0. ... 0. 0. 0.] [0. 0. 0. ... 0. 0. 0.]]), 'preprocess': None, 'n_jobs': 1}}\n",
      "2020-05-20 13:59:40,019 - CClassifierMulticlassOVA.0x7f0cdc0ecc18 - INFO - Training against class: 6\n",
      "2020-05-20 13:59:40,940 - CClassifierSVM.0x7f0cdc049a58 - INFO - Training SVM with parameters: {'preprocess': None, 'n_jobs': 1, 'C': 0.01, 'class_weight': None, 'grad_sampling': 1.0, 'store_dual_vars': None, 'kernel': CKernelRBF{'gamma': 1.0, 'rv': CArray(19799, 784)(dense: [[0. 0. 0. ... 0. 0. 0.] [0. 0. 0. ... 0. 0. 0.] [0. 0. 0. ... 0. 0. 0.] ... [0. 0. 0. ... 0. 0. 0.] [0. 0. 0. ... 0. 0. 0.] [0. 0. 0. ... 0. 0. 0.]]), 'preprocess': None, 'n_jobs': 1}}\n",
      "2020-05-20 14:00:10,259 - CClassifierMulticlassOVA.0x7f0cdc0ecc18 - INFO - Training against class: 7\n",
      "2020-05-20 14:00:11,188 - CClassifierSVM.0x7f0cdc049ac8 - INFO - Training SVM with parameters: {'preprocess': None, 'n_jobs': 1, 'C': 0.01, 'class_weight': None, 'grad_sampling': 1.0, 'store_dual_vars': None, 'kernel': CKernelRBF{'gamma': 1.0, 'rv': CArray(19800, 784)(dense: [[0. 0. 0. ... 0. 0. 0.] [0. 0. 0. ... 0. 0. 0.] [0. 0. 0. ... 0. 0. 0.] ... [0. 0. 0. ... 0. 0. 0.] [0. 0. 0. ... 0. 0. 0.] [0. 0. 0. ... 0. 0. 0.]]), 'preprocess': None, 'n_jobs': 1}}\n",
      "2020-05-20 14:00:40,464 - CClassifierMulticlassOVA.0x7f0cdc0ecc18 - INFO - Training against class: 8\n",
      "2020-05-20 14:00:41,391 - CClassifierSVM.0x7f0cdc049b38 - INFO - Training SVM with parameters: {'preprocess': None, 'n_jobs': 1, 'C': 0.01, 'class_weight': None, 'grad_sampling': 1.0, 'store_dual_vars': None, 'kernel': CKernelRBF{'gamma': 1.0, 'rv': CArray(19800, 784)(dense: [[0. 0. 0. ... 0. 0. 0.] [0. 0. 0. ... 0. 0. 0.] [0. 0. 0. ... 0. 0. 0.] ... [0. 0. 0. ... 0. 0. 0.] [0. 0. 0. ... 0. 0. 0.] [0. 0. 0. ... 0. 0. 0.]]), 'preprocess': None, 'n_jobs': 1}}\n",
      "2020-05-20 14:01:10,445 - CClassifierMulticlassOVA.0x7f0cdc0ecc18 - INFO - Training against class: 9\n",
      "2020-05-20 14:01:11,340 - CClassifierSVM.0x7f0cdc049ba8 - INFO - Training SVM with parameters: {'preprocess': None, 'n_jobs': 1, 'C': 0.01, 'class_weight': None, 'grad_sampling': 1.0, 'store_dual_vars': None, 'kernel': CKernelRBF{'gamma': 1.0, 'rv': CArray(19799, 784)(dense: [[0. 0. 0. ... 0. 0. 0.] [0. 0. 0. ... 0. 0. 0.] [0. 0. 0. ... 0. 0. 0.] ... [0. 0. 0. ... 0. 0. 0.] [0. 0. 0. ... 0. 0. 0.] [0. 0. 0. ... 0. 0. 0.]]), 'preprocess': None, 'n_jobs': 1}}\n",
      "2020-05-20 14:02:36,458 - CClassifierMulticlassOVA.0x7f0cdc0ecc18 - INFO - Training against class: 0\n",
      "2020-05-20 14:02:37,360 - CClassifierSVM.0x7f0cdc0ae518 - INFO - Training SVM with parameters: {'preprocess': None, 'n_jobs': 1, 'C': 0.01, 'class_weight': None, 'grad_sampling': 1.0, 'store_dual_vars': None, 'kernel': CKernelRBF{'gamma': 1.0, 'rv': CArray(19782, 784)(dense: [[0. 0. 0. ... 0. 0. 0.] [0. 0. 0. ... 0. 0. 0.] [0. 0. 0. ... 0. 0. 0.] ... [0. 0. 0. ... 0. 0. 0.] [0. 0. 0. ... 0. 0. 0.] [0. 0. 0. ... 0. 0. 0.]]), 'preprocess': None, 'n_jobs': 1}}\n",
      "2020-05-20 14:03:06,365 - CClassifierMulticlassOVA.0x7f0cdc0ecc18 - INFO - Training against class: 1\n",
      "2020-05-20 14:03:07,249 - CClassifierSVM.0x7f0cdc049828 - INFO - Training SVM with parameters: {'preprocess': None, 'n_jobs': 1, 'C': 0.01, 'class_weight': None, 'grad_sampling': 1.0, 'store_dual_vars': None, 'kernel': CKernelRBF{'gamma': 1.0, 'rv': CArray(20000, 784)(dense: [[0. 0. 0. ... 0. 0. 0.] [0. 0. 0. ... 0. 0. 0.] [0. 0. 0. ... 0. 0. 0.] ... [0. 0. 0. ... 0. 0. 0.] [0. 0. 0. ... 0. 0. 0.] [0. 0. 0. ... 0. 0. 0.]]), 'preprocess': None, 'n_jobs': 1}}\n",
      "2020-05-20 14:03:36,507 - CClassifierMulticlassOVA.0x7f0cdc0ecc18 - INFO - Training against class: 2\n",
      "2020-05-20 14:03:37,421 - CClassifierSVM.0x7f0cdc049940 - INFO - Training SVM with parameters: {'preprocess': None, 'n_jobs': 1, 'C': 0.01, 'class_weight': None, 'grad_sampling': 1.0, 'store_dual_vars': None, 'kernel': CKernelRBF{'gamma': 1.0, 'rv': CArray(19781, 784)(dense: [[0. 0. 0. ... 0. 0. 0.] [0. 0. 0. ... 0. 0. 0.] [0. 0. 0. ... 0. 0. 0.] ... [0. 0. 0. ... 0. 0. 0.] [0. 0. 0. ... 0. 0. 0.] [0. 0. 0. ... 0. 0. 0.]]), 'preprocess': None, 'n_jobs': 1}}\n",
      "2020-05-20 14:04:06,408 - CClassifierMulticlassOVA.0x7f0cdc0ecc18 - INFO - Training against class: 3\n",
      "2020-05-20 14:04:07,320 - CClassifierSVM.0x7f0cdc0498d0 - INFO - Training SVM with parameters: {'preprocess': None, 'n_jobs': 1, 'C': 0.01, 'class_weight': None, 'grad_sampling': 1.0, 'store_dual_vars': None, 'kernel': CKernelRBF{'gamma': 1.0, 'rv': CArray(19782, 784)(dense: [[0. 0. 0. ... 0. 0. 0.] [0. 0. 0. ... 0. 0. 0.] [0. 0. 0. ... 0. 0. 0.] ... [0. 0. 0. ... 0. 0. 0.] [0. 0. 0. ... 0. 0. 0.] [0. 0. 0. ... 0. 0. 0.]]), 'preprocess': None, 'n_jobs': 1}}\n",
      "2020-05-20 14:04:36,610 - CClassifierMulticlassOVA.0x7f0cdc0ecc18 - INFO - Training against class: 4\n",
      "2020-05-20 14:04:37,506 - CClassifierSVM.0x7f0cdc0496d8 - INFO - Training SVM with parameters: {'preprocess': None, 'n_jobs': 1, 'C': 0.01, 'class_weight': None, 'grad_sampling': 1.0, 'store_dual_vars': None, 'kernel': CKernelRBF{'gamma': 1.0, 'rv': CArray(19781, 784)(dense: [[0. 0. 0. ... 0. 0. 0.] [0. 0. 0. ... 0. 0. 0.] [0. 0. 0. ... 0. 0. 0.] ... [0. 0. 0. ... 0. 0. 0.] [0. 0. 0. ... 0. 0. 0.] [0. 0. 0. ... 0. 0. 0.]]), 'preprocess': None, 'n_jobs': 1}}\n",
      "2020-05-20 14:05:07,075 - CClassifierMulticlassOVA.0x7f0cdc0ecc18 - INFO - Training against class: 5\n",
      "2020-05-20 14:05:08,005 - CClassifierSVM.0x7f0cdc0499e8 - INFO - Training SVM with parameters: {'preprocess': None, 'n_jobs': 1, 'C': 0.01, 'class_weight': None, 'grad_sampling': 1.0, 'store_dual_vars': None, 'kernel': CKernelRBF{'gamma': 1.0, 'rv': CArray(19780, 784)(dense: [[0. 0. 0. ... 0. 0. 0.] [0. 0. 0. ... 0. 0. 0.] [0. 0. 0. ... 0. 0. 0.] ... [0. 0. 0. ... 0. 0. 0.] [0. 0. 0. ... 0. 0. 0.] [0. 0. 0. ... 0. 0. 0.]]), 'preprocess': None, 'n_jobs': 1}}\n",
      "2020-05-20 14:05:38,142 - CClassifierMulticlassOVA.0x7f0cdc0ecc18 - INFO - Training against class: 6\n",
      "2020-05-20 14:05:39,043 - CClassifierSVM.0x7f0cdc049a58 - INFO - Training SVM with parameters: {'preprocess': None, 'n_jobs': 1, 'C': 0.01, 'class_weight': None, 'grad_sampling': 1.0, 'store_dual_vars': None, 'kernel': CKernelRBF{'gamma': 1.0, 'rv': CArray(19782, 784)(dense: [[0. 0. 0. ... 0. 0. 0.] [0. 0. 0. ... 0. 0. 0.] [0. 0. 0. ... 0. 0. 0.] ... [0. 0. 0. ... 0. 0. 0.] [0. 0. 0. ... 0. 0. 0.] [0. 0. 0. ... 0. 0. 0.]]), 'preprocess': None, 'n_jobs': 1}}\n",
      "2020-05-20 14:06:08,450 - CClassifierMulticlassOVA.0x7f0cdc0ecc18 - INFO - Training against class: 7\n",
      "2020-05-20 14:06:09,318 - CClassifierSVM.0x7f0cdc049ac8 - INFO - Training SVM with parameters: {'preprocess': None, 'n_jobs': 1, 'C': 0.01, 'class_weight': None, 'grad_sampling': 1.0, 'store_dual_vars': None, 'kernel': CKernelRBF{'gamma': 1.0, 'rv': CArray(19782, 784)(dense: [[0. 0. 0. ... 0. 0. 0.] [0. 0. 0. ... 0. 0. 0.] [0. 0. 0. ... 0. 0. 0.] ... [0. 0. 0. ... 0. 0. 0.] [0. 0. 0. ... 0. 0. 0.] [0. 0. 0. ... 0. 0. 0.]]), 'preprocess': None, 'n_jobs': 1}}\n",
      "2020-05-20 14:06:38,416 - CClassifierMulticlassOVA.0x7f0cdc0ecc18 - INFO - Training against class: 8\n",
      "2020-05-20 14:06:39,335 - CClassifierSVM.0x7f0cdc049b38 - INFO - Training SVM with parameters: {'preprocess': None, 'n_jobs': 1, 'C': 0.01, 'class_weight': None, 'grad_sampling': 1.0, 'store_dual_vars': None, 'kernel': CKernelRBF{'gamma': 1.0, 'rv': CArray(19781, 784)(dense: [[0. 0. 0. ... 0. 0. 0.] [0. 0. 0. ... 0. 0. 0.] [0. 0. 0. ... 0. 0. 0.] ... [0. 0. 0. ... 0. 0. 0.] [0. 0. 0. ... 0. 0. 0.] [0. 0. 0. ... 0. 0. 0.]]), 'preprocess': None, 'n_jobs': 1}}\n",
      "2020-05-20 14:07:08,163 - CClassifierMulticlassOVA.0x7f0cdc0ecc18 - INFO - Training against class: 9\n",
      "2020-05-20 14:07:09,133 - CClassifierSVM.0x7f0cdc049ba8 - INFO - Training SVM with parameters: {'preprocess': None, 'n_jobs': 1, 'C': 0.01, 'class_weight': None, 'grad_sampling': 1.0, 'store_dual_vars': None, 'kernel': CKernelRBF{'gamma': 1.0, 'rv': CArray(19781, 784)(dense: [[0. 0. 0. ... 0. 0. 0.] [0. 0. 0. ... 0. 0. 0.] [0. 0. 0. ... 0. 0. 0.] ... [0. 0. 0. ... 0. 0. 0.] [0. 0. 0. ... 0. 0. 0.] [0. 0. 0. ... 0. 0. 0.]]), 'preprocess': None, 'n_jobs': 1}}\n",
      "2020-05-20 14:08:29,223 - CPerfEvaluatorXVal.0x7f0cdc049c18 - INFO - Params: {'C': 0.01, 'kernel.gamma': 1} - Score: 0.11503333333333332\n",
      "2020-05-20 14:08:29,353 - CClassifierMulticlassOVA.0x7f0cdc0ecc18 - INFO - Training against class: 0\n",
      "2020-05-20 14:08:30,182 - CClassifierSVM.0x7f0cdc0ae518 - INFO - Training SVM with parameters: {'preprocess': None, 'n_jobs': 1, 'C': 0.1, 'class_weight': None, 'grad_sampling': 1.0, 'store_dual_vars': None, 'kernel': CKernelRBF{'gamma': 10.0, 'rv': CArray(19802, 784)(dense: [[0. 0. 0. ... 0. 0. 0.] [0. 0. 0. ... 0. 0. 0.] [0. 0. 0. ... 0. 0. 0.] ... [0. 0. 0. ... 0. 0. 0.] [0. 0. 0. ... 0. 0. 0.] [0. 0. 0. ... 0. 0. 0.]]), 'preprocess': None, 'n_jobs': 1}}\n",
      "2020-05-20 14:08:54,264 - CClassifierMulticlassOVA.0x7f0cdc0ecc18 - INFO - Training against class: 1\n",
      "2020-05-20 14:08:55,102 - CClassifierSVM.0x7f0cdc049828 - INFO - Training SVM with parameters: {'preprocess': None, 'n_jobs': 1, 'C': 0.1, 'class_weight': None, 'grad_sampling': 1.0, 'store_dual_vars': None, 'kernel': CKernelRBF{'gamma': 10.0, 'rv': CArray(20000, 784)(dense: [[0. 0. 0. ... 0. 0. 0.] [0. 0. 0. ... 0. 0. 0.] [0. 0. 0. ... 0. 0. 0.] ... [0. 0. 0. ... 0. 0. 0.] [0. 0. 0. ... 0. 0. 0.] [0. 0. 0. ... 0. 0. 0.]]), 'preprocess': None, 'n_jobs': 1}}\n",
      "2020-05-20 14:09:17,550 - CClassifierMulticlassOVA.0x7f0cdc0ecc18 - INFO - Training against class: 2\n",
      "2020-05-20 14:09:18,439 - CClassifierSVM.0x7f0cdc049940 - INFO - Training SVM with parameters: {'preprocess': None, 'n_jobs': 1, 'C': 0.1, 'class_weight': None, 'grad_sampling': 1.0, 'store_dual_vars': None, 'kernel': CKernelRBF{'gamma': 10.0, 'rv': CArray(19803, 784)(dense: [[0. 0. 0. ... 0. 0. 0.] [0. 0. 0. ... 0. 0. 0.] [0. 0. 0. ... 0. 0. 0.] ... [0. 0. 0. ... 0. 0. 0.] [0. 0. 0. ... 0. 0. 0.] [0. 0. 0. ... 0. 0. 0.]]), 'preprocess': None, 'n_jobs': 1}}\n",
      "2020-05-20 14:09:44,180 - CClassifierMulticlassOVA.0x7f0cdc0ecc18 - INFO - Training against class: 3\n",
      "2020-05-20 14:09:45,075 - CClassifierSVM.0x7f0cdc0498d0 - INFO - Training SVM with parameters: {'preprocess': None, 'n_jobs': 1, 'C': 0.1, 'class_weight': None, 'grad_sampling': 1.0, 'store_dual_vars': None, 'kernel': CKernelRBF{'gamma': 10.0, 'rv': CArray(19801, 784)(dense: [[0. 0. 0. ... 0. 0. 0.] [0. 0. 0. ... 0. 0. 0.] [0. 0. 0. ... 0. 0. 0.] ... [0. 0. 0. ... 0. 0. 0.] [0. 0. 0. ... 0. 0. 0.] [0. 0. 0. ... 0. 0. 0.]]), 'preprocess': None, 'n_jobs': 1}}\n",
      "2020-05-20 14:10:10,672 - CClassifierMulticlassOVA.0x7f0cdc0ecc18 - INFO - Training against class: 4\n",
      "2020-05-20 14:10:11,565 - CClassifierSVM.0x7f0cdc0496d8 - INFO - Training SVM with parameters: {'preprocess': None, 'n_jobs': 1, 'C': 0.1, 'class_weight': None, 'grad_sampling': 1.0, 'store_dual_vars': None, 'kernel': CKernelRBF{'gamma': 10.0, 'rv': CArray(19800, 784)(dense: [[0. 0. 0. ... 0. 0. 0.] [0. 0. 0. ... 0. 0. 0.] [0. 0. 0. ... 0. 0. 0.] ... [0. 0. 0. ... 0. 0. 0.] [0. 0. 0. ... 0. 0. 0.] [0. 0. 0. ... 0. 0. 0.]]), 'preprocess': None, 'n_jobs': 1}}\n",
      "2020-05-20 14:10:37,564 - CClassifierMulticlassOVA.0x7f0cdc0ecc18 - INFO - Training against class: 5\n",
      "2020-05-20 14:10:38,486 - CClassifierSVM.0x7f0cdc0499e8 - INFO - Training SVM with parameters: {'preprocess': None, 'n_jobs': 1, 'C': 0.1, 'class_weight': None, 'grad_sampling': 1.0, 'store_dual_vars': None, 'kernel': CKernelRBF{'gamma': 10.0, 'rv': CArray(19800, 784)(dense: [[0. 0. 0. ... 0. 0. 0.] [0. 0. 0. ... 0. 0. 0.] [0. 0. 0. ... 0. 0. 0.] ... [0. 0. 0. ... 0. 0. 0.] [0. 0. 0. ... 0. 0. 0.] [0. 0. 0. ... 0. 0. 0.]]), 'preprocess': None, 'n_jobs': 1}}\n",
      "2020-05-20 14:11:03,812 - CClassifierMulticlassOVA.0x7f0cdc0ecc18 - INFO - Training against class: 6\n",
      "2020-05-20 14:11:04,717 - CClassifierSVM.0x7f0cdc049a58 - INFO - Training SVM with parameters: {'preprocess': None, 'n_jobs': 1, 'C': 0.1, 'class_weight': None, 'grad_sampling': 1.0, 'store_dual_vars': None, 'kernel': CKernelRBF{'gamma': 10.0, 'rv': CArray(19801, 784)(dense: [[0. 0. 0. ... 0. 0. 0.] [0. 0. 0. ... 0. 0. 0.] [0. 0. 0. ... 0. 0. 0.] ... [0. 0. 0. ... 0. 0. 0.] [0. 0. 0. ... 0. 0. 0.] [0. 0. 0. ... 0. 0. 0.]]), 'preprocess': None, 'n_jobs': 1}}\n",
      "2020-05-20 14:11:30,464 - CClassifierMulticlassOVA.0x7f0cdc0ecc18 - INFO - Training against class: 7\n",
      "2020-05-20 14:11:31,347 - CClassifierSVM.0x7f0cdc049ac8 - INFO - Training SVM with parameters: {'preprocess': None, 'n_jobs': 1, 'C': 0.1, 'class_weight': None, 'grad_sampling': 1.0, 'store_dual_vars': None, 'kernel': CKernelRBF{'gamma': 10.0, 'rv': CArray(19801, 784)(dense: [[0. 0. 0. ... 0. 0. 0.] [0. 0. 0. ... 0. 0. 0.] [0. 0. 0. ... 0. 0. 0.] ... [0. 0. 0. ... 0. 0. 0.] [0. 0. 0. ... 0. 0. 0.] [0. 0. 0. ... 0. 0. 0.]]), 'preprocess': None, 'n_jobs': 1}}\n",
      "2020-05-20 14:11:57,318 - CClassifierMulticlassOVA.0x7f0cdc0ecc18 - INFO - Training against class: 8\n",
      "2020-05-20 14:11:58,247 - CClassifierSVM.0x7f0cdc049b38 - INFO - Training SVM with parameters: {'preprocess': None, 'n_jobs': 1, 'C': 0.1, 'class_weight': None, 'grad_sampling': 1.0, 'store_dual_vars': None, 'kernel': CKernelRBF{'gamma': 10.0, 'rv': CArray(19803, 784)(dense: [[0. 0. 0. ... 0. 0. 0.] [0. 0. 0. ... 0. 0. 0.] [0. 0. 0. ... 0. 0. 0.] ... [0. 0. 0. ... 0. 0. 0.] [0. 0. 0. ... 0. 0. 0.] [0. 0. 0. ... 0. 0. 0.]]), 'preprocess': None, 'n_jobs': 1}}\n"
     ]
    }
   ],
   "source": [
    "# Parameters for the Cross-Validation procedure\n",
    "xval_params = {'C': [1e-3, 1e-2, 1e-1, 1, 100, 1000],\n",
    "               'kernel.gamma': [0.01, 0.1, 1, 10, 100, 1e3]}\n",
    "\n",
    "# Let's create a 3-Fold data splitter\n",
    "from secml.data.splitter import CDataSplitterKFold\n",
    "xval_splitter = CDataSplitterKFold(num_folds=3, random_state=random_state)\n",
    "\n",
    "# Select and set the best training parameters for the classifier\n",
    "clf.verbose = 1\n",
    "\n",
    "print(\"Estimating the best training parameters...\")\n",
    "best_params = clf.estimate_parameters(\n",
    "    dataset=vl,\n",
    "    parameters=xval_params,\n",
    "    splitter=xval_splitter,\n",
    "    metric='accuracy',\n",
    "    perf_evaluator='xval'\n",
    ")\n",
    "\n",
    "print(\"The best training parameters are: \",\n",
    "      [(k, best_params[k]) for k in sorted(best_params)])"
   ]
  },
  {
   "cell_type": "code",
   "execution_count": null,
   "metadata": {},
   "outputs": [],
   "source": [
    "# We can now fit the classifier\n",
    "clf_rej.fit(vl.X, vl.Y)"
   ]
  },
  {
   "cell_type": "code",
   "execution_count": null,
   "metadata": {},
   "outputs": [],
   "source": [
    "# END DEBUG\n",
    "feat_extr.verbose = 0\n",
    "feat_extr._mlp.verbose=0"
   ]
  },
  {
   "cell_type": "markdown",
   "metadata": {},
   "source": [
    "Set the `threshold` to have around 10% of false positives"
   ]
  },
  {
   "cell_type": "code",
   "execution_count": null,
   "metadata": {},
   "outputs": [],
   "source": [
    "clf_rej.threshold = 0.9"
   ]
  },
  {
   "cell_type": "code",
   "execution_count": null,
   "metadata": {},
   "outputs": [],
   "source": [
    "# Compute predictions on a test set\n",
    "y_pred = clf_rej.predict(vl.X)\n",
    "\n",
    "# Evaluate the accuracy of the classifier\n",
    "acc = metric.performance_score(y_true=vl.Y, y_pred=y_pred)\n",
    "\n",
    "print(\"Accuracy on training set: {:.2%}\".format(acc))"
   ]
  },
  {
   "cell_type": "code",
   "execution_count": null,
   "metadata": {},
   "outputs": [],
   "source": [
    "fpr = (y_pred < 0).sum() / y_pred.shape[0]\n",
    "fpr"
   ]
  },
  {
   "cell_type": "code",
   "execution_count": null,
   "metadata": {},
   "outputs": [],
   "source": [
    "# Compute predictions on a test set\n",
    "y_pred = clf_rej.predict(ts.X)\n",
    "\n",
    "# Evaluate the accuracy of the classifier\n",
    "acc = metric.performance_score(y_true=ts.Y, y_pred=y_pred)\n",
    "\n",
    "print(\"Accuracy on test set: {:.2%}\".format(acc))"
   ]
  },
  {
   "cell_type": "markdown",
   "metadata": {},
   "source": [
    "# Test it against BB adversarial samples"
   ]
  },
  {
   "cell_type": "code",
   "execution_count": null,
   "metadata": {},
   "outputs": [],
   "source": [
    "# For simplicity, let's attack a subset of the test set\n",
    "attack_ds = ts[:100, :]\n",
    "\n",
    "noise_type = 'l2'  # Type of perturbation 'l1' or 'l2'\n",
    "dmax = 3.0  # Maximum perturbation\n",
    "lb, ub = 0., 1.  # Bounds of the attack space. Can be set to `None` for unbounded\n",
    "y_target = None  # None if `error-generic` or a class label for `error-specific`\n",
    "\n",
    "# Should be chosen depending on the optimization problem\n",
    "solver_params = {\n",
    "    'eta': 0.5,\n",
    "    'eta_min': 2.0,\n",
    "    'eta_max': None,\n",
    "    'max_iter': 100,\n",
    "    'eps': 1e-6\n",
    "}\n",
    "\n",
    "from secml.adv.attacks import CAttackEvasionPGDLS\n",
    "pgd_ls_attack = CAttackEvasionPGDLS(classifier=clf_rej,\n",
    "                                    surrogate_classifier=dnn,\n",
    "                                    surrogate_data=tr,\n",
    "                                    distance=noise_type,\n",
    "                                    dmax=dmax,\n",
    "                                    solver_params=solver_params,\n",
    "                                    y_target=y_target)"
   ]
  },
  {
   "cell_type": "code",
   "execution_count": null,
   "metadata": {},
   "outputs": [],
   "source": [
    "print(\"Attack started...\")\n",
    "eva_y_pred, _, eva_adv_ds, _ = pgd_ls_attack.run(\n",
    "    attack_ds.X, attack_ds.Y, double_init=True)\n",
    "print(\"Attack complete!\")"
   ]
  },
  {
   "cell_type": "code",
   "execution_count": null,
   "metadata": {},
   "outputs": [],
   "source": [
    "from secml.array import CArray\n",
    "from secml.ml.peval.metrics import CMetric, CMetricAccuracy\n",
    "\n",
    "\n",
    "class CMetricAccuracyReject(CMetric):\n",
    "    \"\"\"Performance evaluation metric: Accuracy.\n",
    "\n",
    "    Accuracy score is the percentage (inside 0/1 range)\n",
    "    of correctly predicted labels. Rejected samples are\n",
    "    considered as a correct prediction.\n",
    "\n",
    "    The metric uses:\n",
    "     - y_true (true ground labels)\n",
    "     - y_pred (predicted labels)\n",
    "\n",
    "    Attributes\n",
    "    ----------\n",
    "    class_type : 'accuracy-rej'\n",
    "\n",
    "    \"\"\"\n",
    "    __class_type = 'accuracy-rej'\n",
    "    best_value = 1.0\n",
    "\n",
    "    def _performance_score(self, y_true, y_pred):\n",
    "        \"\"\"Computes the Accuracy score.\n",
    "\n",
    "        Parameters\n",
    "        ----------\n",
    "        y_true : CArray\n",
    "            Ground truth (true) labels or target scores.\n",
    "        y_pred : CArray\n",
    "            Predicted labels, as returned by a CClassifier.\n",
    "\n",
    "        Returns\n",
    "        -------\n",
    "        metric : float\n",
    "            Returns metric value as float.\n",
    "\n",
    "        \"\"\"\n",
    "        acc_metric = CMetricAccuracy()\n",
    "\n",
    "        # rejected samples are considered as correct predictions\n",
    "        is_rej = y_pred == -1\n",
    "        y_true_mod = y_true.deepcopy()\n",
    "        y_true_mod[is_rej] = -1\n",
    "\n",
    "        # check the classifier accuracy\n",
    "        acc = acc_metric.performance_score(y_true=y_true_mod, y_pred=y_pred)\n",
    "\n",
    "        return acc"
   ]
  },
  {
   "cell_type": "code",
   "execution_count": null,
   "metadata": {},
   "outputs": [],
   "source": [
    "# metric = CMetricAccuracy()\n",
    "metric = CMetricAccuracyReject()"
   ]
  },
  {
   "cell_type": "code",
   "execution_count": null,
   "metadata": {},
   "outputs": [],
   "source": [
    "# Compute predictions on a test set\n",
    "y_pred = clf_rej.predict(eva_adv_ds.X)\n",
    "\n",
    "# Evaluate the accuracy of the classifier\n",
    "acc = metric.performance_score(y_true=eva_adv_ds.Y, y_pred=y_pred)\n",
    "\n",
    "print(\"Accuracy on test set: {:.2%}\".format(acc))"
   ]
  },
  {
   "cell_type": "markdown",
   "metadata": {},
   "source": [
    "# Security Evaluation"
   ]
  },
  {
   "cell_type": "code",
   "execution_count": null,
   "metadata": {},
   "outputs": [],
   "source": [
    "attack_ds"
   ]
  },
  {
   "cell_type": "code",
   "execution_count": null,
   "metadata": {},
   "outputs": [],
   "source": [
    "# Perturbation levels to test\n",
    "from secml.array import CArray\n",
    "e_vals = CArray.arange(start=0.5, step=0.5, stop=5.1)\n",
    "\n",
    "from secml.adv.seceval import CSecEval\n",
    "tranfer_seval = CSecEval(\n",
    "    attack=pgd_ls_attack, param_name='dmax', param_values=e_vals)\n",
    "\n",
    "# Run the security evaluation using the test set\n",
    "print(\"Running security evaluation...\")\n",
    "tranfer_seval.verbose = 1\n",
    "tranfer_seval.run_sec_eval(attack_ds, double_init=False)"
   ]
  },
  {
   "cell_type": "markdown",
   "metadata": {},
   "source": [
    "Compute reject percentage"
   ]
  },
  {
   "cell_type": "code",
   "execution_count": null,
   "metadata": {},
   "outputs": [],
   "source": [
    "rej_percentage = lambda seval: [(p == -1).sum()/p.shape[0] for p in seval.sec_eval_data.Y_pred]\n",
    "rej_percentage(tranfer_seval)"
   ]
  },
  {
   "cell_type": "code",
   "execution_count": null,
   "metadata": {},
   "outputs": [],
   "source": [
    "%matplotlib inline"
   ]
  },
  {
   "cell_type": "code",
   "execution_count": null,
   "metadata": {},
   "outputs": [],
   "source": [
    "from secml.figure import CFigure\n",
    "fig = CFigure(height=8, width=10)\n",
    "\n",
    "sp1 = fig.subplot(2,1,1)\n",
    "# Convenience function for plotting the Security Evaluation Curve\n",
    "sp1.plot_sec_eval(\n",
    "    tranfer_seval.sec_eval_data, metric=CMetricAccuracyReject(),  marker='o', label='clf_rej', show_average=True)\n",
    "# Plot rejects\n",
    "sp2 = fig.subplot(2, 1, 2)\n",
    "sp2.plot(e_vals, y=rej_percentage(tranfer_seval), marker='o', label='clf_rej')\n",
    "sp2.xticks(e_vals)\n",
    "sp2.xlabel(\"dmax\")\n",
    "sp2.ylabel(\"% Reject\")\n",
    "sp2.legend()\n",
    "sp2.grid()"
   ]
  },
  {
   "cell_type": "markdown",
   "metadata": {},
   "source": [
    "-------"
   ]
  },
  {
   "cell_type": "markdown",
   "metadata": {},
   "source": [
    "# White-box evaluation"
   ]
  },
  {
   "cell_type": "code",
   "execution_count": null,
   "metadata": {},
   "outputs": [],
   "source": [
    "# For simplicity, let's attack a subset of the test set\n",
    "attack_ds = ts[:100, :]\n",
    "\n",
    "noise_type = 'l2'  # Type of perturbation 'l1' or 'l2'\n",
    "dmax = 3.0  # Maximum perturbation\n",
    "lb, ub = 0., 1.  # Bounds of the attack space. Can be set to `None` for unbounded\n",
    "y_target = None  # None if `error-generic` or a class label for `error-specific`\n",
    "\n",
    "# Should be chosen depending on the optimization problem\n",
    "solver_params = {\n",
    "    'eta': 0.5,\n",
    "    'eta_min': 2.0,\n",
    "    'eta_max': None,\n",
    "    'max_iter': 100,\n",
    "    'eps': 1e-6\n",
    "}\n",
    "\n",
    "from secml.adv.attacks import CAttackEvasionPGDLS\n",
    "pgd_ls_attack = CAttackEvasionPGDLS(classifier=clf_rej,\n",
    "                                    surrogate_classifier=clf_rej,\n",
    "                                    surrogate_data=tr,\n",
    "                                    distance=noise_type,\n",
    "                                    dmax=dmax,\n",
    "                                    solver_params=solver_params,\n",
    "                                    y_target=y_target)"
   ]
  },
  {
   "cell_type": "code",
   "execution_count": null,
   "metadata": {},
   "outputs": [],
   "source": [
    "print(\"Attack started...\")\n",
    "eva_y_pred, _, eva_adv_ds, _ = pgd_ls_attack.run(\n",
    "    attack_ds.X, attack_ds.Y, double_init=True)\n",
    "print(\"Attack complete!\")"
   ]
  },
  {
   "cell_type": "code",
   "execution_count": null,
   "metadata": {},
   "outputs": [],
   "source": [
    "# Compute predictions on a test set\n",
    "y_pred = clf_rej.predict(eva_adv_ds.X)\n",
    "\n",
    "# Evaluate the accuracy of the classifier\n",
    "acc = metric.performance_score(y_true=eva_adv_ds.Y, y_pred=y_pred)\n",
    "\n",
    "print(\"Accuracy on test set: {:.2%}\".format(acc))"
   ]
  },
  {
   "cell_type": "markdown",
   "metadata": {},
   "source": [
    "# Security Evaluation"
   ]
  },
  {
   "cell_type": "code",
   "execution_count": null,
   "metadata": {},
   "outputs": [],
   "source": [
    "# Perturbation levels to test\n",
    "from secml.array import CArray\n",
    "e_vals = CArray.arange(start=0.5, step=0.5, stop=5.1)\n",
    "\n",
    "from secml.adv.seceval import CSecEval\n",
    "whitebox_seval = CSecEval(\n",
    "    attack=pgd_ls_attack, param_name='dmax', param_values=e_vals)\n",
    "\n",
    "# Run the security evaluation using the test set\n",
    "print(\"Running security evaluation...\")\n",
    "whitebox_seval.verbose = 1\n",
    "whitebox_seval.run_sec_eval(attack_ds, double_init=False)"
   ]
  },
  {
   "cell_type": "code",
   "execution_count": null,
   "metadata": {},
   "outputs": [],
   "source": [
    "%matplotlib inline"
   ]
  },
  {
   "cell_type": "code",
   "execution_count": null,
   "metadata": {},
   "outputs": [],
   "source": [
    "from secml.figure import CFigure\n",
    "fig = CFigure(height=8, width=10)\n",
    "\n",
    "sp1 = fig.subplot(2,1,1)\n",
    "# Convenience function for plotting the Security Evaluation Curve\n",
    "sp1.plot_sec_eval(\n",
    "    whitebox_seval.sec_eval_data, metric=CMetricAccuracyReject(),  marker='o', label='clf_rej', show_average=True)\n",
    "# Plot rejects\n",
    "sp2 = fig.subplot(2, 1, 2)\n",
    "sp2.plot(e_vals, y=rej_percentage(whitebox_seval), marker='o', label='clf_rej')\n",
    "sp2.xticks(e_vals)\n",
    "sp2.xlabel(\"dmax\")\n",
    "sp2.ylabel(\"% Reject\")\n",
    "sp2.legend()\n",
    "sp2.grid()"
   ]
  },
  {
   "cell_type": "markdown",
   "metadata": {},
   "source": [
    "## +++++++++++++\n",
    "# YOU ARE HERE!\n",
    "## +++++++++++++"
   ]
  },
  {
   "cell_type": "markdown",
   "metadata": {},
   "source": [
    "----"
   ]
  },
  {
   "cell_type": "markdown",
   "metadata": {},
   "source": [
    "# Test against multiple attacks"
   ]
  },
  {
   "cell_type": "markdown",
   "metadata": {},
   "source": [
    "Using `cleverhans` wrapper for multiple-attacks implementation"
   ]
  },
  {
   "cell_type": "code",
   "execution_count": null,
   "metadata": {},
   "outputs": [],
   "source": [
    "from cleverhans.attacks import CarliniWagnerL2, ProjectedGradientDescent, \\\n",
    "    MomentumIterativeMethod,FastGradientMethod"
   ]
  },
  {
   "cell_type": "code",
   "execution_count": null,
   "metadata": {},
   "outputs": [],
   "source": [
    "dmax = 3.0  # Maximum perturbation\n",
    "lb, ub = 0., 1.  # Bounds of the attack space. Can be set to `None` for unbounded\n",
    "y_target = None  # None if `error-generic` or a class label for `error-specific`"
   ]
  },
  {
   "cell_type": "code",
   "execution_count": null,
   "metadata": {},
   "outputs": [],
   "source": [
    "e_vals = CArray.arange(start=0., step=0.5, stop=5.1)"
   ]
  },
  {
   "cell_type": "code",
   "execution_count": null,
   "metadata": {},
   "outputs": [],
   "source": [
    "from collections import namedtuple\n",
    "Attack = namedtuple('Attack', 'attack_cls short_name attack_params')\n",
    "\n",
    "attacks = [\n",
    "    Attack(FastGradientMethod, 'FGM', {'eps': dmax,\n",
    "                                       'clip_max': ub,\n",
    "                                       'clip_min': lb,\n",
    "                                       'ord': 2}),\n",
    "    Attack(ProjectedGradientDescent, 'PGD', {'eps': dmax,\n",
    "                                             'eps_iter': 0.05,\n",
    "                                             'nb_iter': 100,\n",
    "                                             'clip_max': ub,\n",
    "                                             'clip_min': lb,\n",
    "                                             'ord': 2,\n",
    "                                             'rand_init': False}),\n",
    "    Attack(MomentumIterativeMethod, 'MIM', {'eps': dmax,\n",
    "                                            'eps_iter': 0.05,\n",
    "                                            'nb_iter': 100,\n",
    "                                            'clip_max': ub,\n",
    "                                            'clip_min': lb,\n",
    "                                            'ord': 2,\n",
    "                                            'decay_factor': 1}),\n",
    "#     Attack(CarliniWagnerL2, 'CW2', {'binary_search_steps': 1,\n",
    "#                                     'initial_const': 0.2,\n",
    "#                                     'confidence': 10,\n",
    "#                                     'abort_early': True,\n",
    "#                                     'clip_min': lb,\n",
    "#                                     'clip_max': ub,\n",
    "#                                     'max_iterations': 50,\n",
    "#                                     'learning_rate': 0.1})\n",
    "]"
   ]
  },
  {
   "cell_type": "markdown",
   "metadata": {},
   "source": [
    "Running attacks and compute evaluation curves"
   ]
  },
  {
   "cell_type": "code",
   "execution_count": null,
   "metadata": {},
   "outputs": [],
   "source": [
    "attack_ds = ts[:100, :]\n",
    "attack_ds"
   ]
  },
  {
   "cell_type": "code",
   "execution_count": null,
   "metadata": {},
   "outputs": [],
   "source": [
    "sec_eval_bkp = []"
   ]
  },
  {
   "cell_type": "code",
   "execution_count": null,
   "metadata": {},
   "outputs": [],
   "source": [
    "from secml.adv.attacks import CAttackEvasionCleverhans\n",
    "from secml.adv.seceval import CSecEval\n",
    "from secml.figure import CFigure\n",
    "%matplotlib inline\n",
    "\n",
    "fig = CFigure(5, 10)\n",
    "for i, attack in enumerate(attacks):\n",
    "    \n",
    "    # Instantiate `cleverhans_attack`\n",
    "    cleverhans_attack = CAttackEvasionCleverhans(\n",
    "            classifier=dnn,\n",
    "            surrogate_classifier=dnn,\n",
    "            surrogate_data=tr,\n",
    "            y_target=y_target,\n",
    "            clvh_attack_class=attack.attack_cls,\n",
    "            **attack.attack_params)\n",
    "    \n",
    "    # Run sec_eval\n",
    "    sec_eval = CSecEval(attack=cleverhans_attack, param_name='attack_params.eps', param_values=e_vals)\n",
    "    # Run the security evaluation using the test set\n",
    "    print(\"Running security evaluation for {} attack\".format(attack.short_name))\n",
    "    sec_eval.run_sec_eval(attack_ds)\n",
    "    \n",
    "    # Save a backup\n",
    "    sec_eval_bkp.append(sec_eval)\n",
    "    \n",
    "    # Plot\n",
    "    fig.sp.plot_sec_eval(sec_eval.sec_eval_data, marker='o', label=attack.short_name, show_average=True)\n",
    "\n",
    "fig.show()"
   ]
  },
  {
   "cell_type": "code",
   "execution_count": null,
   "metadata": {},
   "outputs": [],
   "source": []
  }
 ],
 "metadata": {
  "kernelspec": {
   "display_name": "secml",
   "language": "python",
   "name": "secml"
  },
  "language_info": {
   "codemirror_mode": {
    "name": "ipython",
    "version": 3
   },
   "file_extension": ".py",
   "mimetype": "text/x-python",
   "name": "python",
   "nbconvert_exporter": "python",
   "pygments_lexer": "ipython3",
   "version": "3.6.3"
  }
 },
 "nbformat": 4,
 "nbformat_minor": 4
}

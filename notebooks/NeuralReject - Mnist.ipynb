{
 "cells": [
  {
   "cell_type": "code",
   "execution_count": 1,
   "metadata": {},
   "outputs": [],
   "source": [
    "import setGPU"
   ]
  },
  {
   "cell_type": "code",
   "execution_count": 2,
   "metadata": {},
   "outputs": [],
   "source": [
    "random_state=999"
   ]
  },
  {
   "cell_type": "markdown",
   "metadata": {},
   "source": [
    "# Load data"
   ]
  },
  {
   "cell_type": "code",
   "execution_count": 3,
   "metadata": {},
   "outputs": [
    {
     "name": "stderr",
     "output_type": "stream",
     "text": [
      "/home/crecchi/anaconda3/lib/python3.6/site-packages/h5py/__init__.py:34: FutureWarning: Conversion of the second argument of issubdtype from `float` to `np.floating` is deprecated. In future, it will be treated as `np.float64 == np.dtype(float).type`.\n",
      "  from ._conv import register_converters as _register_converters\n"
     ]
    }
   ],
   "source": [
    "from secml.data.loader import CDataLoaderMNIST\n",
    "loader = CDataLoaderMNIST()\n",
    "tr = loader.load('training')\n",
    "ts = loader.load('testing')\n",
    "\n",
    "# Normalize the data\n",
    "tr.X /= 255\n",
    "ts.X /= 255"
   ]
  },
  {
   "cell_type": "code",
   "execution_count": 4,
   "metadata": {},
   "outputs": [
    {
     "data": {
      "text/plain": [
       "((60000, 784), (10000, 784))"
      ]
     },
     "execution_count": 4,
     "metadata": {},
     "output_type": "execute_result"
    }
   ],
   "source": [
    "tr.X.shape, ts.X.shape"
   ]
  },
  {
   "cell_type": "markdown",
   "metadata": {},
   "source": [
    "Split data into train-validation set (Stacked Generalization alike)"
   ]
  },
  {
   "cell_type": "code",
   "execution_count": 5,
   "metadata": {},
   "outputs": [],
   "source": [
    "from secml.data.splitter import CTrainTestSplit"
   ]
  },
  {
   "cell_type": "code",
   "execution_count": 6,
   "metadata": {},
   "outputs": [],
   "source": [
    "tr, vl = CTrainTestSplit(test_size=0.5, random_state=random_state).split(tr)"
   ]
  },
  {
   "cell_type": "code",
   "execution_count": 7,
   "metadata": {},
   "outputs": [
    {
     "data": {
      "text/plain": [
       "(30000, 30000)"
      ]
     },
     "execution_count": 7,
     "metadata": {},
     "output_type": "execute_result"
    }
   ],
   "source": [
    "tr.X.shape[0], vl.X.shape[0]"
   ]
  },
  {
   "cell_type": "markdown",
   "metadata": {},
   "source": [
    "# NN classifier"
   ]
  },
  {
   "cell_type": "code",
   "execution_count": 8,
   "metadata": {},
   "outputs": [],
   "source": [
    "import torch\n",
    "from torch import nn, optim"
   ]
  },
  {
   "cell_type": "code",
   "execution_count": 9,
   "metadata": {},
   "outputs": [],
   "source": [
    "class Flatten(nn.Module):\n",
    "    \"\"\"Layer custom per reshape del tensore\n",
    "    \"\"\"\n",
    "    def __init__(self):\n",
    "        super(Flatten, self).__init__()\n",
    "\n",
    "    def forward(self, x):\n",
    "        x = x.view(x.size(0), -1)\n",
    "        return x"
   ]
  },
  {
   "cell_type": "code",
   "execution_count": 10,
   "metadata": {},
   "outputs": [],
   "source": [
    "import torch\n",
    "from torch import nn\n",
    "\n",
    "class MNISTCNN(nn.Module):\n",
    "    \"\"\"Model with input size (-1, 28, 28) for MNIST 3-classes dataset.\"\"\"\n",
    "    def __init__(self):\n",
    "        super(MNISTCNN, self).__init__()\n",
    "        self.conv1 = nn.Conv2d(1, 32, kernel_size=3)\n",
    "        self.conv2 = nn.Conv2d(32, 32, kernel_size=3)\n",
    "        self.conv3 = nn.Conv2d(32, 64, kernel_size=3)\n",
    "        self.conv4 = nn.Conv2d(64, 64, kernel_size=3)\n",
    "        self.flat = Flatten()\n",
    "        self.fc1 = nn.Linear(1024, 200)\n",
    "        self.fc2 = nn.Linear(200, 200)\n",
    "        self.fc3 = nn.Linear(200, 10)\n",
    "\n",
    "    def forward(self, x):\n",
    "        # 1st block\n",
    "        x = torch.relu(self.conv1(x))\n",
    "        x = torch.relu(torch.max_pool2d(self.conv2(x), 2))\n",
    "        # 2nd block\n",
    "        x = torch.relu(self.conv3(x))\n",
    "        x = torch.relu(torch.max_pool2d(self.conv4(x), 2))\n",
    "        # Flatten\n",
    "        x = self.flat(x)\n",
    "        x = torch.relu(self.fc1(x))\n",
    "        x = torch.relu(self.fc2(x))\n",
    "        return self.fc3(x)"
   ]
  },
  {
   "cell_type": "code",
   "execution_count": 11,
   "metadata": {},
   "outputs": [],
   "source": [
    "# import numpy as np\n",
    "# import torch.autograd as autograd\n",
    "\n",
    "# def compute_out_size(in_size, mod):\n",
    "#     \"\"\"\n",
    "#     Compute output size of Module `mod` given an input with size `in_size`.\n",
    "#     \"\"\"\n",
    "    \n",
    "#     f = mod.forward(autograd.Variable(torch.Tensor(1, *in_size)))\n",
    "#     return int(np.prod(f.size()[1:]))"
   ]
  },
  {
   "cell_type": "code",
   "execution_count": 12,
   "metadata": {},
   "outputs": [],
   "source": [
    "net = MNISTCNN()\n",
    "# x = torch.Tensor(1, 28, 28) # shape = (batch size, channels, height, width)\n",
    "# print(compute_out_size(x.size(), net))"
   ]
  },
  {
   "cell_type": "code",
   "execution_count": 13,
   "metadata": {
    "scrolled": true
   },
   "outputs": [
    {
     "name": "stdout",
     "output_type": "stream",
     "text": [
      "torchsummary              1.5.1                    pypi_0    pypi\n"
     ]
    }
   ],
   "source": [
    "!conda list | grep summary"
   ]
  },
  {
   "cell_type": "code",
   "execution_count": 14,
   "metadata": {},
   "outputs": [],
   "source": [
    "from torchsummary import summary"
   ]
  },
  {
   "cell_type": "code",
   "execution_count": 15,
   "metadata": {},
   "outputs": [
    {
     "name": "stdout",
     "output_type": "stream",
     "text": [
      "----------------------------------------------------------------\n",
      "        Layer (type)               Output Shape         Param #\n",
      "================================================================\n",
      "            Conv2d-1           [-1, 32, 26, 26]             320\n",
      "            Conv2d-2           [-1, 32, 24, 24]           9,248\n",
      "            Conv2d-3           [-1, 64, 10, 10]          18,496\n",
      "            Conv2d-4             [-1, 64, 8, 8]          36,928\n",
      "           Flatten-5                 [-1, 1024]               0\n",
      "            Linear-6                  [-1, 200]         205,000\n",
      "            Linear-7                  [-1, 200]          40,200\n",
      "            Linear-8                   [-1, 10]           2,010\n",
      "================================================================\n",
      "Total params: 312,202\n",
      "Trainable params: 312,202\n",
      "Non-trainable params: 0\n",
      "----------------------------------------------------------------\n",
      "Input size (MB): 0.00\n",
      "Forward/backward pass size (MB): 0.40\n",
      "Params size (MB): 1.19\n",
      "Estimated Total Size (MB): 1.59\n",
      "----------------------------------------------------------------\n"
     ]
    }
   ],
   "source": [
    "device = torch.device('cuda' if torch.cuda.is_available() else 'cpu')\n",
    "net = net.to(device)\n",
    "summary(net, (1, 28, 28))"
   ]
  },
  {
   "cell_type": "markdown",
   "metadata": {},
   "source": [
    "### Wrap it"
   ]
  },
  {
   "cell_type": "code",
   "execution_count": 24,
   "metadata": {},
   "outputs": [],
   "source": [
    "from torch import optim\n",
    "\n",
    "# Random seed\n",
    "torch.manual_seed(0)\n",
    "\n",
    "net = MNISTCNN()\n",
    "criterion = nn.CrossEntropyLoss()\n",
    "optimizer = optim.SGD(net.parameters(),\n",
    "                      lr=0.01, momentum=0.9)\n",
    "\n",
    "from secml.ml.classifiers import CClassifierPyTorch\n",
    "dnn = CClassifierPyTorch(model=net,\n",
    "                         loss=criterion,\n",
    "                         optimizer=optimizer,\n",
    "                         epochs=25,\n",
    "                         batch_size=128,\n",
    "                         input_shape=(1, 28, 28),\n",
    "                         random_state=0)"
   ]
  },
  {
   "cell_type": "code",
   "execution_count": 25,
   "metadata": {},
   "outputs": [],
   "source": [
    "dnn.verbose = 1  # Can be used to display training process output"
   ]
  },
  {
   "cell_type": "code",
   "execution_count": 26,
   "metadata": {},
   "outputs": [
    {
     "name": "stdout",
     "output_type": "stream",
     "text": [
      "Training started...\n",
      "2020-05-18 09:59:03,416 - CClassifierPyTorch.0x7f40e5a7c470 - INFO - [epoch: 1] loss: 4.242\n",
      "2020-05-18 10:00:01,612 - CClassifierPyTorch.0x7f40e5a7c470 - INFO - [epoch: 11] loss: 0.033\n",
      "2020-05-18 10:01:09,252 - CClassifierPyTorch.0x7f40e5a7c470 - INFO - [epoch: 21] loss: 0.004\n",
      "Training completed!\n"
     ]
    }
   ],
   "source": [
    "print(\"Training started...\")\n",
    "dnn.fit(tr.X, tr.Y)\n",
    "print(\"Training completed!\")"
   ]
  },
  {
   "cell_type": "code",
   "execution_count": 30,
   "metadata": {},
   "outputs": [],
   "source": [
    "dnn.verbose = 0"
   ]
  },
  {
   "cell_type": "code",
   "execution_count": 31,
   "metadata": {},
   "outputs": [
    {
     "name": "stdout",
     "output_type": "stream",
     "text": [
      "CClassifierPyTorch{'classes': CArray(10,)(dense: [0 1 2 3 4 5 6 7 8 9]), 'n_features': 784, 'preprocess': None, 'n_jobs': 1, 'model': MNISTCNN(\n",
      "  (conv1): Conv2d(1, 32, kernel_size=(3, 3), stride=(1, 1))\n",
      "  (conv2): Conv2d(32, 32, kernel_size=(3, 3), stride=(1, 1))\n",
      "  (conv3): Conv2d(32, 64, kernel_size=(3, 3), stride=(1, 1))\n",
      "  (conv4): Conv2d(64, 64, kernel_size=(3, 3), stride=(1, 1))\n",
      "  (flat): Flatten()\n",
      "  (fc1): Linear(in_features=1024, out_features=200, bias=True)\n",
      "  (fc2): Linear(in_features=200, out_features=200, bias=True)\n",
      "  (fc3): Linear(in_features=200, out_features=10, bias=True)\n",
      "), 'trained': True, 'input_shape': (1, 28, 28), 'softmax_outputs': False, 'batch_size': 128, 'loss': CrossEntropyLoss(), 'optimizer': SGD (\n",
      "Parameter Group 0\n",
      "    dampening: 0\n",
      "    lr: 0.01\n",
      "    momentum: 0.9\n",
      "    nesterov: False\n",
      "    weight_decay: 0\n",
      "), 'optimizer_scheduler': None, 'epochs': 25}\n"
     ]
    }
   ],
   "source": [
    "print(dnn)"
   ]
  },
  {
   "cell_type": "code",
   "execution_count": 32,
   "metadata": {},
   "outputs": [
    {
     "name": "stdout",
     "output_type": "stream",
     "text": [
      "Model Accuracy: 0.9885\n"
     ]
    }
   ],
   "source": [
    "label_torch = dnn.predict(ts.X, return_decision_function=False)\n",
    "\n",
    "from secml.ml.peval.metrics import CMetric\n",
    "acc_torch = CMetric.create('accuracy').performance_score(ts.Y, label_torch)\n",
    "\n",
    "print(\"Model Accuracy: {}\".format(acc_torch))"
   ]
  },
  {
   "cell_type": "markdown",
   "metadata": {},
   "source": [
    "---"
   ]
  },
  {
   "cell_type": "markdown",
   "metadata": {},
   "source": [
    "# Generate Adversarial Samples"
   ]
  },
  {
   "cell_type": "code",
   "execution_count": 33,
   "metadata": {},
   "outputs": [
    {
     "name": "stdout",
     "output_type": "stream",
     "text": [
      "Attack started...\n",
      "Attack complete!\n"
     ]
    }
   ],
   "source": [
    "# For simplicity, let's attack a subset of the test set\n",
    "attack_ds = ts[:100, :]\n",
    "\n",
    "noise_type = 'l2'  # Type of perturbation 'l1' or 'l2'\n",
    "dmax = 3.0  # Maximum perturbation\n",
    "lb, ub = 0., 1.  # Bounds of the attack space. Can be set to `None` for unbounded\n",
    "y_target = None  # None if `error-generic` or a class label for `error-specific`\n",
    "\n",
    "# Should be chosen depending on the optimization problem\n",
    "solver_params = {\n",
    "    'eta': 0.5,\n",
    "    'eta_min': 2.0,\n",
    "    'eta_max': None,\n",
    "    'max_iter': 100,\n",
    "    'eps': 1e-6\n",
    "}\n",
    "\n",
    "from secml.adv.attacks import CAttackEvasionPGDLS\n",
    "pgd_ls_attack = CAttackEvasionPGDLS(classifier=dnn,\n",
    "                                    surrogate_classifier=dnn,\n",
    "                                    surrogate_data=tr,\n",
    "                                    distance=noise_type,\n",
    "                                    dmax=dmax,\n",
    "                                    solver_params=solver_params,\n",
    "                                    y_target=y_target)\n",
    "\n",
    "print(\"Attack started...\")\n",
    "eva_y_pred, _, eva_adv_ds, _ = pgd_ls_attack.run(\n",
    "    attack_ds.X, attack_ds.Y, double_init=True)\n",
    "print(\"Attack complete!\")"
   ]
  },
  {
   "cell_type": "code",
   "execution_count": 34,
   "metadata": {},
   "outputs": [
    {
     "data": {
      "text/plain": [
       "(100, 784)"
      ]
     },
     "execution_count": 34,
     "metadata": {},
     "output_type": "execute_result"
    }
   ],
   "source": [
    "attack_ds.X.shape"
   ]
  },
  {
   "cell_type": "code",
   "execution_count": 35,
   "metadata": {},
   "outputs": [
    {
     "name": "stdout",
     "output_type": "stream",
     "text": [
      "Accuracy on reduced test set before attack: 100.00%\n",
      "Accuracy on reduced test set after attack: 7.00%\n"
     ]
    }
   ],
   "source": [
    "from secml.ml.peval.metrics import CMetric\n",
    "metric = CMetric.create('accuracy')\n",
    "\n",
    "acc = metric.performance_score(\n",
    "    y_true=attack_ds.Y, y_pred=dnn.predict(attack_ds.X))\n",
    "acc_attack = metric.performance_score(\n",
    "    y_true=attack_ds.Y, y_pred=eva_y_pred)\n",
    "\n",
    "print(\"Accuracy on reduced test set before attack: {:.2%}\".format(acc))\n",
    "print(\"Accuracy on reduced test set after attack: {:.2%}\".format(acc_attack))"
   ]
  },
  {
   "cell_type": "markdown",
   "metadata": {},
   "source": [
    "---"
   ]
  },
  {
   "cell_type": "markdown",
   "metadata": {},
   "source": [
    "## Attack debug plots"
   ]
  },
  {
   "cell_type": "code",
   "execution_count": 40,
   "metadata": {},
   "outputs": [],
   "source": [
    "dbg = loader.load('testing', digits=(1,8))\n",
    "dbg.X /= 255."
   ]
  },
  {
   "cell_type": "code",
   "execution_count": 41,
   "metadata": {},
   "outputs": [
    {
     "data": {
      "text/plain": [
       "(CArray(1, 784)(dense: [[0. 0. 0. ... 0. 0. 0.]]), CArray(1,)(dense: [0]))"
      ]
     },
     "execution_count": 41,
     "metadata": {},
     "output_type": "execute_result"
    }
   ],
   "source": [
    "x0, y0 = dbg[0, :].X, dbg[0, :].Y\n",
    "x0, y0"
   ]
  },
  {
   "cell_type": "code",
   "execution_count": 42,
   "metadata": {},
   "outputs": [],
   "source": [
    "noise_type = 'l2'  # Type of perturbation 'l1' or 'l2'\n",
    "dmax = 3.0  # Maximum perturbation\n",
    "lb, ub = 0., 1.  # Bounds of the attack space. Can be set to `None` for unbounded\n",
    "y_target = 8 # CHANGED HERE FOR A TARGETED ATTACK! None if `error-generic` or a class label for `error-specific`\n",
    "\n",
    "# Should be chosen depending on the optimization problem\n",
    "solver_params = {\n",
    "    'eta': 0.5,\n",
    "    'eta_min': 2.0,\n",
    "    'eta_max': None,\n",
    "    'max_iter': 100,\n",
    "    'eps': 1e-6\n",
    "}\n",
    "\n",
    "from secml.adv.attacks import CAttackEvasionPGDLS\n",
    "pgd_ls_attack = CAttackEvasionPGDLS(classifier=dnn,\n",
    "                                    surrogate_classifier=dnn,\n",
    "                                    surrogate_data=tr,\n",
    "                                    distance=noise_type,\n",
    "                                    dmax=dmax,\n",
    "                                    solver_params=solver_params,\n",
    "                                    y_target=y_target)"
   ]
  },
  {
   "cell_type": "code",
   "execution_count": 43,
   "metadata": {},
   "outputs": [],
   "source": [
    "eva_y_pred, _, eva_adv_ds, _ = pgd_ls_attack.run(x0, y0, double_init=True)"
   ]
  },
  {
   "cell_type": "code",
   "execution_count": 44,
   "metadata": {},
   "outputs": [
    {
     "data": {
      "text/plain": [
       "CArray(1,)(dense: [8])"
      ]
     },
     "execution_count": 44,
     "metadata": {},
     "output_type": "execute_result"
    }
   ],
   "source": [
    "eva_y_pred "
   ]
  },
  {
   "cell_type": "markdown",
   "metadata": {},
   "source": [
    "Visualize adversarial sample"
   ]
  },
  {
   "cell_type": "code",
   "execution_count": 45,
   "metadata": {},
   "outputs": [],
   "source": [
    "from secml.figure import CFigure\n",
    "# Only required for visualization in notebooks\n",
    "%matplotlib inline\n",
    "\n",
    "# Let's define a convenience function to easily plot the MNIST dataset\n",
    "def show_digits(samples, preds, labels, digs, n_display=8):\n",
    "    samples = samples.atleast_2d()\n",
    "    n_display = min(n_display, samples.shape[0])\n",
    "    fig = CFigure(width=n_display*2, height=3)\n",
    "    for idx in range(n_display):\n",
    "        fig.subplot(2, n_display, idx+1)\n",
    "        fig.sp.xticks([])\n",
    "        fig.sp.yticks([])\n",
    "        fig.sp.imshow(samples[idx, :].reshape((28, 28)), cmap='gray')\n",
    "        fig.sp.title(\"{} ({})\".format(digits[labels[idx].item()], digs[preds[idx].item()]),\n",
    "                     color=(\"green\" if labels[idx].item()==preds[idx].item() else \"red\"))\n",
    "    fig.show()"
   ]
  },
  {
   "cell_type": "code",
   "execution_count": 46,
   "metadata": {},
   "outputs": [
    {
     "data": {
      "image/png": "[encoded data removed]",
      "text/plain": [
       "<Figure size 144x216 with 1 Axes>"
      ]
     },
     "metadata": {},
     "output_type": "display_data"
    },
    {
     "data": {
      "image/png": "[encoded data removed]",
      "text/plain": [
       "<Figure size 144x216 with 1 Axes>"
      ]
     },
     "metadata": {},
     "output_type": "display_data"
    }
   ],
   "source": [
    "digits = tuple(range(10))\n",
    "show_digits(x0, dnn.predict(x0), y0, digits)\n",
    "show_digits(eva_adv_ds.X, dnn.predict(eva_adv_ds.X), eva_adv_ds.Y, digits)"
   ]
  },
  {
   "cell_type": "code",
   "execution_count": 47,
   "metadata": {},
   "outputs": [
    {
     "data": {
      "text/plain": [
       "CArray(12,)(dense: [ 19.329091  13.296922   4.945312  -4.529959 -10.98631  -14.525495 -17.093864 -20.190557 -22.612732 -25.548998 -27.545806 -27.545806])"
      ]
     },
     "execution_count": 47,
     "metadata": {},
     "output_type": "execute_result"
    }
   ],
   "source": [
    "pgd_ls_attack.f_seq"
   ]
  },
  {
   "cell_type": "markdown",
   "metadata": {},
   "source": [
    "Plotting attack loss function:"
   ]
  },
  {
   "cell_type": "code",
   "execution_count": 48,
   "metadata": {},
   "outputs": [
    {
     "data": {
      "text/plain": [
       "<matplotlib.legend.Legend at 0x7f40200c1b00>"
      ]
     },
     "execution_count": 48,
     "metadata": {},
     "output_type": "execute_result"
    },
    {
     "data": {
      "image/png": "[encoded data removed]",
      "text/plain": [
       "<Figure size 720x360 with 1 Axes>"
      ]
     },
     "metadata": {},
     "output_type": "display_data"
    }
   ],
   "source": [
    "from secml.figure import CFigure\n",
    "fig = CFigure(height=5, width=10)\n",
    "\n",
    "# Convenience function for plotting the Security Evaluation Curve\n",
    "fig.sp.plot(pgd_ls_attack._f_seq, marker='o', label='PGD-LS')\n",
    "fig.sp.grid()\n",
    "fig.sp.xticks(range(pgd_ls_attack._f_seq.shape[0]))\n",
    "fig.sp.xlabel('Iteration')\n",
    "fig.sp.ylabel('Loss')\n",
    "fig.sp.legend()"
   ]
  },
  {
   "cell_type": "markdown",
   "metadata": {},
   "source": [
    "Plotting classifier confidence during attack:"
   ]
  },
  {
   "cell_type": "code",
   "execution_count": 49,
   "metadata": {},
   "outputs": [
    {
     "data": {
      "text/plain": [
       "CArray(12, 784)(dense: [[0.000000e+00 0.000000e+00 0.000000e+00 ... 0.000000e+00 0.000000e+00  0.000000e+00] [0.000000e+00 0.000000e+00 0.000000e+00 ... 0.000000e+00 0.000000e+00  0.000000e+00] [0.000000e+00 0.000000e+00 0.000000e+00 ... 2.585483e-05 1.420379e-05  3.196059e-06] ... [0.000000e+00 0.000000e+00 0.000000e+00 ... 1.156611e-07 2.744839e-06  6.841699e-07] [0.000000e+00 0.000000e+00 0.000000e+00 ... 1.156611e-07 6.653579e-07  7.344744e-08] [0.000000e+00 0.000000e+00 0.000000e+00 ... 1.156611e-07 6.653579e-07  7.344744e-08]])"
      ]
     },
     "execution_count": 49,
     "metadata": {},
     "output_type": "execute_result"
    }
   ],
   "source": [
    "pgd_ls_attack.x_seq"
   ]
  },
  {
   "cell_type": "code",
   "execution_count": 51,
   "metadata": {},
   "outputs": [],
   "source": [
    "one_score, eight_score = [], []\n",
    "\n",
    "for i in range(pgd_ls_attack.x_seq.shape[0]):\n",
    "    s = dnn.decision_function(pgd_ls_attack.x_seq[i,:])\n",
    "    one_score.append(s[1].item())\n",
    "    eight_score.append(s[8].item())"
   ]
  },
  {
   "cell_type": "code",
   "execution_count": 53,
   "metadata": {},
   "outputs": [
    {
     "data": {
      "text/plain": [
       "<matplotlib.legend.Legend at 0x7f4000759a58>"
      ]
     },
     "execution_count": 53,
     "metadata": {},
     "output_type": "execute_result"
    },
    {
     "data": {
      "image/png": "[encoded data removed]",
      "text/plain": [
       "<Figure size 720x360 with 1 Axes>"
      ]
     },
     "metadata": {},
     "output_type": "display_data"
    }
   ],
   "source": [
    "from secml.figure import CFigure\n",
    "fig = CFigure(height=5, width=10)\n",
    "\n",
    "# Convenience function for plotting the Security Evaluation Curve\n",
    "fig.sp.plot(one_score, marker='o', label='1')\n",
    "fig.sp.plot(eight_score, marker='o', label='8')\n",
    "fig.sp.grid()\n",
    "fig.sp.xticks(range(pgd_ls_attack.x_seq.shape[0]))\n",
    "fig.sp.xlabel('Iteration')\n",
    "fig.sp.ylabel('Confidence')\n",
    "fig.sp.legend()"
   ]
  },
  {
   "cell_type": "markdown",
   "metadata": {},
   "source": [
    "---"
   ]
  },
  {
   "cell_type": "markdown",
   "metadata": {},
   "source": [
    "# Security evaluation of a classifier"
   ]
  },
  {
   "cell_type": "code",
   "execution_count": 54,
   "metadata": {},
   "outputs": [],
   "source": [
    "# For simplicity, let's attack a subset of the test set\n",
    "attack_ds = ts[:100, :]\n",
    "\n",
    "noise_type = 'l2'  # Type of perturbation 'l1' or 'l2'\n",
    "dmax = 3.0  # Maximum perturbation\n",
    "lb, ub = 0., 1.  # Bounds of the attack space. Can be set to `None` for unbounded\n",
    "y_target = None  # None if `error-generic` or a class label for `error-specific`\n",
    "\n",
    "# Should be chosen depending on the optimization problem\n",
    "solver_params = {\n",
    "    'eta': 0.5,\n",
    "    'eta_min': 2.0,\n",
    "    'eta_max': None,\n",
    "    'max_iter': 100,\n",
    "    'eps': 1e-6\n",
    "}\n",
    "\n",
    "from secml.adv.attacks import CAttackEvasionPGDLS\n",
    "pgd_ls_attack = CAttackEvasionPGDLS(classifier=dnn,\n",
    "                                    surrogate_classifier=dnn,\n",
    "                                    surrogate_data=tr,\n",
    "                                    distance=noise_type,\n",
    "                                    dmax=dmax,\n",
    "                                    solver_params=solver_params,\n",
    "                                    y_target=y_target)"
   ]
  },
  {
   "cell_type": "code",
   "execution_count": 56,
   "metadata": {},
   "outputs": [
    {
     "name": "stdout",
     "output_type": "stream",
     "text": [
      "Running security evaluation...\n"
     ]
    }
   ],
   "source": [
    "# Perturbation levels to test\n",
    "from secml.array import CArray\n",
    "e_vals = CArray.arange(start=0, step=0.5, stop=5.1)\n",
    "\n",
    "from secml.adv.seceval import CSecEval\n",
    "dnn_seval = CSecEval(\n",
    "    attack=pgd_ls_attack, param_name='dmax', param_values=e_vals)\n",
    "\n",
    "# Run the security evaluation using the test set\n",
    "print(\"Running security evaluation...\")\n",
    "dnn_seval.run_sec_eval(attack_ds, double_init=False)"
   ]
  },
  {
   "cell_type": "code",
   "execution_count": 57,
   "metadata": {},
   "outputs": [],
   "source": [
    "# Only required for visualization in notebooks\n",
    "%matplotlib inline"
   ]
  },
  {
   "cell_type": "code",
   "execution_count": 58,
   "metadata": {},
   "outputs": [
    {
     "data": {
      "image/png": "[encoded data removed]",
      "text/plain": [
       "<Figure size 360x360 with 1 Axes>"
      ]
     },
     "metadata": {},
     "output_type": "display_data"
    }
   ],
   "source": [
    "from secml.figure import CFigure\n",
    "fig = CFigure(height=5, width=5)\n",
    "\n",
    "# Convenience function for plotting the Security Evaluation Curve\n",
    "fig.sp.plot_sec_eval(\n",
    "    dnn_seval.sec_eval_data, marker='o', label='DNN', show_average=True)"
   ]
  },
  {
   "cell_type": "markdown",
   "metadata": {},
   "source": [
    "---"
   ]
  },
  {
   "cell_type": "markdown",
   "metadata": {},
   "source": [
    "# Build detector"
   ]
  },
  {
   "cell_type": "code",
   "execution_count": 59,
   "metadata": {},
   "outputs": [],
   "source": [
    "from secml.ml.features import CNormalizerDNN, CNormalizerMinMax"
   ]
  },
  {
   "cell_type": "code",
   "execution_count": 60,
   "metadata": {},
   "outputs": [],
   "source": [
    "feat_extr = CNormalizerDNN(dnn)\n",
    "nmz = CNormalizerMinMax(preprocess=feat_extr)"
   ]
  },
  {
   "cell_type": "code",
   "execution_count": 61,
   "metadata": {
    "scrolled": true
   },
   "outputs": [],
   "source": [
    "# Creation of the multiclass classifier\n",
    "from secml.ml.classifiers import CClassifierSVM\n",
    "from secml.ml.classifiers.multiclass import CClassifierMulticlassOVA\n",
    "from secml.ml.kernels import CKernelRBF\n",
    "clf = CClassifierMulticlassOVA(CClassifierSVM, kernel=CKernelRBF())"
   ]
  },
  {
   "cell_type": "code",
   "execution_count": 62,
   "metadata": {},
   "outputs": [
    {
     "data": {
      "text/plain": [
       "0.0"
      ]
     },
     "execution_count": 62,
     "metadata": {},
     "output_type": "execute_result"
    }
   ],
   "source": [
    "from secml.ml.classifiers.reject import CClassifierRejectThreshold\n",
    "\n",
    "clf_rej = CClassifierRejectThreshold(clf, 0., preprocess=nmz)\n",
    "clf_rej.threshold"
   ]
  },
  {
   "cell_type": "code",
   "execution_count": null,
   "metadata": {
    "scrolled": true
   },
   "outputs": [],
   "source": [
    "# # Parameters for the Cross-Validation procedure\n",
    "# xval_params = {'C': [1e-3, 1e-2, 1e-1, 1, 100, 1000],\n",
    "#                'kernel.gamma': [0.01, 0.1, 1, 10, 100, 1e3]}\n",
    "\n",
    "# # Let's create a 3-Fold data splittera\n",
    "# from secml.data.splitter import CDataSplitterKFold\n",
    "# xval_splitter = CDataSplitterKFold(num_folds=3, random_state=random_state)\n",
    "\n",
    "# # Select and set the best training parameters for the classifier\n",
    "# clf.verbose = 1\n",
    "\n",
    "# print(\"Estimating the best training parameters...\")\n",
    "# best_params = clf.estimate_parameters(\n",
    "#     dataset=vl,\n",
    "#     parameters=xval_params,\n",
    "#     splitter=xval_splitter,\n",
    "#     metric='accuracy',\n",
    "#     perf_evaluator='xval'\n",
    "# )\n",
    "\n",
    "# print(\"The best training parameters are: \",\n",
    "#       [(k, best_params[k]) for k in sorted(best_params)])"
   ]
  },
  {
   "cell_type": "markdown",
   "metadata": {},
   "source": [
    "```\n",
    "2020-04-23 01:51:40,547 - CPerfEvaluatorXVal.0x7fd634a060f0 - INFO - Params: {'C': 0.001, 'kernel.gamma': 0.01} - Score: 0.8311666666666667\n",
    "2020-04-23 01:59:22,610 - CPerfEvaluatorXVal.0x7fd634a060f0 - INFO - Params: {'C': 0.001, 'kernel.gamma': 100} - Score: 0.11469999999999998\n",
    "2020-04-23 02:08:07,422 - CPerfEvaluatorXVal.0x7fd634a060f0 - INFO - Params: {'C': 0.001, 'kernel.gamma': 10} - Score: 0.11469999999999998\n",
    "2020-04-23 02:17:38,356 - CPerfEvaluatorXVal.0x7fd634a060f0 - INFO - Params: {'C': 0.001, 'kernel.gamma': 1} - Score: 0.4180333333333333\n",
    "2020-04-23 02:25:25,741 - CPerfEvaluatorXVal.0x7fd634a060f0 - INFO - Params: {'C': 0.001, 'kernel.gamma': 0.1} - Score: 0.9117666666666665\n",
    "2020-04-23 02:33:14,711 - CPerfEvaluatorXVal.0x7fd634a060f0 - INFO - Params: {'C': 0.001, 'kernel.gamma': 1000.0} - Score: 0.11469999999999998\n",
    "2020-04-23 02:44:10,367 - CPerfEvaluatorXVal.0x7fd634a060f0 - INFO - Params: {'C': 0.01, 'kernel.gamma': 1000.0} - Score: 0.11469999999999998\n",
    "2020-04-23 02:54:05,870 - CPerfEvaluatorXVal.0x7fd634a060f0 - INFO - Params: {'C': 0.01, 'kernel.gamma': 0.1} - Score: 0.9039\n",
    "2020-04-23 03:06:37,810 - CPerfEvaluatorXVal.0x7fd634a060f0 - INFO - Params: {'C': 0.01, 'kernel.gamma': 10} - Score: 0.11469999999999998\n",
    "2020-04-23 03:17:39,292 - CPerfEvaluatorXVal.0x7fd634a060f0 - INFO - Params: {'C': 0.01, 'kernel.gamma': 100} - Score: 0.11469999999999998\n",
    "2020-04-23 03:25:25,934 - CPerfEvaluatorXVal.0x7fd634a060f0 - INFO - Params: {'C': 0.01, 'kernel.gamma': 0.01} - Score: 0.8483999999999999\n",
    "2020-04-23 03:41:11,666 - CPerfEvaluatorXVal.0x7fd634a060f0 - INFO - Params: {'C': 0.01, 'kernel.gamma': 1} - Score: 0.11503333333333332\n",
    "2020-04-23 03:55:46,669 - CPerfEvaluatorXVal.0x7fd634a060f0 - INFO - Params: {'C': 0.1, 'kernel.gamma': 10} - Score: 0.11469999999999998\n",
    "2020-04-23 04:03:12,047 - CPerfEvaluatorXVal.0x7fd634a060f0 - INFO - Params: {'C': 0.1, 'kernel.gamma': 0.01} - Score: 0.9280666666666667\n",
    "2020-04-23 04:23:47,074 - CPerfEvaluatorXVal.0x7fd634a060f0 - INFO - Params: {'C': 0.1, 'kernel.gamma': 1} - Score: 0.11503333333333332\n",
    "2020-04-23 04:36:22,159 - CPerfEvaluatorXVal.0x7fd634a060f0 - INFO - Params: {'C': 0.1, 'kernel.gamma': 1000.0} - Score: 0.11469999999999998\n",
    "2020-04-23 04:47:28,594 - CPerfEvaluatorXVal.0x7fd634a060f0 - INFO - Params: {'C': 0.1, 'kernel.gamma': 0.1} - Score: 0.9327333333333333\n",
    "2020-04-23 04:59:59,025 - CPerfEvaluatorXVal.0x7fd634a060f0 - INFO - Params: {'C': 0.1, 'kernel.gamma': 100} - Score: 0.11469999999999998\n",
    "2020-04-23 05:24:33,435 - CPerfEvaluatorXVal.0x7fd634a060f0 - INFO - Params: {'C': 1, 'kernel.gamma': 1} - Score: 0.1151\n",
    "2020-04-23 05:39:00,475 - CPerfEvaluatorXVal.0x7fd634a060f0 - INFO - Params: {'C': 1, 'kernel.gamma': 1000.0} - Score: 0.11469999999999998\n",
    "2020-04-23 05:53:18,707 - CPerfEvaluatorXVal.0x7fd634a060f0 - INFO - Params: {'C': 1, 'kernel.gamma': 100} - Score: 0.11469999999999998\n",
    "2020-04-23 06:05:36,381 - CPerfEvaluatorXVal.0x7fd634a060f0 - INFO - Params: {'C': 1, 'kernel.gamma': 0.1} - Score: 0.9501666666666667\n",
    "2020-04-23 06:22:15,714 - CPerfEvaluatorXVal.0x7fd634a060f0 - INFO - Params: {'C': 1, 'kernel.gamma': 10} - Score: 0.11469999999999998\n",
    "2020-04-23 06:29:36,250 - CPerfEvaluatorXVal.0x7fd634a060f0 - INFO - Params: {'C': 1, 'kernel.gamma': 0.01} - Score: 0.9636333333333335\n",
    "2020-04-23 06:36:53,541 - CPerfEvaluatorXVal.0x7fd634a060f0 - INFO - Params: {'C': 100, 'kernel.gamma': 0.01} - Score: 0.9743666666666666\n",
    "2020-04-23 07:05:33,225 - CPerfEvaluatorXVal.0x7fd634a060f0 - INFO - Params: {'C': 100, 'kernel.gamma': 1} - Score: 0.1983\n",
    "2020-04-23 07:21:10,161 - CPerfEvaluatorXVal.0x7fd634a060f0 - INFO - Params: {'C': 100, 'kernel.gamma': 100} - Score: 0.11469999999999998\n",
    "2020-04-23 07:33:34,865 - CPerfEvaluatorXVal.0x7fd634a060f0 - INFO - Params: {'C': 100, 'kernel.gamma': 0.1} - Score: 0.956\n",
    "2020-04-23 07:51:44,475 - CPerfEvaluatorXVal.0x7fd634a060f0 - INFO - Params: {'C': 100, 'kernel.gamma': 10} - Score: 0.11469999999999998\n",
    "2020-04-23 08:07:22,295 - CPerfEvaluatorXVal.0x7fd634a060f0 - INFO - Params: {'C': 100, 'kernel.gamma': 1000.0} - Score: 0.11469999999999998\n",
    "2020-04-23 08:36:06,580 - CPerfEvaluatorXVal.0x7fd634a060f0 - INFO - Params: {'C': 1000, 'kernel.gamma': 1} - Score: 0.1983\n",
    "2020-04-23 08:54:15,081 - CPerfEvaluatorXVal.0x7fd634a060f0 - INFO - Params: {'C': 1000, 'kernel.gamma': 10} - Score: 0.11469999999999998\n",
    "2020-04-23 09:06:46,047 - CPerfEvaluatorXVal.0x7fd634a060f0 - INFO - Params: {'C': 1000, 'kernel.gamma': 0.1} - Score: 0.956\n",
    "2020-04-23 09:14:02,519 - CPerfEvaluatorXVal.0x7fd634a060f0 - INFO - Params: {'C': 1000, 'kernel.gamma': 0.01} - Score: 0.9743666666666666\n",
    "2020-04-23 09:29:32,558 - CPerfEvaluatorXVal.0x7fd634a060f0 - INFO - Params: {'C': 1000, 'kernel.gamma': 100} - Score: 0.11469999999999998\n",
    "2020-04-23 09:45:06,326 - CPerfEvaluatorXVal.0x7fd634a060f0 - INFO - Params: {'C': 1000, 'kernel.gamma': 1000.0} - Score: 0.11469999999999998\n",
    "\n",
    "2020-04-23 09:45:06,355 - CPerfEvaluatorXVal.0x7fd634a060f0 - INFO - Best params: {'C': 100, 'kernel.gamma': 0.01} - Value: CArray([0.974367])\n",
    "The best training parameters are:  [('C', 100), ('kernel.gamma', 0.01)]\n",
    "```"
   ]
  },
  {
   "cell_type": "code",
   "execution_count": 63,
   "metadata": {},
   "outputs": [],
   "source": [
    "# Setting properties \n",
    "clf.classifier.C = 100\n",
    "clf.classifier.kernel = CKernelRBF(gamma=0.01)"
   ]
  },
  {
   "cell_type": "code",
   "execution_count": 65,
   "metadata": {},
   "outputs": [
    {
     "data": {
      "text/plain": [
       "CClassifierRejectThreshold{'clf': CClassifierMulticlassOVA{'classes': CArray(10,)(dense: [0 1 2 3 4 5 6 7 8 9]), 'n_features': 10, 'preprocess': None, 'n_jobs': 1}, 'threshold': 0.0, 'classes': CArray(10,)(dense: [0 1 2 3 4 5 6 7 8 9]), 'n_features': 784, 'preprocess': CNormalizerMinMax{'feature_range': (0.0, 1.0), 'min': CArray(10,)(dense: [-37.147141 -24.36726  -34.835938 -19.329153 -21.249975 -25.540279 -40.491932 -33.224606 -18.904932 -40.296906]), 'max': CArray(10,)(dense: [44.910522 32.239548 54.573338 75.532875 54.316364 59.061874 56.493252 42.053253 59.254612 50.628551]), 'm': CArray(10,)(dense: [0.012187 0.017666 0.011185 0.010542 0.013233 0.01182  0.010311 0.013284 0.012794 0.010998]), 'q': CArray(10,)(dense: [0.452696 0.430465 0.389623 0.203761 0.28121  0.301887 0.417506 0.44136 0.241876 0.443186]), 'preprocess': CNormalizerDNN{'net': CClassifierPyTorch{'classes': CArray(10,)(dense: [0 1 2 3 4 5 6 7 8 9]), 'n_features': 784, 'preprocess': None, 'n_jobs': 1, 'model': MNISTCNN(\n",
       "  (conv1): Conv2d(1, 32, kernel_size=(3, 3), stride=(1, 1))\n",
       "  (conv2): Conv2d(32, 32, kernel_size=(3, 3), stride=(1, 1))\n",
       "  (conv3): Conv2d(32, 64, kernel_size=(3, 3), stride=(1, 1))\n",
       "  (conv4): Conv2d(64, 64, kernel_size=(3, 3), stride=(1, 1))\n",
       "  (flat): Flatten()\n",
       "  (fc1): Linear(in_features=1024, out_features=200, bias=True)\n",
       "  (fc2): Linear(in_features=200, out_features=200, bias=True)\n",
       "  (fc3): Linear(in_features=200, out_features=10, bias=True)\n",
       "), 'trained': True, 'input_shape': (1, 28, 28), 'softmax_outputs': False, 'batch_size': 128, 'loss': CrossEntropyLoss(), 'optimizer': SGD (\n",
       "Parameter Group 0\n",
       "    dampening: 0\n",
       "    lr: 0.01\n",
       "    momentum: 0.9\n",
       "    nesterov: False\n",
       "    weight_decay: 0\n",
       "), 'optimizer_scheduler': None, 'epochs': 25}, 'out_layer': None, 'preprocess': None, 'n_jobs': 1}, 'n_jobs': 1}, 'n_jobs': 1}"
      ]
     },
     "execution_count": 65,
     "metadata": {},
     "output_type": "execute_result"
    }
   ],
   "source": [
    "# We can now fit the classifier\n",
    "clf_rej.fit(vl.X, vl.Y)"
   ]
  },
  {
   "cell_type": "markdown",
   "metadata": {},
   "source": [
    "Set the `threshold` to have around 10% of false positives"
   ]
  },
  {
   "cell_type": "code",
   "execution_count": 66,
   "metadata": {},
   "outputs": [],
   "source": [
    "clf_rej.threshold = 1.0"
   ]
  },
  {
   "cell_type": "code",
   "execution_count": 142,
   "metadata": {},
   "outputs": [
    {
     "name": "stdout",
     "output_type": "stream",
     "text": [
      "Accuracy on training set: 99.78%\n"
     ]
    }
   ],
   "source": [
    "# Compute predictions on a test set\n",
    "y_pred = clf_rej.predict(vl.X)\n",
    "\n",
    "# Evaluate the accuracy of the classifier\n",
    "acc = metric.performance_score(y_true=vl.Y, y_pred=y_pred)\n",
    "\n",
    "print(\"Accuracy on training set: {:.2%}\".format(acc))"
   ]
  },
  {
   "cell_type": "code",
   "execution_count": 143,
   "metadata": {},
   "outputs": [
    {
     "data": {
      "text/plain": [
       "0.0971"
      ]
     },
     "execution_count": 143,
     "metadata": {},
     "output_type": "execute_result"
    }
   ],
   "source": [
    "fpr = (y_pred < 0).sum() / y_pred.shape[0]\n",
    "fpr"
   ]
  },
  {
   "cell_type": "code",
   "execution_count": 144,
   "metadata": {},
   "outputs": [
    {
     "name": "stdout",
     "output_type": "stream",
     "text": [
      "Accuracy on test set: 99.83%\n"
     ]
    }
   ],
   "source": [
    "# Compute predictions on a test set\n",
    "y_pred = clf_rej.predict(ts.X)\n",
    "\n",
    "# Evaluate the accuracy of the classifier\n",
    "acc = metric.performance_score(y_true=ts.Y, y_pred=y_pred)\n",
    "\n",
    "print(\"Accuracy on test set: {:.2%}\".format(acc))"
   ]
  },
  {
   "cell_type": "markdown",
   "metadata": {},
   "source": [
    "# Test it against BB adversarial samples"
   ]
  },
  {
   "cell_type": "code",
   "execution_count": 126,
   "metadata": {},
   "outputs": [],
   "source": [
    "# For simplicity, let's attack a subset of the test set\n",
    "attack_ds = ts[:100, :]\n",
    "\n",
    "noise_type = 'l2'  # Type of perturbation 'l1' or 'l2'\n",
    "dmax = 3.0  # Maximum perturbation\n",
    "lb, ub = 0., 1.  # Bounds of the attack space. Can be set to `None` for unbounded\n",
    "y_target = None  # None if `error-generic` or a class label for `error-specific`\n",
    "\n",
    "# Should be chosen depending on the optimization problem\n",
    "solver_params = {\n",
    "    'eta': 0.5,\n",
    "    'eta_min': 2.0,\n",
    "    'eta_max': None,\n",
    "    'max_iter': 100,\n",
    "    'eps': 1e-6\n",
    "}\n",
    "\n",
    "from secml.adv.attacks import CAttackEvasionPGDLS\n",
    "pgd_ls_attack = CAttackEvasionPGDLS(classifier=clf_rej,\n",
    "                                    surrogate_classifier=dnn,\n",
    "                                    surrogate_data=tr,\n",
    "                                    distance=noise_type,\n",
    "                                    dmax=dmax,\n",
    "                                    solver_params=solver_params,\n",
    "                                    y_target=y_target)"
   ]
  },
  {
   "cell_type": "code",
   "execution_count": 127,
   "metadata": {},
   "outputs": [
    {
     "name": "stdout",
     "output_type": "stream",
     "text": [
      "Attack started...\n",
      "Attack complete!\n"
     ]
    }
   ],
   "source": [
    "print(\"Attack started...\")\n",
    "eva_y_pred, _, eva_adv_ds, _ = pgd_ls_attack.run(\n",
    "    attack_ds.X, attack_ds.Y, double_init=True)\n",
    "print(\"Attack complete!\")"
   ]
  },
  {
   "cell_type": "code",
   "execution_count": 128,
   "metadata": {},
   "outputs": [],
   "source": [
    "from secml.array import CArray\n",
    "from secml.ml.peval.metrics import CMetric, CMetricAccuracy\n",
    "\n",
    "\n",
    "class CMetricAccuracyReject(CMetric):\n",
    "    \"\"\"Performance evaluation metric: Accuracy.\n",
    "\n",
    "    Accuracy score is the percentage (inside 0/1 range)\n",
    "    of correctly predicted labels. Rejected samples are\n",
    "    considered as a correct prediction.\n",
    "\n",
    "    The metric uses:\n",
    "     - y_true (true ground labels)\n",
    "     - y_pred (predicted labels)\n",
    "\n",
    "    Attributes\n",
    "    ----------\n",
    "    class_type : 'accuracy-rej'\n",
    "\n",
    "    \"\"\"\n",
    "    __class_type = 'accuracy-rej'\n",
    "    best_value = 1.0\n",
    "\n",
    "    def _performance_score(self, y_true, y_pred):\n",
    "        \"\"\"Computes the Accuracy score.\n",
    "\n",
    "        Parameters\n",
    "        ----------\n",
    "        y_true : CArray\n",
    "            Ground truth (true) labels or target scores.\n",
    "        y_pred : CArray\n",
    "            Predicted labels, as returned by a CClassifier.\n",
    "\n",
    "        Returns\n",
    "        -------\n",
    "        metric : float\n",
    "            Returns metric value as float.\n",
    "\n",
    "        \"\"\"\n",
    "        acc_metric = CMetricAccuracy()\n",
    "\n",
    "        # rejected samples are considered as correct predictions\n",
    "        is_rej = y_pred == -1\n",
    "        y_true_mod = y_true.deepcopy()\n",
    "        y_true_mod[is_rej] = -1\n",
    "\n",
    "        # check the classifier accuracy\n",
    "        acc = acc_metric.performance_score(y_true=y_true_mod, y_pred=y_pred)\n",
    "\n",
    "        return acc"
   ]
  },
  {
   "cell_type": "code",
   "execution_count": 129,
   "metadata": {},
   "outputs": [],
   "source": [
    "# metric = CMetricAccuracy()\n",
    "metric = CMetricAccuracyReject()"
   ]
  },
  {
   "cell_type": "code",
   "execution_count": 130,
   "metadata": {},
   "outputs": [
    {
     "name": "stdout",
     "output_type": "stream",
     "text": [
      "Accuracy on test set: 47.00%\n"
     ]
    }
   ],
   "source": [
    "# Compute predictions on a test set\n",
    "y_pred = clf_rej.predict(eva_adv_ds.X)\n",
    "\n",
    "# Evaluate the accuracy of the classifier\n",
    "acc = metric.performance_score(y_true=eva_adv_ds.Y, y_pred=y_pred)\n",
    "\n",
    "print(\"Accuracy on test set: {:.2%}\".format(acc))"
   ]
  },
  {
   "cell_type": "markdown",
   "metadata": {},
   "source": [
    "# Security Evaluation"
   ]
  },
  {
   "cell_type": "code",
   "execution_count": 131,
   "metadata": {},
   "outputs": [
    {
     "data": {
      "text/plain": [
       "CDataset{'X': CArray(100, 784)(dense: [[0. 0. 0. ... 0. 0. 0.] [0. 0. 0. ... 0. 0. 0.] [0. 0. 0. ... 0. 0. 0.] ... [0. 0. 0. ... 0. 0. 0.] [0. 0. 0. ... 0. 0. 0.] [0. 0. 0. ... 0. 0. 0.]]), 'Y': CArray(100,)(dense: [7 2 1 ... 7 6 9]), 'header': CDatasetHeader{'num_samples': None, 'img_w': 28, 'img_h': 28, 'y_original': (0, 1, 2, 3, 4, 5, 6, 7, 8, 9)}}"
      ]
     },
     "execution_count": 131,
     "metadata": {},
     "output_type": "execute_result"
    }
   ],
   "source": [
    "attack_ds"
   ]
  },
  {
   "cell_type": "code",
   "execution_count": 132,
   "metadata": {},
   "outputs": [
    {
     "name": "stdout",
     "output_type": "stream",
     "text": [
      "Running security evaluation...\n",
      "2020-05-19 17:31:33,792 - CSecEval.0x7f3fd42a20f0 - INFO - Attack with dmax = 0.5\n",
      "2020-05-19 17:31:42,602 - CSecEval.0x7f3fd42a20f0 - INFO - Attack with dmax = 1.0\n",
      "2020-05-19 17:31:51,717 - CSecEval.0x7f3fd42a20f0 - INFO - Attack with dmax = 1.5\n",
      "2020-05-19 17:31:59,533 - CSecEval.0x7f3fd42a20f0 - INFO - Attack with dmax = 2.0\n",
      "2020-05-19 17:32:05,110 - CSecEval.0x7f3fd42a20f0 - INFO - Attack with dmax = 2.5\n",
      "2020-05-19 17:32:11,137 - CSecEval.0x7f3fd42a20f0 - INFO - Attack with dmax = 3.0\n",
      "2020-05-19 17:32:17,277 - CSecEval.0x7f3fd42a20f0 - INFO - Attack with dmax = 3.5\n",
      "2020-05-19 17:32:23,266 - CSecEval.0x7f3fd42a20f0 - INFO - Attack with dmax = 4.0\n",
      "2020-05-19 17:32:29,952 - CSecEval.0x7f3fd42a20f0 - INFO - Attack with dmax = 4.5\n",
      "2020-05-19 17:32:37,182 - CSecEval.0x7f3fd42a20f0 - INFO - Attack with dmax = 5.0\n"
     ]
    }
   ],
   "source": [
    "# Perturbation levels to test\n",
    "from secml.array import CArray\n",
    "e_vals = CArray.arange(start=0.5, step=0.5, stop=5.1)\n",
    "\n",
    "from secml.adv.seceval import CSecEval\n",
    "tranfer_seval = CSecEval(\n",
    "    attack=pgd_ls_attack, param_name='dmax', param_values=e_vals)\n",
    "\n",
    "# Run the security evaluation using the test set\n",
    "print(\"Running security evaluation...\")\n",
    "tranfer_seval.verbose = 1\n",
    "tranfer_seval.run_sec_eval(attack_ds, double_init=False)"
   ]
  },
  {
   "cell_type": "markdown",
   "metadata": {},
   "source": [
    "Compute reject percentage"
   ]
  },
  {
   "cell_type": "code",
   "execution_count": 133,
   "metadata": {},
   "outputs": [
    {
     "data": {
      "text/plain": [
       "[0.19, 0.39, 0.64, 0.62, 0.6, 0.45, 0.3, 0.22, 0.13, 0.07]"
      ]
     },
     "execution_count": 133,
     "metadata": {},
     "output_type": "execute_result"
    }
   ],
   "source": [
    "rej_percentage = lambda seval: [(p == -1).sum()/p.shape[0] for p in seval.sec_eval_data.Y_pred]\n",
    "rej_percentage(tranfer_seval)"
   ]
  },
  {
   "cell_type": "code",
   "execution_count": 134,
   "metadata": {},
   "outputs": [],
   "source": [
    "%matplotlib inline"
   ]
  },
  {
   "cell_type": "code",
   "execution_count": 135,
   "metadata": {},
   "outputs": [
    {
     "data": {
      "image/png": "[encoded data removed]",
      "text/plain": [
       "<Figure size 720x576 with 2 Axes>"
      ]
     },
     "metadata": {},
     "output_type": "display_data"
    }
   ],
   "source": [
    "from secml.figure import CFigure\n",
    "fig = CFigure(height=8, width=10)\n",
    "\n",
    "sp1 = fig.subplot(2,1,1)\n",
    "# Convenience function for plotting the Security Evaluation Curve\n",
    "sp1.plot_sec_eval(\n",
    "    tranfer_seval.sec_eval_data, metric=CMetricAccuracyReject(),  marker='o', label='clf_rej', show_average=True)\n",
    "# Plot rejects\n",
    "sp2 = fig.subplot(2, 1, 2)\n",
    "sp2.plot(e_vals, y=rej_percentage(tranfer_seval), marker='o', label='clf_rej')\n",
    "sp2.xticks(e_vals)\n",
    "sp2.xlabel(\"dmax\")\n",
    "sp2.ylabel(\"% Reject\")\n",
    "sp2.legend()\n",
    "sp2.grid()"
   ]
  },
  {
   "cell_type": "markdown",
   "metadata": {},
   "source": [
    "-------"
   ]
  },
  {
   "cell_type": "markdown",
   "metadata": {},
   "source": [
    "# White-box evaluation"
   ]
  },
  {
   "cell_type": "code",
   "execution_count": 136,
   "metadata": {},
   "outputs": [],
   "source": [
    "# For simplicity, let's attack a subset of the test set\n",
    "attack_ds = ts[:100, :]\n",
    "\n",
    "noise_type = 'l2'  # Type of perturbation 'l1' or 'l2'\n",
    "dmax = 3.0  # Maximum perturbation\n",
    "lb, ub = 0., 1.  # Bounds of the attack space. Can be set to `None` for unbounded\n",
    "y_target = None  # None if `error-generic` or a class label for `error-specific`\n",
    "\n",
    "# Should be chosen depending on the optimization problem\n",
    "solver_params = {\n",
    "    'eta': 0.5,\n",
    "    'eta_min': 2.0,\n",
    "    'eta_max': None,\n",
    "    'max_iter': 100,\n",
    "    'eps': 1e-6\n",
    "}\n",
    "\n",
    "from secml.adv.attacks import CAttackEvasionPGDLS\n",
    "pgd_ls_attack = CAttackEvasionPGDLS(classifier=clf_rej,\n",
    "                                    surrogate_classifier=clf_rej,\n",
    "                                    surrogate_data=tr,\n",
    "                                    distance=noise_type,\n",
    "                                    dmax=dmax,\n",
    "                                    solver_params=solver_params,\n",
    "                                    y_target=y_target)"
   ]
  },
  {
   "cell_type": "code",
   "execution_count": 137,
   "metadata": {},
   "outputs": [
    {
     "name": "stdout",
     "output_type": "stream",
     "text": [
      "Attack started...\n",
      "Attack complete!\n"
     ]
    }
   ],
   "source": [
    "print(\"Attack started...\")\n",
    "eva_y_pred, _, eva_adv_ds, _ = pgd_ls_attack.run(\n",
    "    attack_ds.X, attack_ds.Y, double_init=True)\n",
    "print(\"Attack complete!\")"
   ]
  },
  {
   "cell_type": "code",
   "execution_count": 138,
   "metadata": {},
   "outputs": [
    {
     "name": "stdout",
     "output_type": "stream",
     "text": [
      "Accuracy on test set: 23.00%\n"
     ]
    }
   ],
   "source": [
    "# Compute predictions on a test set\n",
    "y_pred = clf_rej.predict(eva_adv_ds.X)\n",
    "\n",
    "# Evaluate the accuracy of the classifier\n",
    "acc = metric.performance_score(y_true=eva_adv_ds.Y, y_pred=y_pred)\n",
    "\n",
    "print(\"Accuracy on test set: {:.2%}\".format(acc))"
   ]
  },
  {
   "cell_type": "markdown",
   "metadata": {},
   "source": [
    "# Security Evaluation"
   ]
  },
  {
   "cell_type": "code",
   "execution_count": 139,
   "metadata": {},
   "outputs": [
    {
     "name": "stdout",
     "output_type": "stream",
     "text": [
      "Running security evaluation...\n",
      "2020-05-19 17:35:27,495 - CSecEval.0x7f3fb81004a8 - INFO - Attack with dmax = 0.5\n",
      "2020-05-19 17:35:42,415 - CSecEval.0x7f3fb81004a8 - INFO - Attack with dmax = 1.0\n",
      "2020-05-19 17:35:57,599 - CSecEval.0x7f3fb81004a8 - INFO - Attack with dmax = 1.5\n",
      "2020-05-19 17:36:13,932 - CSecEval.0x7f3fb81004a8 - INFO - Attack with dmax = 2.0\n",
      "2020-05-19 17:36:32,021 - CSecEval.0x7f3fb81004a8 - INFO - Attack with dmax = 2.5\n",
      "2020-05-19 17:36:50,748 - CSecEval.0x7f3fb81004a8 - INFO - Attack with dmax = 3.0\n",
      "2020-05-19 17:37:08,959 - CSecEval.0x7f3fb81004a8 - INFO - Attack with dmax = 3.5\n",
      "2020-05-19 17:37:27,821 - CSecEval.0x7f3fb81004a8 - INFO - Attack with dmax = 4.0\n",
      "2020-05-19 17:37:48,456 - CSecEval.0x7f3fb81004a8 - INFO - Attack with dmax = 4.5\n",
      "2020-05-19 17:38:09,129 - CSecEval.0x7f3fb81004a8 - INFO - Attack with dmax = 5.0\n"
     ]
    }
   ],
   "source": [
    "# Perturbation levels to test\n",
    "from secml.array import CArray\n",
    "e_vals = CArray.arange(start=0.5, step=0.5, stop=5.1)\n",
    "\n",
    "from secml.adv.seceval import CSecEval\n",
    "whitebox_seval = CSecEval(\n",
    "    attack=pgd_ls_attack, param_name='dmax', param_values=e_vals)\n",
    "\n",
    "# Run the security evaluation using the test set\n",
    "print(\"Running security evaluation...\")\n",
    "whitebox_seval.verbose = 1\n",
    "whitebox_seval.run_sec_eval(attack_ds, double_init=False)"
   ]
  },
  {
   "cell_type": "code",
   "execution_count": 140,
   "metadata": {},
   "outputs": [],
   "source": [
    "%matplotlib inline"
   ]
  },
  {
   "cell_type": "code",
   "execution_count": 141,
   "metadata": {},
   "outputs": [
    {
     "data": {
      "image/png": "[encoded data removed]",
      "text/plain": [
       "<Figure size 720x576 with 2 Axes>"
      ]
     },
     "metadata": {},
     "output_type": "display_data"
    }
   ],
   "source": [
    "from secml.figure import CFigure\n",
    "fig = CFigure(height=8, width=10)\n",
    "\n",
    "sp1 = fig.subplot(2,1,1)\n",
    "# Convenience function for plotting the Security Evaluation Curve\n",
    "sp1.plot_sec_eval(\n",
    "    whitebox_seval.sec_eval_data, metric=CMetricAccuracyReject(),  marker='o', label='clf_rej', show_average=True)\n",
    "# Plot rejects\n",
    "sp2 = fig.subplot(2, 1, 2)\n",
    "sp2.plot(e_vals, y=rej_percentage(whitebox_seval), marker='o', label='clf_rej')\n",
    "sp2.xticks(e_vals)\n",
    "sp2.xlabel(\"dmax\")\n",
    "sp2.ylabel(\"% Reject\")\n",
    "sp2.legend()\n",
    "sp2.grid()"
   ]
  },
  {
   "cell_type": "markdown",
   "metadata": {},
   "source": [
    "## +++++++++++++\n",
    "# YOU ARE HERE!\n",
    "## +++++++++++++"
   ]
  },
  {
   "cell_type": "markdown",
   "metadata": {},
   "source": [
    "----"
   ]
  },
  {
   "cell_type": "markdown",
   "metadata": {},
   "source": [
    "# Test against multiple attacks"
   ]
  },
  {
   "cell_type": "markdown",
   "metadata": {},
   "source": [
    "Using `cleverhans` wrapper for multiple-attacks implementation"
   ]
  },
  {
   "cell_type": "code",
   "execution_count": 100,
   "metadata": {},
   "outputs": [],
   "source": [
    "from cleverhans.attacks import CarliniWagnerL2, ProjectedGradientDescent, \\\n",
    "    MomentumIterativeMethod,FastGradientMethod"
   ]
  },
  {
   "cell_type": "code",
   "execution_count": 101,
   "metadata": {},
   "outputs": [],
   "source": [
    "dmax = 3.0  # Maximum perturbation\n",
    "lb, ub = 0., 1.  # Bounds of the attack space. Can be set to `None` for unbounded\n",
    "y_target = None  # None if `error-generic` or a class label for `error-specific`"
   ]
  },
  {
   "cell_type": "code",
   "execution_count": 104,
   "metadata": {},
   "outputs": [],
   "source": [
    "e_vals = CArray.arange(start=0., step=0.5, stop=5.1)"
   ]
  },
  {
   "cell_type": "code",
   "execution_count": 113,
   "metadata": {},
   "outputs": [],
   "source": [
    "from collections import namedtuple\n",
    "Attack = namedtuple('Attack', 'attack_cls short_name attack_params')\n",
    "\n",
    "attacks = [\n",
    "    Attack(FastGradientMethod, 'FGM', {'eps': dmax,\n",
    "                                       'clip_max': ub,\n",
    "                                       'clip_min': lb,\n",
    "                                       'ord': 2}),\n",
    "    Attack(ProjectedGradientDescent, 'PGD', {'eps': dmax,\n",
    "                                             'eps_iter': 0.05,\n",
    "                                             'nb_iter': 100,\n",
    "                                             'clip_max': ub,\n",
    "                                             'clip_min': lb,\n",
    "                                             'ord': 2,\n",
    "                                             'rand_init': False}),\n",
    "    Attack(MomentumIterativeMethod, 'MIM', {'eps': dmax,\n",
    "                                            'eps_iter': 0.05,\n",
    "                                            'nb_iter': 100,\n",
    "                                            'clip_max': ub,\n",
    "                                            'clip_min': lb,\n",
    "                                            'ord': 2,\n",
    "                                            'decay_factor': 1}),\n",
    "#     Attack(CarliniWagnerL2, 'CW2', {'binary_search_steps': 1,\n",
    "#                                     'initial_const': 0.2,\n",
    "#                                     'confidence': 10,\n",
    "#                                     'abort_early': True,\n",
    "#                                     'clip_min': lb,\n",
    "#                                     'clip_max': ub,\n",
    "#                                     'max_iterations': 50,\n",
    "#                                     'learning_rate': 0.1})\n",
    "]"
   ]
  },
  {
   "cell_type": "markdown",
   "metadata": {},
   "source": [
    "Running attacks and compute evaluation curves"
   ]
  },
  {
   "cell_type": "code",
   "execution_count": 114,
   "metadata": {},
   "outputs": [
    {
     "data": {
      "text/plain": [
       "CDataset{'X': CArray(100, 784)(dense: [[0. 0. 0. ... 0. 0. 0.] [0. 0. 0. ... 0. 0. 0.] [0. 0. 0. ... 0. 0. 0.] ... [0. 0. 0. ... 0. 0. 0.] [0. 0. 0. ... 0. 0. 0.] [0. 0. 0. ... 0. 0. 0.]]), 'Y': CArray(100,)(dense: [7 2 1 ... 7 6 9]), 'header': CDatasetHeader{'num_samples': None, 'img_w': 28, 'img_h': 28, 'y_original': (0, 1, 2, 3, 4, 5, 6, 7, 8, 9)}}"
      ]
     },
     "execution_count": 114,
     "metadata": {},
     "output_type": "execute_result"
    }
   ],
   "source": [
    "attack_ds = ts[:100, :]\n",
    "attack_ds"
   ]
  },
  {
   "cell_type": "code",
   "execution_count": 115,
   "metadata": {},
   "outputs": [],
   "source": [
    "sec_eval_bkp = []"
   ]
  },
  {
   "cell_type": "code",
   "execution_count": 116,
   "metadata": {},
   "outputs": [
    {
     "name": "stdout",
     "output_type": "stream",
     "text": [
      "2020-05-18 15:15:42,618 - py.warnings - WARNING - /home/crecchi/cleverhans/cleverhans/compat.py:22: UserWarning: <function reduce_sum_v1 at 0x7f40aa2691e0> is deprecated. Switch to calling the equivalent function in tensorflow.  This function was originally needed as a compatibility layer for old versions of tensorflow,  but support for those versions has now been dropped.\n",
      "  warnings.warn(str(f) + \" is deprecated. Switch to calling the equivalent function in tensorflow. \"\n",
      "\n",
      "2020-05-18 15:15:42,655 - py.warnings - WARNING - /home/crecchi/cleverhans/cleverhans/compat.py:22: UserWarning: <function reduce_sum_v1 at 0x7f40aa2691e0> is deprecated. Switch to calling the equivalent function in tensorflow.  This function was originally needed as a compatibility layer for old versions of tensorflow,  but support for those versions has now been dropped.\n",
      "  warnings.warn(str(f) + \" is deprecated. Switch to calling the equivalent function in tensorflow. \"\n",
      "\n",
      "Running security evaluation for FGM attack\n",
      "2020-05-18 15:15:42,725 - py.warnings - WARNING - /home/crecchi/cleverhans/cleverhans/compat.py:22: UserWarning: <function reduce_sum_v1 at 0x7f40aa2691e0> is deprecated. Switch to calling the equivalent function in tensorflow.  This function was originally needed as a compatibility layer for old versions of tensorflow,  but support for those versions has now been dropped.\n",
      "  warnings.warn(str(f) + \" is deprecated. Switch to calling the equivalent function in tensorflow. \"\n",
      "\n",
      "2020-05-18 15:15:42,839 - py.warnings - WARNING - /home/crecchi/cleverhans/cleverhans/compat.py:22: UserWarning: <function reduce_sum_v1 at 0x7f40aa2691e0> is deprecated. Switch to calling the equivalent function in tensorflow.  This function was originally needed as a compatibility layer for old versions of tensorflow,  but support for those versions has now been dropped.\n",
      "  warnings.warn(str(f) + \" is deprecated. Switch to calling the equivalent function in tensorflow. \"\n",
      "\n",
      "2020-05-18 15:15:44,695 - py.warnings - WARNING - /home/crecchi/cleverhans/cleverhans/compat.py:22: UserWarning: <function reduce_sum_v1 at 0x7f40aa2691e0> is deprecated. Switch to calling the equivalent function in tensorflow.  This function was originally needed as a compatibility layer for old versions of tensorflow,  but support for those versions has now been dropped.\n",
      "  warnings.warn(str(f) + \" is deprecated. Switch to calling the equivalent function in tensorflow. \"\n",
      "\n",
      "2020-05-18 15:15:44,729 - py.warnings - WARNING - /home/crecchi/cleverhans/cleverhans/compat.py:22: UserWarning: <function reduce_sum_v1 at 0x7f40aa2691e0> is deprecated. Switch to calling the equivalent function in tensorflow.  This function was originally needed as a compatibility layer for old versions of tensorflow,  but support for those versions has now been dropped.\n",
      "  warnings.warn(str(f) + \" is deprecated. Switch to calling the equivalent function in tensorflow. \"\n",
      "\n",
      "2020-05-18 15:15:46,556 - py.warnings - WARNING - /home/crecchi/cleverhans/cleverhans/compat.py:22: UserWarning: <function reduce_sum_v1 at 0x7f40aa2691e0> is deprecated. Switch to calling the equivalent function in tensorflow.  This function was originally needed as a compatibility layer for old versions of tensorflow,  but support for those versions has now been dropped.\n",
      "  warnings.warn(str(f) + \" is deprecated. Switch to calling the equivalent function in tensorflow. \"\n",
      "\n",
      "2020-05-18 15:15:46,592 - py.warnings - WARNING - /home/crecchi/cleverhans/cleverhans/compat.py:22: UserWarning: <function reduce_sum_v1 at 0x7f40aa2691e0> is deprecated. Switch to calling the equivalent function in tensorflow.  This function was originally needed as a compatibility layer for old versions of tensorflow,  but support for those versions has now been dropped.\n",
      "  warnings.warn(str(f) + \" is deprecated. Switch to calling the equivalent function in tensorflow. \"\n",
      "\n",
      "2020-05-18 15:15:48,377 - py.warnings - WARNING - /home/crecchi/cleverhans/cleverhans/compat.py:22: UserWarning: <function reduce_sum_v1 at 0x7f40aa2691e0> is deprecated. Switch to calling the equivalent function in tensorflow.  This function was originally needed as a compatibility layer for old versions of tensorflow,  but support for those versions has now been dropped.\n",
      "  warnings.warn(str(f) + \" is deprecated. Switch to calling the equivalent function in tensorflow. \"\n",
      "\n",
      "2020-05-18 15:15:48,410 - py.warnings - WARNING - /home/crecchi/cleverhans/cleverhans/compat.py:22: UserWarning: <function reduce_sum_v1 at 0x7f40aa2691e0> is deprecated. Switch to calling the equivalent function in tensorflow.  This function was originally needed as a compatibility layer for old versions of tensorflow,  but support for those versions has now been dropped.\n",
      "  warnings.warn(str(f) + \" is deprecated. Switch to calling the equivalent function in tensorflow. \"\n",
      "\n",
      "2020-05-18 15:15:50,245 - py.warnings - WARNING - /home/crecchi/cleverhans/cleverhans/compat.py:22: UserWarning: <function reduce_sum_v1 at 0x7f40aa2691e0> is deprecated. Switch to calling the equivalent function in tensorflow.  This function was originally needed as a compatibility layer for old versions of tensorflow,  but support for those versions has now been dropped.\n",
      "  warnings.warn(str(f) + \" is deprecated. Switch to calling the equivalent function in tensorflow. \"\n",
      "\n",
      "2020-05-18 15:15:50,278 - py.warnings - WARNING - /home/crecchi/cleverhans/cleverhans/compat.py:22: UserWarning: <function reduce_sum_v1 at 0x7f40aa2691e0> is deprecated. Switch to calling the equivalent function in tensorflow.  This function was originally needed as a compatibility layer for old versions of tensorflow,  but support for those versions has now been dropped.\n",
      "  warnings.warn(str(f) + \" is deprecated. Switch to calling the equivalent function in tensorflow. \"\n",
      "\n",
      "2020-05-18 15:15:52,079 - py.warnings - WARNING - /home/crecchi/cleverhans/cleverhans/compat.py:22: UserWarning: <function reduce_sum_v1 at 0x7f40aa2691e0> is deprecated. Switch to calling the equivalent function in tensorflow.  This function was originally needed as a compatibility layer for old versions of tensorflow,  but support for those versions has now been dropped.\n",
      "  warnings.warn(str(f) + \" is deprecated. Switch to calling the equivalent function in tensorflow. \"\n",
      "\n",
      "2020-05-18 15:15:52,113 - py.warnings - WARNING - /home/crecchi/cleverhans/cleverhans/compat.py:22: UserWarning: <function reduce_sum_v1 at 0x7f40aa2691e0> is deprecated. Switch to calling the equivalent function in tensorflow.  This function was originally needed as a compatibility layer for old versions of tensorflow,  but support for those versions has now been dropped.\n",
      "  warnings.warn(str(f) + \" is deprecated. Switch to calling the equivalent function in tensorflow. \"\n",
      "\n",
      "2020-05-18 15:15:53,909 - py.warnings - WARNING - /home/crecchi/cleverhans/cleverhans/compat.py:22: UserWarning: <function reduce_sum_v1 at 0x7f40aa2691e0> is deprecated. Switch to calling the equivalent function in tensorflow.  This function was originally needed as a compatibility layer for old versions of tensorflow,  but support for those versions has now been dropped.\n",
      "  warnings.warn(str(f) + \" is deprecated. Switch to calling the equivalent function in tensorflow. \"\n",
      "\n",
      "2020-05-18 15:15:53,943 - py.warnings - WARNING - /home/crecchi/cleverhans/cleverhans/compat.py:22: UserWarning: <function reduce_sum_v1 at 0x7f40aa2691e0> is deprecated. Switch to calling the equivalent function in tensorflow.  This function was originally needed as a compatibility layer for old versions of tensorflow,  but support for those versions has now been dropped.\n",
      "  warnings.warn(str(f) + \" is deprecated. Switch to calling the equivalent function in tensorflow. \"\n",
      "\n",
      "2020-05-18 15:15:55,709 - py.warnings - WARNING - /home/crecchi/cleverhans/cleverhans/compat.py:22: UserWarning: <function reduce_sum_v1 at 0x7f40aa2691e0> is deprecated. Switch to calling the equivalent function in tensorflow.  This function was originally needed as a compatibility layer for old versions of tensorflow,  but support for those versions has now been dropped.\n",
      "  warnings.warn(str(f) + \" is deprecated. Switch to calling the equivalent function in tensorflow. \"\n",
      "\n",
      "2020-05-18 15:15:55,742 - py.warnings - WARNING - /home/crecchi/cleverhans/cleverhans/compat.py:22: UserWarning: <function reduce_sum_v1 at 0x7f40aa2691e0> is deprecated. Switch to calling the equivalent function in tensorflow.  This function was originally needed as a compatibility layer for old versions of tensorflow,  but support for those versions has now been dropped.\n",
      "  warnings.warn(str(f) + \" is deprecated. Switch to calling the equivalent function in tensorflow. \"\n",
      "\n",
      "2020-05-18 15:15:57,528 - py.warnings - WARNING - /home/crecchi/cleverhans/cleverhans/compat.py:22: UserWarning: <function reduce_sum_v1 at 0x7f40aa2691e0> is deprecated. Switch to calling the equivalent function in tensorflow.  This function was originally needed as a compatibility layer for old versions of tensorflow,  but support for those versions has now been dropped.\n",
      "  warnings.warn(str(f) + \" is deprecated. Switch to calling the equivalent function in tensorflow. \"\n",
      "\n",
      "2020-05-18 15:15:57,561 - py.warnings - WARNING - /home/crecchi/cleverhans/cleverhans/compat.py:22: UserWarning: <function reduce_sum_v1 at 0x7f40aa2691e0> is deprecated. Switch to calling the equivalent function in tensorflow.  This function was originally needed as a compatibility layer for old versions of tensorflow,  but support for those versions has now been dropped.\n",
      "  warnings.warn(str(f) + \" is deprecated. Switch to calling the equivalent function in tensorflow. \"\n",
      "\n",
      "2020-05-18 15:15:59,367 - py.warnings - WARNING - /home/crecchi/cleverhans/cleverhans/compat.py:22: UserWarning: <function reduce_sum_v1 at 0x7f40aa2691e0> is deprecated. Switch to calling the equivalent function in tensorflow.  This function was originally needed as a compatibility layer for old versions of tensorflow,  but support for those versions has now been dropped.\n",
      "  warnings.warn(str(f) + \" is deprecated. Switch to calling the equivalent function in tensorflow. \"\n",
      "\n",
      "2020-05-18 15:15:59,668 - py.warnings - WARNING - /home/crecchi/cleverhans/cleverhans/compat.py:22: UserWarning: <function reduce_sum_v1 at 0x7f40aa2691e0> is deprecated. Switch to calling the equivalent function in tensorflow.  This function was originally needed as a compatibility layer for old versions of tensorflow,  but support for those versions has now been dropped.\n",
      "  warnings.warn(str(f) + \" is deprecated. Switch to calling the equivalent function in tensorflow. \"\n",
      "\n",
      "2020-05-18 15:16:01,523 - py.warnings - WARNING - /home/crecchi/cleverhans/cleverhans/compat.py:22: UserWarning: <function reduce_sum_v1 at 0x7f40aa2691e0> is deprecated. Switch to calling the equivalent function in tensorflow.  This function was originally needed as a compatibility layer for old versions of tensorflow,  but support for those versions has now been dropped.\n",
      "  warnings.warn(str(f) + \" is deprecated. Switch to calling the equivalent function in tensorflow. \"\n",
      "\n",
      "2020-05-18 15:16:01,607 - py.warnings - WARNING - /home/crecchi/cleverhans/cleverhans/compat.py:22: UserWarning: <function reduce_sum_v1 at 0x7f40aa2691e0> is deprecated. Switch to calling the equivalent function in tensorflow.  This function was originally needed as a compatibility layer for old versions of tensorflow,  but support for those versions has now been dropped.\n",
      "  warnings.warn(str(f) + \" is deprecated. Switch to calling the equivalent function in tensorflow. \"\n",
      "\n",
      "Running security evaluation for PGD attack\n",
      "2020-05-18 15:16:01,771 - py.warnings - WARNING - /home/crecchi/cleverhans/cleverhans/compat.py:22: UserWarning: <function reduce_sum_v1 at 0x7f40aa2691e0> is deprecated. Switch to calling the equivalent function in tensorflow.  This function was originally needed as a compatibility layer for old versions of tensorflow,  but support for those versions has now been dropped.\n",
      "  warnings.warn(str(f) + \" is deprecated. Switch to calling the equivalent function in tensorflow. \"\n",
      "\n",
      "2020-05-18 15:16:01,968 - py.warnings - WARNING - /home/crecchi/cleverhans/cleverhans/compat.py:22: UserWarning: <function reduce_sum_v1 at 0x7f40aa2691e0> is deprecated. Switch to calling the equivalent function in tensorflow.  This function was originally needed as a compatibility layer for old versions of tensorflow,  but support for those versions has now been dropped.\n",
      "  warnings.warn(str(f) + \" is deprecated. Switch to calling the equivalent function in tensorflow. \"\n",
      "\n",
      "2020-05-18 15:18:18,099 - py.warnings - WARNING - /home/crecchi/cleverhans/cleverhans/compat.py:22: UserWarning: <function reduce_sum_v1 at 0x7f40aa2691e0> is deprecated. Switch to calling the equivalent function in tensorflow.  This function was originally needed as a compatibility layer for old versions of tensorflow,  but support for those versions has now been dropped.\n",
      "  warnings.warn(str(f) + \" is deprecated. Switch to calling the equivalent function in tensorflow. \"\n",
      "\n",
      "2020-05-18 15:18:18,189 - py.warnings - WARNING - /home/crecchi/cleverhans/cleverhans/compat.py:22: UserWarning: <function reduce_sum_v1 at 0x7f40aa2691e0> is deprecated. Switch to calling the equivalent function in tensorflow.  This function was originally needed as a compatibility layer for old versions of tensorflow,  but support for those versions has now been dropped.\n",
      "  warnings.warn(str(f) + \" is deprecated. Switch to calling the equivalent function in tensorflow. \"\n",
      "\n",
      "2020-05-18 15:20:31,039 - py.warnings - WARNING - /home/crecchi/cleverhans/cleverhans/compat.py:22: UserWarning: <function reduce_sum_v1 at 0x7f40aa2691e0> is deprecated. Switch to calling the equivalent function in tensorflow.  This function was originally needed as a compatibility layer for old versions of tensorflow,  but support for those versions has now been dropped.\n",
      "  warnings.warn(str(f) + \" is deprecated. Switch to calling the equivalent function in tensorflow. \"\n",
      "\n",
      "2020-05-18 15:20:31,131 - py.warnings - WARNING - /home/crecchi/cleverhans/cleverhans/compat.py:22: UserWarning: <function reduce_sum_v1 at 0x7f40aa2691e0> is deprecated. Switch to calling the equivalent function in tensorflow.  This function was originally needed as a compatibility layer for old versions of tensorflow,  but support for those versions has now been dropped.\n",
      "  warnings.warn(str(f) + \" is deprecated. Switch to calling the equivalent function in tensorflow. \"\n",
      "\n",
      "2020-05-18 15:22:32,164 - py.warnings - WARNING - /home/crecchi/cleverhans/cleverhans/compat.py:22: UserWarning: <function reduce_sum_v1 at 0x7f40aa2691e0> is deprecated. Switch to calling the equivalent function in tensorflow.  This function was originally needed as a compatibility layer for old versions of tensorflow,  but support for those versions has now been dropped.\n",
      "  warnings.warn(str(f) + \" is deprecated. Switch to calling the equivalent function in tensorflow. \"\n",
      "\n",
      "2020-05-18 15:22:32,254 - py.warnings - WARNING - /home/crecchi/cleverhans/cleverhans/compat.py:22: UserWarning: <function reduce_sum_v1 at 0x7f40aa2691e0> is deprecated. Switch to calling the equivalent function in tensorflow.  This function was originally needed as a compatibility layer for old versions of tensorflow,  but support for those versions has now been dropped.\n",
      "  warnings.warn(str(f) + \" is deprecated. Switch to calling the equivalent function in tensorflow. \"\n",
      "\n",
      "2020-05-18 15:25:00,650 - py.warnings - WARNING - /home/crecchi/cleverhans/cleverhans/compat.py:22: UserWarning: <function reduce_sum_v1 at 0x7f40aa2691e0> is deprecated. Switch to calling the equivalent function in tensorflow.  This function was originally needed as a compatibility layer for old versions of tensorflow,  but support for those versions has now been dropped.\n",
      "  warnings.warn(str(f) + \" is deprecated. Switch to calling the equivalent function in tensorflow. \"\n",
      "\n",
      "2020-05-18 15:25:01,059 - py.warnings - WARNING - /home/crecchi/cleverhans/cleverhans/compat.py:22: UserWarning: <function reduce_sum_v1 at 0x7f40aa2691e0> is deprecated. Switch to calling the equivalent function in tensorflow.  This function was originally needed as a compatibility layer for old versions of tensorflow,  but support for those versions has now been dropped.\n",
      "  warnings.warn(str(f) + \" is deprecated. Switch to calling the equivalent function in tensorflow. \"\n",
      "\n",
      "2020-05-18 15:26:46,878 - py.warnings - WARNING - /home/crecchi/cleverhans/cleverhans/compat.py:22: UserWarning: <function reduce_sum_v1 at 0x7f40aa2691e0> is deprecated. Switch to calling the equivalent function in tensorflow.  This function was originally needed as a compatibility layer for old versions of tensorflow,  but support for those versions has now been dropped.\n",
      "  warnings.warn(str(f) + \" is deprecated. Switch to calling the equivalent function in tensorflow. \"\n",
      "\n",
      "2020-05-18 15:26:46,967 - py.warnings - WARNING - /home/crecchi/cleverhans/cleverhans/compat.py:22: UserWarning: <function reduce_sum_v1 at 0x7f40aa2691e0> is deprecated. Switch to calling the equivalent function in tensorflow.  This function was originally needed as a compatibility layer for old versions of tensorflow,  but support for those versions has now been dropped.\n",
      "  warnings.warn(str(f) + \" is deprecated. Switch to calling the equivalent function in tensorflow. \"\n",
      "\n",
      "2020-05-18 15:29:27,093 - py.warnings - WARNING - /home/crecchi/cleverhans/cleverhans/compat.py:22: UserWarning: <function reduce_sum_v1 at 0x7f40aa2691e0> is deprecated. Switch to calling the equivalent function in tensorflow.  This function was originally needed as a compatibility layer for old versions of tensorflow,  but support for those versions has now been dropped.\n",
      "  warnings.warn(str(f) + \" is deprecated. Switch to calling the equivalent function in tensorflow. \"\n",
      "\n",
      "2020-05-18 15:29:27,181 - py.warnings - WARNING - /home/crecchi/cleverhans/cleverhans/compat.py:22: UserWarning: <function reduce_sum_v1 at 0x7f40aa2691e0> is deprecated. Switch to calling the equivalent function in tensorflow.  This function was originally needed as a compatibility layer for old versions of tensorflow,  but support for those versions has now been dropped.\n",
      "  warnings.warn(str(f) + \" is deprecated. Switch to calling the equivalent function in tensorflow. \"\n",
      "\n",
      "2020-05-18 15:31:11,672 - py.warnings - WARNING - /home/crecchi/cleverhans/cleverhans/compat.py:22: UserWarning: <function reduce_sum_v1 at 0x7f40aa2691e0> is deprecated. Switch to calling the equivalent function in tensorflow.  This function was originally needed as a compatibility layer for old versions of tensorflow,  but support for those versions has now been dropped.\n",
      "  warnings.warn(str(f) + \" is deprecated. Switch to calling the equivalent function in tensorflow. \"\n",
      "\n",
      "2020-05-18 15:31:11,761 - py.warnings - WARNING - /home/crecchi/cleverhans/cleverhans/compat.py:22: UserWarning: <function reduce_sum_v1 at 0x7f40aa2691e0> is deprecated. Switch to calling the equivalent function in tensorflow.  This function was originally needed as a compatibility layer for old versions of tensorflow,  but support for those versions has now been dropped.\n",
      "  warnings.warn(str(f) + \" is deprecated. Switch to calling the equivalent function in tensorflow. \"\n",
      "\n",
      "2020-05-18 15:33:55,361 - py.warnings - WARNING - /home/crecchi/cleverhans/cleverhans/compat.py:22: UserWarning: <function reduce_sum_v1 at 0x7f40aa2691e0> is deprecated. Switch to calling the equivalent function in tensorflow.  This function was originally needed as a compatibility layer for old versions of tensorflow,  but support for those versions has now been dropped.\n",
      "  warnings.warn(str(f) + \" is deprecated. Switch to calling the equivalent function in tensorflow. \"\n",
      "\n",
      "2020-05-18 15:33:55,446 - py.warnings - WARNING - /home/crecchi/cleverhans/cleverhans/compat.py:22: UserWarning: <function reduce_sum_v1 at 0x7f40aa2691e0> is deprecated. Switch to calling the equivalent function in tensorflow.  This function was originally needed as a compatibility layer for old versions of tensorflow,  but support for those versions has now been dropped.\n",
      "  warnings.warn(str(f) + \" is deprecated. Switch to calling the equivalent function in tensorflow. \"\n",
      "\n",
      "2020-05-18 15:35:39,683 - py.warnings - WARNING - /home/crecchi/cleverhans/cleverhans/compat.py:22: UserWarning: <function reduce_sum_v1 at 0x7f40aa2691e0> is deprecated. Switch to calling the equivalent function in tensorflow.  This function was originally needed as a compatibility layer for old versions of tensorflow,  but support for those versions has now been dropped.\n",
      "  warnings.warn(str(f) + \" is deprecated. Switch to calling the equivalent function in tensorflow. \"\n",
      "\n",
      "2020-05-18 15:35:39,770 - py.warnings - WARNING - /home/crecchi/cleverhans/cleverhans/compat.py:22: UserWarning: <function reduce_sum_v1 at 0x7f40aa2691e0> is deprecated. Switch to calling the equivalent function in tensorflow.  This function was originally needed as a compatibility layer for old versions of tensorflow,  but support for those versions has now been dropped.\n",
      "  warnings.warn(str(f) + \" is deprecated. Switch to calling the equivalent function in tensorflow. \"\n",
      "\n",
      "2020-05-18 15:38:20,485 - py.warnings - WARNING - /home/crecchi/cleverhans/cleverhans/compat.py:22: UserWarning: <function reduce_sum_v1 at 0x7f40aa2691e0> is deprecated. Switch to calling the equivalent function in tensorflow.  This function was originally needed as a compatibility layer for old versions of tensorflow,  but support for those versions has now been dropped.\n",
      "  warnings.warn(str(f) + \" is deprecated. Switch to calling the equivalent function in tensorflow. \"\n",
      "\n",
      "2020-05-18 15:38:20,542 - py.warnings - WARNING - /home/crecchi/cleverhans/cleverhans/compat.py:22: UserWarning: <function reduce_mean_v1 at 0x7f40aa269378> is deprecated. Switch to calling the equivalent function in tensorflow.  This function was originally needed as a compatibility layer for old versions of tensorflow,  but support for those versions has now been dropped.\n",
      "  warnings.warn(str(f) + \" is deprecated. Switch to calling the equivalent function in tensorflow. \"\n",
      "\n",
      "2020-05-18 15:38:20,548 - py.warnings - WARNING - /home/crecchi/cleverhans/cleverhans/compat.py:22: UserWarning: <function reduce_sum_v1 at 0x7f40aa2691e0> is deprecated. Switch to calling the equivalent function in tensorflow.  This function was originally needed as a compatibility layer for old versions of tensorflow,  but support for those versions has now been dropped.\n",
      "  warnings.warn(str(f) + \" is deprecated. Switch to calling the equivalent function in tensorflow. \"\n",
      "\n",
      "Running security evaluation for MIM attack\n",
      "2020-05-18 15:38:20,663 - py.warnings - WARNING - /home/crecchi/cleverhans/cleverhans/compat.py:22: UserWarning: <function reduce_mean_v1 at 0x7f40aa269378> is deprecated. Switch to calling the equivalent function in tensorflow.  This function was originally needed as a compatibility layer for old versions of tensorflow,  but support for those versions has now been dropped.\n",
      "  warnings.warn(str(f) + \" is deprecated. Switch to calling the equivalent function in tensorflow. \"\n",
      "\n",
      "2020-05-18 15:38:20,670 - py.warnings - WARNING - /home/crecchi/cleverhans/cleverhans/compat.py:22: UserWarning: <function reduce_sum_v1 at 0x7f40aa2691e0> is deprecated. Switch to calling the equivalent function in tensorflow.  This function was originally needed as a compatibility layer for old versions of tensorflow,  but support for those versions has now been dropped.\n",
      "  warnings.warn(str(f) + \" is deprecated. Switch to calling the equivalent function in tensorflow. \"\n",
      "\n",
      "2020-05-18 15:38:21,031 - py.warnings - WARNING - /home/crecchi/cleverhans/cleverhans/compat.py:22: UserWarning: <function reduce_mean_v1 at 0x7f40aa269378> is deprecated. Switch to calling the equivalent function in tensorflow.  This function was originally needed as a compatibility layer for old versions of tensorflow,  but support for those versions has now been dropped.\n",
      "  warnings.warn(str(f) + \" is deprecated. Switch to calling the equivalent function in tensorflow. \"\n",
      "\n",
      "2020-05-18 15:38:21,038 - py.warnings - WARNING - /home/crecchi/cleverhans/cleverhans/compat.py:22: UserWarning: <function reduce_sum_v1 at 0x7f40aa2691e0> is deprecated. Switch to calling the equivalent function in tensorflow.  This function was originally needed as a compatibility layer for old versions of tensorflow,  but support for those versions has now been dropped.\n",
      "  warnings.warn(str(f) + \" is deprecated. Switch to calling the equivalent function in tensorflow. \"\n",
      "\n",
      "2020-05-18 15:40:14,431 - py.warnings - WARNING - /home/crecchi/cleverhans/cleverhans/compat.py:22: UserWarning: <function reduce_sum_v1 at 0x7f40aa2691e0> is deprecated. Switch to calling the equivalent function in tensorflow.  This function was originally needed as a compatibility layer for old versions of tensorflow,  but support for those versions has now been dropped.\n",
      "  warnings.warn(str(f) + \" is deprecated. Switch to calling the equivalent function in tensorflow. \"\n",
      "\n",
      "2020-05-18 15:40:14,496 - py.warnings - WARNING - /home/crecchi/cleverhans/cleverhans/compat.py:22: UserWarning: <function reduce_mean_v1 at 0x7f40aa269378> is deprecated. Switch to calling the equivalent function in tensorflow.  This function was originally needed as a compatibility layer for old versions of tensorflow,  but support for those versions has now been dropped.\n",
      "  warnings.warn(str(f) + \" is deprecated. Switch to calling the equivalent function in tensorflow. \"\n",
      "\n",
      "2020-05-18 15:40:14,503 - py.warnings - WARNING - /home/crecchi/cleverhans/cleverhans/compat.py:22: UserWarning: <function reduce_sum_v1 at 0x7f40aa2691e0> is deprecated. Switch to calling the equivalent function in tensorflow.  This function was originally needed as a compatibility layer for old versions of tensorflow,  but support for those versions has now been dropped.\n",
      "  warnings.warn(str(f) + \" is deprecated. Switch to calling the equivalent function in tensorflow. \"\n",
      "\n",
      "2020-05-18 15:42:50,700 - py.warnings - WARNING - /home/crecchi/cleverhans/cleverhans/compat.py:22: UserWarning: <function reduce_sum_v1 at 0x7f40aa2691e0> is deprecated. Switch to calling the equivalent function in tensorflow.  This function was originally needed as a compatibility layer for old versions of tensorflow,  but support for those versions has now been dropped.\n",
      "  warnings.warn(str(f) + \" is deprecated. Switch to calling the equivalent function in tensorflow. \"\n",
      "\n",
      "2020-05-18 15:42:50,840 - py.warnings - WARNING - /home/crecchi/cleverhans/cleverhans/compat.py:22: UserWarning: <function reduce_mean_v1 at 0x7f40aa269378> is deprecated. Switch to calling the equivalent function in tensorflow.  This function was originally needed as a compatibility layer for old versions of tensorflow,  but support for those versions has now been dropped.\n",
      "  warnings.warn(str(f) + \" is deprecated. Switch to calling the equivalent function in tensorflow. \"\n",
      "\n",
      "2020-05-18 15:42:50,855 - py.warnings - WARNING - /home/crecchi/cleverhans/cleverhans/compat.py:22: UserWarning: <function reduce_sum_v1 at 0x7f40aa2691e0> is deprecated. Switch to calling the equivalent function in tensorflow.  This function was originally needed as a compatibility layer for old versions of tensorflow,  but support for those versions has now been dropped.\n",
      "  warnings.warn(str(f) + \" is deprecated. Switch to calling the equivalent function in tensorflow. \"\n",
      "\n",
      "2020-05-18 15:45:17,955 - py.warnings - WARNING - /home/crecchi/cleverhans/cleverhans/compat.py:22: UserWarning: <function reduce_sum_v1 at 0x7f40aa2691e0> is deprecated. Switch to calling the equivalent function in tensorflow.  This function was originally needed as a compatibility layer for old versions of tensorflow,  but support for those versions has now been dropped.\n",
      "  warnings.warn(str(f) + \" is deprecated. Switch to calling the equivalent function in tensorflow. \"\n",
      "\n",
      "2020-05-18 15:45:18,075 - py.warnings - WARNING - /home/crecchi/cleverhans/cleverhans/compat.py:22: UserWarning: <function reduce_mean_v1 at 0x7f40aa269378> is deprecated. Switch to calling the equivalent function in tensorflow.  This function was originally needed as a compatibility layer for old versions of tensorflow,  but support for those versions has now been dropped.\n",
      "  warnings.warn(str(f) + \" is deprecated. Switch to calling the equivalent function in tensorflow. \"\n",
      "\n",
      "2020-05-18 15:45:18,081 - py.warnings - WARNING - /home/crecchi/cleverhans/cleverhans/compat.py:22: UserWarning: <function reduce_sum_v1 at 0x7f40aa2691e0> is deprecated. Switch to calling the equivalent function in tensorflow.  This function was originally needed as a compatibility layer for old versions of tensorflow,  but support for those versions has now been dropped.\n",
      "  warnings.warn(str(f) + \" is deprecated. Switch to calling the equivalent function in tensorflow. \"\n",
      "\n",
      "2020-05-18 15:47:54,156 - py.warnings - WARNING - /home/crecchi/cleverhans/cleverhans/compat.py:22: UserWarning: <function reduce_sum_v1 at 0x7f40aa2691e0> is deprecated. Switch to calling the equivalent function in tensorflow.  This function was originally needed as a compatibility layer for old versions of tensorflow,  but support for those versions has now been dropped.\n",
      "  warnings.warn(str(f) + \" is deprecated. Switch to calling the equivalent function in tensorflow. \"\n",
      "\n",
      "2020-05-18 15:47:54,221 - py.warnings - WARNING - /home/crecchi/cleverhans/cleverhans/compat.py:22: UserWarning: <function reduce_mean_v1 at 0x7f40aa269378> is deprecated. Switch to calling the equivalent function in tensorflow.  This function was originally needed as a compatibility layer for old versions of tensorflow,  but support for those versions has now been dropped.\n",
      "  warnings.warn(str(f) + \" is deprecated. Switch to calling the equivalent function in tensorflow. \"\n",
      "\n",
      "2020-05-18 15:47:54,228 - py.warnings - WARNING - /home/crecchi/cleverhans/cleverhans/compat.py:22: UserWarning: <function reduce_sum_v1 at 0x7f40aa2691e0> is deprecated. Switch to calling the equivalent function in tensorflow.  This function was originally needed as a compatibility layer for old versions of tensorflow,  but support for those versions has now been dropped.\n",
      "  warnings.warn(str(f) + \" is deprecated. Switch to calling the equivalent function in tensorflow. \"\n",
      "\n",
      "2020-05-18 15:50:30,012 - py.warnings - WARNING - /home/crecchi/cleverhans/cleverhans/compat.py:22: UserWarning: <function reduce_sum_v1 at 0x7f40aa2691e0> is deprecated. Switch to calling the equivalent function in tensorflow.  This function was originally needed as a compatibility layer for old versions of tensorflow,  but support for those versions has now been dropped.\n",
      "  warnings.warn(str(f) + \" is deprecated. Switch to calling the equivalent function in tensorflow. \"\n",
      "\n",
      "2020-05-18 15:50:30,075 - py.warnings - WARNING - /home/crecchi/cleverhans/cleverhans/compat.py:22: UserWarning: <function reduce_mean_v1 at 0x7f40aa269378> is deprecated. Switch to calling the equivalent function in tensorflow.  This function was originally needed as a compatibility layer for old versions of tensorflow,  but support for those versions has now been dropped.\n",
      "  warnings.warn(str(f) + \" is deprecated. Switch to calling the equivalent function in tensorflow. \"\n",
      "\n",
      "2020-05-18 15:50:30,082 - py.warnings - WARNING - /home/crecchi/cleverhans/cleverhans/compat.py:22: UserWarning: <function reduce_sum_v1 at 0x7f40aa2691e0> is deprecated. Switch to calling the equivalent function in tensorflow.  This function was originally needed as a compatibility layer for old versions of tensorflow,  but support for those versions has now been dropped.\n",
      "  warnings.warn(str(f) + \" is deprecated. Switch to calling the equivalent function in tensorflow. \"\n",
      "\n",
      "2020-05-18 15:52:52,555 - py.warnings - WARNING - /home/crecchi/cleverhans/cleverhans/compat.py:22: UserWarning: <function reduce_sum_v1 at 0x7f40aa2691e0> is deprecated. Switch to calling the equivalent function in tensorflow.  This function was originally needed as a compatibility layer for old versions of tensorflow,  but support for those versions has now been dropped.\n",
      "  warnings.warn(str(f) + \" is deprecated. Switch to calling the equivalent function in tensorflow. \"\n",
      "\n",
      "2020-05-18 15:52:52,618 - py.warnings - WARNING - /home/crecchi/cleverhans/cleverhans/compat.py:22: UserWarning: <function reduce_mean_v1 at 0x7f40aa269378> is deprecated. Switch to calling the equivalent function in tensorflow.  This function was originally needed as a compatibility layer for old versions of tensorflow,  but support for those versions has now been dropped.\n",
      "  warnings.warn(str(f) + \" is deprecated. Switch to calling the equivalent function in tensorflow. \"\n",
      "\n",
      "2020-05-18 15:52:52,625 - py.warnings - WARNING - /home/crecchi/cleverhans/cleverhans/compat.py:22: UserWarning: <function reduce_sum_v1 at 0x7f40aa2691e0> is deprecated. Switch to calling the equivalent function in tensorflow.  This function was originally needed as a compatibility layer for old versions of tensorflow,  but support for those versions has now been dropped.\n",
      "  warnings.warn(str(f) + \" is deprecated. Switch to calling the equivalent function in tensorflow. \"\n",
      "\n",
      "2020-05-18 15:55:47,598 - py.warnings - WARNING - /home/crecchi/cleverhans/cleverhans/compat.py:22: UserWarning: <function reduce_sum_v1 at 0x7f40aa2691e0> is deprecated. Switch to calling the equivalent function in tensorflow.  This function was originally needed as a compatibility layer for old versions of tensorflow,  but support for those versions has now been dropped.\n",
      "  warnings.warn(str(f) + \" is deprecated. Switch to calling the equivalent function in tensorflow. \"\n",
      "\n",
      "2020-05-18 15:55:47,716 - py.warnings - WARNING - /home/crecchi/cleverhans/cleverhans/compat.py:22: UserWarning: <function reduce_mean_v1 at 0x7f40aa269378> is deprecated. Switch to calling the equivalent function in tensorflow.  This function was originally needed as a compatibility layer for old versions of tensorflow,  but support for those versions has now been dropped.\n",
      "  warnings.warn(str(f) + \" is deprecated. Switch to calling the equivalent function in tensorflow. \"\n",
      "\n",
      "2020-05-18 15:55:47,723 - py.warnings - WARNING - /home/crecchi/cleverhans/cleverhans/compat.py:22: UserWarning: <function reduce_sum_v1 at 0x7f40aa2691e0> is deprecated. Switch to calling the equivalent function in tensorflow.  This function was originally needed as a compatibility layer for old versions of tensorflow,  but support for those versions has now been dropped.\n",
      "  warnings.warn(str(f) + \" is deprecated. Switch to calling the equivalent function in tensorflow. \"\n",
      "\n",
      "2020-05-18 15:57:51,875 - py.warnings - WARNING - /home/crecchi/cleverhans/cleverhans/compat.py:22: UserWarning: <function reduce_sum_v1 at 0x7f40aa2691e0> is deprecated. Switch to calling the equivalent function in tensorflow.  This function was originally needed as a compatibility layer for old versions of tensorflow,  but support for those versions has now been dropped.\n",
      "  warnings.warn(str(f) + \" is deprecated. Switch to calling the equivalent function in tensorflow. \"\n",
      "\n",
      "2020-05-18 15:57:52,010 - py.warnings - WARNING - /home/crecchi/cleverhans/cleverhans/compat.py:22: UserWarning: <function reduce_mean_v1 at 0x7f40aa269378> is deprecated. Switch to calling the equivalent function in tensorflow.  This function was originally needed as a compatibility layer for old versions of tensorflow,  but support for those versions has now been dropped.\n",
      "  warnings.warn(str(f) + \" is deprecated. Switch to calling the equivalent function in tensorflow. \"\n",
      "\n",
      "2020-05-18 15:57:52,023 - py.warnings - WARNING - /home/crecchi/cleverhans/cleverhans/compat.py:22: UserWarning: <function reduce_sum_v1 at 0x7f40aa2691e0> is deprecated. Switch to calling the equivalent function in tensorflow.  This function was originally needed as a compatibility layer for old versions of tensorflow,  but support for those versions has now been dropped.\n",
      "  warnings.warn(str(f) + \" is deprecated. Switch to calling the equivalent function in tensorflow. \"\n",
      "\n",
      "2020-05-18 16:01:00,853 - py.warnings - WARNING - /home/crecchi/cleverhans/cleverhans/compat.py:22: UserWarning: <function reduce_sum_v1 at 0x7f40aa2691e0> is deprecated. Switch to calling the equivalent function in tensorflow.  This function was originally needed as a compatibility layer for old versions of tensorflow,  but support for those versions has now been dropped.\n",
      "  warnings.warn(str(f) + \" is deprecated. Switch to calling the equivalent function in tensorflow. \"\n",
      "\n",
      "2020-05-18 16:01:00,916 - py.warnings - WARNING - /home/crecchi/cleverhans/cleverhans/compat.py:22: UserWarning: <function reduce_mean_v1 at 0x7f40aa269378> is deprecated. Switch to calling the equivalent function in tensorflow.  This function was originally needed as a compatibility layer for old versions of tensorflow,  but support for those versions has now been dropped.\n",
      "  warnings.warn(str(f) + \" is deprecated. Switch to calling the equivalent function in tensorflow. \"\n",
      "\n",
      "2020-05-18 16:01:00,922 - py.warnings - WARNING - /home/crecchi/cleverhans/cleverhans/compat.py:22: UserWarning: <function reduce_sum_v1 at 0x7f40aa2691e0> is deprecated. Switch to calling the equivalent function in tensorflow.  This function was originally needed as a compatibility layer for old versions of tensorflow,  but support for those versions has now been dropped.\n",
      "  warnings.warn(str(f) + \" is deprecated. Switch to calling the equivalent function in tensorflow. \"\n",
      "\n"
     ]
    },
    {
     "data": {
      "image/png": "[encoded data removed]",
      "text/plain": [
       "<Figure size 720x360 with 1 Axes>"
      ]
     },
     "metadata": {},
     "output_type": "display_data"
    }
   ],
   "source": [
    "from secml.adv.attacks import CAttackEvasionCleverhans\n",
    "from secml.adv.seceval import CSecEval\n",
    "from secml.figure import CFigure\n",
    "%matplotlib inline\n",
    "\n",
    "fig = CFigure(5, 10)\n",
    "for i, attack in enumerate(attacks):\n",
    "    \n",
    "    # Instantiate `cleverhans_attack`\n",
    "    cleverhans_attack = CAttackEvasionCleverhans(\n",
    "            classifier=dnn,\n",
    "            surrogate_classifier=dnn,\n",
    "            surrogate_data=tr,\n",
    "            y_target=y_target,\n",
    "            clvh_attack_class=attack.attack_cls,\n",
    "            **attack.attack_params)\n",
    "    \n",
    "    # Run sec_eval\n",
    "    sec_eval = CSecEval(attack=cleverhans_attack, param_name='attack_params.eps', param_values=e_vals)\n",
    "    # Run the security evaluation using the test set\n",
    "    print(\"Running security evaluation for {} attack\".format(attack.short_name))\n",
    "    sec_eval.run_sec_eval(attack_ds)\n",
    "    \n",
    "    # Save a backup\n",
    "    sec_eval_bkp.append(sec_eval)\n",
    "    \n",
    "    # Plot\n",
    "    fig.sp.plot_sec_eval(sec_eval.sec_eval_data, marker='o', label=attack.short_name, show_average=True)\n",
    "\n",
    "fig.show()"
   ]
  },
  {
   "cell_type": "code",
   "execution_count": null,
   "metadata": {},
   "outputs": [],
   "source": []
  }
 ],
 "metadata": {
  "kernelspec": {
   "display_name": "secml",
   "language": "python",
   "name": "secml"
  },
  "language_info": {
   "codemirror_mode": {
    "name": "ipython",
    "version": 3
   },
   "file_extension": ".py",
   "mimetype": "text/x-python",
   "name": "python",
   "nbconvert_exporter": "python",
   "pygments_lexer": "ipython3",
   "version": "3.6.3"
  }
 },
 "nbformat": 4,
 "nbformat_minor": 4
}

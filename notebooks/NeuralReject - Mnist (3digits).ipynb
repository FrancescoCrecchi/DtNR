{
 "cells": [
  {
   "cell_type": "code",
   "execution_count": 2,
   "metadata": {},
   "outputs": [
    {
     "name": "stdout",
     "output_type": "stream",
     "text": [
      "setGPU: Setting GPU to: 3\n"
     ]
    }
   ],
   "source": [
    "import setGPU"
   ]
  },
  {
   "cell_type": "code",
   "execution_count": 5,
   "metadata": {},
   "outputs": [],
   "source": [
    "random_state=999"
   ]
  },
  {
   "cell_type": "markdown",
   "metadata": {},
   "source": [
    "# Load data"
   ]
  },
  {
   "cell_type": "code",
   "execution_count": 3,
   "metadata": {},
   "outputs": [],
   "source": [
    "n_ts = 1000  # number of testing set samples\n",
    "\n",
    "from secml.data.loader import CDataLoaderMNIST\n",
    "digits = (1, 5, 9)\n",
    "loader = CDataLoaderMNIST()\n",
    "tr = loader.load('training', digits=digits)\n",
    "ts = loader.load('testing', digits=digits, num_samples=n_ts)\n",
    "\n",
    "# Normalize the data\n",
    "tr.X /= 255\n",
    "ts.X /= 255"
   ]
  },
  {
   "cell_type": "markdown",
   "metadata": {},
   "source": [
    "Split data into train-validation set (Stacked Generalization alike)"
   ]
  },
  {
   "cell_type": "code",
   "execution_count": 4,
   "metadata": {},
   "outputs": [],
   "source": [
    "from secml.data.splitter import CTrainTestSplit"
   ]
  },
  {
   "cell_type": "code",
   "execution_count": 6,
   "metadata": {},
   "outputs": [],
   "source": [
    "tr, vl = CTrainTestSplit(test_size=0.5, random_state=random_state).split(tr)"
   ]
  },
  {
   "cell_type": "code",
   "execution_count": 7,
   "metadata": {},
   "outputs": [
    {
     "data": {
      "text/plain": [
       "(9056, 9056)"
      ]
     },
     "execution_count": 7,
     "metadata": {},
     "output_type": "execute_result"
    }
   ],
   "source": [
    "tr.X.shape[0], vl.X.shape[0]"
   ]
  },
  {
   "cell_type": "markdown",
   "metadata": {},
   "source": [
    "# NN classifier"
   ]
  },
  {
   "cell_type": "code",
   "execution_count": 8,
   "metadata": {},
   "outputs": [],
   "source": [
    "import torch\n",
    "from torch import nn\n",
    "\n",
    "class MNIST3cCNN(nn.Module):\n",
    "    \"\"\"Model with input size (-1, 28, 28) for MNIST 3-classes dataset.\"\"\"\n",
    "    def __init__(self):\n",
    "        super(MNIST3cCNN, self).__init__()\n",
    "        self.conv1 = nn.Conv2d(1, 10, kernel_size=5)\n",
    "        self.conv2 = nn.Conv2d(10, 20, kernel_size=5)\n",
    "        self.conv2_drop = nn.Dropout2d()\n",
    "        self.fc1 = nn.Linear(320, 50)\n",
    "        self.fc2 = nn.Linear(50, 3)\n",
    "\n",
    "    def forward(self, x):\n",
    "        x = torch.relu(torch.max_pool2d(self.conv1(x), 2))\n",
    "        x = torch.relu(torch.max_pool2d(self.conv2_drop(self.conv2(x)), 2))\n",
    "        x = x.view(-1, 320)\n",
    "        x = torch.relu(self.fc1(x))\n",
    "        return self.fc2(x)"
   ]
  },
  {
   "cell_type": "markdown",
   "metadata": {},
   "source": [
    "### Wrap it"
   ]
  },
  {
   "cell_type": "code",
   "execution_count": 9,
   "metadata": {},
   "outputs": [],
   "source": [
    "from torch import optim\n",
    "\n",
    "# Random seed\n",
    "torch.manual_seed(0)\n",
    "\n",
    "net = MNIST3cCNN()\n",
    "criterion = nn.CrossEntropyLoss()\n",
    "optimizer = optim.SGD(net.parameters(),\n",
    "                      lr=0.01, momentum=0.9)\n",
    "\n",
    "from secml.ml.classifiers import CClassifierPyTorch\n",
    "dnn = CClassifierPyTorch(model=net,\n",
    "                         loss=criterion,\n",
    "                         optimizer=optimizer,\n",
    "                         epochs=20,\n",
    "                         batch_size=20,\n",
    "                         input_shape=(1, 28, 28),\n",
    "                         random_state=0)"
   ]
  },
  {
   "cell_type": "code",
   "execution_count": 10,
   "metadata": {},
   "outputs": [
    {
     "name": "stdout",
     "output_type": "stream",
     "text": [
      "Training started...\n",
      "Training completed!\n"
     ]
    }
   ],
   "source": [
    "# clf.verbose = 1  # Can be used to display training process output\n",
    "print(\"Training started...\")\n",
    "dnn.fit(tr)\n",
    "print(\"Training completed!\")"
   ]
  },
  {
   "cell_type": "code",
   "execution_count": 11,
   "metadata": {},
   "outputs": [
    {
     "name": "stdout",
     "output_type": "stream",
     "text": [
      "CClassifierPyTorch{'classes': CArray(3,)(dense: [0 1 2]), 'n_features': 784, 'preprocess': None, 'model': MNIST3cCNN(\n",
      "  (conv1): Conv2d(1, 10, kernel_size=(5, 5), stride=(1, 1))\n",
      "  (conv2): Conv2d(10, 20, kernel_size=(5, 5), stride=(1, 1))\n",
      "  (conv2_drop): Dropout2d(p=0.5, inplace=False)\n",
      "  (fc1): Linear(in_features=320, out_features=50, bias=True)\n",
      "  (fc2): Linear(in_features=50, out_features=3, bias=True)\n",
      "), 'trained': True, 'input_shape': (1, 28, 28), 'softmax_outputs': False, 'batch_size': 20, 'loss': CrossEntropyLoss(), 'optimizer': SGD (\n",
      "Parameter Group 0\n",
      "    dampening: 0\n",
      "    lr: 0.01\n",
      "    momentum: 0.9\n",
      "    nesterov: False\n",
      "    weight_decay: 0\n",
      "), 'optimizer_scheduler': None, 'epochs': 20}\n"
     ]
    }
   ],
   "source": [
    "print(dnn)"
   ]
  },
  {
   "cell_type": "code",
   "execution_count": 12,
   "metadata": {},
   "outputs": [
    {
     "name": "stdout",
     "output_type": "stream",
     "text": [
      "Model Accuracy: 0.997\n"
     ]
    }
   ],
   "source": [
    "label_torch = dnn.predict(ts.X, return_decision_function=False)\n",
    "\n",
    "from secml.ml.peval.metrics import CMetric\n",
    "acc_torch = CMetric.create('accuracy').performance_score(ts.Y, label_torch)\n",
    "\n",
    "print(\"Model Accuracy: {}\".format(acc_torch))"
   ]
  },
  {
   "cell_type": "markdown",
   "metadata": {},
   "source": [
    "# Generate Adversarial Samples"
   ]
  },
  {
   "cell_type": "code",
   "execution_count": 16,
   "metadata": {},
   "outputs": [
    {
     "data": {
      "text/plain": [
       "(1000, 784)"
      ]
     },
     "execution_count": 16,
     "metadata": {},
     "output_type": "execute_result"
    }
   ],
   "source": [
    "ts.X.shape"
   ]
  },
  {
   "cell_type": "code",
   "execution_count": 17,
   "metadata": {},
   "outputs": [
    {
     "name": "stdout",
     "output_type": "stream",
     "text": [
      "Attack started...\n",
      "Attack complete!\n"
     ]
    }
   ],
   "source": [
    "# For simplicity, let's attack a subset of the test set\n",
    "attack_ds = ts\n",
    "\n",
    "noise_type = 'l2'  # Type of perturbation 'l1' or 'l2'\n",
    "dmax = 3.0  # Maximum perturbation\n",
    "lb, ub = 0., 1.  # Bounds of the attack space. Can be set to `None` for unbounded\n",
    "y_target = None  # None if `error-generic` or a class label for `error-specific`\n",
    "\n",
    "# Should be chosen depending on the optimization problem\n",
    "solver_params = {\n",
    "    'eta': 0.5,\n",
    "    'eta_min': 2.0,\n",
    "    'eta_max': None,\n",
    "    'max_iter': 100,\n",
    "    'eps': 1e-6\n",
    "}\n",
    "\n",
    "from secml.adv.attacks import CAttackEvasionPGDLS\n",
    "pgd_ls_attack = CAttackEvasionPGDLS(classifier=dnn,\n",
    "                                    surrogate_classifier=dnn,\n",
    "                                    surrogate_data=tr,\n",
    "                                    distance=noise_type,\n",
    "                                    dmax=dmax,\n",
    "                                    solver_params=solver_params,\n",
    "                                    y_target=y_target)\n",
    "\n",
    "print(\"Attack started...\")\n",
    "eva_y_pred, _, eva_adv_ds, _ = pgd_ls_attack.run(\n",
    "    attack_ds.X, attack_ds.Y, double_init=True)\n",
    "print(\"Attack complete!\")"
   ]
  },
  {
   "cell_type": "code",
   "execution_count": 18,
   "metadata": {},
   "outputs": [
    {
     "data": {
      "text/plain": [
       "CDataset{'X': CArray(1000, 784)(dense: [[0. 0. 0. ... 0. 0. 0.] [0. 0. 0. ... 0. 0. 0.] [0. 0. 0. ... 0. 0. 0.] ... [0. 0. 0. ... 0. 0. 0.] [0. 0. 0. ... 0. 0. 0.] [0. 0. 0. ... 0. 0. 0.]]), 'Y': CArray(1000,)(dense: [0 0 2 ... 1 1 1]), 'header': CDatasetHeader{'num_samples': None, 'img_w': 28, 'img_h': 28, 'y_original': (1, 5, 9)}}"
      ]
     },
     "execution_count": 18,
     "metadata": {},
     "output_type": "execute_result"
    }
   ],
   "source": [
    "attack_ds"
   ]
  },
  {
   "cell_type": "code",
   "execution_count": 19,
   "metadata": {},
   "outputs": [
    {
     "name": "stdout",
     "output_type": "stream",
     "text": [
      "Accuracy on reduced test set before attack: 99.70%\n",
      "Accuracy on reduced test set after attack: 10.70%\n"
     ]
    }
   ],
   "source": [
    "from secml.ml.peval.metrics import CMetric\n",
    "metric = CMetric.create('accuracy')\n",
    "\n",
    "acc = metric.performance_score(\n",
    "    y_true=attack_ds.Y, y_pred=dnn.predict(attack_ds.X))\n",
    "acc_attack = metric.performance_score(\n",
    "    y_true=attack_ds.Y, y_pred=eva_y_pred)\n",
    "\n",
    "print(\"Accuracy on reduced test set before attack: {:.2%}\".format(acc))\n",
    "print(\"Accuracy on reduced test set after attack: {:.2%}\".format(acc_attack))"
   ]
  },
  {
   "cell_type": "markdown",
   "metadata": {},
   "source": [
    "# Security evaluation of a classifier"
   ]
  },
  {
   "cell_type": "code",
   "execution_count": null,
   "metadata": {},
   "outputs": [],
   "source": [
    "attack.verbose = 0"
   ]
  },
  {
   "cell_type": "code",
   "execution_count": null,
   "metadata": {},
   "outputs": [],
   "source": [
    "# Only required for visualization in notebooks\n",
    "%matplotlib inline"
   ]
  },
  {
   "cell_type": "code",
   "execution_count": null,
   "metadata": {},
   "outputs": [],
   "source": [
    "# Perturbation levels to test\n",
    "from secml.array import CArray\n",
    "e_vals = CArray.arange(start=0, step=0.1, stop=1.1)\n",
    "\n",
    "from secml.adv.seceval import CSecEval\n",
    "sec_eval = CSecEval(\n",
    "    attack=pgd_ls_attack, param_name='dmax', param_values=e_vals)\n",
    "\n",
    "# Run the security evaluation using the test set\n",
    "print(\"Running security evaluation...\")\n",
    "sec_eval.run_sec_eval(ts, double_init=False)\n",
    "\n",
    "from secml.figure import CFigure\n",
    "fig = CFigure(height=5, width=5)\n",
    "\n",
    "# Convenience function for plotting the Security Evaluation Curve\n",
    "fig.sp.plot_sec_eval(\n",
    "    sec_eval.sec_eval_data, marker='o', label='DNN', show_average=True)"
   ]
  },
  {
   "cell_type": "markdown",
   "metadata": {},
   "source": [
    "---"
   ]
  },
  {
   "cell_type": "markdown",
   "metadata": {},
   "source": [
    "# Get DNN features"
   ]
  },
  {
   "cell_type": "code",
   "execution_count": 20,
   "metadata": {},
   "outputs": [],
   "source": [
    "from secml.ml.features import CNormalizerDNN"
   ]
  },
  {
   "cell_type": "code",
   "execution_count": 21,
   "metadata": {},
   "outputs": [
    {
     "data": {
      "text/plain": [
       "CNormalizerDNN{'net': CClassifierPyTorch{'classes': CArray(3,)(dense: [0 1 2]), 'n_features': 784, 'preprocess': None, 'model': MNIST3cCNN(\n",
       "  (conv1): Conv2d(1, 10, kernel_size=(5, 5), stride=(1, 1))\n",
       "  (conv2): Conv2d(10, 20, kernel_size=(5, 5), stride=(1, 1))\n",
       "  (conv2_drop): Dropout2d(p=0.5, inplace=False)\n",
       "  (fc1): Linear(in_features=320, out_features=50, bias=True)\n",
       "  (fc2): Linear(in_features=50, out_features=3, bias=True)\n",
       "), 'trained': True, 'input_shape': (1, 28, 28), 'softmax_outputs': False, 'batch_size': 20, 'loss': CrossEntropyLoss(), 'optimizer': SGD (\n",
       "Parameter Group 0\n",
       "    dampening: 0\n",
       "    lr: 0.01\n",
       "    momentum: 0.9\n",
       "    nesterov: False\n",
       "    weight_decay: 0\n",
       "), 'optimizer_scheduler': None, 'epochs': 20}, 'out_layer': 'fc1', 'preprocess': None}"
      ]
     },
     "execution_count": 21,
     "metadata": {},
     "output_type": "execute_result"
    }
   ],
   "source": [
    "feat_extr = CNormalizerDNN(dnn, out_layer='fc1')\n",
    "feat_extr"
   ]
  },
  {
   "cell_type": "markdown",
   "metadata": {},
   "source": [
    "## ACHTUNG!\n",
    "<mark> Generating further training points using validation set to avoid overfitting!</mark>"
   ]
  },
  {
   "cell_type": "code",
   "execution_count": 99,
   "metadata": {},
   "outputs": [
    {
     "data": {
      "text/plain": [
       "((9056, 50), (1000, 50))"
      ]
     },
     "execution_count": 99,
     "metadata": {},
     "output_type": "execute_result"
    }
   ],
   "source": [
    "feats_vl = feat_extr.forward(vl.X)   # <-- see?\n",
    "feats_ts = feat_extr.forward(ts.X)\n",
    "feats_vl.shape, feats_ts.shape"
   ]
  },
  {
   "cell_type": "markdown",
   "metadata": {},
   "source": [
    "# Train an SVM-RBF ontop"
   ]
  },
  {
   "cell_type": "code",
   "execution_count": 100,
   "metadata": {},
   "outputs": [],
   "source": [
    "from secml.data.c_dataset import CDataset"
   ]
  },
  {
   "cell_type": "code",
   "execution_count": 101,
   "metadata": {},
   "outputs": [],
   "source": [
    "feat_vl_ds = CDataset(feats_vl, vl.Y)\n",
    "feat_ts_ds = CDataset(feats_ts, ts.Y)"
   ]
  },
  {
   "cell_type": "code",
   "execution_count": 104,
   "metadata": {},
   "outputs": [],
   "source": [
    "# Normalize the data\n",
    "from secml.ml.features import CNormalizerMinMax\n",
    "nmz = CNormalizerMinMax()\n",
    "feat_vl_ds.X = nmz.fit_transform(feat_vl_ds.X)\n",
    "feat_ts_ds.X = nmz.transform(feat_ts_ds.X)"
   ]
  },
  {
   "cell_type": "code",
   "execution_count": 105,
   "metadata": {
    "scrolled": true
   },
   "outputs": [
    {
     "name": "stdout",
     "output_type": "stream",
     "text": [
      "Estimating the best training parameters...\n",
      "2020-04-21 12:24:25,965 - CPerfEvaluatorXVal.0x7f83888ec978 - INFO - Parameters to evaluate: {'C': [0.01, 1, 100], 'kernel.gamma': [0.01, 10, 100]}\n",
      "2020-04-21 12:24:25,971 - CClassifierMulticlassOVA.0x7f83888ec0f0 - INFO - Training against class: 0\n",
      "2020-04-21 12:24:26,231 - CClassifierSVM.0x7f83888ec048 - INFO - Training SVM with parameters: {'preprocess': None, 'C': 0.01, 'class_weight': None, 'grad_sampling': 1.0, 'store_dual_vars': None, 'kernel': CKernelRBF{'gamma': 0.01, 'rv': None, 'preprocess': None}}\n",
      "2020-04-21 12:24:27,889 - CClassifierMulticlassOVA.0x7f83888ec0f0 - INFO - Training against class: 1\n",
      "2020-04-21 12:24:28,137 - CClassifierSVM.0x7f839002f908 - INFO - Training SVM with parameters: {'preprocess': None, 'C': 0.01, 'class_weight': None, 'grad_sampling': 1.0, 'store_dual_vars': None, 'kernel': CKernelRBF{'gamma': 0.01, 'rv': None, 'preprocess': None}}\n",
      "2020-04-21 12:24:29,629 - CClassifierMulticlassOVA.0x7f83888ec0f0 - INFO - Training against class: 2\n",
      "2020-04-21 12:24:29,878 - CClassifierSVM.0x7f8390075f60 - INFO - Training SVM with parameters: {'preprocess': None, 'C': 0.01, 'class_weight': None, 'grad_sampling': 1.0, 'store_dual_vars': None, 'kernel': CKernelRBF{'gamma': 0.01, 'rv': None, 'preprocess': None}}\n",
      "2020-04-21 12:24:32,459 - CClassifierMulticlassOVA.0x7f83888ec0f0 - INFO - Training against class: 0\n",
      "2020-04-21 12:24:32,784 - CClassifierSVM.0x7f83888ec048 - INFO - Training SVM with parameters: {'preprocess': None, 'C': 0.01, 'class_weight': None, 'grad_sampling': 1.0, 'store_dual_vars': None, 'kernel': CKernelRBF{'gamma': 0.01, 'rv': CArray(4526, 50)(dense: [[0.631801 0.609851 0.681576 ... 0.599143 0.45128  0.331064] [0.319539 0.564277 0.295036 ... 0.211639 0.294304 0.414772] [0.741261 0.53255  0.762431 ... 0.691528 0.550085 0.356605] ... [0.772665 0.068269 0.148814 ... 0.246715 0.815075 0.928326] [0.760339 0.06706  0.156401 ... 0.207625 0.777592 0.886648] [0.88371  0.113048 0.168824 ... 0.269053 0.836361 0.820962]]), 'preprocess': None}}\n",
      "2020-04-21 12:24:34,481 - CClassifierMulticlassOVA.0x7f83888ec0f0 - INFO - Training against class: 1\n",
      "2020-04-21 12:24:34,731 - CClassifierSVM.0x7f839002f908 - INFO - Training SVM with parameters: {'preprocess': None, 'C': 0.01, 'class_weight': None, 'grad_sampling': 1.0, 'store_dual_vars': None, 'kernel': CKernelRBF{'gamma': 0.01, 'rv': CArray(3480, 50)(dense: [[0.631801 0.609851 0.681576 ... 0.599143 0.45128  0.331064] [0.752742 0.068505 0.204044 ... 0.277333 0.711262 0.852773] [0.793809 0.061198 0.189204 ... 0.233018 0.798059 0.89644 ] ... [0.349617 0.6748   0.427632 ... 0.342974 0.362027 0.343559] [0.375594 0.633238 0.413938 ... 0.339545 0.401927 0.378512] [0.247534 0.85192  0.390042 ... 0.323966 0.194077 0.193565]]), 'preprocess': None}}\n",
      "2020-04-21 12:24:36,287 - CClassifierMulticlassOVA.0x7f83888ec0f0 - INFO - Training against class: 2\n",
      "2020-04-21 12:24:36,537 - CClassifierSVM.0x7f8390075f60 - INFO - Training SVM with parameters: {'preprocess': None, 'C': 0.01, 'class_weight': None, 'grad_sampling': 1.0, 'store_dual_vars': None, 'kernel': CKernelRBF{'gamma': 0.01, 'rv': CArray(3932, 50)(dense: [[0.782962 0.082974 0.22547  ... 0.303101 0.836078 0.900143] [0.760833 0.054689 0.172889 ... 0.304553 0.810902 0.930229] [0.688999 0.299158 0.462572 ... 0.493556 0.831171 0.691465] ... [0.538573 0.742933 0.869151 ... 0.752485 0.497865 0.236443] [0.617783 0.757032 0.876123 ... 0.885706 0.447493 0.23082 ] [0.546089 0.894925 0.781912 ... 0.622607 0.488415 0.233982]]), 'preprocess': None}}\n",
      "2020-04-21 12:24:39,121 - CClassifierMulticlassOVA.0x7f83888ec0f0 - INFO - Training against class: 0\n",
      "2020-04-21 12:24:39,479 - CClassifierSVM.0x7f83888ec048 - INFO - Training SVM with parameters: {'preprocess': None, 'C': 0.01, 'class_weight': None, 'grad_sampling': 1.0, 'store_dual_vars': None, 'kernel': CKernelRBF{'gamma': 0.01, 'rv': CArray(4536, 50)(dense: [[0.250139 0.755322 0.264548 ... 0.379916 0.208167 0.454044] [0.320129 0.681291 0.356225 ... 0.302626 0.27539  0.41397 ] [0.661647 0.504879 0.660099 ... 0.600564 0.624443 0.433945] ... [0.902194 0.095051 0.176878 ... 0.313168 0.845025 0.825834] [0.780308 0.056616 0.150865 ... 0.231145 0.799611 0.928396] [0.775655 0.053582 0.177402 ... 0.261807 0.819031 0.919559]]), 'preprocess': None}}\n",
      "2020-04-21 12:24:41,064 - CClassifierMulticlassOVA.0x7f83888ec0f0 - INFO - Training against class: 1\n",
      "2020-04-21 12:24:41,341 - CClassifierSVM.0x7f839002f908 - INFO - Training SVM with parameters: {'preprocess': None, 'C': 0.01, 'class_weight': None, 'grad_sampling': 1.0, 'store_dual_vars': None, 'kernel': CKernelRBF{'gamma': 0.01, 'rv': CArray(3482, 50)(dense: [[0.793809 0.061198 0.189204 ... 0.233018 0.798059 0.89644 ] [0.738802 0.0701   0.173044 ... 0.239657 0.772406 0.890658] [0.877528 0.134063 0.164872 ... 0.268739 0.807484 0.833736] ... [0.258209 0.808964 0.446904 ... 0.525762 0.194595 0.224236] [0.366939 0.545501 0.236573 ... 0.274854 0.364601 0.431003] [0.375594 0.633238 0.413938 ... 0.339545 0.401927 0.378512]]), 'preprocess': None}}\n",
      "2020-04-21 12:24:42,814 - CClassifierMulticlassOVA.0x7f83888ec0f0 - INFO - Training against class: 2\n",
      "2020-04-21 12:24:43,078 - CClassifierSVM.0x7f8390075f60 - INFO - Training SVM with parameters: {'preprocess': None, 'C': 0.01, 'class_weight': None, 'grad_sampling': 1.0, 'store_dual_vars': None, 'kernel': CKernelRBF{'gamma': 0.01, 'rv': CArray(3916, 50)(dense: [[0.782962 0.082974 0.22547  ... 0.303101 0.836078 0.900143] [0.688999 0.299158 0.462572 ... 0.493556 0.831171 0.691465] [0.320129 0.681291 0.356225 ... 0.302626 0.27539  0.41397 ] ... [0.734627 0.482414 0.515809 ... 0.577943 0.698691 0.483745] [0.679432 0.387356 0.569345 ... 0.595423 0.77214  0.520467] [0.618286 0.494869 0.717315 ... 0.634201 0.664745 0.410195]]), 'preprocess': None}}\n",
      "2020-04-21 12:24:45,630 - CPerfEvaluatorXVal.0x7f83888ec978 - INFO - Params: {'C': 0.01, 'kernel.gamma': 0.01} - Score: 0.9859758675871605\n",
      "2020-04-21 12:24:45,642 - CClassifierMulticlassOVA.0x7f83888ec0f0 - INFO - Training against class: 0\n",
      "2020-04-21 12:24:45,990 - CClassifierSVM.0x7f83888ec048 - INFO - Training SVM with parameters: {'preprocess': None, 'C': 0.01, 'class_weight': None, 'grad_sampling': 1.0, 'store_dual_vars': None, 'kernel': CKernelRBF{'gamma': 10.0, 'rv': CArray(4506, 50)(dense: [[0.631801 0.609851 0.681576 ... 0.599143 0.45128  0.331064] [0.250139 0.755322 0.264548 ... 0.379916 0.208167 0.454044] [0.319539 0.564277 0.295036 ... 0.211639 0.294304 0.414772] ... [0.760339 0.06706  0.156401 ... 0.207625 0.777592 0.886648] [0.775655 0.053582 0.177402 ... 0.261807 0.819031 0.919559] [0.88371  0.113048 0.168824 ... 0.269053 0.836361 0.820962]]), 'preprocess': None}}\n",
      "2020-04-21 12:24:47,746 - CClassifierMulticlassOVA.0x7f83888ec0f0 - INFO - Training against class: 1\n",
      "2020-04-21 12:24:48,022 - CClassifierSVM.0x7f839002f908 - INFO - Training SVM with parameters: {'preprocess': None, 'C': 0.01, 'class_weight': None, 'grad_sampling': 1.0, 'store_dual_vars': None, 'kernel': CKernelRBF{'gamma': 10.0, 'rv': CArray(3518, 50)(dense: [[0.631801 0.609851 0.681576 ... 0.599143 0.45128  0.331064] [0.752742 0.068505 0.204044 ... 0.277333 0.711262 0.852773] [0.776435 0.809834 0.835342 ... 0.734293 0.522598 0.20544 ] ... [0.258209 0.808964 0.446904 ... 0.525762 0.194595 0.224236] [0.366939 0.545501 0.236573 ... 0.274854 0.364601 0.431003] [0.247534 0.85192  0.390042 ... 0.323966 0.194077 0.193565]]), 'preprocess': None}}\n",
      "2020-04-21 12:24:49,669 - CClassifierMulticlassOVA.0x7f83888ec0f0 - INFO - Training against class: 2\n",
      "2020-04-21 12:24:49,948 - CClassifierSVM.0x7f8390075f60 - INFO - Training SVM with parameters: {'preprocess': None, 'C': 0.01, 'class_weight': None, 'grad_sampling': 1.0, 'store_dual_vars': None, 'kernel': CKernelRBF{'gamma': 10.0, 'rv': CArray(3908, 50)(dense: [[0.760833 0.054689 0.172889 ... 0.304553 0.810902 0.930229] [0.320129 0.681291 0.356225 ... 0.302626 0.27539  0.41397 ] [0.212163 0.705583 0.31082  ... 0.354237 0.259101 0.373221] ... [0.679432 0.387356 0.569345 ... 0.595423 0.77214  0.520467] [0.618286 0.494869 0.717315 ... 0.634201 0.664745 0.410195] [0.546089 0.894925 0.781912 ... 0.622607 0.488415 0.233982]]), 'preprocess': None}}\n"
     ]
    },
    {
     "name": "stdout",
     "output_type": "stream",
     "text": [
      "2020-04-21 12:24:52,497 - CClassifierMulticlassOVA.0x7f83888ec0f0 - INFO - Training against class: 0\n",
      "2020-04-21 12:24:52,845 - CClassifierSVM.0x7f83888ec048 - INFO - Training SVM with parameters: {'preprocess': None, 'C': 0.01, 'class_weight': None, 'grad_sampling': 1.0, 'store_dual_vars': None, 'kernel': CKernelRBF{'gamma': 10.0, 'rv': CArray(3348, 50)(dense: [[0.319539 0.564277 0.295036 ... 0.211639 0.294304 0.414772] [0.741261 0.53255  0.762431 ... 0.691528 0.550085 0.356605] [0.776435 0.809834 0.835342 ... 0.734293 0.522598 0.20544 ] ... [0.798788 0.10595  0.138171 ... 0.183795 0.765937 0.887765] [0.844642 0.152119 0.173919 ... 0.28547  0.78265  0.806754] [0.88371  0.113048 0.168824 ... 0.269053 0.836361 0.820962]]), 'preprocess': None}}\n",
      "2020-04-21 12:24:54,574 - CClassifierMulticlassOVA.0x7f83888ec0f0 - INFO - Training against class: 1\n",
      "2020-04-21 12:24:54,842 - CClassifierSVM.0x7f839002f908 - INFO - Training SVM with parameters: {'preprocess': None, 'C': 0.01, 'class_weight': None, 'grad_sampling': 1.0, 'store_dual_vars': None, 'kernel': CKernelRBF{'gamma': 10.0, 'rv': CArray(3658, 50)(dense: [[0.631801 0.609851 0.681576 ... 0.599143 0.45128  0.331064] [0.741261 0.53255  0.762431 ... 0.691528 0.550085 0.356605] [0.776435 0.809834 0.835342 ... 0.734293 0.522598 0.20544 ] ... [0.349617 0.6748   0.427632 ... 0.342974 0.362027 0.343559] [0.375594 0.633238 0.413938 ... 0.339545 0.401927 0.378512] [0.247534 0.85192  0.390042 ... 0.323966 0.194077 0.193565]]), 'preprocess': None}}\n",
      "2020-04-21 12:24:56,470 - CClassifierMulticlassOVA.0x7f83888ec0f0 - INFO - Training against class: 2\n",
      "2020-04-21 12:24:56,747 - CClassifierSVM.0x7f8390075f60 - INFO - Training SVM with parameters: {'preprocess': None, 'C': 0.01, 'class_weight': None, 'grad_sampling': 1.0, 'store_dual_vars': None, 'kernel': CKernelRBF{'gamma': 10.0, 'rv': CArray(4000, 50)(dense: [[0.319539 0.564277 0.295036 ... 0.211639 0.294304 0.414772] [0.688999 0.299158 0.462572 ... 0.493556 0.831171 0.691465] [0.360604 0.496302 0.204197 ... 0.263526 0.346809 0.665438] ... [0.538573 0.742933 0.869151 ... 0.752485 0.497865 0.236443] [0.617783 0.757032 0.876123 ... 0.885706 0.447493 0.23082 ] [0.546089 0.894925 0.781912 ... 0.622607 0.488415 0.233982]]), 'preprocess': None}}\n",
      "2020-04-21 12:24:59,387 - CClassifierMulticlassOVA.0x7f83888ec0f0 - INFO - Training against class: 0\n",
      "2020-04-21 12:24:59,735 - CClassifierSVM.0x7f83888ec048 - INFO - Training SVM with parameters: {'preprocess': None, 'C': 0.01, 'class_weight': None, 'grad_sampling': 1.0, 'store_dual_vars': None, 'kernel': CKernelRBF{'gamma': 10.0, 'rv': CArray(3352, 50)(dense: [[0.215432 0.830215 0.317806 ... 0.14048  0.182788 0.272299] [0.240269 0.846945 0.459148 ... 0.352812 0.25913  0.170031] [0.772217 0.652157 0.693002 ... 0.806391 0.517264 0.305557] ... [0.772982 0.082038 0.143734 ... 0.189112 0.781276 0.863347] [0.844642 0.152119 0.173919 ... 0.28547  0.78265  0.806754] [0.902194 0.095051 0.176878 ... 0.313168 0.845025 0.825834]]), 'preprocess': None}}\n",
      "2020-04-21 12:25:01,465 - CClassifierMulticlassOVA.0x7f83888ec0f0 - INFO - Training against class: 1\n",
      "2020-04-21 12:25:01,733 - CClassifierSVM.0x7f839002f908 - INFO - Training SVM with parameters: {'preprocess': None, 'C': 0.01, 'class_weight': None, 'grad_sampling': 1.0, 'store_dual_vars': None, 'kernel': CKernelRBF{'gamma': 10.0, 'rv': CArray(3676, 50)(dense: [[0.688999 0.299158 0.462572 ... 0.493556 0.831171 0.691465] [0.772217 0.652157 0.693002 ... 0.806391 0.517264 0.305557] [0.488074 0.583993 0.63054  ... 0.654854 0.404329 0.337865] ... [0.258209 0.808964 0.446904 ... 0.525762 0.194595 0.224236] [0.366939 0.545501 0.236573 ... 0.274854 0.364601 0.431003] [0.375594 0.633238 0.413938 ... 0.339545 0.401927 0.378512]]), 'preprocess': None}}\n",
      "2020-04-21 12:25:03,416 - CClassifierMulticlassOVA.0x7f83888ec0f0 - INFO - Training against class: 2\n",
      "2020-04-21 12:25:03,696 - CClassifierSVM.0x7f8390075f60 - INFO - Training SVM with parameters: {'preprocess': None, 'C': 0.01, 'class_weight': None, 'grad_sampling': 1.0, 'store_dual_vars': None, 'kernel': CKernelRBF{'gamma': 10.0, 'rv': CArray(3981, 50)(dense: [[0.250139 0.755322 0.264548 ... 0.379916 0.208167 0.454044] [0.215432 0.830215 0.317806 ... 0.14048  0.182788 0.272299] [0.688999 0.299158 0.462572 ... 0.493556 0.831171 0.691465] ... [0.734627 0.482414 0.515809 ... 0.577943 0.698691 0.483745] [0.679432 0.387356 0.569345 ... 0.595423 0.77214  0.520467] [0.618286 0.494869 0.717315 ... 0.634201 0.664745 0.410195]]), 'preprocess': None}}\n",
      "2020-04-21 12:25:06,399 - CPerfEvaluatorXVal.0x7f83888ec978 - INFO - Params: {'C': 0.01, 'kernel.gamma': 10} - Score: 0.9697435350357829\n",
      "2020-04-21 12:25:06,410 - CClassifierMulticlassOVA.0x7f83888ec0f0 - INFO - Training against class: 0\n",
      "2020-04-21 12:25:06,756 - CClassifierSVM.0x7f83888ec048 - INFO - Training SVM with parameters: {'preprocess': None, 'C': 0.01, 'class_weight': None, 'grad_sampling': 1.0, 'store_dual_vars': None, 'kernel': CKernelRBF{'gamma': 100.0, 'rv': CArray(3366, 50)(dense: [[0.319539 0.564277 0.295036 ... 0.211639 0.294304 0.414772] [0.215432 0.830215 0.317806 ... 0.14048  0.182788 0.272299] [0.741261 0.53255  0.762431 ... 0.691528 0.550085 0.356605] ... [0.798788 0.10595  0.138171 ... 0.183795 0.765937 0.887765] [0.902194 0.095051 0.176878 ... 0.313168 0.845025 0.825834] [0.88371  0.113048 0.168824 ... 0.269053 0.836361 0.820962]]), 'preprocess': None}}\n",
      "2020-04-21 12:25:08,997 - CClassifierMulticlassOVA.0x7f83888ec0f0 - INFO - Training against class: 1\n",
      "2020-04-21 12:25:09,282 - CClassifierSVM.0x7f839002f908 - INFO - Training SVM with parameters: {'preprocess': None, 'C': 0.01, 'class_weight': None, 'grad_sampling': 1.0, 'store_dual_vars': None, 'kernel': CKernelRBF{'gamma': 100.0, 'rv': CArray(3705, 50)(dense: [[0.631801 0.609851 0.681576 ... 0.599143 0.45128  0.331064] [0.741261 0.53255  0.762431 ... 0.691528 0.550085 0.356605] [0.776435 0.809834 0.835342 ... 0.734293 0.522598 0.20544 ] ... [0.258209 0.808964 0.446904 ... 0.525762 0.194595 0.224236] [0.366939 0.545501 0.236573 ... 0.274854 0.364601 0.431003] [0.247534 0.85192  0.390042 ... 0.323966 0.194077 0.193565]]), 'preprocess': None}}\n",
      "2020-04-21 12:25:11,384 - CClassifierMulticlassOVA.0x7f83888ec0f0 - INFO - Training against class: 2\n",
      "2020-04-21 12:25:11,655 - CClassifierSVM.0x7f8390075f60 - INFO - Training SVM with parameters: {'preprocess': None, 'C': 0.01, 'class_weight': None, 'grad_sampling': 1.0, 'store_dual_vars': None, 'kernel': CKernelRBF{'gamma': 100.0, 'rv': CArray(3971, 50)(dense: [[0.250139 0.755322 0.264548 ... 0.379916 0.208167 0.454044] [0.319539 0.564277 0.295036 ... 0.211639 0.294304 0.414772] [0.215432 0.830215 0.317806 ... 0.14048  0.182788 0.272299] ... [0.679432 0.387356 0.569345 ... 0.595423 0.77214  0.520467] [0.618286 0.494869 0.717315 ... 0.634201 0.664745 0.410195] [0.546089 0.894925 0.781912 ... 0.622607 0.488415 0.233982]]), 'preprocess': None}}\n",
      "2020-04-21 12:25:15,342 - CClassifierMulticlassOVA.0x7f83888ec0f0 - INFO - Training against class: 0\n",
      "2020-04-21 12:25:15,692 - CClassifierSVM.0x7f83888ec048 - INFO - Training SVM with parameters: {'preprocess': None, 'C': 0.01, 'class_weight': None, 'grad_sampling': 1.0, 'store_dual_vars': None, 'kernel': CKernelRBF{'gamma': 100.0, 'rv': CArray(6037, 50)(dense: [[0.631801 0.609851 0.681576 ... 0.599143 0.45128  0.331064] [0.319539 0.564277 0.295036 ... 0.211639 0.294304 0.414772] [0.741261 0.53255  0.762431 ... 0.691528 0.550085 0.356605] ... [0.772665 0.068269 0.148814 ... 0.246715 0.815075 0.928326] [0.760339 0.06706  0.156401 ... 0.207625 0.777592 0.886648] [0.88371  0.113048 0.168824 ... 0.269053 0.836361 0.820962]]), 'preprocess': None}}\n",
      "2020-04-21 12:25:17,924 - CClassifierMulticlassOVA.0x7f83888ec0f0 - INFO - Training against class: 1\n",
      "2020-04-21 12:25:18,197 - CClassifierSVM.0x7f839002f908 - INFO - Training SVM with parameters: {'preprocess': None, 'C': 0.01, 'class_weight': None, 'grad_sampling': 1.0, 'store_dual_vars': None, 'kernel': CKernelRBF{'gamma': 100.0, 'rv': CArray(5360, 50)(dense: [[0.631801 0.609851 0.681576 ... 0.599143 0.45128  0.331064] [0.752742 0.068505 0.204044 ... 0.277333 0.711262 0.852773] [0.793809 0.061198 0.189204 ... 0.233018 0.798059 0.89644 ] ... [0.349617 0.6748   0.427632 ... 0.342974 0.362027 0.343559] [0.375594 0.633238 0.413938 ... 0.339545 0.401927 0.378512] [0.247534 0.85192  0.390042 ... 0.323966 0.194077 0.193565]]), 'preprocess': None}}\n"
     ]
    },
    {
     "name": "stdout",
     "output_type": "stream",
     "text": [
      "2020-04-21 12:25:20,301 - CClassifierMulticlassOVA.0x7f83888ec0f0 - INFO - Training against class: 2\n",
      "2020-04-21 12:25:20,577 - CClassifierSVM.0x7f8390075f60 - INFO - Training SVM with parameters: {'preprocess': None, 'C': 0.01, 'class_weight': None, 'grad_sampling': 1.0, 'store_dual_vars': None, 'kernel': CKernelRBF{'gamma': 100.0, 'rv': CArray(5372, 50)(dense: [[0.752742 0.068505 0.204044 ... 0.277333 0.711262 0.852773] [0.793809 0.061198 0.189204 ... 0.233018 0.798059 0.89644 ] [0.319539 0.564277 0.295036 ... 0.211639 0.294304 0.414772] ... [0.538573 0.742933 0.869151 ... 0.752485 0.497865 0.236443] [0.617783 0.757032 0.876123 ... 0.885706 0.447493 0.23082 ] [0.546089 0.894925 0.781912 ... 0.622607 0.488415 0.233982]]), 'preprocess': None}}\n",
      "2020-04-21 12:25:24,311 - CClassifierMulticlassOVA.0x7f83888ec0f0 - INFO - Training against class: 0\n",
      "2020-04-21 12:25:24,664 - CClassifierSVM.0x7f83888ec048 - INFO - Training SVM with parameters: {'preprocess': None, 'C': 0.01, 'class_weight': None, 'grad_sampling': 1.0, 'store_dual_vars': None, 'kernel': CKernelRBF{'gamma': 100.0, 'rv': CArray(6037, 50)(dense: [[0.250139 0.755322 0.264548 ... 0.379916 0.208167 0.454044] [0.215432 0.830215 0.317806 ... 0.14048  0.182788 0.272299] [0.320129 0.681291 0.356225 ... 0.302626 0.27539  0.41397 ] ... [0.902194 0.095051 0.176878 ... 0.313168 0.845025 0.825834] [0.780308 0.056616 0.150865 ... 0.231145 0.799611 0.928396] [0.775655 0.053582 0.177402 ... 0.261807 0.819031 0.919559]]), 'preprocess': None}}\n",
      "2020-04-21 12:25:26,877 - CClassifierMulticlassOVA.0x7f83888ec0f0 - INFO - Training against class: 1\n",
      "2020-04-21 12:25:27,141 - CClassifierSVM.0x7f839002f908 - INFO - Training SVM with parameters: {'preprocess': None, 'C': 0.01, 'class_weight': None, 'grad_sampling': 1.0, 'store_dual_vars': None, 'kernel': CKernelRBF{'gamma': 100.0, 'rv': CArray(5351, 50)(dense: [[0.793809 0.061198 0.189204 ... 0.233018 0.798059 0.89644 ] [0.805976 0.061863 0.165646 ... 0.247146 0.769771 0.904494] [0.688999 0.299158 0.462572 ... 0.493556 0.831171 0.691465] ... [0.258209 0.808964 0.446904 ... 0.525762 0.194595 0.224236] [0.366939 0.545501 0.236573 ... 0.274854 0.364601 0.431003] [0.375594 0.633238 0.413938 ... 0.339545 0.401927 0.378512]]), 'preprocess': None}}\n",
      "2020-04-21 12:25:29,216 - CClassifierMulticlassOVA.0x7f83888ec0f0 - INFO - Training against class: 2\n",
      "2020-04-21 12:25:29,480 - CClassifierSVM.0x7f8390075f60 - INFO - Training SVM with parameters: {'preprocess': None, 'C': 0.01, 'class_weight': None, 'grad_sampling': 1.0, 'store_dual_vars': None, 'kernel': CKernelRBF{'gamma': 100.0, 'rv': CArray(5368, 50)(dense: [[0.793809 0.061198 0.189204 ... 0.233018 0.798059 0.89644 ] [0.250139 0.755322 0.264548 ... 0.379916 0.208167 0.454044] [0.215432 0.830215 0.317806 ... 0.14048  0.182788 0.272299] ... [0.734627 0.482414 0.515809 ... 0.577943 0.698691 0.483745] [0.679432 0.387356 0.569345 ... 0.595423 0.77214  0.520467] [0.618286 0.494869 0.717315 ... 0.634201 0.664745 0.410195]]), 'preprocess': None}}\n",
      "2020-04-21 12:25:33,133 - CPerfEvaluatorXVal.0x7f83888ec978 - INFO - Params: {'C': 0.01, 'kernel.gamma': 100} - Score: 0.6685078883000989\n",
      "2020-04-21 12:25:33,143 - CClassifierMulticlassOVA.0x7f83888ec0f0 - INFO - Training against class: 0\n",
      "2020-04-21 12:25:33,484 - CClassifierSVM.0x7f83888ec048 - INFO - Training SVM with parameters: {'preprocess': None, 'C': 1, 'class_weight': None, 'grad_sampling': 1.0, 'store_dual_vars': None, 'kernel': CKernelRBF{'gamma': 0.01, 'rv': CArray(6038, 50)(dense: [[0.631801 0.609851 0.681576 ... 0.599143 0.45128  0.331064] [0.250139 0.755322 0.264548 ... 0.379916 0.208167 0.454044] [0.319539 0.564277 0.295036 ... 0.211639 0.294304 0.414772] ... [0.760339 0.06706  0.156401 ... 0.207625 0.777592 0.886648] [0.775655 0.053582 0.177402 ... 0.261807 0.819031 0.919559] [0.88371  0.113048 0.168824 ... 0.269053 0.836361 0.820962]]), 'preprocess': None}}\n",
      "2020-04-21 12:25:34,819 - CClassifierMulticlassOVA.0x7f83888ec0f0 - INFO - Training against class: 1\n",
      "2020-04-21 12:25:35,089 - CClassifierSVM.0x7f839002f908 - INFO - Training SVM with parameters: {'preprocess': None, 'C': 1, 'class_weight': None, 'grad_sampling': 1.0, 'store_dual_vars': None, 'kernel': CKernelRBF{'gamma': 0.01, 'rv': CArray(5403, 50)(dense: [[0.631801 0.609851 0.681576 ... 0.599143 0.45128  0.331064] [0.752742 0.068505 0.204044 ... 0.277333 0.711262 0.852773] [0.741261 0.53255  0.762431 ... 0.691528 0.550085 0.356605] ... [0.258209 0.808964 0.446904 ... 0.525762 0.194595 0.224236] [0.366939 0.545501 0.236573 ... 0.274854 0.364601 0.431003] [0.247534 0.85192  0.390042 ... 0.323966 0.194077 0.193565]]), 'preprocess': None}}\n",
      "2020-04-21 12:25:36,414 - CClassifierMulticlassOVA.0x7f83888ec0f0 - INFO - Training against class: 2\n",
      "2020-04-21 12:25:36,706 - CClassifierSVM.0x7f8390075f60 - INFO - Training SVM with parameters: {'preprocess': None, 'C': 1, 'class_weight': None, 'grad_sampling': 1.0, 'store_dual_vars': None, 'kernel': CKernelRBF{'gamma': 0.01, 'rv': CArray(5430, 50)(dense: [[0.752742 0.068505 0.204044 ... 0.277333 0.711262 0.852773] [0.250139 0.755322 0.264548 ... 0.379916 0.208167 0.454044] [0.319539 0.564277 0.295036 ... 0.211639 0.294304 0.414772] ... [0.679432 0.387356 0.569345 ... 0.595423 0.77214  0.520467] [0.618286 0.494869 0.717315 ... 0.634201 0.664745 0.410195] [0.546089 0.894925 0.781912 ... 0.622607 0.488415 0.233982]]), 'preprocess': None}}\n",
      "2020-04-21 12:25:38,225 - CClassifierMulticlassOVA.0x7f83888ec0f0 - INFO - Training against class: 0\n",
      "2020-04-21 12:25:38,571 - CClassifierSVM.0x7f83888ec048 - INFO - Training SVM with parameters: {'preprocess': None, 'C': 1, 'class_weight': None, 'grad_sampling': 1.0, 'store_dual_vars': None, 'kernel': CKernelRBF{'gamma': 0.01, 'rv': CArray(307, 50)(dense: [[0.69311  0.416297 0.601602 ... 0.554785 0.650331 0.52461 ] [0.709592 0.433027 0.573462 ... 0.531822 0.7071   0.496401] [0.727901 0.409816 0.619981 ... 0.56834  0.662648 0.547322] ... [0.755676 0.164762 0.234466 ... 0.371441 0.725259 0.714269] [0.799095 0.165163 0.232382 ... 0.356075 0.736011 0.732148] [0.690996 0.127805 0.268654 ... 0.342842 0.691001 0.762737]]), 'preprocess': None}}\n",
      "2020-04-21 12:25:39,878 - CClassifierMulticlassOVA.0x7f83888ec0f0 - INFO - Training against class: 1\n",
      "2020-04-21 12:25:40,147 - CClassifierSVM.0x7f839002f908 - INFO - Training SVM with parameters: {'preprocess': None, 'C': 1, 'class_weight': None, 'grad_sampling': 1.0, 'store_dual_vars': None, 'kernel': CKernelRBF{'gamma': 0.01, 'rv': CArray(282, 50)(dense: [[0.423876 0.698737 0.634298 ... 0.606259 0.328426 0.321063] [0.637436 0.553551 0.466686 ... 0.482941 0.55201  0.385826] [0.772447 0.117106 0.203024 ... 0.356433 0.672113 0.624947] ... [0.516069 0.369524 0.217363 ... 0.277316 0.403617 0.674785] [0.519645 0.638962 0.525775 ... 0.416795 0.469059 0.30542 ] [0.50073  0.502771 0.394747 ... 0.324105 0.521315 0.464463]]), 'preprocess': None}}\n",
      "2020-04-21 12:25:41,478 - CClassifierMulticlassOVA.0x7f83888ec0f0 - INFO - Training against class: 2\n",
      "2020-04-21 12:25:41,742 - CClassifierSVM.0x7f8390075f60 - INFO - Training SVM with parameters: {'preprocess': None, 'C': 1, 'class_weight': None, 'grad_sampling': 1.0, 'store_dual_vars': None, 'kernel': CKernelRBF{'gamma': 0.01, 'rv': CArray(378, 50)(dense: [[0.688999 0.299158 0.462572 ... 0.493556 0.831171 0.691465] [0.183733 0.847935 0.507181 ... 0.391556 0.227468 0.12849 ] [0.305574 0.715525 0.48987  ... 0.502869 0.342166 0.27808 ] ... [0.726407 0.26344  0.443338 ... 0.435617 0.698809 0.630454] [0.660728 0.547178 0.561459 ... 0.542548 0.541312 0.427348] [0.661163 0.247877 0.438103 ... 0.469672 0.683925 0.572498]]), 'preprocess': None}}\n",
      "2020-04-21 12:25:43,269 - CClassifierMulticlassOVA.0x7f83888ec0f0 - INFO - Training against class: 0\n",
      "2020-04-21 12:25:43,602 - CClassifierSVM.0x7f83888ec048 - INFO - Training SVM with parameters: {'preprocess': None, 'C': 1, 'class_weight': None, 'grad_sampling': 1.0, 'store_dual_vars': None, 'kernel': CKernelRBF{'gamma': 0.01, 'rv': CArray(305, 50)(dense: [[0.804403 0.484135 0.601626 ... 0.710665 0.730024 0.503922] [0.69311  0.416297 0.601602 ... 0.554785 0.650331 0.52461 ] [0.727901 0.409816 0.619981 ... 0.56834  0.662648 0.547322] ... [0.7308   0.099743 0.211924 ... 0.2866   0.701963 0.827995] [0.737836 0.149923 0.184834 ... 0.257052 0.659998 0.83195 ] [0.743403 0.144307 0.223074 ... 0.298293 0.722517 0.778592]]), 'preprocess': None}}\n"
     ]
    },
    {
     "name": "stdout",
     "output_type": "stream",
     "text": [
      "2020-04-21 12:25:44,854 - CClassifierMulticlassOVA.0x7f83888ec0f0 - INFO - Training against class: 1\n",
      "2020-04-21 12:25:45,126 - CClassifierSVM.0x7f839002f908 - INFO - Training SVM with parameters: {'preprocess': None, 'C': 1, 'class_weight': None, 'grad_sampling': 1.0, 'store_dual_vars': None, 'kernel': CKernelRBF{'gamma': 0.01, 'rv': CArray(276, 50)(dense: [[0.446855 0.663387 0.606221 ... 0.71087  0.332356 0.321569] [0.558022 0.539468 0.578252 ... 0.537235 0.440879 0.389965] [0.547089 0.6114   0.591295 ... 0.466219 0.787309 0.434095] ... [0.587711 0.195569 0.082981 ... 0.218329 0.531542 0.834464] [0.516069 0.369524 0.217363 ... 0.277316 0.403617 0.674785] [0.442718 0.548783 0.378541 ... 0.347898 0.388608 0.405302]]), 'preprocess': None}}\n",
      "2020-04-21 12:25:46,341 - CClassifierMulticlassOVA.0x7f83888ec0f0 - INFO - Training against class: 2\n",
      "2020-04-21 12:25:46,606 - CClassifierSVM.0x7f8390075f60 - INFO - Training SVM with parameters: {'preprocess': None, 'C': 1, 'class_weight': None, 'grad_sampling': 1.0, 'store_dual_vars': None, 'kernel': CKernelRBF{'gamma': 0.01, 'rv': CArray(360, 50)(dense: [[0.688999 0.299158 0.462572 ... 0.493556 0.831171 0.691465] [0.791345 0.157332 0.286025 ... 0.355774 0.787572 0.7747  ] [0.832795 0.111026 0.266801 ... 0.300632 0.822541 0.689928] ... [0.698321 0.416831 0.560442 ... 0.555996 0.57233  0.494089] [0.661163 0.247877 0.438103 ... 0.469672 0.683925 0.572498] [0.734627 0.482414 0.515809 ... 0.577943 0.698691 0.483745]]), 'preprocess': None}}\n",
      "2020-04-21 12:25:47,919 - CPerfEvaluatorXVal.0x7f83888ec978 - INFO - Params: {'C': 1, 'kernel.gamma': 0.01} - Score: 0.9964663822299723\n",
      "2020-04-21 12:25:47,925 - CClassifierMulticlassOVA.0x7f83888ec0f0 - INFO - Training against class: 0\n",
      "2020-04-21 12:25:48,273 - CClassifierSVM.0x7f83888ec048 - INFO - Training SVM with parameters: {'preprocess': None, 'C': 1, 'class_weight': None, 'grad_sampling': 1.0, 'store_dual_vars': None, 'kernel': CKernelRBF{'gamma': 10.0, 'rv': CArray(301, 50)(dense: [[0.804403 0.484135 0.601626 ... 0.710665 0.730024 0.503922] [0.709592 0.433027 0.573462 ... 0.531822 0.7071   0.496401] [0.646884 0.308763 0.090753 ... 0.229391 0.548096 0.732381] ... [0.882927 0.181782 0.247069 ... 0.373863 0.785846 0.686459] [0.737836 0.149923 0.184834 ... 0.257052 0.659998 0.83195 ] [0.690996 0.127805 0.268654 ... 0.342842 0.691001 0.762737]]), 'preprocess': None}}\n",
      "2020-04-21 12:25:49,957 - CClassifierMulticlassOVA.0x7f83888ec0f0 - INFO - Training against class: 1\n",
      "2020-04-21 12:25:50,221 - CClassifierSVM.0x7f839002f908 - INFO - Training SVM with parameters: {'preprocess': None, 'C': 1, 'class_weight': None, 'grad_sampling': 1.0, 'store_dual_vars': None, 'kernel': CKernelRBF{'gamma': 10.0, 'rv': CArray(279, 50)(dense: [[0.423876 0.698737 0.634298 ... 0.606259 0.328426 0.321063] [0.637436 0.553551 0.466686 ... 0.482941 0.55201  0.385826] [0.446855 0.663387 0.606221 ... 0.71087  0.332356 0.321569] ... [0.442718 0.548783 0.378541 ... 0.347898 0.388608 0.405302] [0.519645 0.638962 0.525775 ... 0.416795 0.469059 0.30542 ] [0.50073  0.502771 0.394747 ... 0.324105 0.521315 0.464463]]), 'preprocess': None}}\n",
      "2020-04-21 12:25:51,922 - CClassifierMulticlassOVA.0x7f83888ec0f0 - INFO - Training against class: 2\n",
      "2020-04-21 12:25:52,188 - CClassifierSVM.0x7f8390075f60 - INFO - Training SVM with parameters: {'preprocess': None, 'C': 1, 'class_weight': None, 'grad_sampling': 1.0, 'store_dual_vars': None, 'kernel': CKernelRBF{'gamma': 10.0, 'rv': CArray(357, 50)(dense: [[0.183733 0.847935 0.507181 ... 0.391556 0.227468 0.12849 ] [0.791345 0.157332 0.286025 ... 0.355774 0.787572 0.7747  ] [0.832795 0.111026 0.266801 ... 0.300632 0.822541 0.689928] ... [0.660728 0.547178 0.561459 ... 0.542548 0.541312 0.427348] [0.698321 0.416831 0.560442 ... 0.555996 0.57233  0.494089] [0.734627 0.482414 0.515809 ... 0.577943 0.698691 0.483745]]), 'preprocess': None}}\n",
      "2020-04-21 12:25:54,551 - CClassifierMulticlassOVA.0x7f83888ec0f0 - INFO - Training against class: 0\n",
      "2020-04-21 12:25:54,907 - CClassifierSVM.0x7f83888ec048 - INFO - Training SVM with parameters: {'preprocess': None, 'C': 1, 'class_weight': None, 'grad_sampling': 1.0, 'store_dual_vars': None, 'kernel': CKernelRBF{'gamma': 10.0, 'rv': CArray(2125, 50)(dense: [[0.319539 0.564277 0.295036 ... 0.211639 0.294304 0.414772] [0.741261 0.53255  0.762431 ... 0.691528 0.550085 0.356605] [0.776435 0.809834 0.835342 ... 0.734293 0.522598 0.20544 ] ... [0.846979 0.032272 0.130714 ... 0.193807 0.851597 0.939976] [0.771373 0.057003 0.243256 ... 0.299561 0.830396 0.915233] [0.876803 0.06557  0.086884 ... 0.142622 0.822703 0.91911 ]]), 'preprocess': None}}\n",
      "2020-04-21 12:25:56,588 - CClassifierMulticlassOVA.0x7f83888ec0f0 - INFO - Training against class: 1\n",
      "2020-04-21 12:25:56,858 - CClassifierSVM.0x7f839002f908 - INFO - Training SVM with parameters: {'preprocess': None, 'C': 1, 'class_weight': None, 'grad_sampling': 1.0, 'store_dual_vars': None, 'kernel': CKernelRBF{'gamma': 10.0, 'rv': CArray(2143, 50)(dense: [[0.741261 0.53255  0.762431 ... 0.691528 0.550085 0.356605] [0.776435 0.809834 0.835342 ... 0.734293 0.522598 0.20544 ] [0.688999 0.299158 0.462572 ... 0.493556 0.831171 0.691465] ... [0.238485 0.655429 0.426532 ... 0.49161  0.313357 0.328109] [0.349617 0.6748   0.427632 ... 0.342974 0.362027 0.343559] [0.375594 0.633238 0.413938 ... 0.339545 0.401927 0.378512]]), 'preprocess': None}}\n",
      "2020-04-21 12:25:58,669 - CClassifierMulticlassOVA.0x7f83888ec0f0 - INFO - Training against class: 2\n",
      "2020-04-21 12:25:58,936 - CClassifierSVM.0x7f8390075f60 - INFO - Training SVM with parameters: {'preprocess': None, 'C': 1, 'class_weight': None, 'grad_sampling': 1.0, 'store_dual_vars': None, 'kernel': CKernelRBF{'gamma': 10.0, 'rv': CArray(2147, 50)(dense: [[0.319539 0.564277 0.295036 ... 0.211639 0.294304 0.414772] [0.688999 0.299158 0.462572 ... 0.493556 0.831171 0.691465] [0.183733 0.847935 0.507181 ... 0.391556 0.227468 0.12849 ] ... [0.572975 0.511692 0.588574 ... 0.498065 0.511904 0.503334] [0.617783 0.757032 0.876123 ... 0.885706 0.447493 0.23082 ] [0.546089 0.894925 0.781912 ... 0.622607 0.488415 0.233982]]), 'preprocess': None}}\n",
      "2020-04-21 12:26:01,359 - CClassifierMulticlassOVA.0x7f83888ec0f0 - INFO - Training against class: 0\n",
      "2020-04-21 12:26:01,710 - CClassifierSVM.0x7f83888ec048 - INFO - Training SVM with parameters: {'preprocess': None, 'C': 1, 'class_weight': None, 'grad_sampling': 1.0, 'store_dual_vars': None, 'kernel': CKernelRBF{'gamma': 10.0, 'rv': CArray(2149, 50)(dense: [[0.215432 0.830215 0.317806 ... 0.14048  0.182788 0.272299] [0.240269 0.846945 0.459148 ... 0.352812 0.25913  0.170031] [0.772217 0.652157 0.693002 ... 0.806391 0.517264 0.305557] ... [0.872157 0.035919 0.304686 ... 0.396453 0.837325 0.92055 ] [0.737836 0.149923 0.184834 ... 0.257052 0.659998 0.83195 ] [0.771373 0.057003 0.243256 ... 0.299561 0.830396 0.915233]]), 'preprocess': None}}\n",
      "2020-04-21 12:26:03,328 - CClassifierMulticlassOVA.0x7f83888ec0f0 - INFO - Training against class: 1\n",
      "2020-04-21 12:26:03,596 - CClassifierSVM.0x7f839002f908 - INFO - Training SVM with parameters: {'preprocess': None, 'C': 1, 'class_weight': None, 'grad_sampling': 1.0, 'store_dual_vars': None, 'kernel': CKernelRBF{'gamma': 10.0, 'rv': CArray(2161, 50)(dense: [[0.688999 0.299158 0.462572 ... 0.493556 0.831171 0.691465] [0.772217 0.652157 0.693002 ... 0.806391 0.517264 0.305557] [0.696346 0.59987  0.653953 ... 0.599906 0.533298 0.35346 ] ... [0.258209 0.808964 0.446904 ... 0.525762 0.194595 0.224236] [0.366939 0.545501 0.236573 ... 0.274854 0.364601 0.431003] [0.375594 0.633238 0.413938 ... 0.339545 0.401927 0.378512]]), 'preprocess': None}}\n",
      "2020-04-21 12:26:05,327 - CClassifierMulticlassOVA.0x7f83888ec0f0 - INFO - Training against class: 2\n",
      "2020-04-21 12:26:05,597 - CClassifierSVM.0x7f8390075f60 - INFO - Training SVM with parameters: {'preprocess': None, 'C': 1, 'class_weight': None, 'grad_sampling': 1.0, 'store_dual_vars': None, 'kernel': CKernelRBF{'gamma': 10.0, 'rv': CArray(2159, 50)(dense: [[0.215432 0.830215 0.317806 ... 0.14048  0.182788 0.272299] [0.688999 0.299158 0.462572 ... 0.493556 0.831171 0.691465] [0.240269 0.846945 0.459148 ... 0.352812 0.25913  0.170031] ... [0.661163 0.247877 0.438103 ... 0.469672 0.683925 0.572498] [0.734627 0.482414 0.515809 ... 0.577943 0.698691 0.483745] [0.679432 0.387356 0.569345 ... 0.595423 0.77214  0.520467]]), 'preprocess': None}}\n"
     ]
    },
    {
     "name": "stdout",
     "output_type": "stream",
     "text": [
      "2020-04-21 12:26:07,983 - CPerfEvaluatorXVal.0x7f83888ec978 - INFO - Params: {'C': 1, 'kernel.gamma': 10} - Score: 0.9916077126728423\n",
      "2020-04-21 12:26:07,995 - CClassifierMulticlassOVA.0x7f83888ec0f0 - INFO - Training against class: 0\n",
      "2020-04-21 12:26:08,360 - CClassifierSVM.0x7f83888ec048 - INFO - Training SVM with parameters: {'preprocess': None, 'C': 1, 'class_weight': None, 'grad_sampling': 1.0, 'store_dual_vars': None, 'kernel': CKernelRBF{'gamma': 100.0, 'rv': CArray(2101, 50)(dense: [[0.631801 0.609851 0.681576 ... 0.599143 0.45128  0.331064] [0.319539 0.564277 0.295036 ... 0.211639 0.294304 0.414772] [0.215432 0.830215 0.317806 ... 0.14048  0.182788 0.272299] ... [0.737836 0.149923 0.184834 ... 0.257052 0.659998 0.83195 ] [0.846979 0.032272 0.130714 ... 0.193807 0.851597 0.939976] [0.876803 0.06557  0.086884 ... 0.142622 0.822703 0.91911 ]]), 'preprocess': None}}\n",
      "2020-04-21 12:26:10,918 - CClassifierMulticlassOVA.0x7f83888ec0f0 - INFO - Training against class: 1\n",
      "2020-04-21 12:26:11,195 - CClassifierSVM.0x7f839002f908 - INFO - Training SVM with parameters: {'preprocess': None, 'C': 1, 'class_weight': None, 'grad_sampling': 1.0, 'store_dual_vars': None, 'kernel': CKernelRBF{'gamma': 100.0, 'rv': CArray(2120, 50)(dense: [[0.631801 0.609851 0.681576 ... 0.599143 0.45128  0.331064] [0.741261 0.53255  0.762431 ... 0.691528 0.550085 0.356605] [0.776435 0.809834 0.835342 ... 0.734293 0.522598 0.20544 ] ... [0.325315 0.701851 0.338085 ... 0.376112 0.357208 0.400868] [0.258209 0.808964 0.446904 ... 0.525762 0.194595 0.224236] [0.366939 0.545501 0.236573 ... 0.274854 0.364601 0.431003]]), 'preprocess': None}}\n",
      "2020-04-21 12:26:13,567 - CClassifierMulticlassOVA.0x7f83888ec0f0 - INFO - Training against class: 2\n",
      "2020-04-21 12:26:13,835 - CClassifierSVM.0x7f8390075f60 - INFO - Training SVM with parameters: {'preprocess': None, 'C': 1, 'class_weight': None, 'grad_sampling': 1.0, 'store_dual_vars': None, 'kernel': CKernelRBF{'gamma': 100.0, 'rv': CArray(2121, 50)(dense: [[0.319539 0.564277 0.295036 ... 0.211639 0.294304 0.414772] [0.215432 0.830215 0.317806 ... 0.14048  0.182788 0.272299] [0.240269 0.846945 0.459148 ... 0.352812 0.25913  0.170031] ... [0.734627 0.482414 0.515809 ... 0.577943 0.698691 0.483745] [0.679432 0.387356 0.569345 ... 0.595423 0.77214  0.520467] [0.546089 0.894925 0.781912 ... 0.622607 0.488415 0.233982]]), 'preprocess': None}}\n",
      "2020-04-21 12:26:17,879 - CClassifierMulticlassOVA.0x7f83888ec0f0 - INFO - Training against class: 0\n",
      "2020-04-21 12:26:18,214 - CClassifierSVM.0x7f83888ec048 - INFO - Training SVM with parameters: {'preprocess': None, 'C': 1, 'class_weight': None, 'grad_sampling': 1.0, 'store_dual_vars': None, 'kernel': CKernelRBF{'gamma': 100.0, 'rv': CArray(5512, 50)(dense: [[0.631801 0.609851 0.681576 ... 0.599143 0.45128  0.331064] [0.319539 0.564277 0.295036 ... 0.211639 0.294304 0.414772] [0.741261 0.53255  0.762431 ... 0.691528 0.550085 0.356605] ... [0.844642 0.152119 0.173919 ... 0.28547  0.78265  0.806754] [0.760339 0.06706  0.156401 ... 0.207625 0.777592 0.886648] [0.88371  0.113048 0.168824 ... 0.269053 0.836361 0.820962]]), 'preprocess': None}}\n",
      "2020-04-21 12:26:20,770 - CClassifierMulticlassOVA.0x7f83888ec0f0 - INFO - Training against class: 1\n",
      "2020-04-21 12:26:21,028 - CClassifierSVM.0x7f839002f908 - INFO - Training SVM with parameters: {'preprocess': None, 'C': 1, 'class_weight': None, 'grad_sampling': 1.0, 'store_dual_vars': None, 'kernel': CKernelRBF{'gamma': 100.0, 'rv': CArray(5509, 50)(dense: [[0.631801 0.609851 0.681576 ... 0.599143 0.45128  0.331064] [0.752742 0.068505 0.204044 ... 0.277333 0.711262 0.852773] [0.793809 0.061198 0.189204 ... 0.233018 0.798059 0.89644 ] ... [0.349617 0.6748   0.427632 ... 0.342974 0.362027 0.343559] [0.375594 0.633238 0.413938 ... 0.339545 0.401927 0.378512] [0.247534 0.85192  0.390042 ... 0.323966 0.194077 0.193565]]), 'preprocess': None}}\n",
      "2020-04-21 12:26:23,442 - CClassifierMulticlassOVA.0x7f83888ec0f0 - INFO - Training against class: 2\n",
      "2020-04-21 12:26:23,713 - CClassifierSVM.0x7f8390075f60 - INFO - Training SVM with parameters: {'preprocess': None, 'C': 1, 'class_weight': None, 'grad_sampling': 1.0, 'store_dual_vars': None, 'kernel': CKernelRBF{'gamma': 100.0, 'rv': CArray(5509, 50)(dense: [[0.752742 0.068505 0.204044 ... 0.277333 0.711262 0.852773] [0.793809 0.061198 0.189204 ... 0.233018 0.798059 0.89644 ] [0.802496 0.053456 0.152091 ... 0.240994 0.829712 0.941381] ... [0.538573 0.742933 0.869151 ... 0.752485 0.497865 0.236443] [0.617783 0.757032 0.876123 ... 0.885706 0.447493 0.23082 ] [0.546089 0.894925 0.781912 ... 0.622607 0.488415 0.233982]]), 'preprocess': None}}\n",
      "2020-04-21 12:26:27,825 - CClassifierMulticlassOVA.0x7f83888ec0f0 - INFO - Training against class: 0\n",
      "2020-04-21 12:26:28,186 - CClassifierSVM.0x7f83888ec048 - INFO - Training SVM with parameters: {'preprocess': None, 'C': 1, 'class_weight': None, 'grad_sampling': 1.0, 'store_dual_vars': None, 'kernel': CKernelRBF{'gamma': 100.0, 'rv': CArray(5524, 50)(dense: [[0.250139 0.755322 0.264548 ... 0.379916 0.208167 0.454044] [0.215432 0.830215 0.317806 ... 0.14048  0.182788 0.272299] [0.320129 0.681291 0.356225 ... 0.302626 0.27539  0.41397 ] ... [0.823533 0.080374 0.171164 ... 0.264324 0.803994 0.896422] [0.844642 0.152119 0.173919 ... 0.28547  0.78265  0.806754] [0.902194 0.095051 0.176878 ... 0.313168 0.845025 0.825834]]), 'preprocess': None}}\n",
      "2020-04-21 12:26:30,678 - CClassifierMulticlassOVA.0x7f83888ec0f0 - INFO - Training against class: 1\n",
      "2020-04-21 12:26:30,950 - CClassifierSVM.0x7f839002f908 - INFO - Training SVM with parameters: {'preprocess': None, 'C': 1, 'class_weight': None, 'grad_sampling': 1.0, 'store_dual_vars': None, 'kernel': CKernelRBF{'gamma': 100.0, 'rv': CArray(5516, 50)(dense: [[0.793809 0.061198 0.189204 ... 0.233018 0.798059 0.89644 ] [0.877528 0.134063 0.164872 ... 0.268739 0.807484 0.833736] [0.805976 0.061863 0.165646 ... 0.247146 0.769771 0.904494] ... [0.258209 0.808964 0.446904 ... 0.525762 0.194595 0.224236] [0.366939 0.545501 0.236573 ... 0.274854 0.364601 0.431003] [0.375594 0.633238 0.413938 ... 0.339545 0.401927 0.378512]]), 'preprocess': None}}\n",
      "2020-04-21 12:26:33,316 - CClassifierMulticlassOVA.0x7f83888ec0f0 - INFO - Training against class: 2\n",
      "2020-04-21 12:26:33,584 - CClassifierSVM.0x7f8390075f60 - INFO - Training SVM with parameters: {'preprocess': None, 'C': 1, 'class_weight': None, 'grad_sampling': 1.0, 'store_dual_vars': None, 'kernel': CKernelRBF{'gamma': 100.0, 'rv': CArray(5515, 50)(dense: [[0.793809 0.061198 0.189204 ... 0.233018 0.798059 0.89644 ] [0.250139 0.755322 0.264548 ... 0.379916 0.208167 0.454044] [0.215432 0.830215 0.317806 ... 0.14048  0.182788 0.272299] ... [0.734627 0.482414 0.515809 ... 0.577943 0.698691 0.483745] [0.679432 0.387356 0.569345 ... 0.595423 0.77214  0.520467] [0.618286 0.494869 0.717315 ... 0.634201 0.664745 0.410195]]), 'preprocess': None}}\n",
      "2020-04-21 12:26:37,678 - CPerfEvaluatorXVal.0x7f83888ec978 - INFO - Params: {'C': 1, 'kernel.gamma': 100} - Score: 0.6473066572776364\n",
      "2020-04-21 12:26:37,688 - CClassifierMulticlassOVA.0x7f83888ec0f0 - INFO - Training against class: 0\n",
      "2020-04-21 12:26:38,026 - CClassifierSVM.0x7f83888ec048 - INFO - Training SVM with parameters: {'preprocess': None, 'C': 100, 'class_weight': None, 'grad_sampling': 1.0, 'store_dual_vars': None, 'kernel': CKernelRBF{'gamma': 0.01, 'rv': CArray(5559, 50)(dense: [[0.631801 0.609851 0.681576 ... 0.599143 0.45128  0.331064] [0.250139 0.755322 0.264548 ... 0.379916 0.208167 0.454044] [0.319539 0.564277 0.295036 ... 0.211639 0.294304 0.414772] ... [0.902194 0.095051 0.176878 ... 0.313168 0.845025 0.825834] [0.760339 0.06706  0.156401 ... 0.207625 0.777592 0.886648] [0.88371  0.113048 0.168824 ... 0.269053 0.836361 0.820962]]), 'preprocess': None}}\n",
      "2020-04-21 12:26:39,335 - CClassifierMulticlassOVA.0x7f83888ec0f0 - INFO - Training against class: 1\n",
      "2020-04-21 12:26:39,609 - CClassifierSVM.0x7f839002f908 - INFO - Training SVM with parameters: {'preprocess': None, 'C': 100, 'class_weight': None, 'grad_sampling': 1.0, 'store_dual_vars': None, 'kernel': CKernelRBF{'gamma': 0.01, 'rv': CArray(5555, 50)(dense: [[0.631801 0.609851 0.681576 ... 0.599143 0.45128  0.331064] [0.752742 0.068505 0.204044 ... 0.277333 0.711262 0.852773] [0.741261 0.53255  0.762431 ... 0.691528 0.550085 0.356605] ... [0.258209 0.808964 0.446904 ... 0.525762 0.194595 0.224236] [0.366939 0.545501 0.236573 ... 0.274854 0.364601 0.431003] [0.247534 0.85192  0.390042 ... 0.323966 0.194077 0.193565]]), 'preprocess': None}}\n"
     ]
    },
    {
     "name": "stdout",
     "output_type": "stream",
     "text": [
      "2020-04-21 12:26:40,925 - CClassifierMulticlassOVA.0x7f83888ec0f0 - INFO - Training against class: 2\n",
      "2020-04-21 12:26:41,196 - CClassifierSVM.0x7f8390075f60 - INFO - Training SVM with parameters: {'preprocess': None, 'C': 100, 'class_weight': None, 'grad_sampling': 1.0, 'store_dual_vars': None, 'kernel': CKernelRBF{'gamma': 0.01, 'rv': CArray(5555, 50)(dense: [[0.752742 0.068505 0.204044 ... 0.277333 0.711262 0.852773] [0.250139 0.755322 0.264548 ... 0.379916 0.208167 0.454044] [0.319539 0.564277 0.295036 ... 0.211639 0.294304 0.414772] ... [0.679432 0.387356 0.569345 ... 0.595423 0.77214  0.520467] [0.618286 0.494869 0.717315 ... 0.634201 0.664745 0.410195] [0.546089 0.894925 0.781912 ... 0.622607 0.488415 0.233982]]), 'preprocess': None}}\n",
      "2020-04-21 12:26:42,559 - CClassifierMulticlassOVA.0x7f83888ec0f0 - INFO - Training against class: 0\n",
      "2020-04-21 12:26:42,903 - CClassifierSVM.0x7f83888ec048 - INFO - Training SVM with parameters: {'preprocess': None, 'C': 100, 'class_weight': None, 'grad_sampling': 1.0, 'store_dual_vars': None, 'kernel': CKernelRBF{'gamma': 0.01, 'rv': CArray(51, 50)(dense: [[0.646884 0.308763 0.090753 ... 0.229391 0.548096 0.732381] [0.651098 0.335598 0.47275  ... 0.499238 0.643484 0.654423] [0.638136 0.227141 0.388004 ... 0.440913 0.68734  0.658373] ... [0.665753 0.303075 0.232574 ... 0.204833 0.729396 0.737335] [0.738147 0.263479 0.258832 ... 0.324356 0.621326 0.688548] [0.69869  0.224697 0.291974 ... 0.40342  0.724083 0.740304]]), 'preprocess': None}}\n",
      "2020-04-21 12:26:44,217 - CClassifierMulticlassOVA.0x7f83888ec0f0 - INFO - Training against class: 1\n",
      "2020-04-21 12:26:44,485 - CClassifierSVM.0x7f839002f908 - INFO - Training SVM with parameters: {'preprocess': None, 'C': 100, 'class_weight': None, 'grad_sampling': 1.0, 'store_dual_vars': None, 'kernel': CKernelRBF{'gamma': 0.01, 'rv': CArray(61, 50)(dense: [[0.637436 0.553551 0.466686 ... 0.482941 0.55201  0.385826] [0.564745 0.548171 0.56252  ... 0.457815 0.537329 0.306094] [0.600119 0.506055 0.457955 ... 0.381165 0.405866 0.396385] ... [0.633941 0.320735 0.139636 ... 0.226254 0.675603 0.726955] [0.519645 0.638962 0.525775 ... 0.416795 0.469059 0.30542 ] [0.50073  0.502771 0.394747 ... 0.324105 0.521315 0.464463]]), 'preprocess': None}}\n",
      "2020-04-21 12:26:45,809 - CClassifierMulticlassOVA.0x7f83888ec0f0 - INFO - Training against class: 2\n",
      "2020-04-21 12:26:46,072 - CClassifierSVM.0x7f8390075f60 - INFO - Training SVM with parameters: {'preprocess': None, 'C': 100, 'class_weight': None, 'grad_sampling': 1.0, 'store_dual_vars': None, 'kernel': CKernelRBF{'gamma': 0.01, 'rv': CArray(87, 50)(dense: [[0.688999 0.299158 0.462572 ... 0.493556 0.831171 0.691465] [0.505311 0.593268 0.546356 ... 0.538949 0.335671 0.389584] [0.362286 0.691536 0.489685 ... 0.403368 0.39394  0.318524] ... [0.488323 0.475302 0.450901 ... 0.422567 0.590341 0.420648] [0.361786 0.602453 0.495348 ... 0.543346 0.345012 0.399461] [0.726407 0.26344  0.443338 ... 0.435617 0.698809 0.630454]]), 'preprocess': None}}\n",
      "2020-04-21 12:26:47,440 - CClassifierMulticlassOVA.0x7f83888ec0f0 - INFO - Training against class: 0\n",
      "2020-04-21 12:26:47,790 - CClassifierSVM.0x7f83888ec048 - INFO - Training SVM with parameters: {'preprocess': None, 'C': 100, 'class_weight': None, 'grad_sampling': 1.0, 'store_dual_vars': None, 'kernel': CKernelRBF{'gamma': 0.01, 'rv': CArray(47, 50)(dense: [[0.620557 0.410956 0.360839 ... 0.320391 0.693999 0.58485 ] [0.745603 0.23353  0.368879 ... 0.517875 0.723087 0.632508] [0.743541 0.261355 0.440864 ... 0.40225  0.690842 0.670818] ... [0.726191 0.243555 0.31767  ... 0.456618 0.708783 0.787248] [0.665753 0.303075 0.232574 ... 0.204833 0.729396 0.737335] [0.69869  0.224697 0.291974 ... 0.40342  0.724083 0.740304]]), 'preprocess': None}}\n",
      "2020-04-21 12:26:49,055 - CClassifierMulticlassOVA.0x7f83888ec0f0 - INFO - Training against class: 1\n",
      "2020-04-21 12:26:49,322 - CClassifierSVM.0x7f839002f908 - INFO - Training SVM with parameters: {'preprocess': None, 'C': 100, 'class_weight': None, 'grad_sampling': 1.0, 'store_dual_vars': None, 'kernel': CKernelRBF{'gamma': 0.01, 'rv': CArray(51, 50)(dense: [[0.600119 0.506055 0.457955 ... 0.381165 0.405866 0.396385] [0.616449 0.506615 0.478857 ... 0.413949 0.426858 0.410087] [0.722125 0.156495 0.217323 ... 0.218743 0.635746 0.700797] ... [0.605861 0.481547 0.294537 ... 0.280508 0.531736 0.523079] [0.653731 0.2288   0.22349  ... 0.208577 0.591552 0.581361] [0.564989 0.300752 0.212214 ... 0.346261 0.499904 0.701794]]), 'preprocess': None}}\n",
      "2020-04-21 12:26:50,591 - CClassifierMulticlassOVA.0x7f83888ec0f0 - INFO - Training against class: 2\n",
      "2020-04-21 12:26:50,863 - CClassifierSVM.0x7f8390075f60 - INFO - Training SVM with parameters: {'preprocess': None, 'C': 100, 'class_weight': None, 'grad_sampling': 1.0, 'store_dual_vars': None, 'kernel': CKernelRBF{'gamma': 0.01, 'rv': CArray(71, 50)(dense: [[0.688999 0.299158 0.462572 ... 0.493556 0.831171 0.691465] [0.756637 0.18859  0.332287 ... 0.313081 0.718676 0.706926] [0.759197 0.226927 0.313975 ... 0.327743 0.715808 0.677274] ... [0.382122 0.720836 0.518391 ... 0.483134 0.254893 0.271769] [0.488323 0.475302 0.450901 ... 0.422567 0.590341 0.420648] [0.726407 0.26344  0.443338 ... 0.435617 0.698809 0.630454]]), 'preprocess': None}}\n",
      "2020-04-21 12:26:52,199 - CPerfEvaluatorXVal.0x7f83888ec978 - INFO - Params: {'C': 100, 'kernel.gamma': 0.01} - Score: 0.9975705737603381\n",
      "2020-04-21 12:26:52,209 - CClassifierMulticlassOVA.0x7f83888ec0f0 - INFO - Training against class: 0\n",
      "2020-04-21 12:26:52,550 - CClassifierSVM.0x7f83888ec048 - INFO - Training SVM with parameters: {'preprocess': None, 'C': 100, 'class_weight': None, 'grad_sampling': 1.0, 'store_dual_vars': None, 'kernel': CKernelRBF{'gamma': 10.0, 'rv': CArray(50, 50)(dense: [[0.646884 0.308763 0.090753 ... 0.229391 0.548096 0.732381] [0.620557 0.410956 0.360839 ... 0.320391 0.693999 0.58485 ] [0.745603 0.23353  0.368879 ... 0.517875 0.723087 0.632508] ... [0.729076 0.245332 0.240895 ... 0.334971 0.591494 0.575045] [0.726191 0.243555 0.31767  ... 0.456618 0.708783 0.787248] [0.738147 0.263479 0.258832 ... 0.324356 0.621326 0.688548]]), 'preprocess': None}}\n",
      "2020-04-21 12:26:54,207 - CClassifierMulticlassOVA.0x7f83888ec0f0 - INFO - Training against class: 1\n",
      "2020-04-21 12:26:54,484 - CClassifierSVM.0x7f839002f908 - INFO - Training SVM with parameters: {'preprocess': None, 'C': 100, 'class_weight': None, 'grad_sampling': 1.0, 'store_dual_vars': None, 'kernel': CKernelRBF{'gamma': 10.0, 'rv': CArray(56, 50)(dense: [[0.637436 0.553551 0.466686 ... 0.482941 0.55201  0.385826] [0.564745 0.548171 0.56252  ... 0.457815 0.537329 0.306094] [0.592544 0.517097 0.488337 ... 0.467817 0.640288 0.456937] ... [0.633941 0.320735 0.139636 ... 0.226254 0.675603 0.726955] [0.653731 0.2288   0.22349  ... 0.208577 0.591552 0.581361] [0.519645 0.638962 0.525775 ... 0.416795 0.469059 0.30542 ]]), 'preprocess': None}}\n",
      "2020-04-21 12:26:56,313 - CClassifierMulticlassOVA.0x7f83888ec0f0 - INFO - Training against class: 2\n",
      "2020-04-21 12:26:56,581 - CClassifierSVM.0x7f8390075f60 - INFO - Training SVM with parameters: {'preprocess': None, 'C': 100, 'class_weight': None, 'grad_sampling': 1.0, 'store_dual_vars': None, 'kernel': CKernelRBF{'gamma': 10.0, 'rv': CArray(75, 50)(dense: [[0.505311 0.593268 0.546356 ... 0.538949 0.335671 0.389584] [0.362286 0.691536 0.489685 ... 0.403368 0.39394  0.318524] [0.441526 0.425926 0.39287  ... 0.392657 0.391633 0.464868] ... [0.742741 0.25035  0.408301 ... 0.489868 0.677127 0.596878] [0.610032 0.55399  0.492451 ... 0.499849 0.754788 0.4548  ] [0.574051 0.446555 0.401379 ... 0.436319 0.678182 0.48186 ]]), 'preprocess': None}}\n",
      "2020-04-21 12:26:58,954 - CClassifierMulticlassOVA.0x7f83888ec0f0 - INFO - Training against class: 0\n",
      "2020-04-21 12:26:59,304 - CClassifierSVM.0x7f83888ec048 - INFO - Training SVM with parameters: {'preprocess': None, 'C': 100, 'class_weight': None, 'grad_sampling': 1.0, 'store_dual_vars': None, 'kernel': CKernelRBF{'gamma': 10.0, 'rv': CArray(2117, 50)(dense: [[0.319539 0.564277 0.295036 ... 0.211639 0.294304 0.414772] [0.741261 0.53255  0.762431 ... 0.691528 0.550085 0.356605] [0.776435 0.809834 0.835342 ... 0.734293 0.522598 0.20544 ] ... [0.846979 0.032272 0.130714 ... 0.193807 0.851597 0.939976] [0.771373 0.057003 0.243256 ... 0.299561 0.830396 0.915233] [0.876803 0.06557  0.086884 ... 0.142622 0.822703 0.91911 ]]), 'preprocess': None}}\n"
     ]
    },
    {
     "name": "stdout",
     "output_type": "stream",
     "text": [
      "2020-04-21 12:27:00,950 - CClassifierMulticlassOVA.0x7f83888ec0f0 - INFO - Training against class: 1\n",
      "2020-04-21 12:27:01,221 - CClassifierSVM.0x7f839002f908 - INFO - Training SVM with parameters: {'preprocess': None, 'C': 100, 'class_weight': None, 'grad_sampling': 1.0, 'store_dual_vars': None, 'kernel': CKernelRBF{'gamma': 10.0, 'rv': CArray(2143, 50)(dense: [[0.741261 0.53255  0.762431 ... 0.691528 0.550085 0.356605] [0.776435 0.809834 0.835342 ... 0.734293 0.522598 0.20544 ] [0.688999 0.299158 0.462572 ... 0.493556 0.831171 0.691465] ... [0.238485 0.655429 0.426532 ... 0.49161  0.313357 0.328109] [0.349617 0.6748   0.427632 ... 0.342974 0.362027 0.343559] [0.375594 0.633238 0.413938 ... 0.339545 0.401927 0.378512]]), 'preprocess': None}}\n",
      "2020-04-21 12:27:02,945 - CClassifierMulticlassOVA.0x7f83888ec0f0 - INFO - Training against class: 2\n",
      "2020-04-21 12:27:03,215 - CClassifierSVM.0x7f8390075f60 - INFO - Training SVM with parameters: {'preprocess': None, 'C': 100, 'class_weight': None, 'grad_sampling': 1.0, 'store_dual_vars': None, 'kernel': CKernelRBF{'gamma': 10.0, 'rv': CArray(2142, 50)(dense: [[0.319539 0.564277 0.295036 ... 0.211639 0.294304 0.414772] [0.688999 0.299158 0.462572 ... 0.493556 0.831171 0.691465] [0.183733 0.847935 0.507181 ... 0.391556 0.227468 0.12849 ] ... [0.572975 0.511692 0.588574 ... 0.498065 0.511904 0.503334] [0.617783 0.757032 0.876123 ... 0.885706 0.447493 0.23082 ] [0.546089 0.894925 0.781912 ... 0.622607 0.488415 0.233982]]), 'preprocess': None}}\n",
      "2020-04-21 12:27:05,516 - CClassifierMulticlassOVA.0x7f83888ec0f0 - INFO - Training against class: 0\n",
      "2020-04-21 12:27:05,860 - CClassifierSVM.0x7f83888ec048 - INFO - Training SVM with parameters: {'preprocess': None, 'C': 100, 'class_weight': None, 'grad_sampling': 1.0, 'store_dual_vars': None, 'kernel': CKernelRBF{'gamma': 10.0, 'rv': CArray(2149, 50)(dense: [[0.215432 0.830215 0.317806 ... 0.14048  0.182788 0.272299] [0.240269 0.846945 0.459148 ... 0.352812 0.25913  0.170031] [0.772217 0.652157 0.693002 ... 0.806391 0.517264 0.305557] ... [0.872157 0.035919 0.304686 ... 0.396453 0.837325 0.92055 ] [0.737836 0.149923 0.184834 ... 0.257052 0.659998 0.83195 ] [0.771373 0.057003 0.243256 ... 0.299561 0.830396 0.915233]]), 'preprocess': None}}\n",
      "2020-04-21 12:27:07,431 - CClassifierMulticlassOVA.0x7f83888ec0f0 - INFO - Training against class: 1\n",
      "2020-04-21 12:27:07,706 - CClassifierSVM.0x7f839002f908 - INFO - Training SVM with parameters: {'preprocess': None, 'C': 100, 'class_weight': None, 'grad_sampling': 1.0, 'store_dual_vars': None, 'kernel': CKernelRBF{'gamma': 10.0, 'rv': CArray(2161, 50)(dense: [[0.688999 0.299158 0.462572 ... 0.493556 0.831171 0.691465] [0.772217 0.652157 0.693002 ... 0.806391 0.517264 0.305557] [0.696346 0.59987  0.653953 ... 0.599906 0.533298 0.35346 ] ... [0.258209 0.808964 0.446904 ... 0.525762 0.194595 0.224236] [0.366939 0.545501 0.236573 ... 0.274854 0.364601 0.431003] [0.375594 0.633238 0.413938 ... 0.339545 0.401927 0.378512]]), 'preprocess': None}}\n",
      "2020-04-21 12:27:09,363 - CClassifierMulticlassOVA.0x7f83888ec0f0 - INFO - Training against class: 2\n",
      "2020-04-21 12:27:09,631 - CClassifierSVM.0x7f8390075f60 - INFO - Training SVM with parameters: {'preprocess': None, 'C': 100, 'class_weight': None, 'grad_sampling': 1.0, 'store_dual_vars': None, 'kernel': CKernelRBF{'gamma': 10.0, 'rv': CArray(2156, 50)(dense: [[0.215432 0.830215 0.317806 ... 0.14048  0.182788 0.272299] [0.688999 0.299158 0.462572 ... 0.493556 0.831171 0.691465] [0.240269 0.846945 0.459148 ... 0.352812 0.25913  0.170031] ... [0.661163 0.247877 0.438103 ... 0.469672 0.683925 0.572498] [0.734627 0.482414 0.515809 ... 0.577943 0.698691 0.483745] [0.679432 0.387356 0.569345 ... 0.595423 0.77214  0.520467]]), 'preprocess': None}}\n",
      "2020-04-21 12:27:11,954 - CPerfEvaluatorXVal.0x7f83888ec978 - INFO - Params: {'C': 100, 'kernel.gamma': 10} - Score: 0.9918285729295787\n",
      "2020-04-21 12:27:11,962 - CClassifierMulticlassOVA.0x7f83888ec0f0 - INFO - Training against class: 0\n",
      "2020-04-21 12:27:12,287 - CClassifierSVM.0x7f83888ec048 - INFO - Training SVM with parameters: {'preprocess': None, 'C': 100, 'class_weight': None, 'grad_sampling': 1.0, 'store_dual_vars': None, 'kernel': CKernelRBF{'gamma': 100.0, 'rv': CArray(2100, 50)(dense: [[0.631801 0.609851 0.681576 ... 0.599143 0.45128  0.331064] [0.319539 0.564277 0.295036 ... 0.211639 0.294304 0.414772] [0.215432 0.830215 0.317806 ... 0.14048  0.182788 0.272299] ... [0.737836 0.149923 0.184834 ... 0.257052 0.659998 0.83195 ] [0.846979 0.032272 0.130714 ... 0.193807 0.851597 0.939976] [0.876803 0.06557  0.086884 ... 0.142622 0.822703 0.91911 ]]), 'preprocess': None}}\n",
      "2020-04-21 12:27:14,701 - CClassifierMulticlassOVA.0x7f83888ec0f0 - INFO - Training against class: 1\n",
      "2020-04-21 12:27:14,958 - CClassifierSVM.0x7f839002f908 - INFO - Training SVM with parameters: {'preprocess': None, 'C': 100, 'class_weight': None, 'grad_sampling': 1.0, 'store_dual_vars': None, 'kernel': CKernelRBF{'gamma': 100.0, 'rv': CArray(2119, 50)(dense: [[0.631801 0.609851 0.681576 ... 0.599143 0.45128  0.331064] [0.741261 0.53255  0.762431 ... 0.691528 0.550085 0.356605] [0.776435 0.809834 0.835342 ... 0.734293 0.522598 0.20544 ] ... [0.325315 0.701851 0.338085 ... 0.376112 0.357208 0.400868] [0.258209 0.808964 0.446904 ... 0.525762 0.194595 0.224236] [0.366939 0.545501 0.236573 ... 0.274854 0.364601 0.431003]]), 'preprocess': None}}\n",
      "2020-04-21 12:27:17,502 - CClassifierMulticlassOVA.0x7f83888ec0f0 - INFO - Training against class: 2\n",
      "2020-04-21 12:27:17,752 - CClassifierSVM.0x7f8390075f60 - INFO - Training SVM with parameters: {'preprocess': None, 'C': 100, 'class_weight': None, 'grad_sampling': 1.0, 'store_dual_vars': None, 'kernel': CKernelRBF{'gamma': 100.0, 'rv': CArray(2116, 50)(dense: [[0.319539 0.564277 0.295036 ... 0.211639 0.294304 0.414772] [0.215432 0.830215 0.317806 ... 0.14048  0.182788 0.272299] [0.240269 0.846945 0.459148 ... 0.352812 0.25913  0.170031] ... [0.734627 0.482414 0.515809 ... 0.577943 0.698691 0.483745] [0.679432 0.387356 0.569345 ... 0.595423 0.77214  0.520467] [0.546089 0.894925 0.781912 ... 0.622607 0.488415 0.233982]]), 'preprocess': None}}\n",
      "2020-04-21 12:27:21,948 - CClassifierMulticlassOVA.0x7f83888ec0f0 - INFO - Training against class: 0\n",
      "2020-04-21 12:27:22,276 - CClassifierSVM.0x7f83888ec048 - INFO - Training SVM with parameters: {'preprocess': None, 'C': 100, 'class_weight': None, 'grad_sampling': 1.0, 'store_dual_vars': None, 'kernel': CKernelRBF{'gamma': 100.0, 'rv': CArray(5509, 50)(dense: [[0.631801 0.609851 0.681576 ... 0.599143 0.45128  0.331064] [0.319539 0.564277 0.295036 ... 0.211639 0.294304 0.414772] [0.741261 0.53255  0.762431 ... 0.691528 0.550085 0.356605] ... [0.844642 0.152119 0.173919 ... 0.28547  0.78265  0.806754] [0.760339 0.06706  0.156401 ... 0.207625 0.777592 0.886648] [0.88371  0.113048 0.168824 ... 0.269053 0.836361 0.820962]]), 'preprocess': None}}\n",
      "2020-04-21 12:27:24,757 - CClassifierMulticlassOVA.0x7f83888ec0f0 - INFO - Training against class: 1\n",
      "2020-04-21 12:27:25,015 - CClassifierSVM.0x7f839002f908 - INFO - Training SVM with parameters: {'preprocess': None, 'C': 100, 'class_weight': None, 'grad_sampling': 1.0, 'store_dual_vars': None, 'kernel': CKernelRBF{'gamma': 100.0, 'rv': CArray(5509, 50)(dense: [[0.631801 0.609851 0.681576 ... 0.599143 0.45128  0.331064] [0.752742 0.068505 0.204044 ... 0.277333 0.711262 0.852773] [0.793809 0.061198 0.189204 ... 0.233018 0.798059 0.89644 ] ... [0.349617 0.6748   0.427632 ... 0.342974 0.362027 0.343559] [0.375594 0.633238 0.413938 ... 0.339545 0.401927 0.378512] [0.247534 0.85192  0.390042 ... 0.323966 0.194077 0.193565]]), 'preprocess': None}}\n",
      "2020-04-21 12:27:27,526 - CClassifierMulticlassOVA.0x7f83888ec0f0 - INFO - Training against class: 2\n",
      "2020-04-21 12:27:27,776 - CClassifierSVM.0x7f8390075f60 - INFO - Training SVM with parameters: {'preprocess': None, 'C': 100, 'class_weight': None, 'grad_sampling': 1.0, 'store_dual_vars': None, 'kernel': CKernelRBF{'gamma': 100.0, 'rv': CArray(5509, 50)(dense: [[0.752742 0.068505 0.204044 ... 0.277333 0.711262 0.852773] [0.793809 0.061198 0.189204 ... 0.233018 0.798059 0.89644 ] [0.802496 0.053456 0.152091 ... 0.240994 0.829712 0.941381] ... [0.538573 0.742933 0.869151 ... 0.752485 0.497865 0.236443] [0.617783 0.757032 0.876123 ... 0.885706 0.447493 0.23082 ] [0.546089 0.894925 0.781912 ... 0.622607 0.488415 0.233982]]), 'preprocess': None}}\n"
     ]
    },
    {
     "name": "stdout",
     "output_type": "stream",
     "text": [
      "2020-04-21 12:27:31,982 - CClassifierMulticlassOVA.0x7f83888ec0f0 - INFO - Training against class: 0\n",
      "2020-04-21 12:27:32,308 - CClassifierSVM.0x7f83888ec048 - INFO - Training SVM with parameters: {'preprocess': None, 'C': 100, 'class_weight': None, 'grad_sampling': 1.0, 'store_dual_vars': None, 'kernel': CKernelRBF{'gamma': 100.0, 'rv': CArray(5516, 50)(dense: [[0.250139 0.755322 0.264548 ... 0.379916 0.208167 0.454044] [0.215432 0.830215 0.317806 ... 0.14048  0.182788 0.272299] [0.320129 0.681291 0.356225 ... 0.302626 0.27539  0.41397 ] ... [0.823533 0.080374 0.171164 ... 0.264324 0.803994 0.896422] [0.844642 0.152119 0.173919 ... 0.28547  0.78265  0.806754] [0.902194 0.095051 0.176878 ... 0.313168 0.845025 0.825834]]), 'preprocess': None}}\n",
      "2020-04-21 12:27:34,617 - CClassifierMulticlassOVA.0x7f83888ec0f0 - INFO - Training against class: 1\n",
      "2020-04-21 12:27:34,869 - CClassifierSVM.0x7f839002f908 - INFO - Training SVM with parameters: {'preprocess': None, 'C': 100, 'class_weight': None, 'grad_sampling': 1.0, 'store_dual_vars': None, 'kernel': CKernelRBF{'gamma': 100.0, 'rv': CArray(5516, 50)(dense: [[0.793809 0.061198 0.189204 ... 0.233018 0.798059 0.89644 ] [0.877528 0.134063 0.164872 ... 0.268739 0.807484 0.833736] [0.805976 0.061863 0.165646 ... 0.247146 0.769771 0.904494] ... [0.258209 0.808964 0.446904 ... 0.525762 0.194595 0.224236] [0.366939 0.545501 0.236573 ... 0.274854 0.364601 0.431003] [0.375594 0.633238 0.413938 ... 0.339545 0.401927 0.378512]]), 'preprocess': None}}\n",
      "2020-04-21 12:27:37,354 - CClassifierMulticlassOVA.0x7f83888ec0f0 - INFO - Training against class: 2\n",
      "2020-04-21 12:27:37,596 - CClassifierSVM.0x7f8390075f60 - INFO - Training SVM with parameters: {'preprocess': None, 'C': 100, 'class_weight': None, 'grad_sampling': 1.0, 'store_dual_vars': None, 'kernel': CKernelRBF{'gamma': 100.0, 'rv': CArray(5516, 50)(dense: [[0.793809 0.061198 0.189204 ... 0.233018 0.798059 0.89644 ] [0.250139 0.755322 0.264548 ... 0.379916 0.208167 0.454044] [0.215432 0.830215 0.317806 ... 0.14048  0.182788 0.272299] ... [0.734627 0.482414 0.515809 ... 0.577943 0.698691 0.483745] [0.679432 0.387356 0.569345 ... 0.595423 0.77214  0.520467] [0.618286 0.494869 0.717315 ... 0.634201 0.664745 0.410195]]), 'preprocess': None}}\n",
      "2020-04-21 12:27:41,731 - CPerfEvaluatorXVal.0x7f83888ec978 - INFO - Params: {'C': 100, 'kernel.gamma': 100} - Score: 0.6481899885512656\n",
      "2020-04-21 12:27:41,736 - CPerfEvaluatorXVal.0x7f83888ec978 - INFO - Best params: {'C': 100, 'kernel.gamma': 0.01} - Value: CArray([0.997571])\n",
      "The best training parameters are:  [('C', 100), ('kernel.gamma', 0.01)]\n"
     ]
    }
   ],
   "source": [
    "# Creation of the multiclass classifier\n",
    "from secml.ml.classifiers import CClassifierSVM\n",
    "from secml.ml.classifiers.multiclass import CClassifierMulticlassOVA\n",
    "from secml.ml.kernels import CKernelRBF\n",
    "clf = CClassifierMulticlassOVA(CClassifierSVM, kernel=CKernelRBF())\n",
    "\n",
    "# Parameters for the Cross-Validation procedure\n",
    "# xval_params = {'C': [1e-3, 1e-2, 1e-1, 1, 100, 1000],\n",
    "#                'kernel.gamma': [0.01, 0.1, 1, 10, 100, 1e3]}\n",
    "xval_params = {\n",
    "    'C': [1e-2, 1, 100],\n",
    "    'kernel.gamma': [1e-2, 10, 100]\n",
    "}\n",
    "\n",
    "# Let's create a 3-Fold data splitter\n",
    "from secml.data.splitter import CDataSplitterKFold\n",
    "xval_splitter = CDataSplitterKFold(num_folds=3, random_state=random_state)\n",
    "\n",
    "# Select and set the best training parameters for the classifier\n",
    "\n",
    "clf.verbose = 1\n",
    "\n",
    "print(\"Estimating the best training parameters...\")\n",
    "best_params = clf.estimate_parameters(\n",
    "    dataset=feat_vl_ds,\n",
    "    parameters=xval_params,\n",
    "    splitter=xval_splitter,\n",
    "    metric='accuracy',\n",
    "    perf_evaluator='xval'\n",
    ")\n",
    "\n",
    "print(\"The best training parameters are: \",\n",
    "      [(k, best_params[k]) for k in sorted(best_params)])"
   ]
  },
  {
   "cell_type": "code",
   "execution_count": 106,
   "metadata": {},
   "outputs": [],
   "source": [
    "# Setting properties \n",
    "clf.classifier.C = 0.01\n",
    "clf.classifier.kernel = CKernelRBF(gamma=10)"
   ]
  },
  {
   "cell_type": "code",
   "execution_count": 108,
   "metadata": {},
   "outputs": [],
   "source": [
    "clf.verbose = 0"
   ]
  },
  {
   "cell_type": "code",
   "execution_count": 109,
   "metadata": {},
   "outputs": [
    {
     "name": "stdout",
     "output_type": "stream",
     "text": [
      "Accuracy on test set: 99.60%\n"
     ]
    }
   ],
   "source": [
    "# We can now fit the classifier\n",
    "clf.fit(feat_vl_ds)\n",
    "\n",
    "# Compute predictions on a test set\n",
    "y_pred = clf.predict(feat_ts_ds.X)\n",
    "\n",
    "# Evaluate the accuracy of the classifier\n",
    "acc = metric.performance_score(y_true=feat_ts_ds.Y, y_pred=y_pred)\n",
    "\n",
    "print(\"Accuracy on test set: {:.2%}\".format(acc))"
   ]
  },
  {
   "cell_type": "markdown",
   "metadata": {},
   "source": [
    "# Wrap it with reject"
   ]
  },
  {
   "cell_type": "code",
   "execution_count": 110,
   "metadata": {},
   "outputs": [
    {
     "data": {
      "text/plain": [
       "0.0"
      ]
     },
     "execution_count": 110,
     "metadata": {},
     "output_type": "execute_result"
    }
   ],
   "source": [
    "from secml.ml.classifiers.reject import CClassifierRejectThreshold\n",
    "\n",
    "clf_rej = CClassifierRejectThreshold(clf, 0.)\n",
    "clf_rej.threshold"
   ]
  },
  {
   "cell_type": "markdown",
   "metadata": {},
   "source": [
    "Set the `threshold` to have around 10% of false positives"
   ]
  },
  {
   "cell_type": "code",
   "execution_count": 140,
   "metadata": {},
   "outputs": [],
   "source": [
    "clf_rej.threshold = 2.5"
   ]
  },
  {
   "cell_type": "code",
   "execution_count": 141,
   "metadata": {},
   "outputs": [
    {
     "name": "stdout",
     "output_type": "stream",
     "text": [
      "Accuracy on training set: 90.82%\n"
     ]
    }
   ],
   "source": [
    "# Compute predictions on a test set\n",
    "y_pred = clf_rej.predict(feat_vl_ds.X)\n",
    "\n",
    "# Evaluate the accuracy of the classifier\n",
    "acc = metric.performance_score(y_true=feat_vl_ds.Y, y_pred=y_pred)\n",
    "\n",
    "print(\"Accuracy on training set: {:.2%}\".format(acc))"
   ]
  },
  {
   "cell_type": "code",
   "execution_count": 142,
   "metadata": {},
   "outputs": [
    {
     "data": {
      "text/plain": [
       "CArray(9056,)(dense: [ 2 -1  0 ...  0  2  0])"
      ]
     },
     "execution_count": 142,
     "metadata": {},
     "output_type": "execute_result"
    }
   ],
   "source": [
    "y_pred"
   ]
  },
  {
   "cell_type": "code",
   "execution_count": 143,
   "metadata": {},
   "outputs": [
    {
     "data": {
      "text/plain": [
       "0.09154151943462897"
      ]
     },
     "execution_count": 143,
     "metadata": {},
     "output_type": "execute_result"
    }
   ],
   "source": [
    "fpr = (y_pred < 0).sum() / y_pred.shape[0]\n",
    "fpr"
   ]
  },
  {
   "cell_type": "code",
   "execution_count": 92,
   "metadata": {},
   "outputs": [
    {
     "name": "stdout",
     "output_type": "stream",
     "text": [
      "Accuracy on test set: 34.80%\n"
     ]
    }
   ],
   "source": [
    "# Compute predictions on a test set\n",
    "y_pred = clf_rej.predict(feat_ts_ds.X)\n",
    "\n",
    "# Evaluate the accuracy of the classifier\n",
    "acc = metric.performance_score(y_true=feat_ts_ds.Y, y_pred=y_pred)\n",
    "\n",
    "print(\"Accuracy on test set: {:.2%}\".format(acc))"
   ]
  },
  {
   "cell_type": "markdown",
   "metadata": {},
   "source": [
    "# Test it against BB adversarial samples"
   ]
  },
  {
   "cell_type": "code",
   "execution_count": 93,
   "metadata": {},
   "outputs": [
    {
     "data": {
      "text/plain": [
       "(CArray(1000,)(dense: [0 0 2 ... 1 1 1]),\n",
       " CArray(1000,)(dense: [2 2 0 ... 1 2 2]))"
      ]
     },
     "execution_count": 93,
     "metadata": {},
     "output_type": "execute_result"
    }
   ],
   "source": [
    "eva_adv_ds.Y, eva_y_pred"
   ]
  },
  {
   "cell_type": "code",
   "execution_count": 96,
   "metadata": {},
   "outputs": [
    {
     "data": {
      "text/plain": [
       "(1000, 50)"
      ]
     },
     "execution_count": 96,
     "metadata": {},
     "output_type": "execute_result"
    }
   ],
   "source": [
    "adv_feats = feat_extr.forward(eva_adv_ds.X)\n",
    "adv_feats.shape"
   ]
  },
  {
   "cell_type": "code",
   "execution_count": 97,
   "metadata": {},
   "outputs": [
    {
     "data": {
      "text/plain": [
       "CArray(1000, 4)(dense: [[-0.973061 -0.695527 -0.791362  0.      ] [-0.973061 -0.695527 -0.791362  0.      ] [-0.973061 -0.695527 -0.791362  0.      ] ... [-0.973061 -0.695527 -0.791362  0.      ] [-0.973061 -0.695527 -0.791362  0.      ] [-0.973061 -0.695527 -0.791362  0.      ]])"
      ]
     },
     "execution_count": 97,
     "metadata": {},
     "output_type": "execute_result"
    }
   ],
   "source": [
    "clf_rej.forward(adv_feats)"
   ]
  },
  {
   "cell_type": "code",
   "execution_count": 98,
   "metadata": {},
   "outputs": [
    {
     "name": "stdout",
     "output_type": "stream",
     "text": [
      "Accuracy on test set: 0.00%\n"
     ]
    }
   ],
   "source": [
    "# Compute predictions on a test set\n",
    "y_pred = clf_rej.predict(adv_feats)\n",
    "\n",
    "# Evaluate the accuracy of the classifier\n",
    "acc = metric.performance_score(y_true=eva_adv_ds.Y, y_pred=y_pred)\n",
    "\n",
    "print(\"Accuracy on test set: {:.2%}\".format(acc))"
   ]
  },
  {
   "cell_type": "markdown",
   "metadata": {},
   "source": [
    "# HOW TO WRAP IN A UNIQUE MODEL? ASK ANYONE!"
   ]
  },
  {
   "cell_type": "code",
   "execution_count": null,
   "metadata": {},
   "outputs": [],
   "source": []
  }
 ],
 "metadata": {
  "kernelspec": {
   "display_name": "secml",
   "language": "python",
   "name": "secml"
  },
  "language_info": {
   "codemirror_mode": {
    "name": "ipython",
    "version": 3
   },
   "file_extension": ".py",
   "mimetype": "text/x-python",
   "name": "python",
   "nbconvert_exporter": "python",
   "pygments_lexer": "ipython3",
   "version": "3.6.3"
  }
 },
 "nbformat": 4,
 "nbformat_minor": 2
}
